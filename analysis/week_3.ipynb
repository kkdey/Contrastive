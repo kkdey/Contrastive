{
  "nbformat": 4,
  "nbformat_minor": 0,
  "metadata": {
    "colab": {
      "provenance": []
    },
    "kernelspec": {
      "name": "python3",
      "display_name": "Python 3"
    },
    "language_info": {
      "name": "python"
    }
  },
  "cells": [
    {
      "cell_type": "code",
      "execution_count": null,
      "metadata": {
        "colab": {
          "base_uri": "https://localhost:8080/",
          "height": 867
        },
        "id": "11jn6U_6zUU5",
        "outputId": "1b7e278c-f18a-4aea-bb69-c35cc485190a"
      },
      "outputs": [
        {
          "output_type": "stream",
          "name": "stdout",
          "text": [
            "Looking in indexes: https://pypi.org/simple, https://us-python.pkg.dev/colab-wheels/public/simple/\n",
            "Requirement already satisfied: scanpy in /usr/local/lib/python3.7/dist-packages (1.9.1)\n",
            "Requirement already satisfied: packaging in /usr/local/lib/python3.7/dist-packages (from scanpy) (21.3)\n",
            "Requirement already satisfied: importlib_metadata>=0.7 in /usr/local/lib/python3.7/dist-packages (from scanpy) (4.13.0)\n",
            "Collecting matplotlib>=3.4\n",
            "  Using cached matplotlib-3.5.3-cp37-cp37m-manylinux_2_5_x86_64.manylinux1_x86_64.whl (11.2 MB)\n",
            "Requirement already satisfied: session-info in /usr/local/lib/python3.7/dist-packages (from scanpy) (1.0.0)\n",
            "Requirement already satisfied: scipy>=1.4 in /usr/local/lib/python3.7/dist-packages (from scanpy) (1.7.3)\n",
            "Requirement already satisfied: h5py>=3 in /usr/local/lib/python3.7/dist-packages (from scanpy) (3.1.0)\n",
            "Requirement already satisfied: numba>=0.41.0 in /usr/local/lib/python3.7/dist-packages (from scanpy) (0.56.4)\n",
            "Requirement already satisfied: patsy in /usr/local/lib/python3.7/dist-packages (from scanpy) (0.5.3)\n",
            "Requirement already satisfied: umap-learn>=0.3.10 in /usr/local/lib/python3.7/dist-packages (from scanpy) (0.5.3)\n",
            "Requirement already satisfied: networkx>=2.3 in /usr/local/lib/python3.7/dist-packages (from scanpy) (2.6.3)\n",
            "Requirement already satisfied: joblib in /usr/local/lib/python3.7/dist-packages (from scanpy) (1.2.0)\n",
            "Requirement already satisfied: numpy>=1.17.0 in /usr/local/lib/python3.7/dist-packages (from scanpy) (1.21.6)\n",
            "Requirement already satisfied: anndata>=0.7.4 in /usr/local/lib/python3.7/dist-packages (from scanpy) (0.8.0)\n",
            "Requirement already satisfied: scikit-learn>=0.22 in /usr/local/lib/python3.7/dist-packages (from scanpy) (1.0.2)\n",
            "Requirement already satisfied: pandas>=1.0 in /usr/local/lib/python3.7/dist-packages (from scanpy) (1.3.5)\n",
            "Requirement already satisfied: natsort in /usr/local/lib/python3.7/dist-packages (from scanpy) (5.5.0)\n",
            "Requirement already satisfied: statsmodels>=0.10.0rc2 in /usr/local/lib/python3.7/dist-packages (from scanpy) (0.12.2)\n",
            "Requirement already satisfied: tqdm in /usr/local/lib/python3.7/dist-packages (from scanpy) (4.64.1)\n",
            "Requirement already satisfied: seaborn in /usr/local/lib/python3.7/dist-packages (from scanpy) (0.11.2)\n",
            "Requirement already satisfied: typing_extensions in /usr/local/lib/python3.7/dist-packages (from anndata>=0.7.4->scanpy) (4.1.1)\n",
            "Requirement already satisfied: cached-property in /usr/local/lib/python3.7/dist-packages (from h5py>=3->scanpy) (1.5.2)\n",
            "Requirement already satisfied: zipp>=0.5 in /usr/local/lib/python3.7/dist-packages (from importlib_metadata>=0.7->scanpy) (3.10.0)\n",
            "Requirement already satisfied: python-dateutil>=2.7 in /usr/local/lib/python3.7/dist-packages (from matplotlib>=3.4->scanpy) (2.8.2)\n",
            "Requirement already satisfied: cycler>=0.10 in /usr/local/lib/python3.7/dist-packages (from matplotlib>=3.4->scanpy) (0.11.0)\n",
            "Requirement already satisfied: pyparsing>=2.2.1 in /usr/local/lib/python3.7/dist-packages (from matplotlib>=3.4->scanpy) (3.0.9)\n",
            "Requirement already satisfied: fonttools>=4.22.0 in /usr/local/lib/python3.7/dist-packages (from matplotlib>=3.4->scanpy) (4.38.0)\n",
            "Requirement already satisfied: kiwisolver>=1.0.1 in /usr/local/lib/python3.7/dist-packages (from matplotlib>=3.4->scanpy) (1.4.4)\n",
            "Requirement already satisfied: pillow>=6.2.0 in /usr/local/lib/python3.7/dist-packages (from matplotlib>=3.4->scanpy) (7.1.2)\n",
            "Requirement already satisfied: setuptools in /usr/local/lib/python3.7/dist-packages (from numba>=0.41.0->scanpy) (57.4.0)\n",
            "Requirement already satisfied: llvmlite<0.40,>=0.39.0dev0 in /usr/local/lib/python3.7/dist-packages (from numba>=0.41.0->scanpy) (0.39.1)\n",
            "Requirement already satisfied: pytz>=2017.3 in /usr/local/lib/python3.7/dist-packages (from pandas>=1.0->scanpy) (2022.6)\n",
            "Requirement already satisfied: six>=1.5 in /usr/local/lib/python3.7/dist-packages (from python-dateutil>=2.7->matplotlib>=3.4->scanpy) (1.15.0)\n",
            "Requirement already satisfied: threadpoolctl>=2.0.0 in /usr/local/lib/python3.7/dist-packages (from scikit-learn>=0.22->scanpy) (3.1.0)\n",
            "Requirement already satisfied: pynndescent>=0.5 in /usr/local/lib/python3.7/dist-packages (from umap-learn>=0.3.10->scanpy) (0.5.8)\n",
            "Requirement already satisfied: stdlib-list in /usr/local/lib/python3.7/dist-packages (from session-info->scanpy) (0.8.0)\n",
            "Installing collected packages: matplotlib\n",
            "  Attempting uninstall: matplotlib\n",
            "    Found existing installation: matplotlib 3.1.3\n",
            "    Uninstalling matplotlib-3.1.3:\n",
            "      Successfully uninstalled matplotlib-3.1.3\n",
            "Successfully installed matplotlib-3.5.3\n"
          ]
        },
        {
          "output_type": "display_data",
          "data": {
            "application/vnd.colab-display-data+json": {
              "pip_warning": {
                "packages": [
                  "matplotlib",
                  "mpl_toolkits"
                ]
              }
            }
          },
          "metadata": {}
        }
      ],
      "source": [
        "import time\n",
        "import matplotlib.pyplot as plt\n",
        "import seaborn as sns\n",
        "\n",
        "!pip install scanpy\n",
        "#!pip install scvelo\n",
        "#!pip install git+https://github.com/csgroen/scycle.git#egg=scycle\n",
        "#!pip install  --no-dependencies  git+https://github.com/j-bac/elpigraph-python.git\n",
        "# from elpigraph_ps_tools import *\n",
        "#import elpigraph\n",
        "import scanpy as sc\n",
        "import anndata\n",
        "\n",
        "\n",
        "\n",
        "import importlib\n",
        "from sklearn.decomposition import PCA\n",
        "\n",
        "import matplotlib as mpl\n",
        "import matplotlib.pyplot as plt\n",
        "from sklearn.neighbors import NearestNeighbors"
      ]
    },
    {
      "cell_type": "code",
      "source": [
        "!python -m pip uninstall matplotlib\n",
        "!pip install matplotlib==3.1.3"
      ],
      "metadata": {
        "colab": {
          "base_uri": "https://localhost:8080/",
          "height": 609
        },
        "id": "OXbH-uMW0raH",
        "outputId": "f90ae924-fd04-42e1-9864-d1116a14dd3e"
      },
      "execution_count": null,
      "outputs": [
        {
          "output_type": "stream",
          "name": "stdout",
          "text": [
            "Found existing installation: matplotlib 3.5.3\n",
            "Uninstalling matplotlib-3.5.3:\n",
            "  Would remove:\n",
            "    /usr/local/lib/python3.7/dist-packages/matplotlib-3.5.3-py3.7-nspkg.pth\n",
            "    /usr/local/lib/python3.7/dist-packages/matplotlib-3.5.3.dist-info/*\n",
            "    /usr/local/lib/python3.7/dist-packages/matplotlib/*\n",
            "    /usr/local/lib/python3.7/dist-packages/mpl_toolkits/axes_grid/*\n",
            "    /usr/local/lib/python3.7/dist-packages/mpl_toolkits/axes_grid1/*\n",
            "    /usr/local/lib/python3.7/dist-packages/mpl_toolkits/axisartist/*\n",
            "    /usr/local/lib/python3.7/dist-packages/mpl_toolkits/mplot3d/*\n",
            "    /usr/local/lib/python3.7/dist-packages/mpl_toolkits/tests/*\n",
            "    /usr/local/lib/python3.7/dist-packages/pylab.py\n",
            "Proceed (y/n)? y\n",
            "  Successfully uninstalled matplotlib-3.5.3\n",
            "Looking in indexes: https://pypi.org/simple, https://us-python.pkg.dev/colab-wheels/public/simple/\n",
            "Collecting matplotlib==3.1.3\n",
            "  Using cached matplotlib-3.1.3-cp37-cp37m-manylinux1_x86_64.whl (13.1 MB)\n",
            "Requirement already satisfied: kiwisolver>=1.0.1 in /usr/local/lib/python3.7/dist-packages (from matplotlib==3.1.3) (1.4.4)\n",
            "Requirement already satisfied: cycler>=0.10 in /usr/local/lib/python3.7/dist-packages (from matplotlib==3.1.3) (0.11.0)\n",
            "Requirement already satisfied: pyparsing!=2.0.4,!=2.1.2,!=2.1.6,>=2.0.1 in /usr/local/lib/python3.7/dist-packages (from matplotlib==3.1.3) (3.0.9)\n",
            "Requirement already satisfied: python-dateutil>=2.1 in /usr/local/lib/python3.7/dist-packages (from matplotlib==3.1.3) (2.8.2)\n",
            "Requirement already satisfied: numpy>=1.11 in /usr/local/lib/python3.7/dist-packages (from matplotlib==3.1.3) (1.21.6)\n",
            "Requirement already satisfied: typing-extensions in /usr/local/lib/python3.7/dist-packages (from kiwisolver>=1.0.1->matplotlib==3.1.3) (4.1.1)\n",
            "Requirement already satisfied: six>=1.5 in /usr/local/lib/python3.7/dist-packages (from python-dateutil>=2.1->matplotlib==3.1.3) (1.15.0)\n",
            "Installing collected packages: matplotlib\n",
            "\u001b[31mERROR: pip's dependency resolver does not currently take into account all the packages that are installed. This behaviour is the source of the following dependency conflicts.\n",
            "scanpy 1.9.1 requires matplotlib>=3.4, but you have matplotlib 3.1.3 which is incompatible.\u001b[0m\n",
            "Successfully installed matplotlib-3.1.3\n"
          ]
        },
        {
          "output_type": "display_data",
          "data": {
            "application/vnd.colab-display-data+json": {
              "pip_warning": {
                "packages": [
                  "matplotlib",
                  "mpl_toolkits"
                ]
              }
            }
          },
          "metadata": {}
        }
      ]
    },
    {
      "cell_type": "code",
      "source": [
        "path = '/content/drive/MyDrive/msdata.h5ad'\n",
        "adata = sc.read(path)"
      ],
      "metadata": {
        "id": "TnR9I2-q0wge"
      },
      "execution_count": null,
      "outputs": []
    },
    {
      "cell_type": "code",
      "source": [
        "from scipy.sparse import hstack"
      ],
      "metadata": {
        "id": "GKEM9-cc2rT6"
      },
      "execution_count": null,
      "outputs": []
    },
    {
      "cell_type": "code",
      "source": [
        "adata.obs"
      ],
      "metadata": {
        "colab": {
          "base_uri": "https://localhost:8080/",
          "height": 661
        },
        "id": "mIebGrTo19x-",
        "outputId": "4cbb5bd8-0ebc-4dde-8f3c-7bcb08116373"
      },
      "execution_count": null,
      "outputs": [
        {
          "output_type": "execute_result",
          "data": {
            "text/plain": [
              "                                   tsne1      tsne2 cluster_original  \\\n",
              "AAACCTGGTCCATGAT-1_5981_BA9    19.121044 -20.540960                3   \n",
              "AAACGGGAGTAGCCGA-1_5981_BA9     5.136135 -13.751351                4   \n",
              "AAACGGGCATCGGTTA-1_5981_BA9   -28.210752 -20.764837               6A   \n",
              "AAACGGGTCCATGAAC-1_5981_BA9    29.946121 -15.725056                2   \n",
              "AAAGATGCACGACTCG-1_5981_BA9    25.065271 -19.422704                3   \n",
              "...                                  ...        ...              ...   \n",
              "TTTGTCAGTGTTAAGA-1_MS200_A303  -5.428651  17.107557                5   \n",
              "TTTGTCAGTTCGCGAC-1_MS200_A303  34.011235 -18.509118                2   \n",
              "TTTGTCAGTTCTGGTA-1_MS200_A303 -16.622547  20.910561                8   \n",
              "TTTGTCATCCAAATGC-1_MS200_A303  -5.947137 -35.594686               16   \n",
              "TTTGTCATCTAACGGT-1_MS200_A303 -15.906688  23.322071                8   \n",
              "\n",
              "                                   sample diagnosis             stage  age  \\\n",
              "AAACCTGGTCCATGAT-1_5981_BA9      5981_BA9   Control           Control   44   \n",
              "AAACGGGAGTAGCCGA-1_5981_BA9      5981_BA9   Control           Control   44   \n",
              "AAACGGGCATCGGTTA-1_5981_BA9      5981_BA9   Control           Control   44   \n",
              "AAACGGGTCCATGAAC-1_5981_BA9      5981_BA9   Control           Control   44   \n",
              "AAAGATGCACGACTCG-1_5981_BA9      5981_BA9   Control           Control   44   \n",
              "...                                   ...       ...               ...  ...   \n",
              "TTTGTCAGTGTTAAGA-1_MS200_A303  MS200_A303        MS  Chronic inactive   44   \n",
              "TTTGTCAGTTCGCGAC-1_MS200_A303  MS200_A303        MS  Chronic inactive   44   \n",
              "TTTGTCAGTTCTGGTA-1_MS200_A303  MS200_A303        MS  Chronic inactive   44   \n",
              "TTTGTCATCCAAATGC-1_MS200_A303  MS200_A303        MS  Chronic inactive   44   \n",
              "TTTGTCATCTAACGGT-1_MS200_A303  MS200_A303        MS  Chronic inactive   44   \n",
              "\n",
              "                                  sex      region Capbatch  ... DMGM_UL  \\\n",
              "AAACCTGGTCCATGAT-1_5981_BA9    female  prefrontal     CAP7  ...     NaN   \n",
              "AAACGGGAGTAGCCGA-1_5981_BA9    female  prefrontal     CAP7  ...     NaN   \n",
              "AAACGGGCATCGGTTA-1_5981_BA9    female  prefrontal     CAP7  ...     NaN   \n",
              "AAACGGGTCCATGAAC-1_5981_BA9    female  prefrontal     CAP7  ...     NaN   \n",
              "AAAGATGCACGACTCG-1_5981_BA9    female  prefrontal     CAP7  ...     NaN   \n",
              "...                               ...         ...      ...  ...     ...   \n",
              "TTTGTCAGTGTTAAGA-1_MS200_A303  female  prefrontal     CAP6  ...    41.0   \n",
              "TTTGTCAGTTCGCGAC-1_MS200_A303  female  prefrontal     CAP6  ...    41.0   \n",
              "TTTGTCAGTTCTGGTA-1_MS200_A303  female  prefrontal     CAP6  ...    41.0   \n",
              "TTTGTCATCCAAATGC-1_MS200_A303  female  prefrontal     CAP6  ...    41.0   \n",
              "TTTGTCATCTAACGGT-1_MS200_A303  female  prefrontal     CAP6  ...    41.0   \n",
              "\n",
              "                               DMGM_DL  DMWM  n_genes  percent_mito  \\\n",
              "AAACCTGGTCCATGAT-1_5981_BA9        NaN   NaN     3795      0.005292   \n",
              "AAACGGGAGTAGCCGA-1_5981_BA9        NaN   NaN     2510      0.005038   \n",
              "AAACGGGCATCGGTTA-1_5981_BA9        NaN   NaN     3779      0.018633   \n",
              "AAACGGGTCCATGAAC-1_5981_BA9        NaN   NaN     3376      0.016441   \n",
              "AAAGATGCACGACTCG-1_5981_BA9        NaN   NaN     4337      0.007789   \n",
              "...                                ...   ...      ...           ...   \n",
              "TTTGTCAGTGTTAAGA-1_MS200_A303      6.0   6.0      857      0.003260   \n",
              "TTTGTCAGTTCGCGAC-1_MS200_A303      6.0   6.0     5463      0.010610   \n",
              "TTTGTCAGTTCTGGTA-1_MS200_A303      6.0   6.0     1560      0.018838   \n",
              "TTTGTCATCCAAATGC-1_MS200_A303      6.0   6.0      814      0.051595   \n",
              "TTTGTCATCTAACGGT-1_MS200_A303      6.0   6.0     1497      0.002778   \n",
              "\n",
              "                               percent_ribo  n_counts  leiden  \\\n",
              "AAACCTGGTCCATGAT-1_5981_BA9        0.002951    9827.0      14   \n",
              "AAACGGGAGTAGCCGA-1_5981_BA9        0.004457    5161.0       2   \n",
              "AAACGGGCATCGGTTA-1_5981_BA9        0.007034    8104.0      10   \n",
              "AAACGGGTCCATGAAC-1_5981_BA9        0.007046    7238.0      12   \n",
              "AAAGATGCACGACTCG-1_5981_BA9        0.002841   10913.0      21   \n",
              "...                                     ...       ...     ...   \n",
              "TTTGTCAGTGTTAAGA-1_MS200_A303      0.011410    1227.0       0   \n",
              "TTTGTCAGTTCGCGAC-1_MS200_A303      0.018160   14703.0       9   \n",
              "TTTGTCAGTTCTGGTA-1_MS200_A303      0.003925    2548.0       1   \n",
              "TTTGTCATCCAAATGC-1_MS200_A303      0.019700    1066.0       8   \n",
              "TTTGTCATCTAACGGT-1_MS200_A303      0.010714    2520.0       1   \n",
              "\n",
              "                                 annot_level_2    annot_level_3  \n",
              "AAACCTGGTCCATGAT-1_5981_BA9      Glutamatergic             L5_6  \n",
              "AAACGGGAGTAGCCGA-1_5981_BA9      Glutamatergic             L2_3  \n",
              "AAACGGGCATCGGTTA-1_5981_BA9          GABAergic               PV  \n",
              "AAACGGGTCCATGAAC-1_5981_BA9      Glutamatergic               L4  \n",
              "AAAGATGCACGACTCG-1_5981_BA9      Glutamatergic             L5_6  \n",
              "...                                        ...              ...  \n",
              "TTTGTCAGTGTTAAGA-1_MS200_A303  Oligodendrocyte  Oligodendrocyte  \n",
              "TTTGTCAGTTCGCGAC-1_MS200_A303    Glutamatergic               L4  \n",
              "TTTGTCAGTTCTGGTA-1_MS200_A303        Astrocyte        Astrocyte  \n",
              "TTTGTCATCCAAATGC-1_MS200_A303    Glutamatergic              PYR  \n",
              "TTTGTCATCTAACGGT-1_MS200_A303        Astrocyte        Astrocyte  \n",
              "\n",
              "[48918 rows x 30 columns]"
            ],
            "text/html": [
              "\n",
              "  <div id=\"df-d6ceea68-c479-4b89-b4dd-52ccd339207e\">\n",
              "    <div class=\"colab-df-container\">\n",
              "      <div>\n",
              "<style scoped>\n",
              "    .dataframe tbody tr th:only-of-type {\n",
              "        vertical-align: middle;\n",
              "    }\n",
              "\n",
              "    .dataframe tbody tr th {\n",
              "        vertical-align: top;\n",
              "    }\n",
              "\n",
              "    .dataframe thead th {\n",
              "        text-align: right;\n",
              "    }\n",
              "</style>\n",
              "<table border=\"1\" class=\"dataframe\">\n",
              "  <thead>\n",
              "    <tr style=\"text-align: right;\">\n",
              "      <th></th>\n",
              "      <th>tsne1</th>\n",
              "      <th>tsne2</th>\n",
              "      <th>cluster_original</th>\n",
              "      <th>sample</th>\n",
              "      <th>diagnosis</th>\n",
              "      <th>stage</th>\n",
              "      <th>age</th>\n",
              "      <th>sex</th>\n",
              "      <th>region</th>\n",
              "      <th>Capbatch</th>\n",
              "      <th>...</th>\n",
              "      <th>DMGM_UL</th>\n",
              "      <th>DMGM_DL</th>\n",
              "      <th>DMWM</th>\n",
              "      <th>n_genes</th>\n",
              "      <th>percent_mito</th>\n",
              "      <th>percent_ribo</th>\n",
              "      <th>n_counts</th>\n",
              "      <th>leiden</th>\n",
              "      <th>annot_level_2</th>\n",
              "      <th>annot_level_3</th>\n",
              "    </tr>\n",
              "  </thead>\n",
              "  <tbody>\n",
              "    <tr>\n",
              "      <th>AAACCTGGTCCATGAT-1_5981_BA9</th>\n",
              "      <td>19.121044</td>\n",
              "      <td>-20.540960</td>\n",
              "      <td>3</td>\n",
              "      <td>5981_BA9</td>\n",
              "      <td>Control</td>\n",
              "      <td>Control</td>\n",
              "      <td>44</td>\n",
              "      <td>female</td>\n",
              "      <td>prefrontal</td>\n",
              "      <td>CAP7</td>\n",
              "      <td>...</td>\n",
              "      <td>NaN</td>\n",
              "      <td>NaN</td>\n",
              "      <td>NaN</td>\n",
              "      <td>3795</td>\n",
              "      <td>0.005292</td>\n",
              "      <td>0.002951</td>\n",
              "      <td>9827.0</td>\n",
              "      <td>14</td>\n",
              "      <td>Glutamatergic</td>\n",
              "      <td>L5_6</td>\n",
              "    </tr>\n",
              "    <tr>\n",
              "      <th>AAACGGGAGTAGCCGA-1_5981_BA9</th>\n",
              "      <td>5.136135</td>\n",
              "      <td>-13.751351</td>\n",
              "      <td>4</td>\n",
              "      <td>5981_BA9</td>\n",
              "      <td>Control</td>\n",
              "      <td>Control</td>\n",
              "      <td>44</td>\n",
              "      <td>female</td>\n",
              "      <td>prefrontal</td>\n",
              "      <td>CAP7</td>\n",
              "      <td>...</td>\n",
              "      <td>NaN</td>\n",
              "      <td>NaN</td>\n",
              "      <td>NaN</td>\n",
              "      <td>2510</td>\n",
              "      <td>0.005038</td>\n",
              "      <td>0.004457</td>\n",
              "      <td>5161.0</td>\n",
              "      <td>2</td>\n",
              "      <td>Glutamatergic</td>\n",
              "      <td>L2_3</td>\n",
              "    </tr>\n",
              "    <tr>\n",
              "      <th>AAACGGGCATCGGTTA-1_5981_BA9</th>\n",
              "      <td>-28.210752</td>\n",
              "      <td>-20.764837</td>\n",
              "      <td>6A</td>\n",
              "      <td>5981_BA9</td>\n",
              "      <td>Control</td>\n",
              "      <td>Control</td>\n",
              "      <td>44</td>\n",
              "      <td>female</td>\n",
              "      <td>prefrontal</td>\n",
              "      <td>CAP7</td>\n",
              "      <td>...</td>\n",
              "      <td>NaN</td>\n",
              "      <td>NaN</td>\n",
              "      <td>NaN</td>\n",
              "      <td>3779</td>\n",
              "      <td>0.018633</td>\n",
              "      <td>0.007034</td>\n",
              "      <td>8104.0</td>\n",
              "      <td>10</td>\n",
              "      <td>GABAergic</td>\n",
              "      <td>PV</td>\n",
              "    </tr>\n",
              "    <tr>\n",
              "      <th>AAACGGGTCCATGAAC-1_5981_BA9</th>\n",
              "      <td>29.946121</td>\n",
              "      <td>-15.725056</td>\n",
              "      <td>2</td>\n",
              "      <td>5981_BA9</td>\n",
              "      <td>Control</td>\n",
              "      <td>Control</td>\n",
              "      <td>44</td>\n",
              "      <td>female</td>\n",
              "      <td>prefrontal</td>\n",
              "      <td>CAP7</td>\n",
              "      <td>...</td>\n",
              "      <td>NaN</td>\n",
              "      <td>NaN</td>\n",
              "      <td>NaN</td>\n",
              "      <td>3376</td>\n",
              "      <td>0.016441</td>\n",
              "      <td>0.007046</td>\n",
              "      <td>7238.0</td>\n",
              "      <td>12</td>\n",
              "      <td>Glutamatergic</td>\n",
              "      <td>L4</td>\n",
              "    </tr>\n",
              "    <tr>\n",
              "      <th>AAAGATGCACGACTCG-1_5981_BA9</th>\n",
              "      <td>25.065271</td>\n",
              "      <td>-19.422704</td>\n",
              "      <td>3</td>\n",
              "      <td>5981_BA9</td>\n",
              "      <td>Control</td>\n",
              "      <td>Control</td>\n",
              "      <td>44</td>\n",
              "      <td>female</td>\n",
              "      <td>prefrontal</td>\n",
              "      <td>CAP7</td>\n",
              "      <td>...</td>\n",
              "      <td>NaN</td>\n",
              "      <td>NaN</td>\n",
              "      <td>NaN</td>\n",
              "      <td>4337</td>\n",
              "      <td>0.007789</td>\n",
              "      <td>0.002841</td>\n",
              "      <td>10913.0</td>\n",
              "      <td>21</td>\n",
              "      <td>Glutamatergic</td>\n",
              "      <td>L5_6</td>\n",
              "    </tr>\n",
              "    <tr>\n",
              "      <th>...</th>\n",
              "      <td>...</td>\n",
              "      <td>...</td>\n",
              "      <td>...</td>\n",
              "      <td>...</td>\n",
              "      <td>...</td>\n",
              "      <td>...</td>\n",
              "      <td>...</td>\n",
              "      <td>...</td>\n",
              "      <td>...</td>\n",
              "      <td>...</td>\n",
              "      <td>...</td>\n",
              "      <td>...</td>\n",
              "      <td>...</td>\n",
              "      <td>...</td>\n",
              "      <td>...</td>\n",
              "      <td>...</td>\n",
              "      <td>...</td>\n",
              "      <td>...</td>\n",
              "      <td>...</td>\n",
              "      <td>...</td>\n",
              "      <td>...</td>\n",
              "    </tr>\n",
              "    <tr>\n",
              "      <th>TTTGTCAGTGTTAAGA-1_MS200_A303</th>\n",
              "      <td>-5.428651</td>\n",
              "      <td>17.107557</td>\n",
              "      <td>5</td>\n",
              "      <td>MS200_A303</td>\n",
              "      <td>MS</td>\n",
              "      <td>Chronic inactive</td>\n",
              "      <td>44</td>\n",
              "      <td>female</td>\n",
              "      <td>prefrontal</td>\n",
              "      <td>CAP6</td>\n",
              "      <td>...</td>\n",
              "      <td>41.0</td>\n",
              "      <td>6.0</td>\n",
              "      <td>6.0</td>\n",
              "      <td>857</td>\n",
              "      <td>0.003260</td>\n",
              "      <td>0.011410</td>\n",
              "      <td>1227.0</td>\n",
              "      <td>0</td>\n",
              "      <td>Oligodendrocyte</td>\n",
              "      <td>Oligodendrocyte</td>\n",
              "    </tr>\n",
              "    <tr>\n",
              "      <th>TTTGTCAGTTCGCGAC-1_MS200_A303</th>\n",
              "      <td>34.011235</td>\n",
              "      <td>-18.509118</td>\n",
              "      <td>2</td>\n",
              "      <td>MS200_A303</td>\n",
              "      <td>MS</td>\n",
              "      <td>Chronic inactive</td>\n",
              "      <td>44</td>\n",
              "      <td>female</td>\n",
              "      <td>prefrontal</td>\n",
              "      <td>CAP6</td>\n",
              "      <td>...</td>\n",
              "      <td>41.0</td>\n",
              "      <td>6.0</td>\n",
              "      <td>6.0</td>\n",
              "      <td>5463</td>\n",
              "      <td>0.010610</td>\n",
              "      <td>0.018160</td>\n",
              "      <td>14703.0</td>\n",
              "      <td>9</td>\n",
              "      <td>Glutamatergic</td>\n",
              "      <td>L4</td>\n",
              "    </tr>\n",
              "    <tr>\n",
              "      <th>TTTGTCAGTTCTGGTA-1_MS200_A303</th>\n",
              "      <td>-16.622547</td>\n",
              "      <td>20.910561</td>\n",
              "      <td>8</td>\n",
              "      <td>MS200_A303</td>\n",
              "      <td>MS</td>\n",
              "      <td>Chronic inactive</td>\n",
              "      <td>44</td>\n",
              "      <td>female</td>\n",
              "      <td>prefrontal</td>\n",
              "      <td>CAP6</td>\n",
              "      <td>...</td>\n",
              "      <td>41.0</td>\n",
              "      <td>6.0</td>\n",
              "      <td>6.0</td>\n",
              "      <td>1560</td>\n",
              "      <td>0.018838</td>\n",
              "      <td>0.003925</td>\n",
              "      <td>2548.0</td>\n",
              "      <td>1</td>\n",
              "      <td>Astrocyte</td>\n",
              "      <td>Astrocyte</td>\n",
              "    </tr>\n",
              "    <tr>\n",
              "      <th>TTTGTCATCCAAATGC-1_MS200_A303</th>\n",
              "      <td>-5.947137</td>\n",
              "      <td>-35.594686</td>\n",
              "      <td>16</td>\n",
              "      <td>MS200_A303</td>\n",
              "      <td>MS</td>\n",
              "      <td>Chronic inactive</td>\n",
              "      <td>44</td>\n",
              "      <td>female</td>\n",
              "      <td>prefrontal</td>\n",
              "      <td>CAP6</td>\n",
              "      <td>...</td>\n",
              "      <td>41.0</td>\n",
              "      <td>6.0</td>\n",
              "      <td>6.0</td>\n",
              "      <td>814</td>\n",
              "      <td>0.051595</td>\n",
              "      <td>0.019700</td>\n",
              "      <td>1066.0</td>\n",
              "      <td>8</td>\n",
              "      <td>Glutamatergic</td>\n",
              "      <td>PYR</td>\n",
              "    </tr>\n",
              "    <tr>\n",
              "      <th>TTTGTCATCTAACGGT-1_MS200_A303</th>\n",
              "      <td>-15.906688</td>\n",
              "      <td>23.322071</td>\n",
              "      <td>8</td>\n",
              "      <td>MS200_A303</td>\n",
              "      <td>MS</td>\n",
              "      <td>Chronic inactive</td>\n",
              "      <td>44</td>\n",
              "      <td>female</td>\n",
              "      <td>prefrontal</td>\n",
              "      <td>CAP6</td>\n",
              "      <td>...</td>\n",
              "      <td>41.0</td>\n",
              "      <td>6.0</td>\n",
              "      <td>6.0</td>\n",
              "      <td>1497</td>\n",
              "      <td>0.002778</td>\n",
              "      <td>0.010714</td>\n",
              "      <td>2520.0</td>\n",
              "      <td>1</td>\n",
              "      <td>Astrocyte</td>\n",
              "      <td>Astrocyte</td>\n",
              "    </tr>\n",
              "  </tbody>\n",
              "</table>\n",
              "<p>48918 rows × 30 columns</p>\n",
              "</div>\n",
              "      <button class=\"colab-df-convert\" onclick=\"convertToInteractive('df-d6ceea68-c479-4b89-b4dd-52ccd339207e')\"\n",
              "              title=\"Convert this dataframe to an interactive table.\"\n",
              "              style=\"display:none;\">\n",
              "        \n",
              "  <svg xmlns=\"http://www.w3.org/2000/svg\" height=\"24px\"viewBox=\"0 0 24 24\"\n",
              "       width=\"24px\">\n",
              "    <path d=\"M0 0h24v24H0V0z\" fill=\"none\"/>\n",
              "    <path d=\"M18.56 5.44l.94 2.06.94-2.06 2.06-.94-2.06-.94-.94-2.06-.94 2.06-2.06.94zm-11 1L8.5 8.5l.94-2.06 2.06-.94-2.06-.94L8.5 2.5l-.94 2.06-2.06.94zm10 10l.94 2.06.94-2.06 2.06-.94-2.06-.94-.94-2.06-.94 2.06-2.06.94z\"/><path d=\"M17.41 7.96l-1.37-1.37c-.4-.4-.92-.59-1.43-.59-.52 0-1.04.2-1.43.59L10.3 9.45l-7.72 7.72c-.78.78-.78 2.05 0 2.83L4 21.41c.39.39.9.59 1.41.59.51 0 1.02-.2 1.41-.59l7.78-7.78 2.81-2.81c.8-.78.8-2.07 0-2.86zM5.41 20L4 18.59l7.72-7.72 1.47 1.35L5.41 20z\"/>\n",
              "  </svg>\n",
              "      </button>\n",
              "      \n",
              "  <style>\n",
              "    .colab-df-container {\n",
              "      display:flex;\n",
              "      flex-wrap:wrap;\n",
              "      gap: 12px;\n",
              "    }\n",
              "\n",
              "    .colab-df-convert {\n",
              "      background-color: #E8F0FE;\n",
              "      border: none;\n",
              "      border-radius: 50%;\n",
              "      cursor: pointer;\n",
              "      display: none;\n",
              "      fill: #1967D2;\n",
              "      height: 32px;\n",
              "      padding: 0 0 0 0;\n",
              "      width: 32px;\n",
              "    }\n",
              "\n",
              "    .colab-df-convert:hover {\n",
              "      background-color: #E2EBFA;\n",
              "      box-shadow: 0px 1px 2px rgba(60, 64, 67, 0.3), 0px 1px 3px 1px rgba(60, 64, 67, 0.15);\n",
              "      fill: #174EA6;\n",
              "    }\n",
              "\n",
              "    [theme=dark] .colab-df-convert {\n",
              "      background-color: #3B4455;\n",
              "      fill: #D2E3FC;\n",
              "    }\n",
              "\n",
              "    [theme=dark] .colab-df-convert:hover {\n",
              "      background-color: #434B5C;\n",
              "      box-shadow: 0px 1px 3px 1px rgba(0, 0, 0, 0.15);\n",
              "      filter: drop-shadow(0px 1px 2px rgba(0, 0, 0, 0.3));\n",
              "      fill: #FFFFFF;\n",
              "    }\n",
              "  </style>\n",
              "\n",
              "      <script>\n",
              "        const buttonEl =\n",
              "          document.querySelector('#df-d6ceea68-c479-4b89-b4dd-52ccd339207e button.colab-df-convert');\n",
              "        buttonEl.style.display =\n",
              "          google.colab.kernel.accessAllowed ? 'block' : 'none';\n",
              "\n",
              "        async function convertToInteractive(key) {\n",
              "          const element = document.querySelector('#df-d6ceea68-c479-4b89-b4dd-52ccd339207e');\n",
              "          const dataTable =\n",
              "            await google.colab.kernel.invokeFunction('convertToInteractive',\n",
              "                                                     [key], {});\n",
              "          if (!dataTable) return;\n",
              "\n",
              "          const docLinkHtml = 'Like what you see? Visit the ' +\n",
              "            '<a target=\"_blank\" href=https://colab.research.google.com/notebooks/data_table.ipynb>data table notebook</a>'\n",
              "            + ' to learn more about interactive tables.';\n",
              "          element.innerHTML = '';\n",
              "          dataTable['output_type'] = 'display_data';\n",
              "          await google.colab.output.renderOutput(dataTable, element);\n",
              "          const docLink = document.createElement('div');\n",
              "          docLink.innerHTML = docLinkHtml;\n",
              "          element.appendChild(docLink);\n",
              "        }\n",
              "      </script>\n",
              "    </div>\n",
              "  </div>\n",
              "  "
            ]
          },
          "metadata": {},
          "execution_count": 6
        }
      ]
    },
    {
      "cell_type": "code",
      "source": [
        "hv_list = []\n",
        "for i in range(35278):AZZ"
      ],
      "metadata": {
        "id": "DwRVBapp2Pcf"
      },
      "execution_count": null,
      "outputs": []
    },
    {
      "cell_type": "code",
      "source": [
        "len(hv_list)"
      ],
      "metadata": {
        "colab": {
          "base_uri": "https://localhost:8080/"
        },
        "id": "1HdM4jl4VGjR",
        "outputId": "3de6e207-e044-4581-c210-5cad8bfd0537"
      },
      "execution_count": null,
      "outputs": [
        {
          "output_type": "execute_result",
          "data": {
            "text/plain": [
              "2000"
            ]
          },
          "metadata": {},
          "execution_count": 8
        }
      ]
    },
    {
      "cell_type": "code",
      "source": [
        "adata_h = adata[adata.obs.diagnosis == 'Control']\n",
        "adata_d = adata[adata.obs.diagnosis == 'MS']"
      ],
      "metadata": {
        "id": "7TPspeE_FEKI"
      },
      "execution_count": null,
      "outputs": []
    },
    {
      "cell_type": "code",
      "source": [
        "adata_h_hv = adata_h.X[:,hv_list[0]]\n"
      ],
      "metadata": {
        "id": "9OQtK8R-5Rdm"
      },
      "execution_count": null,
      "outputs": []
    },
    {
      "cell_type": "code",
      "source": [
        "adata_h_hv.shape"
      ],
      "metadata": {
        "colab": {
          "base_uri": "https://localhost:8080/"
        },
        "id": "N3sBjcFcU7Ig",
        "outputId": "08527c17-20b9-4d40-a52b-9b2c06658f16"
      },
      "execution_count": null,
      "outputs": [
        {
          "output_type": "execute_result",
          "data": {
            "text/plain": [
              "(17402, 1)"
            ]
          },
          "metadata": {},
          "execution_count": 11
        }
      ]
    },
    {
      "cell_type": "code",
      "source": [
        "for i in range(1,2000):\n",
        "  adata_h_hv = hstack((adata_h_hv, adata_h.X[:,hv_list[i]]))\n",
        "  print(adata_h_hv.shape)\n",
        "  print(i)"
      ],
      "metadata": {
        "id": "Jis-s9e37mt_"
      },
      "execution_count": null,
      "outputs": []
    },
    {
      "cell_type": "code",
      "source": [
        "adata_h_hv"
      ],
      "metadata": {
        "colab": {
          "base_uri": "https://localhost:8080/"
        },
        "id": "n3nyHKtD760u",
        "outputId": "48b848ce-c933-4bf2-8b2b-65c266e74a0b"
      },
      "execution_count": null,
      "outputs": [
        {
          "output_type": "execute_result",
          "data": {
            "text/plain": [
              "<17402x2000 sparse matrix of type '<class 'numpy.float32'>'\n",
              "\twith 3726616 stored elements in Compressed Sparse Column format>"
            ]
          },
          "metadata": {},
          "execution_count": 13
        }
      ]
    },
    {
      "cell_type": "code",
      "source": [
        "adata_d_hv = adata_d.X[:,hv_list[0]]"
      ],
      "metadata": {
        "id": "Mmcfo3qK_mMF"
      },
      "execution_count": null,
      "outputs": []
    },
    {
      "cell_type": "code",
      "source": [
        "adata_d_hv.shape"
      ],
      "metadata": {
        "colab": {
          "base_uri": "https://localhost:8080/"
        },
        "id": "XoJbGfFPR62s",
        "outputId": "b81588e7-1656-4732-ebb3-7cd861f6a20b"
      },
      "execution_count": null,
      "outputs": [
        {
          "output_type": "execute_result",
          "data": {
            "text/plain": [
              "(31516, 1)"
            ]
          },
          "metadata": {},
          "execution_count": 15
        }
      ]
    },
    {
      "cell_type": "code",
      "source": [
        "for i in range(1,2000):\n",
        "  adata_d_hv = hstack((adata_d_hv, adata_d.X[:,hv_list[i]]))"
      ],
      "metadata": {
        "id": "TZQkc7V3R9uH"
      },
      "execution_count": null,
      "outputs": []
    },
    {
      "cell_type": "code",
      "source": [
        "import numpy as np"
      ],
      "metadata": {
        "id": "f_nn9jvAeR8R"
      },
      "execution_count": null,
      "outputs": []
    },
    {
      "cell_type": "code",
      "source": [
        "d1 = adata_d_hv.toarray()"
      ],
      "metadata": {
        "id": "LdoiSFGraZjF"
      },
      "execution_count": null,
      "outputs": []
    },
    {
      "cell_type": "code",
      "source": [
        "d2 = adata_h_hv.toarray()"
      ],
      "metadata": {
        "id": "rxybHg6VeXAO"
      },
      "execution_count": null,
      "outputs": []
    },
    {
      "cell_type": "code",
      "source": [
        "d1.shape"
      ],
      "metadata": {
        "colab": {
          "base_uri": "https://localhost:8080/"
        },
        "id": "a_nrA0nzecKh",
        "outputId": "02f4a158-b72a-4272-da14-b6646a76f2d4"
      },
      "execution_count": null,
      "outputs": [
        {
          "output_type": "execute_result",
          "data": {
            "text/plain": [
              "(31516, 2000)"
            ]
          },
          "metadata": {},
          "execution_count": 19
        }
      ]
    },
    {
      "cell_type": "code",
      "source": [
        "target = np.concatenate((d1,d2),axis = 0)"
      ],
      "metadata": {
        "id": "RFtsERRTedaC"
      },
      "execution_count": null,
      "outputs": []
    },
    {
      "cell_type": "code",
      "source": [
        "backg = d2"
      ],
      "metadata": {
        "id": "8ugopLpSffSI"
      },
      "execution_count": null,
      "outputs": []
    },
    {
      "cell_type": "code",
      "source": [
        "labels = d1.shape[0]*[0] + d2.shape[0]*[1]"
      ],
      "metadata": {
        "id": "eRZrE4xxfueZ"
      },
      "execution_count": null,
      "outputs": []
    },
    {
      "cell_type": "code",
      "source": [
        "backg.shape"
      ],
      "metadata": {
        "colab": {
          "base_uri": "https://localhost:8080/"
        },
        "id": "01gzTEm3itgq",
        "outputId": "ccaa0cfd-340b-45e6-d8b8-558afc2847c0"
      },
      "execution_count": null,
      "outputs": [
        {
          "output_type": "execute_result",
          "data": {
            "text/plain": [
              "(17402, 2000)"
            ]
          },
          "metadata": {},
          "execution_count": 25
        }
      ]
    },
    {
      "cell_type": "code",
      "source": [
        "!pip install contrastive"
      ],
      "metadata": {
        "colab": {
          "base_uri": "https://localhost:8080/"
        },
        "id": "2qNq0BBihp_G",
        "outputId": "8d20f075-22c3-4189-adf6-758ec8310f39"
      },
      "execution_count": null,
      "outputs": [
        {
          "output_type": "stream",
          "name": "stdout",
          "text": [
            "Looking in indexes: https://pypi.org/simple, https://us-python.pkg.dev/colab-wheels/public/simple/\n",
            "Requirement already satisfied: contrastive in /usr/local/lib/python3.7/dist-packages (1.1.0)\n",
            "Requirement already satisfied: matplotlib in /usr/local/lib/python3.7/dist-packages (from contrastive) (3.1.3)\n",
            "Requirement already satisfied: sklearn in /usr/local/lib/python3.7/dist-packages (from contrastive) (0.0.post1)\n",
            "Requirement already satisfied: numpy in /usr/local/lib/python3.7/dist-packages (from contrastive) (1.21.6)\n",
            "Requirement already satisfied: kiwisolver>=1.0.1 in /usr/local/lib/python3.7/dist-packages (from matplotlib->contrastive) (1.4.4)\n",
            "Requirement already satisfied: python-dateutil>=2.1 in /usr/local/lib/python3.7/dist-packages (from matplotlib->contrastive) (2.8.2)\n",
            "Requirement already satisfied: pyparsing!=2.0.4,!=2.1.2,!=2.1.6,>=2.0.1 in /usr/local/lib/python3.7/dist-packages (from matplotlib->contrastive) (3.0.9)\n",
            "Requirement already satisfied: cycler>=0.10 in /usr/local/lib/python3.7/dist-packages (from matplotlib->contrastive) (0.11.0)\n",
            "Requirement already satisfied: typing-extensions in /usr/local/lib/python3.7/dist-packages (from kiwisolver>=1.0.1->matplotlib->contrastive) (4.1.1)\n",
            "Requirement already satisfied: six>=1.5 in /usr/local/lib/python3.7/dist-packages (from python-dateutil>=2.1->matplotlib->contrastive) (1.15.0)\n"
          ]
        }
      ]
    },
    {
      "cell_type": "code",
      "source": [
        "from contrastive import CPCA\n",
        "\n",
        "mdl = CPCA()\n",
        "projected_data = mdl.fit_transform(target,backg,plot = True,active_labels = labels)"
      ],
      "metadata": {
        "colab": {
          "base_uri": "https://localhost:8080/",
          "height": 262
        },
        "id": "_Q6XvMSdfwua",
        "outputId": "50152012-8d95-468f-a68d-8eb7bca53167"
      },
      "execution_count": null,
      "outputs": [
        {
          "output_type": "stream",
          "name": "stderr",
          "text": [
            "/usr/local/lib/python3.7/dist-packages/contrastive/__init__.py:40: RuntimeWarning: invalid value encountered in true_divide\n",
            "  standardized_array =  (array-np.mean(array,axis=0)) / np.std(array,axis=0)\n"
          ]
        },
        {
          "output_type": "display_data",
          "data": {
            "text/plain": [
              "<Figure size 1008x216 with 4 Axes>"
            ],
            "image/png": "[encoded data removed]"
          },
          "metadata": {
            "needs_background": "light"
          }
        }
      ]
    },
    {
      "cell_type": "code",
      "source": [
        "adata.obs"
      ],
      "metadata": {
        "colab": {
          "base_uri": "https://localhost:8080/",
          "height": 661
        },
        "id": "bzfbKudDhuhZ",
        "outputId": "204f9d27-98ea-4487-b80e-7bab7aea3cf1"
      },
      "execution_count": null,
      "outputs": [
        {
          "output_type": "execute_result",
          "data": {
            "text/plain": [
              "                                   tsne1      tsne2 cluster_original  \\\n",
              "AAACCTGGTCCATGAT-1_5981_BA9    19.121044 -20.540960                3   \n",
              "AAACGGGAGTAGCCGA-1_5981_BA9     5.136135 -13.751351                4   \n",
              "AAACGGGCATCGGTTA-1_5981_BA9   -28.210752 -20.764837               6A   \n",
              "AAACGGGTCCATGAAC-1_5981_BA9    29.946121 -15.725056                2   \n",
              "AAAGATGCACGACTCG-1_5981_BA9    25.065271 -19.422704                3   \n",
              "...                                  ...        ...              ...   \n",
              "TTTGTCAGTGTTAAGA-1_MS200_A303  -5.428651  17.107557                5   \n",
              "TTTGTCAGTTCGCGAC-1_MS200_A303  34.011235 -18.509118                2   \n",
              "TTTGTCAGTTCTGGTA-1_MS200_A303 -16.622547  20.910561                8   \n",
              "TTTGTCATCCAAATGC-1_MS200_A303  -5.947137 -35.594686               16   \n",
              "TTTGTCATCTAACGGT-1_MS200_A303 -15.906688  23.322071                8   \n",
              "\n",
              "                                   sample diagnosis             stage  age  \\\n",
              "AAACCTGGTCCATGAT-1_5981_BA9      5981_BA9   Control           Control   44   \n",
              "AAACGGGAGTAGCCGA-1_5981_BA9      5981_BA9   Control           Control   44   \n",
              "AAACGGGCATCGGTTA-1_5981_BA9      5981_BA9   Control           Control   44   \n",
              "AAACGGGTCCATGAAC-1_5981_BA9      5981_BA9   Control           Control   44   \n",
              "AAAGATGCACGACTCG-1_5981_BA9      5981_BA9   Control           Control   44   \n",
              "...                                   ...       ...               ...  ...   \n",
              "TTTGTCAGTGTTAAGA-1_MS200_A303  MS200_A303        MS  Chronic inactive   44   \n",
              "TTTGTCAGTTCGCGAC-1_MS200_A303  MS200_A303        MS  Chronic inactive   44   \n",
              "TTTGTCAGTTCTGGTA-1_MS200_A303  MS200_A303        MS  Chronic inactive   44   \n",
              "TTTGTCATCCAAATGC-1_MS200_A303  MS200_A303        MS  Chronic inactive   44   \n",
              "TTTGTCATCTAACGGT-1_MS200_A303  MS200_A303        MS  Chronic inactive   44   \n",
              "\n",
              "                                  sex      region Capbatch  ... DMGM_UL  \\\n",
              "AAACCTGGTCCATGAT-1_5981_BA9    female  prefrontal     CAP7  ...     NaN   \n",
              "AAACGGGAGTAGCCGA-1_5981_BA9    female  prefrontal     CAP7  ...     NaN   \n",
              "AAACGGGCATCGGTTA-1_5981_BA9    female  prefrontal     CAP7  ...     NaN   \n",
              "AAACGGGTCCATGAAC-1_5981_BA9    female  prefrontal     CAP7  ...     NaN   \n",
              "AAAGATGCACGACTCG-1_5981_BA9    female  prefrontal     CAP7  ...     NaN   \n",
              "...                               ...         ...      ...  ...     ...   \n",
              "TTTGTCAGTGTTAAGA-1_MS200_A303  female  prefrontal     CAP6  ...    41.0   \n",
              "TTTGTCAGTTCGCGAC-1_MS200_A303  female  prefrontal     CAP6  ...    41.0   \n",
              "TTTGTCAGTTCTGGTA-1_MS200_A303  female  prefrontal     CAP6  ...    41.0   \n",
              "TTTGTCATCCAAATGC-1_MS200_A303  female  prefrontal     CAP6  ...    41.0   \n",
              "TTTGTCATCTAACGGT-1_MS200_A303  female  prefrontal     CAP6  ...    41.0   \n",
              "\n",
              "                               DMGM_DL  DMWM  n_genes  percent_mito  \\\n",
              "AAACCTGGTCCATGAT-1_5981_BA9        NaN   NaN     3795      0.005292   \n",
              "AAACGGGAGTAGCCGA-1_5981_BA9        NaN   NaN     2510      0.005038   \n",
              "AAACGGGCATCGGTTA-1_5981_BA9        NaN   NaN     3779      0.018633   \n",
              "AAACGGGTCCATGAAC-1_5981_BA9        NaN   NaN     3376      0.016441   \n",
              "AAAGATGCACGACTCG-1_5981_BA9        NaN   NaN     4337      0.007789   \n",
              "...                                ...   ...      ...           ...   \n",
              "TTTGTCAGTGTTAAGA-1_MS200_A303      6.0   6.0      857      0.003260   \n",
              "TTTGTCAGTTCGCGAC-1_MS200_A303      6.0   6.0     5463      0.010610   \n",
              "TTTGTCAGTTCTGGTA-1_MS200_A303      6.0   6.0     1560      0.018838   \n",
              "TTTGTCATCCAAATGC-1_MS200_A303      6.0   6.0      814      0.051595   \n",
              "TTTGTCATCTAACGGT-1_MS200_A303      6.0   6.0     1497      0.002778   \n",
              "\n",
              "                               percent_ribo  n_counts  leiden  \\\n",
              "AAACCTGGTCCATGAT-1_5981_BA9        0.002951    9827.0      14   \n",
              "AAACGGGAGTAGCCGA-1_5981_BA9        0.004457    5161.0       2   \n",
              "AAACGGGCATCGGTTA-1_5981_BA9        0.007034    8104.0      10   \n",
              "AAACGGGTCCATGAAC-1_5981_BA9        0.007046    7238.0      12   \n",
              "AAAGATGCACGACTCG-1_5981_BA9        0.002841   10913.0      21   \n",
              "...                                     ...       ...     ...   \n",
              "TTTGTCAGTGTTAAGA-1_MS200_A303      0.011410    1227.0       0   \n",
              "TTTGTCAGTTCGCGAC-1_MS200_A303      0.018160   14703.0       9   \n",
              "TTTGTCAGTTCTGGTA-1_MS200_A303      0.003925    2548.0       1   \n",
              "TTTGTCATCCAAATGC-1_MS200_A303      0.019700    1066.0       8   \n",
              "TTTGTCATCTAACGGT-1_MS200_A303      0.010714    2520.0       1   \n",
              "\n",
              "                                 annot_level_2    annot_level_3  \n",
              "AAACCTGGTCCATGAT-1_5981_BA9      Glutamatergic             L5_6  \n",
              "AAACGGGAGTAGCCGA-1_5981_BA9      Glutamatergic             L2_3  \n",
              "AAACGGGCATCGGTTA-1_5981_BA9          GABAergic               PV  \n",
              "AAACGGGTCCATGAAC-1_5981_BA9      Glutamatergic               L4  \n",
              "AAAGATGCACGACTCG-1_5981_BA9      Glutamatergic             L5_6  \n",
              "...                                        ...              ...  \n",
              "TTTGTCAGTGTTAAGA-1_MS200_A303  Oligodendrocyte  Oligodendrocyte  \n",
              "TTTGTCAGTTCGCGAC-1_MS200_A303    Glutamatergic               L4  \n",
              "TTTGTCAGTTCTGGTA-1_MS200_A303        Astrocyte        Astrocyte  \n",
              "TTTGTCATCCAAATGC-1_MS200_A303    Glutamatergic              PYR  \n",
              "TTTGTCATCTAACGGT-1_MS200_A303        Astrocyte        Astrocyte  \n",
              "\n",
              "[48918 rows x 30 columns]"
            ],
            "text/html": [
              "\n",
              "  <div id=\"df-5819c1e7-6a3a-4822-8b2f-3daff375cc79\">\n",
              "    <div class=\"colab-df-container\">\n",
              "      <div>\n",
              "<style scoped>\n",
              "    .dataframe tbody tr th:only-of-type {\n",
              "        vertical-align: middle;\n",
              "    }\n",
              "\n",
              "    .dataframe tbody tr th {\n",
              "        vertical-align: top;\n",
              "    }\n",
              "\n",
              "    .dataframe thead th {\n",
              "        text-align: right;\n",
              "    }\n",
              "</style>\n",
              "<table border=\"1\" class=\"dataframe\">\n",
              "  <thead>\n",
              "    <tr style=\"text-align: right;\">\n",
              "      <th></th>\n",
              "      <th>tsne1</th>\n",
              "      <th>tsne2</th>\n",
              "      <th>cluster_original</th>\n",
              "      <th>sample</th>\n",
              "      <th>diagnosis</th>\n",
              "      <th>stage</th>\n",
              "      <th>age</th>\n",
              "      <th>sex</th>\n",
              "      <th>region</th>\n",
              "      <th>Capbatch</th>\n",
              "      <th>...</th>\n",
              "      <th>DMGM_UL</th>\n",
              "      <th>DMGM_DL</th>\n",
              "      <th>DMWM</th>\n",
              "      <th>n_genes</th>\n",
              "      <th>percent_mito</th>\n",
              "      <th>percent_ribo</th>\n",
              "      <th>n_counts</th>\n",
              "      <th>leiden</th>\n",
              "      <th>annot_level_2</th>\n",
              "      <th>annot_level_3</th>\n",
              "    </tr>\n",
              "  </thead>\n",
              "  <tbody>\n",
              "    <tr>\n",
              "      <th>AAACCTGGTCCATGAT-1_5981_BA9</th>\n",
              "      <td>19.121044</td>\n",
              "      <td>-20.540960</td>\n",
              "      <td>3</td>\n",
              "      <td>5981_BA9</td>\n",
              "      <td>Control</td>\n",
              "      <td>Control</td>\n",
              "      <td>44</td>\n",
              "      <td>female</td>\n",
              "      <td>prefrontal</td>\n",
              "      <td>CAP7</td>\n",
              "      <td>...</td>\n",
              "      <td>NaN</td>\n",
              "      <td>NaN</td>\n",
              "      <td>NaN</td>\n",
              "      <td>3795</td>\n",
              "      <td>0.005292</td>\n",
              "      <td>0.002951</td>\n",
              "      <td>9827.0</td>\n",
              "      <td>14</td>\n",
              "      <td>Glutamatergic</td>\n",
              "      <td>L5_6</td>\n",
              "    </tr>\n",
              "    <tr>\n",
              "      <th>AAACGGGAGTAGCCGA-1_5981_BA9</th>\n",
              "      <td>5.136135</td>\n",
              "      <td>-13.751351</td>\n",
              "      <td>4</td>\n",
              "      <td>5981_BA9</td>\n",
              "      <td>Control</td>\n",
              "      <td>Control</td>\n",
              "      <td>44</td>\n",
              "      <td>female</td>\n",
              "      <td>prefrontal</td>\n",
              "      <td>CAP7</td>\n",
              "      <td>...</td>\n",
              "      <td>NaN</td>\n",
              "      <td>NaN</td>\n",
              "      <td>NaN</td>\n",
              "      <td>2510</td>\n",
              "      <td>0.005038</td>\n",
              "      <td>0.004457</td>\n",
              "      <td>5161.0</td>\n",
              "      <td>2</td>\n",
              "      <td>Glutamatergic</td>\n",
              "      <td>L2_3</td>\n",
              "    </tr>\n",
              "    <tr>\n",
              "      <th>AAACGGGCATCGGTTA-1_5981_BA9</th>\n",
              "      <td>-28.210752</td>\n",
              "      <td>-20.764837</td>\n",
              "      <td>6A</td>\n",
              "      <td>5981_BA9</td>\n",
              "      <td>Control</td>\n",
              "      <td>Control</td>\n",
              "      <td>44</td>\n",
              "      <td>female</td>\n",
              "      <td>prefrontal</td>\n",
              "      <td>CAP7</td>\n",
              "      <td>...</td>\n",
              "      <td>NaN</td>\n",
              "      <td>NaN</td>\n",
              "      <td>NaN</td>\n",
              "      <td>3779</td>\n",
              "      <td>0.018633</td>\n",
              "      <td>0.007034</td>\n",
              "      <td>8104.0</td>\n",
              "      <td>10</td>\n",
              "      <td>GABAergic</td>\n",
              "      <td>PV</td>\n",
              "    </tr>\n",
              "    <tr>\n",
              "      <th>AAACGGGTCCATGAAC-1_5981_BA9</th>\n",
              "      <td>29.946121</td>\n",
              "      <td>-15.725056</td>\n",
              "      <td>2</td>\n",
              "      <td>5981_BA9</td>\n",
              "      <td>Control</td>\n",
              "      <td>Control</td>\n",
              "      <td>44</td>\n",
              "      <td>female</td>\n",
              "      <td>prefrontal</td>\n",
              "      <td>CAP7</td>\n",
              "      <td>...</td>\n",
              "      <td>NaN</td>\n",
              "      <td>NaN</td>\n",
              "      <td>NaN</td>\n",
              "      <td>3376</td>\n",
              "      <td>0.016441</td>\n",
              "      <td>0.007046</td>\n",
              "      <td>7238.0</td>\n",
              "      <td>12</td>\n",
              "      <td>Glutamatergic</td>\n",
              "      <td>L4</td>\n",
              "    </tr>\n",
              "    <tr>\n",
              "      <th>AAAGATGCACGACTCG-1_5981_BA9</th>\n",
              "      <td>25.065271</td>\n",
              "      <td>-19.422704</td>\n",
              "      <td>3</td>\n",
              "      <td>5981_BA9</td>\n",
              "      <td>Control</td>\n",
              "      <td>Control</td>\n",
              "      <td>44</td>\n",
              "      <td>female</td>\n",
              "      <td>prefrontal</td>\n",
              "      <td>CAP7</td>\n",
              "      <td>...</td>\n",
              "      <td>NaN</td>\n",
              "      <td>NaN</td>\n",
              "      <td>NaN</td>\n",
              "      <td>4337</td>\n",
              "      <td>0.007789</td>\n",
              "      <td>0.002841</td>\n",
              "      <td>10913.0</td>\n",
              "      <td>21</td>\n",
              "      <td>Glutamatergic</td>\n",
              "      <td>L5_6</td>\n",
              "    </tr>\n",
              "    <tr>\n",
              "      <th>...</th>\n",
              "      <td>...</td>\n",
              "      <td>...</td>\n",
              "      <td>...</td>\n",
              "      <td>...</td>\n",
              "      <td>...</td>\n",
              "      <td>...</td>\n",
              "      <td>...</td>\n",
              "      <td>...</td>\n",
              "      <td>...</td>\n",
              "      <td>...</td>\n",
              "      <td>...</td>\n",
              "      <td>...</td>\n",
              "      <td>...</td>\n",
              "      <td>...</td>\n",
              "      <td>...</td>\n",
              "      <td>...</td>\n",
              "      <td>...</td>\n",
              "      <td>...</td>\n",
              "      <td>...</td>\n",
              "      <td>...</td>\n",
              "      <td>...</td>\n",
              "    </tr>\n",
              "    <tr>\n",
              "      <th>TTTGTCAGTGTTAAGA-1_MS200_A303</th>\n",
              "      <td>-5.428651</td>\n",
              "      <td>17.107557</td>\n",
              "      <td>5</td>\n",
              "      <td>MS200_A303</td>\n",
              "      <td>MS</td>\n",
              "      <td>Chronic inactive</td>\n",
              "      <td>44</td>\n",
              "      <td>female</td>\n",
              "      <td>prefrontal</td>\n",
              "      <td>CAP6</td>\n",
              "      <td>...</td>\n",
              "      <td>41.0</td>\n",
              "      <td>6.0</td>\n",
              "      <td>6.0</td>\n",
              "      <td>857</td>\n",
              "      <td>0.003260</td>\n",
              "      <td>0.011410</td>\n",
              "      <td>1227.0</td>\n",
              "      <td>0</td>\n",
              "      <td>Oligodendrocyte</td>\n",
              "      <td>Oligodendrocyte</td>\n",
              "    </tr>\n",
              "    <tr>\n",
              "      <th>TTTGTCAGTTCGCGAC-1_MS200_A303</th>\n",
              "      <td>34.011235</td>\n",
              "      <td>-18.509118</td>\n",
              "      <td>2</td>\n",
              "      <td>MS200_A303</td>\n",
              "      <td>MS</td>\n",
              "      <td>Chronic inactive</td>\n",
              "      <td>44</td>\n",
              "      <td>female</td>\n",
              "      <td>prefrontal</td>\n",
              "      <td>CAP6</td>\n",
              "      <td>...</td>\n",
              "      <td>41.0</td>\n",
              "      <td>6.0</td>\n",
              "      <td>6.0</td>\n",
              "      <td>5463</td>\n",
              "      <td>0.010610</td>\n",
              "      <td>0.018160</td>\n",
              "      <td>14703.0</td>\n",
              "      <td>9</td>\n",
              "      <td>Glutamatergic</td>\n",
              "      <td>L4</td>\n",
              "    </tr>\n",
              "    <tr>\n",
              "      <th>TTTGTCAGTTCTGGTA-1_MS200_A303</th>\n",
              "      <td>-16.622547</td>\n",
              "      <td>20.910561</td>\n",
              "      <td>8</td>\n",
              "      <td>MS200_A303</td>\n",
              "      <td>MS</td>\n",
              "      <td>Chronic inactive</td>\n",
              "      <td>44</td>\n",
              "      <td>female</td>\n",
              "      <td>prefrontal</td>\n",
              "      <td>CAP6</td>\n",
              "      <td>...</td>\n",
              "      <td>41.0</td>\n",
              "      <td>6.0</td>\n",
              "      <td>6.0</td>\n",
              "      <td>1560</td>\n",
              "      <td>0.018838</td>\n",
              "      <td>0.003925</td>\n",
              "      <td>2548.0</td>\n",
              "      <td>1</td>\n",
              "      <td>Astrocyte</td>\n",
              "      <td>Astrocyte</td>\n",
              "    </tr>\n",
              "    <tr>\n",
              "      <th>TTTGTCATCCAAATGC-1_MS200_A303</th>\n",
              "      <td>-5.947137</td>\n",
              "      <td>-35.594686</td>\n",
              "      <td>16</td>\n",
              "      <td>MS200_A303</td>\n",
              "      <td>MS</td>\n",
              "      <td>Chronic inactive</td>\n",
              "      <td>44</td>\n",
              "      <td>female</td>\n",
              "      <td>prefrontal</td>\n",
              "      <td>CAP6</td>\n",
              "      <td>...</td>\n",
              "      <td>41.0</td>\n",
              "      <td>6.0</td>\n",
              "      <td>6.0</td>\n",
              "      <td>814</td>\n",
              "      <td>0.051595</td>\n",
              "      <td>0.019700</td>\n",
              "      <td>1066.0</td>\n",
              "      <td>8</td>\n",
              "      <td>Glutamatergic</td>\n",
              "      <td>PYR</td>\n",
              "    </tr>\n",
              "    <tr>\n",
              "      <th>TTTGTCATCTAACGGT-1_MS200_A303</th>\n",
              "      <td>-15.906688</td>\n",
              "      <td>23.322071</td>\n",
              "      <td>8</td>\n",
              "      <td>MS200_A303</td>\n",
              "      <td>MS</td>\n",
              "      <td>Chronic inactive</td>\n",
              "      <td>44</td>\n",
              "      <td>female</td>\n",
              "      <td>prefrontal</td>\n",
              "      <td>CAP6</td>\n",
              "      <td>...</td>\n",
              "      <td>41.0</td>\n",
              "      <td>6.0</td>\n",
              "      <td>6.0</td>\n",
              "      <td>1497</td>\n",
              "      <td>0.002778</td>\n",
              "      <td>0.010714</td>\n",
              "      <td>2520.0</td>\n",
              "      <td>1</td>\n",
              "      <td>Astrocyte</td>\n",
              "      <td>Astrocyte</td>\n",
              "    </tr>\n",
              "  </tbody>\n",
              "</table>\n",
              "<p>48918 rows × 30 columns</p>\n",
              "</div>\n",
              "      <button class=\"colab-df-convert\" onclick=\"convertToInteractive('df-5819c1e7-6a3a-4822-8b2f-3daff375cc79')\"\n",
              "              title=\"Convert this dataframe to an interactive table.\"\n",
              "              style=\"display:none;\">\n",
              "        \n",
              "  <svg xmlns=\"http://www.w3.org/2000/svg\" height=\"24px\"viewBox=\"0 0 24 24\"\n",
              "       width=\"24px\">\n",
              "    <path d=\"M0 0h24v24H0V0z\" fill=\"none\"/>\n",
              "    <path d=\"M18.56 5.44l.94 2.06.94-2.06 2.06-.94-2.06-.94-.94-2.06-.94 2.06-2.06.94zm-11 1L8.5 8.5l.94-2.06 2.06-.94-2.06-.94L8.5 2.5l-.94 2.06-2.06.94zm10 10l.94 2.06.94-2.06 2.06-.94-2.06-.94-.94-2.06-.94 2.06-2.06.94z\"/><path d=\"M17.41 7.96l-1.37-1.37c-.4-.4-.92-.59-1.43-.59-.52 0-1.04.2-1.43.59L10.3 9.45l-7.72 7.72c-.78.78-.78 2.05 0 2.83L4 21.41c.39.39.9.59 1.41.59.51 0 1.02-.2 1.41-.59l7.78-7.78 2.81-2.81c.8-.78.8-2.07 0-2.86zM5.41 20L4 18.59l7.72-7.72 1.47 1.35L5.41 20z\"/>\n",
              "  </svg>\n",
              "      </button>\n",
              "      \n",
              "  <style>\n",
              "    .colab-df-container {\n",
              "      display:flex;\n",
              "      flex-wrap:wrap;\n",
              "      gap: 12px;\n",
              "    }\n",
              "\n",
              "    .colab-df-convert {\n",
              "      background-color: #E8F0FE;\n",
              "      border: none;\n",
              "      border-radius: 50%;\n",
              "      cursor: pointer;\n",
              "      display: none;\n",
              "      fill: #1967D2;\n",
              "      height: 32px;\n",
              "      padding: 0 0 0 0;\n",
              "      width: 32px;\n",
              "    }\n",
              "\n",
              "    .colab-df-convert:hover {\n",
              "      background-color: #E2EBFA;\n",
              "      box-shadow: 0px 1px 2px rgba(60, 64, 67, 0.3), 0px 1px 3px 1px rgba(60, 64, 67, 0.15);\n",
              "      fill: #174EA6;\n",
              "    }\n",
              "\n",
              "    [theme=dark] .colab-df-convert {\n",
              "      background-color: #3B4455;\n",
              "      fill: #D2E3FC;\n",
              "    }\n",
              "\n",
              "    [theme=dark] .colab-df-convert:hover {\n",
              "      background-color: #434B5C;\n",
              "      box-shadow: 0px 1px 3px 1px rgba(0, 0, 0, 0.15);\n",
              "      filter: drop-shadow(0px 1px 2px rgba(0, 0, 0, 0.3));\n",
              "      fill: #FFFFFF;\n",
              "    }\n",
              "  </style>\n",
              "\n",
              "      <script>\n",
              "        const buttonEl =\n",
              "          document.querySelector('#df-5819c1e7-6a3a-4822-8b2f-3daff375cc79 button.colab-df-convert');\n",
              "        buttonEl.style.display =\n",
              "          google.colab.kernel.accessAllowed ? 'block' : 'none';\n",
              "\n",
              "        async function convertToInteractive(key) {\n",
              "          const element = document.querySelector('#df-5819c1e7-6a3a-4822-8b2f-3daff375cc79');\n",
              "          const dataTable =\n",
              "            await google.colab.kernel.invokeFunction('convertToInteractive',\n",
              "                                                     [key], {});\n",
              "          if (!dataTable) return;\n",
              "\n",
              "          const docLinkHtml = 'Like what you see? Visit the ' +\n",
              "            '<a target=\"_blank\" href=https://colab.research.google.com/notebooks/data_table.ipynb>data table notebook</a>'\n",
              "            + ' to learn more about interactive tables.';\n",
              "          element.innerHTML = '';\n",
              "          dataTable['output_type'] = 'display_data';\n",
              "          await google.colab.output.renderOutput(dataTable, element);\n",
              "          const docLink = document.createElement('div');\n",
              "          docLink.innerHTML = docLinkHtml;\n",
              "          element.appendChild(docLink);\n",
              "        }\n",
              "      </script>\n",
              "    </div>\n",
              "  </div>\n",
              "  "
            ]
          },
          "metadata": {},
          "execution_count": 28
        }
      ]
    },
    {
      "cell_type": "code",
      "source": [
        "lst = adata.obs['annot_level_2'].unique()\n",
        "print(lst)"
      ],
      "metadata": {
        "colab": {
          "base_uri": "https://localhost:8080/"
        },
        "id": "tPGjEC9-j43w",
        "outputId": "ca7a8c2a-7c4f-468d-a77a-f75278ab0920"
      },
      "execution_count": null,
      "outputs": [
        {
          "output_type": "stream",
          "name": "stdout",
          "text": [
            "['Glutamatergic', 'GABAergic', 'Endothelial', 'Oligodendrocyte_Progenitor', 'Oligodendrocyte', ..., 'Glia_MIX', 'Microglia', 'Phagocyte', 'T_Lymphocytes', 'B_Lymphocytes']\n",
            "Length: 12\n",
            "Categories (12, object): ['Astrocyte', 'B_Lymphocytes', 'Endothelial', 'GABAergic', ...,\n",
            "                          'Oligodendrocyte_Progenitor', 'Phagocyte', 'Stromal', 'T_Lymphocytes']\n"
          ]
        }
      ]
    },
    {
      "cell_type": "code",
      "source": [
        "from contrastive import CPCA\n",
        "import numpy as np\n",
        "adata_c1 = adata[adata.obs.annot_level_2 == lst[4]]\n",
        "print(adata_c1.shape)\n",
        "adata_c1_h = adata_c1[adata_c1.obs.diagnosis == 'Control']\n",
        "adata_c1_d = adata_c1[adata_c1.obs.diagnosis == 'MS']\n",
        "adata_c1_h_hv = adata_c1_h.X[:,hv_list[0]]\n",
        "\n",
        "for i in range(1,2000):\n",
        "  adata_c1_h_hv = hstack((adata_c1_h_hv, adata_c1_h.X[:,hv_list[i]]))\n",
        "  print(adata_c1_h_hv.shape)\n",
        "  print(i)\n",
        "\n",
        "adata_c1_d_hv = adata_c1_d.X[:,hv_list[0]]\n",
        "for i in range(1,2000):\n",
        "  adata_c1_d_hv = hstack((adata_c1_d_hv, adata_c1_d.X[:,hv_list[i]]))\n",
        "  print(adata_c1_d_hv.shape)\n",
        "  print(i)\n",
        "\n",
        "d1 = adata_c1_h_hv.toarray()\n",
        "d2 = adata_c1_d_hv.toarray()\n",
        "target = np.concatenate((d1,d2),axis = 0)\n",
        "backg = d1\n",
        "labels = d1.shape[0]*[1] + d2.shape[0]*[0]\n",
        "\n",
        "\n",
        "\n",
        "mdl = CPCA()\n",
        "projected_data,alphas = mdl.fit_transform(target,backg,active_labels = labels,return_alphas =True)"
      ],
      "metadata": {
        "id": "ZoBFS5uTpVKL"
      },
      "execution_count": null,
      "outputs": []
    },
    {
      "cell_type": "code",
      "source": [
        "labels = d1.shape[0]*[1] + d2.shape[0]*[0]\n",
        "\n",
        "\n",
        "\n",
        "mdl = CPCA()\n",
        "projected_data,alphas = mdl.fit_transform(target,backg,plot=True,active_labels = labels,return_alphas =True)"
      ],
      "metadata": {
        "colab": {
          "base_uri": "https://localhost:8080/",
          "height": 445
        },
        "id": "u0KiCvJlbhKd",
        "outputId": "42b2d454-6fa8-497b-dff3-c07a8b57a490"
      },
      "execution_count": null,
      "outputs": [
        {
          "output_type": "stream",
          "name": "stderr",
          "text": [
            "/usr/local/lib/python3.7/dist-packages/contrastive/__init__.py:40: RuntimeWarning: invalid value encountered in true_divide\n",
            "  standardized_array =  (array-np.mean(array,axis=0)) / np.std(array,axis=0)\n"
          ]
        },
        {
          "output_type": "display_data",
          "data": {
            "text/plain": [
              "<Figure size 1008x216 with 4 Axes>"
            ],
            "image/png": "[encoded data removed]"
          },
          "metadata": {
            "needs_background": "light"
          }
        },
        {
          "output_type": "error",
          "ename": "TypeError",
          "evalue": "ignored",
          "traceback": [
            "\u001b[0;31m---------------------------------------------------------------------------\u001b[0m",
            "\u001b[0;31mTypeError\u001b[0m                                 Traceback (most recent call last)",
            "\u001b[0;32m<ipython-input-40-29af3ff1af32>\u001b[0m in \u001b[0;36m<module>\u001b[0;34m\u001b[0m\n\u001b[1;32m      4\u001b[0m \u001b[0;34m\u001b[0m\u001b[0m\n\u001b[1;32m      5\u001b[0m \u001b[0mmdl\u001b[0m \u001b[0;34m=\u001b[0m \u001b[0mCPCA\u001b[0m\u001b[0;34m(\u001b[0m\u001b[0;34m)\u001b[0m\u001b[0;34m\u001b[0m\u001b[0;34m\u001b[0m\u001b[0m\n\u001b[0;32m----> 6\u001b[0;31m \u001b[0mprojected_data\u001b[0m\u001b[0;34m,\u001b[0m\u001b[0malphas\u001b[0m \u001b[0;34m=\u001b[0m \u001b[0mmdl\u001b[0m\u001b[0;34m.\u001b[0m\u001b[0mfit_transform\u001b[0m\u001b[0;34m(\u001b[0m\u001b[0mtarget\u001b[0m\u001b[0;34m,\u001b[0m\u001b[0mbackg\u001b[0m\u001b[0;34m,\u001b[0m\u001b[0mplot\u001b[0m\u001b[0;34m=\u001b[0m\u001b[0;32mTrue\u001b[0m\u001b[0;34m,\u001b[0m\u001b[0mactive_labels\u001b[0m \u001b[0;34m=\u001b[0m \u001b[0mlabels\u001b[0m\u001b[0;34m,\u001b[0m\u001b[0mreturn_alphas\u001b[0m \u001b[0;34m=\u001b[0m\u001b[0;32mTrue\u001b[0m\u001b[0;34m)\u001b[0m\u001b[0;34m\u001b[0m\u001b[0;34m\u001b[0m\u001b[0m\n\u001b[0m",
            "\u001b[0;31mTypeError\u001b[0m: cannot unpack non-iterable NoneType object"
          ]
        }
      ]
    },
    {
      "cell_type": "code",
      "source": [
        "mdl.fit_transform(target,backg,plot=True,active_labels = labels,return_alphas =True)"
      ],
      "metadata": {
        "colab": {
          "base_uri": "https://localhost:8080/",
          "height": 262
        },
        "id": "DIJeRVwAUf1C",
        "outputId": "47ab9613-95ca-4e21-a524-8bb7f57832da"
      },
      "execution_count": null,
      "outputs": [
        {
          "output_type": "stream",
          "name": "stderr",
          "text": [
            "/usr/local/lib/python3.7/dist-packages/contrastive/__init__.py:40: RuntimeWarning: invalid value encountered in true_divide\n",
            "  standardized_array =  (array-np.mean(array,axis=0)) / np.std(array,axis=0)\n"
          ]
        },
        {
          "output_type": "display_data",
          "data": {
            "text/plain": [
              "<Figure size 1008x216 with 4 Axes>"
            ],
            "image/png": "[encoded data removed]"
          },
          "metadata": {
            "needs_background": "light"
          }
        }
      ]
    },
    {
      "cell_type": "code",
      "source": [
        "pd = np.array(projected_data[0])\n"
      ],
      "metadata": {
        "id": "bkenwVMB--GL"
      },
      "execution_count": null,
      "outputs": []
    },
    {
      "cell_type": "code",
      "source": [
        "pd.shape"
      ],
      "metadata": {
        "colab": {
          "base_uri": "https://localhost:8080/"
        },
        "id": "RsjlfqpNYSeJ",
        "outputId": "38d9aadd-36d7-406e-c1e0-ee679c910ffc"
      },
      "execution_count": null,
      "outputs": [
        {
          "output_type": "execute_result",
          "data": {
            "text/plain": [
              "(12394, 2)"
            ]
          },
          "metadata": {},
          "execution_count": 38
        }
      ]
    },
    {
      "cell_type": "code",
      "source": [
        "np.corrcoef(pd.T)"
      ],
      "metadata": {
        "colab": {
          "base_uri": "https://localhost:8080/"
        },
        "id": "tjAtzStfXt44",
        "outputId": "81a0fa86-24e9-4231-a98b-8fa21821e2f5"
      },
      "execution_count": null,
      "outputs": [
        {
          "output_type": "execute_result",
          "data": {
            "text/plain": [
              "array([[1.00000000e+00, 2.55573216e-08],\n",
              "       [2.55573216e-08, 1.00000000e+00]])"
            ]
          },
          "metadata": {},
          "execution_count": 37
        }
      ]
    },
    {
      "cell_type": "code",
      "source": [
        "min(pd[:,0])"
      ],
      "metadata": {
        "colab": {
          "base_uri": "https://localhost:8080/"
        },
        "id": "5VOGUzCTXM_X",
        "outputId": "5a6a6b6a-0dda-4b06-94bd-7f8bd1e19aab"
      },
      "execution_count": null,
      "outputs": [
        {
          "output_type": "execute_result",
          "data": {
            "text/plain": [
              "-34.077526"
            ]
          },
          "metadata": {},
          "execution_count": 35
        }
      ]
    },
    {
      "cell_type": "code",
      "source": [
        "# import all libraries\n",
        "import pandas as pd\n",
        "import numpy as np\n",
        "import matplotlib.pyplot as plt\n",
        "%matplotlib inline\n",
        "from sklearn.decomposition import PCA\n",
        "from sklearn.preprocessing import StandardScaler\n",
        "\n",
        "\n",
        "# Scale data before applying PCA\n",
        "scaling=StandardScaler()\n",
        "\n",
        "# Use fit and transform method\n",
        "scaling.fit(target)\n",
        "Scaled_data=scaling.transform(target)\n",
        "\n",
        "# Set the n_components=3\n",
        "principal=PCA(n_components=2)\n",
        "principal.fit(Scaled_data)\n",
        "x=principal.transform(Scaled_data)\n",
        "\n",
        "# Check the dimensions of data after PCA\n",
        "print(x.shape)\n"
      ],
      "metadata": {
        "colab": {
          "base_uri": "https://localhost:8080/"
        },
        "id": "0QNPxwda5Fnt",
        "outputId": "93967da7-dd00-40ac-a2f9-dcbb60901312"
      },
      "execution_count": null,
      "outputs": [
        {
          "output_type": "stream",
          "name": "stdout",
          "text": [
            "(12394, 2)\n"
          ]
        }
      ]
    },
    {
      "cell_type": "code",
      "source": [
        "plt.figure(figsize=(10,10))\n",
        "plt.scatter(x[:,0],x[:,1],c=labels,cmap='plasma')\n",
        "plt.xlabel('pc1')\n",
        "plt.ylabel('pc2')"
      ],
      "metadata": {
        "colab": {
          "base_uri": "https://localhost:8080/",
          "height": 623
        },
        "id": "jMHaSMjs-C2X",
        "outputId": "5412c684-c322-4708-e3fb-0d41b7fff89f"
      },
      "execution_count": null,
      "outputs": [
        {
          "output_type": "execute_result",
          "data": {
            "text/plain": [
              "Text(0, 0.5, 'pc2')"
            ]
          },
          "metadata": {},
          "execution_count": 42
        },
        {
          "output_type": "display_data",
          "data": {
            "text/plain": [
              "<Figure size 720x720 with 1 Axes>"
            ],
            "image/png": "[encoded data removed]"
          },
          "metadata": {
            "needs_background": "light"
          }
        }
      ]
    },
    {
      "cell_type": "code",
      "source": [
        "# for ucdata we will use adata2\n",
        "path = '/content/drive/MyDrive/ucdata.h5ad'\n",
        "adata2 = sc.read(path)"
      ],
      "metadata": {
        "id": "XnR-4uio_ODe"
      },
      "execution_count": null,
      "outputs": []
    },
    {
      "cell_type": "code",
      "source": [],
      "metadata": {
        "id": "QBHZ0WKBGfCh"
      },
      "execution_count": null,
      "outputs": []
    }
  ]
}
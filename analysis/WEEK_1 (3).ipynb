{
  "nbformat": 4,
  "nbformat_minor": 0,
  "metadata": {
    "colab": {
      "provenance": []
    },
    "kernelspec": {
      "name": "python3",
      "display_name": "Python 3"
    },
    "language_info": {
      "name": "python"
    },
    "gpuClass": "standard"
  },
  "cells": [
    {
      "cell_type": "code",
      "execution_count": null,
      "metadata": {
        "colab": {
          "base_uri": "https://localhost:8080/",
          "height": 1000
        },
        "id": "BxZCHk3VMqKk",
        "outputId": "d3b9f02d-307b-467c-8d82-ab1e27eb3a41"
      },
      "outputs": [
        {
          "output_type": "stream",
          "name": "stdout",
          "text": [
            "Looking in indexes: https://pypi.org/simple, https://us-python.pkg.dev/colab-wheels/public/simple/\n",
            "Collecting scanpy\n",
            "  Downloading scanpy-1.9.1-py3-none-any.whl (2.0 MB)\n",
            "\u001b[K     |████████████████████████████████| 2.0 MB 5.2 MB/s \n",
            "\u001b[?25hRequirement already satisfied: statsmodels>=0.10.0rc2 in /usr/local/lib/python3.7/dist-packages (from scanpy) (0.12.2)\n",
            "Collecting anndata>=0.7.4\n",
            "  Downloading anndata-0.8.0-py3-none-any.whl (96 kB)\n",
            "\u001b[K     |████████████████████████████████| 96 kB 5.2 MB/s \n",
            "\u001b[?25hCollecting umap-learn>=0.3.10\n",
            "  Downloading umap-learn-0.5.3.tar.gz (88 kB)\n",
            "\u001b[K     |████████████████████████████████| 88 kB 6.9 MB/s \n",
            "\u001b[?25hRequirement already satisfied: importlib_metadata>=0.7 in /usr/local/lib/python3.7/dist-packages (from scanpy) (4.13.0)\n",
            "Requirement already satisfied: natsort in /usr/local/lib/python3.7/dist-packages (from scanpy) (5.5.0)\n",
            "Requirement already satisfied: scipy>=1.4 in /usr/local/lib/python3.7/dist-packages (from scanpy) (1.7.3)\n",
            "Requirement already satisfied: networkx>=2.3 in /usr/local/lib/python3.7/dist-packages (from scanpy) (2.6.3)\n",
            "Requirement already satisfied: tqdm in /usr/local/lib/python3.7/dist-packages (from scanpy) (4.64.1)\n",
            "Requirement already satisfied: scikit-learn>=0.22 in /usr/local/lib/python3.7/dist-packages (from scanpy) (1.0.2)\n",
            "Requirement already satisfied: numba>=0.41.0 in /usr/local/lib/python3.7/dist-packages (from scanpy) (0.56.4)\n",
            "Collecting matplotlib>=3.4\n",
            "  Downloading matplotlib-3.5.3-cp37-cp37m-manylinux_2_5_x86_64.manylinux1_x86_64.whl (11.2 MB)\n",
            "\u001b[K     |████████████████████████████████| 11.2 MB 33.0 MB/s \n",
            "\u001b[?25hRequirement already satisfied: pandas>=1.0 in /usr/local/lib/python3.7/dist-packages (from scanpy) (1.3.5)\n",
            "Requirement already satisfied: seaborn in /usr/local/lib/python3.7/dist-packages (from scanpy) (0.11.2)\n",
            "Requirement already satisfied: numpy>=1.17.0 in /usr/local/lib/python3.7/dist-packages (from scanpy) (1.21.6)\n",
            "Requirement already satisfied: h5py>=3 in /usr/local/lib/python3.7/dist-packages (from scanpy) (3.1.0)\n",
            "Requirement already satisfied: patsy in /usr/local/lib/python3.7/dist-packages (from scanpy) (0.5.3)\n",
            "Requirement already satisfied: joblib in /usr/local/lib/python3.7/dist-packages (from scanpy) (1.2.0)\n",
            "Collecting session-info\n",
            "  Downloading session_info-1.0.0.tar.gz (24 kB)\n",
            "Requirement already satisfied: packaging in /usr/local/lib/python3.7/dist-packages (from scanpy) (21.3)\n",
            "Requirement already satisfied: typing_extensions in /usr/local/lib/python3.7/dist-packages (from anndata>=0.7.4->scanpy) (4.1.1)\n",
            "Requirement already satisfied: cached-property in /usr/local/lib/python3.7/dist-packages (from h5py>=3->scanpy) (1.5.2)\n",
            "Requirement already satisfied: zipp>=0.5 in /usr/local/lib/python3.7/dist-packages (from importlib_metadata>=0.7->scanpy) (3.10.0)\n",
            "Requirement already satisfied: cycler>=0.10 in /usr/local/lib/python3.7/dist-packages (from matplotlib>=3.4->scanpy) (0.11.0)\n",
            "Requirement already satisfied: pyparsing>=2.2.1 in /usr/local/lib/python3.7/dist-packages (from matplotlib>=3.4->scanpy) (3.0.9)\n",
            "Collecting fonttools>=4.22.0\n",
            "  Downloading fonttools-4.38.0-py3-none-any.whl (965 kB)\n",
            "\u001b[K     |████████████████████████████████| 965 kB 52.1 MB/s \n",
            "\u001b[?25hRequirement already satisfied: pillow>=6.2.0 in /usr/local/lib/python3.7/dist-packages (from matplotlib>=3.4->scanpy) (7.1.2)\n",
            "Requirement already satisfied: python-dateutil>=2.7 in /usr/local/lib/python3.7/dist-packages (from matplotlib>=3.4->scanpy) (2.8.2)\n",
            "Requirement already satisfied: kiwisolver>=1.0.1 in /usr/local/lib/python3.7/dist-packages (from matplotlib>=3.4->scanpy) (1.4.4)\n",
            "Requirement already satisfied: setuptools in /usr/local/lib/python3.7/dist-packages (from numba>=0.41.0->scanpy) (57.4.0)\n",
            "Requirement already satisfied: llvmlite<0.40,>=0.39.0dev0 in /usr/local/lib/python3.7/dist-packages (from numba>=0.41.0->scanpy) (0.39.1)\n",
            "Requirement already satisfied: pytz>=2017.3 in /usr/local/lib/python3.7/dist-packages (from pandas>=1.0->scanpy) (2022.6)\n",
            "Requirement already satisfied: six>=1.5 in /usr/local/lib/python3.7/dist-packages (from python-dateutil>=2.7->matplotlib>=3.4->scanpy) (1.15.0)\n",
            "Requirement already satisfied: threadpoolctl>=2.0.0 in /usr/local/lib/python3.7/dist-packages (from scikit-learn>=0.22->scanpy) (3.1.0)\n",
            "Collecting pynndescent>=0.5\n",
            "  Downloading pynndescent-0.5.8.tar.gz (1.1 MB)\n",
            "\u001b[K     |████████████████████████████████| 1.1 MB 54.8 MB/s \n",
            "\u001b[?25hCollecting stdlib_list\n",
            "  Downloading stdlib_list-0.8.0-py3-none-any.whl (63 kB)\n",
            "\u001b[K     |████████████████████████████████| 63 kB 2.2 MB/s \n",
            "\u001b[?25hBuilding wheels for collected packages: umap-learn, pynndescent, session-info\n",
            "  Building wheel for umap-learn (setup.py) ... \u001b[?25l\u001b[?25hdone\n",
            "  Created wheel for umap-learn: filename=umap_learn-0.5.3-py3-none-any.whl size=82830 sha256=6cc297a2c7ea95c7e5dd3ffb4995292be28808feefc5807b8969348d8fde525c\n",
            "  Stored in directory: /root/.cache/pip/wheels/b3/52/a5/1fd9e3e76a7ab34f134c07469cd6f16e27ef3a37aeff1fe821\n",
            "  Building wheel for pynndescent (setup.py) ... \u001b[?25l\u001b[?25hdone\n",
            "  Created wheel for pynndescent: filename=pynndescent-0.5.8-py3-none-any.whl size=55509 sha256=c12c7c64bbcfe61f4cb8c9a8c0faa0ea4344ef27d3fa5055e7af0c9934f8b837\n",
            "  Stored in directory: /root/.cache/pip/wheels/19/bc/eb/974072a56a7082a302f8b4be1ad6d21bf5019235c2eff65928\n",
            "  Building wheel for session-info (setup.py) ... \u001b[?25l\u001b[?25hdone\n",
            "  Created wheel for session-info: filename=session_info-1.0.0-py3-none-any.whl size=8045 sha256=02c3e73a1a3f3e034718f8781153d6ec9b7cd0d61c2c461e77266ca976b362bc\n",
            "  Stored in directory: /root/.cache/pip/wheels/bd/ad/14/6a42359351a18337a8683854cfbba99dd782271f2d1767f87f\n",
            "Successfully built umap-learn pynndescent session-info\n",
            "Installing collected packages: fonttools, stdlib-list, pynndescent, matplotlib, umap-learn, session-info, anndata, scanpy\n",
            "  Attempting uninstall: matplotlib\n",
            "    Found existing installation: matplotlib 3.2.2\n",
            "    Uninstalling matplotlib-3.2.2:\n",
            "      Successfully uninstalled matplotlib-3.2.2\n",
            "Successfully installed anndata-0.8.0 fonttools-4.38.0 matplotlib-3.5.3 pynndescent-0.5.8 scanpy-1.9.1 session-info-1.0.0 stdlib-list-0.8.0 umap-learn-0.5.3\n"
          ]
        },
        {
          "output_type": "display_data",
          "data": {
            "application/vnd.colab-display-data+json": {
              "pip_warning": {
                "packages": [
                  "matplotlib",
                  "mpl_toolkits"
                ]
              }
            }
          },
          "metadata": {}
        }
      ],
      "source": [
        "import time\n",
        "import matplotlib.pyplot as plt\n",
        "import seaborn as sns\n",
        "\n",
        "!pip install scanpy\n",
        "#!pip install scvelo\n",
        "#!pip install git+https://github.com/csgroen/scycle.git#egg=scycle\n",
        "#!pip install  --no-dependencies  git+https://github.com/j-bac/elpigraph-python.git\n",
        "# from elpigraph_ps_tools import *\n",
        "#import elpigraph\n",
        "import scanpy as sc\n",
        "import anndata\n",
        "\n",
        "\n",
        "\n",
        "import importlib\n",
        "from sklearn.decomposition import PCA\n",
        "\n",
        "import matplotlib as mpl\n",
        "import matplotlib.pyplot as plt\n",
        "from sklearn.neighbors import NearestNeighbors"
      ]
    },
    {
      "cell_type": "code",
      "source": [
        "!python -m pip uninstall matplotlib\n",
        "!pip install matplotlib==3.1.3"
      ],
      "metadata": {
        "colab": {
          "base_uri": "https://localhost:8080/",
          "height": 626
        },
        "id": "i3Mi_YefNFgM",
        "outputId": "cbfd7a9b-020d-4709-b2a2-24fcd6dbadc9"
      },
      "execution_count": null,
      "outputs": [
        {
          "output_type": "stream",
          "name": "stdout",
          "text": [
            "Found existing installation: matplotlib 3.5.3\n",
            "Uninstalling matplotlib-3.5.3:\n",
            "  Would remove:\n",
            "    /usr/local/lib/python3.7/dist-packages/matplotlib-3.5.3-py3.7-nspkg.pth\n",
            "    /usr/local/lib/python3.7/dist-packages/matplotlib-3.5.3.dist-info/*\n",
            "    /usr/local/lib/python3.7/dist-packages/matplotlib/*\n",
            "    /usr/local/lib/python3.7/dist-packages/mpl_toolkits/axes_grid/*\n",
            "    /usr/local/lib/python3.7/dist-packages/mpl_toolkits/axes_grid1/*\n",
            "    /usr/local/lib/python3.7/dist-packages/mpl_toolkits/axisartist/*\n",
            "    /usr/local/lib/python3.7/dist-packages/mpl_toolkits/mplot3d/*\n",
            "    /usr/local/lib/python3.7/dist-packages/mpl_toolkits/tests/*\n",
            "    /usr/local/lib/python3.7/dist-packages/pylab.py\n",
            "Proceed (y/n)? y\n",
            "  Successfully uninstalled matplotlib-3.5.3\n",
            "Looking in indexes: https://pypi.org/simple, https://us-python.pkg.dev/colab-wheels/public/simple/\n",
            "Collecting matplotlib==3.1.3\n",
            "  Downloading matplotlib-3.1.3-cp37-cp37m-manylinux1_x86_64.whl (13.1 MB)\n",
            "\u001b[K     |████████████████████████████████| 13.1 MB 5.0 MB/s \n",
            "\u001b[?25hRequirement already satisfied: numpy>=1.11 in /usr/local/lib/python3.7/dist-packages (from matplotlib==3.1.3) (1.21.6)\n",
            "Requirement already satisfied: cycler>=0.10 in /usr/local/lib/python3.7/dist-packages (from matplotlib==3.1.3) (0.11.0)\n",
            "Requirement already satisfied: python-dateutil>=2.1 in /usr/local/lib/python3.7/dist-packages (from matplotlib==3.1.3) (2.8.2)\n",
            "Requirement already satisfied: kiwisolver>=1.0.1 in /usr/local/lib/python3.7/dist-packages (from matplotlib==3.1.3) (1.4.4)\n",
            "Requirement already satisfied: pyparsing!=2.0.4,!=2.1.2,!=2.1.6,>=2.0.1 in /usr/local/lib/python3.7/dist-packages (from matplotlib==3.1.3) (3.0.9)\n",
            "Requirement already satisfied: typing-extensions in /usr/local/lib/python3.7/dist-packages (from kiwisolver>=1.0.1->matplotlib==3.1.3) (4.1.1)\n",
            "Requirement already satisfied: six>=1.5 in /usr/local/lib/python3.7/dist-packages (from python-dateutil>=2.1->matplotlib==3.1.3) (1.15.0)\n",
            "Installing collected packages: matplotlib\n",
            "\u001b[31mERROR: pip's dependency resolver does not currently take into account all the packages that are installed. This behaviour is the source of the following dependency conflicts.\n",
            "scanpy 1.9.1 requires matplotlib>=3.4, but you have matplotlib 3.1.3 which is incompatible.\u001b[0m\n",
            "Successfully installed matplotlib-3.1.3\n"
          ]
        },
        {
          "output_type": "display_data",
          "data": {
            "application/vnd.colab-display-data+json": {
              "pip_warning": {
                "packages": [
                  "matplotlib",
                  "mpl_toolkits"
                ]
              }
            }
          },
          "metadata": {}
        }
      ]
    },
    {
      "cell_type": "code",
      "source": [
        "path = '/content/drive/MyDrive/msdata.h5ad'\n",
        "adata = sc.read(path)\n"
      ],
      "metadata": {
        "id": "nkcL2Xy6NZpo"
      },
      "execution_count": null,
      "outputs": []
    },
    {
      "cell_type": "code",
      "source": [
        "adata"
      ],
      "metadata": {
        "colab": {
          "base_uri": "https://localhost:8080/"
        },
        "id": "2giXoCg3Ogxz",
        "outputId": "10043892-6351-46bd-afb8-00cabfdec198"
      },
      "execution_count": null,
      "outputs": [
        {
          "output_type": "execute_result",
          "data": {
            "text/plain": [
              "AnnData object with n_obs × n_vars = 48918 × 35278\n",
              "    obs: 'tsne1', 'tsne2', 'cluster_original', 'sample', 'diagnosis', 'stage', 'age', 'sex', 'region', 'Capbatch', 'Seqbatch', 'RIN', 'PMI', 'genes', 'UMIs', 'mito_perc', 'ribo_perc', 'lesion_stage', 'cluster', 'cell_type', 'DMGM_UL', 'DMGM_DL', 'DMWM', 'n_genes', 'percent_mito', 'percent_ribo', 'n_counts', 'leiden', 'annot_level_2', 'annot_level_3'\n",
              "    var: 'n_cells', 'highly_variable', 'means', 'dispersions', 'dispersions_norm', 'highly_variable_nbatches', 'highly_variable_intersection'\n",
              "    uns: 'annot_level_2_colors', 'annot_level_3_colors', 'cell_type_colors', 'cluster_colors', 'leiden', 'leiden_colors', 'neighbors', 'pca', 'region_colors', 'sample_colors', 'sex_colors', 'umap'\n",
              "    obsm: 'X_pca', 'X_umap'\n",
              "    varm: 'PCs'\n",
              "    layers: 'counts'\n",
              "    obsp: 'connectivities', 'distances'"
            ]
          },
          "metadata": {},
          "execution_count": 4
        }
      ]
    },
    {
      "cell_type": "code",
      "source": [
        "adata.obs"
      ],
      "metadata": {
        "colab": {
          "base_uri": "https://localhost:8080/",
          "height": 661
        },
        "id": "kh126J51PDWI",
        "outputId": "02c6002b-63e2-471d-83cb-52c65130106b"
      },
      "execution_count": null,
      "outputs": [
        {
          "output_type": "execute_result",
          "data": {
            "text/plain": [
              "                                   tsne1      tsne2 cluster_original  \\\n",
              "AAACCTGGTCCATGAT-1_5981_BA9    19.121044 -20.540960                3   \n",
              "AAACGGGAGTAGCCGA-1_5981_BA9     5.136135 -13.751351                4   \n",
              "AAACGGGCATCGGTTA-1_5981_BA9   -28.210752 -20.764837               6A   \n",
              "AAACGGGTCCATGAAC-1_5981_BA9    29.946121 -15.725056                2   \n",
              "AAAGATGCACGACTCG-1_5981_BA9    25.065271 -19.422704                3   \n",
              "...                                  ...        ...              ...   \n",
              "TTTGTCAGTGTTAAGA-1_MS200_A303  -5.428651  17.107557                5   \n",
              "TTTGTCAGTTCGCGAC-1_MS200_A303  34.011235 -18.509118                2   \n",
              "TTTGTCAGTTCTGGTA-1_MS200_A303 -16.622547  20.910561                8   \n",
              "TTTGTCATCCAAATGC-1_MS200_A303  -5.947137 -35.594686               16   \n",
              "TTTGTCATCTAACGGT-1_MS200_A303 -15.906688  23.322071                8   \n",
              "\n",
              "                                   sample diagnosis             stage  age  \\\n",
              "AAACCTGGTCCATGAT-1_5981_BA9      5981_BA9   Control           Control   44   \n",
              "AAACGGGAGTAGCCGA-1_5981_BA9      5981_BA9   Control           Control   44   \n",
              "AAACGGGCATCGGTTA-1_5981_BA9      5981_BA9   Control           Control   44   \n",
              "AAACGGGTCCATGAAC-1_5981_BA9      5981_BA9   Control           Control   44   \n",
              "AAAGATGCACGACTCG-1_5981_BA9      5981_BA9   Control           Control   44   \n",
              "...                                   ...       ...               ...  ...   \n",
              "TTTGTCAGTGTTAAGA-1_MS200_A303  MS200_A303        MS  Chronic inactive   44   \n",
              "TTTGTCAGTTCGCGAC-1_MS200_A303  MS200_A303        MS  Chronic inactive   44   \n",
              "TTTGTCAGTTCTGGTA-1_MS200_A303  MS200_A303        MS  Chronic inactive   44   \n",
              "TTTGTCATCCAAATGC-1_MS200_A303  MS200_A303        MS  Chronic inactive   44   \n",
              "TTTGTCATCTAACGGT-1_MS200_A303  MS200_A303        MS  Chronic inactive   44   \n",
              "\n",
              "                                  sex      region Capbatch  ... DMGM_UL  \\\n",
              "AAACCTGGTCCATGAT-1_5981_BA9    female  prefrontal     CAP7  ...     NaN   \n",
              "AAACGGGAGTAGCCGA-1_5981_BA9    female  prefrontal     CAP7  ...     NaN   \n",
              "AAACGGGCATCGGTTA-1_5981_BA9    female  prefrontal     CAP7  ...     NaN   \n",
              "AAACGGGTCCATGAAC-1_5981_BA9    female  prefrontal     CAP7  ...     NaN   \n",
              "AAAGATGCACGACTCG-1_5981_BA9    female  prefrontal     CAP7  ...     NaN   \n",
              "...                               ...         ...      ...  ...     ...   \n",
              "TTTGTCAGTGTTAAGA-1_MS200_A303  female  prefrontal     CAP6  ...    41.0   \n",
              "TTTGTCAGTTCGCGAC-1_MS200_A303  female  prefrontal     CAP6  ...    41.0   \n",
              "TTTGTCAGTTCTGGTA-1_MS200_A303  female  prefrontal     CAP6  ...    41.0   \n",
              "TTTGTCATCCAAATGC-1_MS200_A303  female  prefrontal     CAP6  ...    41.0   \n",
              "TTTGTCATCTAACGGT-1_MS200_A303  female  prefrontal     CAP6  ...    41.0   \n",
              "\n",
              "                               DMGM_DL  DMWM  n_genes  percent_mito  \\\n",
              "AAACCTGGTCCATGAT-1_5981_BA9        NaN   NaN     3795      0.005292   \n",
              "AAACGGGAGTAGCCGA-1_5981_BA9        NaN   NaN     2510      0.005038   \n",
              "AAACGGGCATCGGTTA-1_5981_BA9        NaN   NaN     3779      0.018633   \n",
              "AAACGGGTCCATGAAC-1_5981_BA9        NaN   NaN     3376      0.016441   \n",
              "AAAGATGCACGACTCG-1_5981_BA9        NaN   NaN     4337      0.007789   \n",
              "...                                ...   ...      ...           ...   \n",
              "TTTGTCAGTGTTAAGA-1_MS200_A303      6.0   6.0      857      0.003260   \n",
              "TTTGTCAGTTCGCGAC-1_MS200_A303      6.0   6.0     5463      0.010610   \n",
              "TTTGTCAGTTCTGGTA-1_MS200_A303      6.0   6.0     1560      0.018838   \n",
              "TTTGTCATCCAAATGC-1_MS200_A303      6.0   6.0      814      0.051595   \n",
              "TTTGTCATCTAACGGT-1_MS200_A303      6.0   6.0     1497      0.002778   \n",
              "\n",
              "                               percent_ribo  n_counts  leiden  \\\n",
              "AAACCTGGTCCATGAT-1_5981_BA9        0.002951    9827.0      14   \n",
              "AAACGGGAGTAGCCGA-1_5981_BA9        0.004457    5161.0       2   \n",
              "AAACGGGCATCGGTTA-1_5981_BA9        0.007034    8104.0      10   \n",
              "AAACGGGTCCATGAAC-1_5981_BA9        0.007046    7238.0      12   \n",
              "AAAGATGCACGACTCG-1_5981_BA9        0.002841   10913.0      21   \n",
              "...                                     ...       ...     ...   \n",
              "TTTGTCAGTGTTAAGA-1_MS200_A303      0.011410    1227.0       0   \n",
              "TTTGTCAGTTCGCGAC-1_MS200_A303      0.018160   14703.0       9   \n",
              "TTTGTCAGTTCTGGTA-1_MS200_A303      0.003925    2548.0       1   \n",
              "TTTGTCATCCAAATGC-1_MS200_A303      0.019700    1066.0       8   \n",
              "TTTGTCATCTAACGGT-1_MS200_A303      0.010714    2520.0       1   \n",
              "\n",
              "                                 annot_level_2    annot_level_3  \n",
              "AAACCTGGTCCATGAT-1_5981_BA9      Glutamatergic             L5_6  \n",
              "AAACGGGAGTAGCCGA-1_5981_BA9      Glutamatergic             L2_3  \n",
              "AAACGGGCATCGGTTA-1_5981_BA9          GABAergic               PV  \n",
              "AAACGGGTCCATGAAC-1_5981_BA9      Glutamatergic               L4  \n",
              "AAAGATGCACGACTCG-1_5981_BA9      Glutamatergic             L5_6  \n",
              "...                                        ...              ...  \n",
              "TTTGTCAGTGTTAAGA-1_MS200_A303  Oligodendrocyte  Oligodendrocyte  \n",
              "TTTGTCAGTTCGCGAC-1_MS200_A303    Glutamatergic               L4  \n",
              "TTTGTCAGTTCTGGTA-1_MS200_A303        Astrocyte        Astrocyte  \n",
              "TTTGTCATCCAAATGC-1_MS200_A303    Glutamatergic              PYR  \n",
              "TTTGTCATCTAACGGT-1_MS200_A303        Astrocyte        Astrocyte  \n",
              "\n",
              "[48918 rows x 30 columns]"
            ],
            "text/html": [
              "\n",
              "  <div id=\"df-009fcd8f-d8a1-4e64-9af1-58c6426fa2d3\">\n",
              "    <div class=\"colab-df-container\">\n",
              "      <div>\n",
              "<style scoped>\n",
              "    .dataframe tbody tr th:only-of-type {\n",
              "        vertical-align: middle;\n",
              "    }\n",
              "\n",
              "    .dataframe tbody tr th {\n",
              "        vertical-align: top;\n",
              "    }\n",
              "\n",
              "    .dataframe thead th {\n",
              "        text-align: right;\n",
              "    }\n",
              "</style>\n",
              "<table border=\"1\" class=\"dataframe\">\n",
              "  <thead>\n",
              "    <tr style=\"text-align: right;\">\n",
              "      <th></th>\n",
              "      <th>tsne1</th>\n",
              "      <th>tsne2</th>\n",
              "      <th>cluster_original</th>\n",
              "      <th>sample</th>\n",
              "      <th>diagnosis</th>\n",
              "      <th>stage</th>\n",
              "      <th>age</th>\n",
              "      <th>sex</th>\n",
              "      <th>region</th>\n",
              "      <th>Capbatch</th>\n",
              "      <th>...</th>\n",
              "      <th>DMGM_UL</th>\n",
              "      <th>DMGM_DL</th>\n",
              "      <th>DMWM</th>\n",
              "      <th>n_genes</th>\n",
              "      <th>percent_mito</th>\n",
              "      <th>percent_ribo</th>\n",
              "      <th>n_counts</th>\n",
              "      <th>leiden</th>\n",
              "      <th>annot_level_2</th>\n",
              "      <th>annot_level_3</th>\n",
              "    </tr>\n",
              "  </thead>\n",
              "  <tbody>\n",
              "    <tr>\n",
              "      <th>AAACCTGGTCCATGAT-1_5981_BA9</th>\n",
              "      <td>19.121044</td>\n",
              "      <td>-20.540960</td>\n",
              "      <td>3</td>\n",
              "      <td>5981_BA9</td>\n",
              "      <td>Control</td>\n",
              "      <td>Control</td>\n",
              "      <td>44</td>\n",
              "      <td>female</td>\n",
              "      <td>prefrontal</td>\n",
              "      <td>CAP7</td>\n",
              "      <td>...</td>\n",
              "      <td>NaN</td>\n",
              "      <td>NaN</td>\n",
              "      <td>NaN</td>\n",
              "      <td>3795</td>\n",
              "      <td>0.005292</td>\n",
              "      <td>0.002951</td>\n",
              "      <td>9827.0</td>\n",
              "      <td>14</td>\n",
              "      <td>Glutamatergic</td>\n",
              "      <td>L5_6</td>\n",
              "    </tr>\n",
              "    <tr>\n",
              "      <th>AAACGGGAGTAGCCGA-1_5981_BA9</th>\n",
              "      <td>5.136135</td>\n",
              "      <td>-13.751351</td>\n",
              "      <td>4</td>\n",
              "      <td>5981_BA9</td>\n",
              "      <td>Control</td>\n",
              "      <td>Control</td>\n",
              "      <td>44</td>\n",
              "      <td>female</td>\n",
              "      <td>prefrontal</td>\n",
              "      <td>CAP7</td>\n",
              "      <td>...</td>\n",
              "      <td>NaN</td>\n",
              "      <td>NaN</td>\n",
              "      <td>NaN</td>\n",
              "      <td>2510</td>\n",
              "      <td>0.005038</td>\n",
              "      <td>0.004457</td>\n",
              "      <td>5161.0</td>\n",
              "      <td>2</td>\n",
              "      <td>Glutamatergic</td>\n",
              "      <td>L2_3</td>\n",
              "    </tr>\n",
              "    <tr>\n",
              "      <th>AAACGGGCATCGGTTA-1_5981_BA9</th>\n",
              "      <td>-28.210752</td>\n",
              "      <td>-20.764837</td>\n",
              "      <td>6A</td>\n",
              "      <td>5981_BA9</td>\n",
              "      <td>Control</td>\n",
              "      <td>Control</td>\n",
              "      <td>44</td>\n",
              "      <td>female</td>\n",
              "      <td>prefrontal</td>\n",
              "      <td>CAP7</td>\n",
              "      <td>...</td>\n",
              "      <td>NaN</td>\n",
              "      <td>NaN</td>\n",
              "      <td>NaN</td>\n",
              "      <td>3779</td>\n",
              "      <td>0.018633</td>\n",
              "      <td>0.007034</td>\n",
              "      <td>8104.0</td>\n",
              "      <td>10</td>\n",
              "      <td>GABAergic</td>\n",
              "      <td>PV</td>\n",
              "    </tr>\n",
              "    <tr>\n",
              "      <th>AAACGGGTCCATGAAC-1_5981_BA9</th>\n",
              "      <td>29.946121</td>\n",
              "      <td>-15.725056</td>\n",
              "      <td>2</td>\n",
              "      <td>5981_BA9</td>\n",
              "      <td>Control</td>\n",
              "      <td>Control</td>\n",
              "      <td>44</td>\n",
              "      <td>female</td>\n",
              "      <td>prefrontal</td>\n",
              "      <td>CAP7</td>\n",
              "      <td>...</td>\n",
              "      <td>NaN</td>\n",
              "      <td>NaN</td>\n",
              "      <td>NaN</td>\n",
              "      <td>3376</td>\n",
              "      <td>0.016441</td>\n",
              "      <td>0.007046</td>\n",
              "      <td>7238.0</td>\n",
              "      <td>12</td>\n",
              "      <td>Glutamatergic</td>\n",
              "      <td>L4</td>\n",
              "    </tr>\n",
              "    <tr>\n",
              "      <th>AAAGATGCACGACTCG-1_5981_BA9</th>\n",
              "      <td>25.065271</td>\n",
              "      <td>-19.422704</td>\n",
              "      <td>3</td>\n",
              "      <td>5981_BA9</td>\n",
              "      <td>Control</td>\n",
              "      <td>Control</td>\n",
              "      <td>44</td>\n",
              "      <td>female</td>\n",
              "      <td>prefrontal</td>\n",
              "      <td>CAP7</td>\n",
              "      <td>...</td>\n",
              "      <td>NaN</td>\n",
              "      <td>NaN</td>\n",
              "      <td>NaN</td>\n",
              "      <td>4337</td>\n",
              "      <td>0.007789</td>\n",
              "      <td>0.002841</td>\n",
              "      <td>10913.0</td>\n",
              "      <td>21</td>\n",
              "      <td>Glutamatergic</td>\n",
              "      <td>L5_6</td>\n",
              "    </tr>\n",
              "    <tr>\n",
              "      <th>...</th>\n",
              "      <td>...</td>\n",
              "      <td>...</td>\n",
              "      <td>...</td>\n",
              "      <td>...</td>\n",
              "      <td>...</td>\n",
              "      <td>...</td>\n",
              "      <td>...</td>\n",
              "      <td>...</td>\n",
              "      <td>...</td>\n",
              "      <td>...</td>\n",
              "      <td>...</td>\n",
              "      <td>...</td>\n",
              "      <td>...</td>\n",
              "      <td>...</td>\n",
              "      <td>...</td>\n",
              "      <td>...</td>\n",
              "      <td>...</td>\n",
              "      <td>...</td>\n",
              "      <td>...</td>\n",
              "      <td>...</td>\n",
              "      <td>...</td>\n",
              "    </tr>\n",
              "    <tr>\n",
              "      <th>TTTGTCAGTGTTAAGA-1_MS200_A303</th>\n",
              "      <td>-5.428651</td>\n",
              "      <td>17.107557</td>\n",
              "      <td>5</td>\n",
              "      <td>MS200_A303</td>\n",
              "      <td>MS</td>\n",
              "      <td>Chronic inactive</td>\n",
              "      <td>44</td>\n",
              "      <td>female</td>\n",
              "      <td>prefrontal</td>\n",
              "      <td>CAP6</td>\n",
              "      <td>...</td>\n",
              "      <td>41.0</td>\n",
              "      <td>6.0</td>\n",
              "      <td>6.0</td>\n",
              "      <td>857</td>\n",
              "      <td>0.003260</td>\n",
              "      <td>0.011410</td>\n",
              "      <td>1227.0</td>\n",
              "      <td>0</td>\n",
              "      <td>Oligodendrocyte</td>\n",
              "      <td>Oligodendrocyte</td>\n",
              "    </tr>\n",
              "    <tr>\n",
              "      <th>TTTGTCAGTTCGCGAC-1_MS200_A303</th>\n",
              "      <td>34.011235</td>\n",
              "      <td>-18.509118</td>\n",
              "      <td>2</td>\n",
              "      <td>MS200_A303</td>\n",
              "      <td>MS</td>\n",
              "      <td>Chronic inactive</td>\n",
              "      <td>44</td>\n",
              "      <td>female</td>\n",
              "      <td>prefrontal</td>\n",
              "      <td>CAP6</td>\n",
              "      <td>...</td>\n",
              "      <td>41.0</td>\n",
              "      <td>6.0</td>\n",
              "      <td>6.0</td>\n",
              "      <td>5463</td>\n",
              "      <td>0.010610</td>\n",
              "      <td>0.018160</td>\n",
              "      <td>14703.0</td>\n",
              "      <td>9</td>\n",
              "      <td>Glutamatergic</td>\n",
              "      <td>L4</td>\n",
              "    </tr>\n",
              "    <tr>\n",
              "      <th>TTTGTCAGTTCTGGTA-1_MS200_A303</th>\n",
              "      <td>-16.622547</td>\n",
              "      <td>20.910561</td>\n",
              "      <td>8</td>\n",
              "      <td>MS200_A303</td>\n",
              "      <td>MS</td>\n",
              "      <td>Chronic inactive</td>\n",
              "      <td>44</td>\n",
              "      <td>female</td>\n",
              "      <td>prefrontal</td>\n",
              "      <td>CAP6</td>\n",
              "      <td>...</td>\n",
              "      <td>41.0</td>\n",
              "      <td>6.0</td>\n",
              "      <td>6.0</td>\n",
              "      <td>1560</td>\n",
              "      <td>0.018838</td>\n",
              "      <td>0.003925</td>\n",
              "      <td>2548.0</td>\n",
              "      <td>1</td>\n",
              "      <td>Astrocyte</td>\n",
              "      <td>Astrocyte</td>\n",
              "    </tr>\n",
              "    <tr>\n",
              "      <th>TTTGTCATCCAAATGC-1_MS200_A303</th>\n",
              "      <td>-5.947137</td>\n",
              "      <td>-35.594686</td>\n",
              "      <td>16</td>\n",
              "      <td>MS200_A303</td>\n",
              "      <td>MS</td>\n",
              "      <td>Chronic inactive</td>\n",
              "      <td>44</td>\n",
              "      <td>female</td>\n",
              "      <td>prefrontal</td>\n",
              "      <td>CAP6</td>\n",
              "      <td>...</td>\n",
              "      <td>41.0</td>\n",
              "      <td>6.0</td>\n",
              "      <td>6.0</td>\n",
              "      <td>814</td>\n",
              "      <td>0.051595</td>\n",
              "      <td>0.019700</td>\n",
              "      <td>1066.0</td>\n",
              "      <td>8</td>\n",
              "      <td>Glutamatergic</td>\n",
              "      <td>PYR</td>\n",
              "    </tr>\n",
              "    <tr>\n",
              "      <th>TTTGTCATCTAACGGT-1_MS200_A303</th>\n",
              "      <td>-15.906688</td>\n",
              "      <td>23.322071</td>\n",
              "      <td>8</td>\n",
              "      <td>MS200_A303</td>\n",
              "      <td>MS</td>\n",
              "      <td>Chronic inactive</td>\n",
              "      <td>44</td>\n",
              "      <td>female</td>\n",
              "      <td>prefrontal</td>\n",
              "      <td>CAP6</td>\n",
              "      <td>...</td>\n",
              "      <td>41.0</td>\n",
              "      <td>6.0</td>\n",
              "      <td>6.0</td>\n",
              "      <td>1497</td>\n",
              "      <td>0.002778</td>\n",
              "      <td>0.010714</td>\n",
              "      <td>2520.0</td>\n",
              "      <td>1</td>\n",
              "      <td>Astrocyte</td>\n",
              "      <td>Astrocyte</td>\n",
              "    </tr>\n",
              "  </tbody>\n",
              "</table>\n",
              "<p>48918 rows × 30 columns</p>\n",
              "</div>\n",
              "      <button class=\"colab-df-convert\" onclick=\"convertToInteractive('df-009fcd8f-d8a1-4e64-9af1-58c6426fa2d3')\"\n",
              "              title=\"Convert this dataframe to an interactive table.\"\n",
              "              style=\"display:none;\">\n",
              "        \n",
              "  <svg xmlns=\"http://www.w3.org/2000/svg\" height=\"24px\"viewBox=\"0 0 24 24\"\n",
              "       width=\"24px\">\n",
              "    <path d=\"M0 0h24v24H0V0z\" fill=\"none\"/>\n",
              "    <path d=\"M18.56 5.44l.94 2.06.94-2.06 2.06-.94-2.06-.94-.94-2.06-.94 2.06-2.06.94zm-11 1L8.5 8.5l.94-2.06 2.06-.94-2.06-.94L8.5 2.5l-.94 2.06-2.06.94zm10 10l.94 2.06.94-2.06 2.06-.94-2.06-.94-.94-2.06-.94 2.06-2.06.94z\"/><path d=\"M17.41 7.96l-1.37-1.37c-.4-.4-.92-.59-1.43-.59-.52 0-1.04.2-1.43.59L10.3 9.45l-7.72 7.72c-.78.78-.78 2.05 0 2.83L4 21.41c.39.39.9.59 1.41.59.51 0 1.02-.2 1.41-.59l7.78-7.78 2.81-2.81c.8-.78.8-2.07 0-2.86zM5.41 20L4 18.59l7.72-7.72 1.47 1.35L5.41 20z\"/>\n",
              "  </svg>\n",
              "      </button>\n",
              "      \n",
              "  <style>\n",
              "    .colab-df-container {\n",
              "      display:flex;\n",
              "      flex-wrap:wrap;\n",
              "      gap: 12px;\n",
              "    }\n",
              "\n",
              "    .colab-df-convert {\n",
              "      background-color: #E8F0FE;\n",
              "      border: none;\n",
              "      border-radius: 50%;\n",
              "      cursor: pointer;\n",
              "      display: none;\n",
              "      fill: #1967D2;\n",
              "      height: 32px;\n",
              "      padding: 0 0 0 0;\n",
              "      width: 32px;\n",
              "    }\n",
              "\n",
              "    .colab-df-convert:hover {\n",
              "      background-color: #E2EBFA;\n",
              "      box-shadow: 0px 1px 2px rgba(60, 64, 67, 0.3), 0px 1px 3px 1px rgba(60, 64, 67, 0.15);\n",
              "      fill: #174EA6;\n",
              "    }\n",
              "\n",
              "    [theme=dark] .colab-df-convert {\n",
              "      background-color: #3B4455;\n",
              "      fill: #D2E3FC;\n",
              "    }\n",
              "\n",
              "    [theme=dark] .colab-df-convert:hover {\n",
              "      background-color: #434B5C;\n",
              "      box-shadow: 0px 1px 3px 1px rgba(0, 0, 0, 0.15);\n",
              "      filter: drop-shadow(0px 1px 2px rgba(0, 0, 0, 0.3));\n",
              "      fill: #FFFFFF;\n",
              "    }\n",
              "  </style>\n",
              "\n",
              "      <script>\n",
              "        const buttonEl =\n",
              "          document.querySelector('#df-009fcd8f-d8a1-4e64-9af1-58c6426fa2d3 button.colab-df-convert');\n",
              "        buttonEl.style.display =\n",
              "          google.colab.kernel.accessAllowed ? 'block' : 'none';\n",
              "\n",
              "        async function convertToInteractive(key) {\n",
              "          const element = document.querySelector('#df-009fcd8f-d8a1-4e64-9af1-58c6426fa2d3');\n",
              "          const dataTable =\n",
              "            await google.colab.kernel.invokeFunction('convertToInteractive',\n",
              "                                                     [key], {});\n",
              "          if (!dataTable) return;\n",
              "\n",
              "          const docLinkHtml = 'Like what you see? Visit the ' +\n",
              "            '<a target=\"_blank\" href=https://colab.research.google.com/notebooks/data_table.ipynb>data table notebook</a>'\n",
              "            + ' to learn more about interactive tables.';\n",
              "          element.innerHTML = '';\n",
              "          dataTable['output_type'] = 'display_data';\n",
              "          await google.colab.output.renderOutput(dataTable, element);\n",
              "          const docLink = document.createElement('div');\n",
              "          docLink.innerHTML = docLinkHtml;\n",
              "          element.appendChild(docLink);\n",
              "        }\n",
              "      </script>\n",
              "    </div>\n",
              "  </div>\n",
              "  "
            ]
          },
          "metadata": {},
          "execution_count": 5
        }
      ]
    },
    {
      "cell_type": "code",
      "source": [
        "adata.obs['diagnosis'].unique()"
      ],
      "metadata": {
        "colab": {
          "base_uri": "https://localhost:8080/"
        },
        "id": "kAKYJLDsPPrY",
        "outputId": "5ddd0461-b8b7-41ec-feea-60e8fc8545fc"
      },
      "execution_count": null,
      "outputs": [
        {
          "output_type": "execute_result",
          "data": {
            "text/plain": [
              "['Control', 'MS']\n",
              "Categories (2, object): ['Control', 'MS']"
            ]
          },
          "metadata": {},
          "execution_count": 6
        }
      ]
    },
    {
      "cell_type": "code",
      "source": [
        "adata.obs['stage'].unique()"
      ],
      "metadata": {
        "colab": {
          "base_uri": "https://localhost:8080/"
        },
        "id": "1_hY1GeRPlCv",
        "outputId": "a31dcebd-8df6-40e8-d9af-6a375e84bea9"
      },
      "execution_count": null,
      "outputs": [
        {
          "output_type": "execute_result",
          "data": {
            "text/plain": [
              "['Control', 'Acute/Chronic active', 'Chronic inactive']\n",
              "Categories (3, object): ['Acute/Chronic active', 'Chronic inactive', 'Control']"
            ]
          },
          "metadata": {},
          "execution_count": 5
        }
      ]
    },
    {
      "cell_type": "code",
      "source": [
        "adata.var"
      ],
      "metadata": {
        "colab": {
          "base_uri": "https://localhost:8080/",
          "height": 539
        },
        "id": "opkp4LwZPy9v",
        "outputId": "b40cbab5-7bb8-444c-c3ce-a9d45f363d7b"
      },
      "execution_count": null,
      "outputs": [
        {
          "output_type": "execute_result",
          "data": {
            "text/plain": [
              "               n_cells  highly_variable     means  dispersions  \\\n",
              "WASH7P            1109            False  0.047816     1.409960   \n",
              "RP11-34P13.3        16            False  0.000528     0.093349   \n",
              "RP11-34P13.7       446            False  0.020031     1.262493   \n",
              "CICP27             457            False  0.027244     1.394002   \n",
              "RP11-34P13.15      107            False  0.005112     0.731385   \n",
              "...                ...              ...       ...          ...   \n",
              "MT-TL2              14            False  0.000952     0.386321   \n",
              "MT-ND5           18464             True  1.030431     2.070064   \n",
              "MT-ND6            2530            False  0.124018     1.552415   \n",
              "MT-CYB           29646             True  1.881792     2.787494   \n",
              "MT-TP               29            False  0.002524     0.786514   \n",
              "\n",
              "               dispersions_norm  highly_variable_nbatches  \\\n",
              "WASH7P                 0.301700                         0   \n",
              "RP11-34P13.3          -0.515871                         0   \n",
              "RP11-34P13.7           0.085054                         0   \n",
              "CICP27                 0.272893                         1   \n",
              "RP11-34P13.15         -0.358465                         1   \n",
              "...                         ...                       ...   \n",
              "MT-TL2                -0.105435                         2   \n",
              "MT-ND5                 0.776088                         7   \n",
              "MT-ND6                 0.494786                         0   \n",
              "MT-CYB                 1.022050                        10   \n",
              "MT-TP                  0.221521                         3   \n",
              "\n",
              "               highly_variable_intersection  \n",
              "WASH7P                                False  \n",
              "RP11-34P13.3                          False  \n",
              "RP11-34P13.7                          False  \n",
              "CICP27                                False  \n",
              "RP11-34P13.15                         False  \n",
              "...                                     ...  \n",
              "MT-TL2                                False  \n",
              "MT-ND5                                False  \n",
              "MT-ND6                                False  \n",
              "MT-CYB                                False  \n",
              "MT-TP                                 False  \n",
              "\n",
              "[35278 rows x 7 columns]"
            ],
            "text/html": [
              "\n",
              "  <div id=\"df-6ba796bb-2266-4164-8b7f-92d22c2ff2c4\">\n",
              "    <div class=\"colab-df-container\">\n",
              "      <div>\n",
              "<style scoped>\n",
              "    .dataframe tbody tr th:only-of-type {\n",
              "        vertical-align: middle;\n",
              "    }\n",
              "\n",
              "    .dataframe tbody tr th {\n",
              "        vertical-align: top;\n",
              "    }\n",
              "\n",
              "    .dataframe thead th {\n",
              "        text-align: right;\n",
              "    }\n",
              "</style>\n",
              "<table border=\"1\" class=\"dataframe\">\n",
              "  <thead>\n",
              "    <tr style=\"text-align: right;\">\n",
              "      <th></th>\n",
              "      <th>n_cells</th>\n",
              "      <th>highly_variable</th>\n",
              "      <th>means</th>\n",
              "      <th>dispersions</th>\n",
              "      <th>dispersions_norm</th>\n",
              "      <th>highly_variable_nbatches</th>\n",
              "      <th>highly_variable_intersection</th>\n",
              "    </tr>\n",
              "  </thead>\n",
              "  <tbody>\n",
              "    <tr>\n",
              "      <th>WASH7P</th>\n",
              "      <td>1109</td>\n",
              "      <td>False</td>\n",
              "      <td>0.047816</td>\n",
              "      <td>1.409960</td>\n",
              "      <td>0.301700</td>\n",
              "      <td>0</td>\n",
              "      <td>False</td>\n",
              "    </tr>\n",
              "    <tr>\n",
              "      <th>RP11-34P13.3</th>\n",
              "      <td>16</td>\n",
              "      <td>False</td>\n",
              "      <td>0.000528</td>\n",
              "      <td>0.093349</td>\n",
              "      <td>-0.515871</td>\n",
              "      <td>0</td>\n",
              "      <td>False</td>\n",
              "    </tr>\n",
              "    <tr>\n",
              "      <th>RP11-34P13.7</th>\n",
              "      <td>446</td>\n",
              "      <td>False</td>\n",
              "      <td>0.020031</td>\n",
              "      <td>1.262493</td>\n",
              "      <td>0.085054</td>\n",
              "      <td>0</td>\n",
              "      <td>False</td>\n",
              "    </tr>\n",
              "    <tr>\n",
              "      <th>CICP27</th>\n",
              "      <td>457</td>\n",
              "      <td>False</td>\n",
              "      <td>0.027244</td>\n",
              "      <td>1.394002</td>\n",
              "      <td>0.272893</td>\n",
              "      <td>1</td>\n",
              "      <td>False</td>\n",
              "    </tr>\n",
              "    <tr>\n",
              "      <th>RP11-34P13.15</th>\n",
              "      <td>107</td>\n",
              "      <td>False</td>\n",
              "      <td>0.005112</td>\n",
              "      <td>0.731385</td>\n",
              "      <td>-0.358465</td>\n",
              "      <td>1</td>\n",
              "      <td>False</td>\n",
              "    </tr>\n",
              "    <tr>\n",
              "      <th>...</th>\n",
              "      <td>...</td>\n",
              "      <td>...</td>\n",
              "      <td>...</td>\n",
              "      <td>...</td>\n",
              "      <td>...</td>\n",
              "      <td>...</td>\n",
              "      <td>...</td>\n",
              "    </tr>\n",
              "    <tr>\n",
              "      <th>MT-TL2</th>\n",
              "      <td>14</td>\n",
              "      <td>False</td>\n",
              "      <td>0.000952</td>\n",
              "      <td>0.386321</td>\n",
              "      <td>-0.105435</td>\n",
              "      <td>2</td>\n",
              "      <td>False</td>\n",
              "    </tr>\n",
              "    <tr>\n",
              "      <th>MT-ND5</th>\n",
              "      <td>18464</td>\n",
              "      <td>True</td>\n",
              "      <td>1.030431</td>\n",
              "      <td>2.070064</td>\n",
              "      <td>0.776088</td>\n",
              "      <td>7</td>\n",
              "      <td>False</td>\n",
              "    </tr>\n",
              "    <tr>\n",
              "      <th>MT-ND6</th>\n",
              "      <td>2530</td>\n",
              "      <td>False</td>\n",
              "      <td>0.124018</td>\n",
              "      <td>1.552415</td>\n",
              "      <td>0.494786</td>\n",
              "      <td>0</td>\n",
              "      <td>False</td>\n",
              "    </tr>\n",
              "    <tr>\n",
              "      <th>MT-CYB</th>\n",
              "      <td>29646</td>\n",
              "      <td>True</td>\n",
              "      <td>1.881792</td>\n",
              "      <td>2.787494</td>\n",
              "      <td>1.022050</td>\n",
              "      <td>10</td>\n",
              "      <td>False</td>\n",
              "    </tr>\n",
              "    <tr>\n",
              "      <th>MT-TP</th>\n",
              "      <td>29</td>\n",
              "      <td>False</td>\n",
              "      <td>0.002524</td>\n",
              "      <td>0.786514</td>\n",
              "      <td>0.221521</td>\n",
              "      <td>3</td>\n",
              "      <td>False</td>\n",
              "    </tr>\n",
              "  </tbody>\n",
              "</table>\n",
              "<p>35278 rows × 7 columns</p>\n",
              "</div>\n",
              "      <button class=\"colab-df-convert\" onclick=\"convertToInteractive('df-6ba796bb-2266-4164-8b7f-92d22c2ff2c4')\"\n",
              "              title=\"Convert this dataframe to an interactive table.\"\n",
              "              style=\"display:none;\">\n",
              "        \n",
              "  <svg xmlns=\"http://www.w3.org/2000/svg\" height=\"24px\"viewBox=\"0 0 24 24\"\n",
              "       width=\"24px\">\n",
              "    <path d=\"M0 0h24v24H0V0z\" fill=\"none\"/>\n",
              "    <path d=\"M18.56 5.44l.94 2.06.94-2.06 2.06-.94-2.06-.94-.94-2.06-.94 2.06-2.06.94zm-11 1L8.5 8.5l.94-2.06 2.06-.94-2.06-.94L8.5 2.5l-.94 2.06-2.06.94zm10 10l.94 2.06.94-2.06 2.06-.94-2.06-.94-.94-2.06-.94 2.06-2.06.94z\"/><path d=\"M17.41 7.96l-1.37-1.37c-.4-.4-.92-.59-1.43-.59-.52 0-1.04.2-1.43.59L10.3 9.45l-7.72 7.72c-.78.78-.78 2.05 0 2.83L4 21.41c.39.39.9.59 1.41.59.51 0 1.02-.2 1.41-.59l7.78-7.78 2.81-2.81c.8-.78.8-2.07 0-2.86zM5.41 20L4 18.59l7.72-7.72 1.47 1.35L5.41 20z\"/>\n",
              "  </svg>\n",
              "      </button>\n",
              "      \n",
              "  <style>\n",
              "    .colab-df-container {\n",
              "      display:flex;\n",
              "      flex-wrap:wrap;\n",
              "      gap: 12px;\n",
              "    }\n",
              "\n",
              "    .colab-df-convert {\n",
              "      background-color: #E8F0FE;\n",
              "      border: none;\n",
              "      border-radius: 50%;\n",
              "      cursor: pointer;\n",
              "      display: none;\n",
              "      fill: #1967D2;\n",
              "      height: 32px;\n",
              "      padding: 0 0 0 0;\n",
              "      width: 32px;\n",
              "    }\n",
              "\n",
              "    .colab-df-convert:hover {\n",
              "      background-color: #E2EBFA;\n",
              "      box-shadow: 0px 1px 2px rgba(60, 64, 67, 0.3), 0px 1px 3px 1px rgba(60, 64, 67, 0.15);\n",
              "      fill: #174EA6;\n",
              "    }\n",
              "\n",
              "    [theme=dark] .colab-df-convert {\n",
              "      background-color: #3B4455;\n",
              "      fill: #D2E3FC;\n",
              "    }\n",
              "\n",
              "    [theme=dark] .colab-df-convert:hover {\n",
              "      background-color: #434B5C;\n",
              "      box-shadow: 0px 1px 3px 1px rgba(0, 0, 0, 0.15);\n",
              "      filter: drop-shadow(0px 1px 2px rgba(0, 0, 0, 0.3));\n",
              "      fill: #FFFFFF;\n",
              "    }\n",
              "  </style>\n",
              "\n",
              "      <script>\n",
              "        const buttonEl =\n",
              "          document.querySelector('#df-6ba796bb-2266-4164-8b7f-92d22c2ff2c4 button.colab-df-convert');\n",
              "        buttonEl.style.display =\n",
              "          google.colab.kernel.accessAllowed ? 'block' : 'none';\n",
              "\n",
              "        async function convertToInteractive(key) {\n",
              "          const element = document.querySelector('#df-6ba796bb-2266-4164-8b7f-92d22c2ff2c4');\n",
              "          const dataTable =\n",
              "            await google.colab.kernel.invokeFunction('convertToInteractive',\n",
              "                                                     [key], {});\n",
              "          if (!dataTable) return;\n",
              "\n",
              "          const docLinkHtml = 'Like what you see? Visit the ' +\n",
              "            '<a target=\"_blank\" href=https://colab.research.google.com/notebooks/data_table.ipynb>data table notebook</a>'\n",
              "            + ' to learn more about interactive tables.';\n",
              "          element.innerHTML = '';\n",
              "          dataTable['output_type'] = 'display_data';\n",
              "          await google.colab.output.renderOutput(dataTable, element);\n",
              "          const docLink = document.createElement('div');\n",
              "          docLink.innerHTML = docLinkHtml;\n",
              "          element.appendChild(docLink);\n",
              "        }\n",
              "      </script>\n",
              "    </div>\n",
              "  </div>\n",
              "  "
            ]
          },
          "metadata": {},
          "execution_count": 8
        }
      ]
    },
    {
      "cell_type": "code",
      "source": [
        "adata_h = adata[adata.obs.diagnosis == 'Control']\n",
        "adata_d = adata[adata.obs.diagnosis == 'MS']"
      ],
      "metadata": {
        "id": "ezT5a33uRJj2"
      },
      "execution_count": null,
      "outputs": []
    },
    {
      "cell_type": "code",
      "source": [
        "adata_h"
      ],
      "metadata": {
        "colab": {
          "base_uri": "https://localhost:8080/"
        },
        "id": "nvsUQB4ESb3F",
        "outputId": "0c16465e-9e0c-4274-8228-cecca942a974"
      },
      "execution_count": null,
      "outputs": [
        {
          "output_type": "execute_result",
          "data": {
            "text/plain": [
              "View of AnnData object with n_obs × n_vars = 17402 × 35278\n",
              "    obs: 'tsne1', 'tsne2', 'cluster_original', 'sample', 'diagnosis', 'stage', 'age', 'sex', 'region', 'Capbatch', 'Seqbatch', 'RIN', 'PMI', 'genes', 'UMIs', 'mito_perc', 'ribo_perc', 'lesion_stage', 'cluster', 'cell_type', 'DMGM_UL', 'DMGM_DL', 'DMWM', 'n_genes', 'percent_mito', 'percent_ribo', 'n_counts', 'leiden', 'annot_level_2', 'annot_level_3'\n",
              "    var: 'n_cells', 'highly_variable', 'means', 'dispersions', 'dispersions_norm', 'highly_variable_nbatches', 'highly_variable_intersection'\n",
              "    uns: 'annot_level_2_colors', 'annot_level_3_colors', 'cell_type_colors', 'cluster_colors', 'leiden', 'leiden_colors', 'neighbors', 'pca', 'region_colors', 'sample_colors', 'sex_colors', 'umap'\n",
              "    obsm: 'X_pca', 'X_umap'\n",
              "    varm: 'PCs'\n",
              "    layers: 'counts'\n",
              "    obsp: 'connectivities', 'distances'"
            ]
          },
          "metadata": {},
          "execution_count": 6
        }
      ]
    },
    {
      "cell_type": "code",
      "source": [
        "adata_d"
      ],
      "metadata": {
        "colab": {
          "base_uri": "https://localhost:8080/"
        },
        "id": "9IcT1Tw6SdwO",
        "outputId": "850ee520-8ee7-4276-a067-32dba998b9bb"
      },
      "execution_count": null,
      "outputs": [
        {
          "output_type": "execute_result",
          "data": {
            "text/plain": [
              "View of AnnData object with n_obs × n_vars = 31516 × 35278\n",
              "    obs: 'tsne1', 'tsne2', 'cluster_original', 'sample', 'diagnosis', 'stage', 'age', 'sex', 'region', 'Capbatch', 'Seqbatch', 'RIN', 'PMI', 'genes', 'UMIs', 'mito_perc', 'ribo_perc', 'lesion_stage', 'cluster', 'cell_type', 'DMGM_UL', 'DMGM_DL', 'DMWM', 'n_genes', 'percent_mito', 'percent_ribo', 'n_counts', 'leiden', 'annot_level_2', 'annot_level_3'\n",
              "    var: 'n_cells', 'highly_variable', 'means', 'dispersions', 'dispersions_norm', 'highly_variable_nbatches', 'highly_variable_intersection'\n",
              "    uns: 'annot_level_2_colors', 'annot_level_3_colors', 'cell_type_colors', 'cluster_colors', 'leiden', 'leiden_colors', 'neighbors', 'pca', 'region_colors', 'sample_colors', 'sex_colors', 'umap'\n",
              "    obsm: 'X_pca', 'X_umap'\n",
              "    varm: 'PCs'\n",
              "    layers: 'counts'\n",
              "    obsp: 'connectivities', 'distances'"
            ]
          },
          "metadata": {},
          "execution_count": 9
        }
      ]
    },
    {
      "cell_type": "code",
      "source": [
        "!pip install contrastive"
      ],
      "metadata": {
        "colab": {
          "base_uri": "https://localhost:8080/"
        },
        "id": "nL4L9-oSTaBT",
        "outputId": "4efa6d8b-6d9a-4dc6-db21-7b9cb444bcbe"
      },
      "execution_count": null,
      "outputs": [
        {
          "output_type": "stream",
          "name": "stdout",
          "text": [
            "Looking in indexes: https://pypi.org/simple, https://us-python.pkg.dev/colab-wheels/public/simple/\n",
            "Collecting contrastive\n",
            "  Downloading contrastive-1.1.0.tar.gz (8.9 kB)\n",
            "Requirement already satisfied: numpy in /usr/local/lib/python3.7/dist-packages (from contrastive) (1.21.6)\n",
            "Collecting sklearn\n",
            "  Downloading sklearn-0.0.post1.tar.gz (3.6 kB)\n",
            "Requirement already satisfied: matplotlib in /usr/local/lib/python3.7/dist-packages (from contrastive) (3.1.3)\n",
            "Requirement already satisfied: kiwisolver>=1.0.1 in /usr/local/lib/python3.7/dist-packages (from matplotlib->contrastive) (1.4.4)\n",
            "Requirement already satisfied: cycler>=0.10 in /usr/local/lib/python3.7/dist-packages (from matplotlib->contrastive) (0.11.0)\n",
            "Requirement already satisfied: python-dateutil>=2.1 in /usr/local/lib/python3.7/dist-packages (from matplotlib->contrastive) (2.8.2)\n",
            "Requirement already satisfied: pyparsing!=2.0.4,!=2.1.2,!=2.1.6,>=2.0.1 in /usr/local/lib/python3.7/dist-packages (from matplotlib->contrastive) (3.0.9)\n",
            "Requirement already satisfied: typing-extensions in /usr/local/lib/python3.7/dist-packages (from kiwisolver>=1.0.1->matplotlib->contrastive) (4.1.1)\n",
            "Requirement already satisfied: six>=1.5 in /usr/local/lib/python3.7/dist-packages (from python-dateutil>=2.1->matplotlib->contrastive) (1.15.0)\n",
            "Building wheels for collected packages: contrastive, sklearn\n",
            "  Building wheel for contrastive (setup.py) ... \u001b[?25l\u001b[?25hdone\n",
            "  Created wheel for contrastive: filename=contrastive-1.1.0-py3-none-any.whl size=6947 sha256=81317c649cb28e589e3f23c065c6a0049035bd8040dd8310dd9ccba896e1e7f9\n",
            "  Stored in directory: /root/.cache/pip/wheels/b2/33/42/d9c4f9fbe362a1a5ee5571aa2821d10476625f61e719af3634\n",
            "  Building wheel for sklearn (setup.py) ... \u001b[?25l\u001b[?25hdone\n",
            "  Created wheel for sklearn: filename=sklearn-0.0.post1-py3-none-any.whl size=2344 sha256=21a11d1f509803a828f0f69f0fd46745c2d32f2571de6c174fd38f461051e696\n",
            "  Stored in directory: /root/.cache/pip/wheels/42/56/cc/4a8bf86613aafd5b7f1b310477667c1fca5c51c3ae4124a003\n",
            "Successfully built contrastive sklearn\n",
            "Installing collected packages: sklearn, contrastive\n",
            "Successfully installed contrastive-1.1.0 sklearn-0.0.post1\n"
          ]
        }
      ]
    },
    {
      "cell_type": "code",
      "source": [
        "import numpy as np"
      ],
      "metadata": {
        "id": "NFcszA-Yr8dL"
      },
      "execution_count": null,
      "outputs": []
    },
    {
      "cell_type": "code",
      "source": [
        "f_data = adata_d[:4000,:]\n",
        "print(f_data.shape)"
      ],
      "metadata": {
        "colab": {
          "base_uri": "https://localhost:8080/"
        },
        "id": "O0FuMXOEE0k5",
        "outputId": "d9b82610-b1cf-4b56-fd72-1c1fc0eaf74d"
      },
      "execution_count": null,
      "outputs": [
        {
          "output_type": "stream",
          "name": "stdout",
          "text": [
            "(4000, 35278)\n"
          ]
        }
      ]
    },
    {
      "cell_type": "code",
      "source": [
        "t_data = adata_h[:4000,:]\n",
        "print(t_data.shape)"
      ],
      "metadata": {
        "colab": {
          "base_uri": "https://localhost:8080/"
        },
        "id": "f8k2S3KMFMYE",
        "outputId": "df4f447b-87ff-4771-8d30-81ebee5b4c3b"
      },
      "execution_count": null,
      "outputs": [
        {
          "output_type": "stream",
          "name": "stdout",
          "text": [
            "(4000, 35278)\n"
          ]
        }
      ]
    },
    {
      "cell_type": "code",
      "source": [
        "import numpy as np"
      ],
      "metadata": {
        "id": "4XPvAnNnVyMD"
      },
      "execution_count": null,
      "outputs": []
    },
    {
      "cell_type": "code",
      "source": [
        "d1 = f_data.X.toarray()"
      ],
      "metadata": {
        "id": "1hZaX7o2SbvT"
      },
      "execution_count": null,
      "outputs": []
    },
    {
      "cell_type": "code",
      "source": [
        "d2 = t_data.X.toarray()"
      ],
      "metadata": {
        "id": "THSs1ypYV1UZ"
      },
      "execution_count": null,
      "outputs": []
    },
    {
      "cell_type": "code",
      "source": [
        "d2.shape"
      ],
      "metadata": {
        "colab": {
          "base_uri": "https://localhost:8080/"
        },
        "id": "M3dhGBsTsbFa",
        "outputId": "82234a43-e5c0-4a6e-ab69-695d80f48d0c"
      },
      "execution_count": null,
      "outputs": [
        {
          "output_type": "execute_result",
          "data": {
            "text/plain": [
              "(4000, 35278)"
            ]
          },
          "metadata": {},
          "execution_count": 12
        }
      ]
    },
    {
      "cell_type": "code",
      "source": [
        "target = np.concatenate((d1[:2000,:],d2[:2000,:]),axis = 0)"
      ],
      "metadata": {
        "id": "2zLNt0mDsUb3"
      },
      "execution_count": null,
      "outputs": []
    },
    {
      "cell_type": "code",
      "source": [
        "backg = d2[:4000]"
      ],
      "metadata": {
        "id": "EXOxuYVztizt"
      },
      "execution_count": null,
      "outputs": []
    },
    {
      "cell_type": "code",
      "source": [
        "labels = 2000*[0] + 2000*[1]\n"
      ],
      "metadata": {
        "id": "-Px_mVkZyknv"
      },
      "execution_count": null,
      "outputs": []
    },
    {
      "cell_type": "code",
      "source": [
        "target.shape"
      ],
      "metadata": {
        "colab": {
          "base_uri": "https://localhost:8080/"
        },
        "id": "sUJUEbL60h1N",
        "outputId": "5fc5e3cb-0d7f-4a9a-ac22-e397fa3ff9ac"
      },
      "execution_count": null,
      "outputs": [
        {
          "output_type": "execute_result",
          "data": {
            "text/plain": [
              "(4000, 35278)"
            ]
          },
          "metadata": {},
          "execution_count": 16
        }
      ]
    },
    {
      "cell_type": "code",
      "source": [
        "d2.shape"
      ],
      "metadata": {
        "colab": {
          "base_uri": "https://localhost:8080/"
        },
        "id": "dw2gvoSGWVbY",
        "outputId": "a07e25ed-4080-4f10-b88b-ac0be4dc99bb"
      },
      "execution_count": null,
      "outputs": [
        {
          "output_type": "execute_result",
          "data": {
            "text/plain": [
              "(3000, 35278)"
            ]
          },
          "metadata": {},
          "execution_count": 15
        }
      ]
    },
    {
      "cell_type": "code",
      "source": [
        "from contrastive import CPCA\n",
        "\n",
        "mdl = CPCA()\n",
        "projected_data = mdl.fit_transform(target,backg,plot = True,active_labels = labels)"
      ],
      "metadata": {
        "id": "_2udoT_BTIal",
        "colab": {
          "base_uri": "https://localhost:8080/",
          "height": 262
        },
        "outputId": "3ead9fdd-afe8-417b-a1c1-675975759b3d"
      },
      "execution_count": null,
      "outputs": [
        {
          "output_type": "stream",
          "name": "stderr",
          "text": [
            "/usr/local/lib/python3.7/dist-packages/contrastive/__init__.py:40: RuntimeWarning: invalid value encountered in true_divide\n",
            "  standardized_array =  (array-np.mean(array,axis=0)) / np.std(array,axis=0)\n"
          ]
        },
        {
          "output_type": "display_data",
          "data": {
            "text/plain": [
              "<Figure size 1008x216 with 4 Axes>"
            ],
            "image/png": "[encoded data removed]"
          },
          "metadata": {
            "needs_background": "light"
          }
        }
      ]
    },
    {
      "cell_type": "code",
      "source": [
        "mdl."
      ],
      "metadata": {
        "id": "J73uWN4tDMW8",
        "colab": {
          "base_uri": "https://localhost:8080/"
        },
        "outputId": "3fcc9274-d743-423d-f17e-444272702e1d"
      },
      "execution_count": null,
      "outputs": [
        {
          "output_type": "execute_result",
          "data": {
            "text/plain": [
              "NoneType"
            ]
          },
          "metadata": {},
          "execution_count": 26
        }
      ]
    },
    {
      "cell_type": "markdown",
      "source": [
        "## UC_data"
      ],
      "metadata": {
        "id": "3OpKCmB_v-0y"
      }
    },
    {
      "cell_type": "code",
      "source": [
        "path2 = '/content/drive/MyDrive/ucdata.h5ad'\n",
        "adata1 = sc.read(path2)"
      ],
      "metadata": {
        "colab": {
          "base_uri": "https://localhost:8080/"
        },
        "id": "nmzI8o5VwBk3",
        "outputId": "9101a68d-8d01-4445-b803-60998085572d"
      },
      "execution_count": null,
      "outputs": [
        {
          "output_type": "stream",
          "name": "stderr",
          "text": [
            "/usr/local/lib/python3.7/dist-packages/anndata/compat/__init__.py:235: FutureWarning: Moving element from .uns['neighbors']['distances'] to .obsp['distances'].\n",
            "\n",
            "This is where adjacency matrices should go now.\n",
            "  FutureWarning,\n",
            "/usr/local/lib/python3.7/dist-packages/anndata/compat/__init__.py:235: FutureWarning: Moving element from .uns['neighbors']['connectivities'] to .obsp['connectivities'].\n",
            "\n",
            "This is where adjacency matrices should go now.\n",
            "  FutureWarning,\n"
          ]
        }
      ]
    },
    {
      "cell_type": "code",
      "source": [
        "adata1"
      ],
      "metadata": {
        "colab": {
          "base_uri": "https://localhost:8080/"
        },
        "id": "0DssIFpR6kLi",
        "outputId": "5a118ead-547f-48fc-a1e5-f9bc7f2ae55c"
      },
      "execution_count": null,
      "outputs": [
        {
          "output_type": "execute_result",
          "data": {
            "text/plain": [
              "AnnData object with n_obs × n_vars = 366650 × 21787\n",
              "    obs: 'nGene', 'nUMI', 'orig.ident', 'sample', 'ab', 'subject', 'rep', 'health', 'hui', 'location', 'inflamed', 'num_pcs', 'doublet', 'cell_subset', 'sample_id', 'percent_mito', 'percent_ribo', 'n_counts', 'leiden', 'annot_level_1', 'annot_level_2', 'annot_level_3', 'annot_level_4'\n",
              "    var: 'highly_variable', 'means', 'dispersions', 'dispersions_norm', 'highly_variable_nbatches', 'highly_variable_intersection'\n",
              "    uns: 'annot_level_1_colors', 'annot_level_2_colors', 'annot_level_3_colors', 'annot_level_4_colors', 'cell_subset_colors', 'leiden', 'leiden_colors', 'neighbors', 'pca', 'umap'\n",
              "    obsm: 'X_pca', 'X_umap'\n",
              "    varm: 'PCs'\n",
              "    layers: 'counts'\n",
              "    obsp: 'distances', 'connectivities'"
            ]
          },
          "metadata": {},
          "execution_count": 6
        }
      ]
    },
    {
      "cell_type": "code",
      "source": [
        "adata1.obs"
      ],
      "metadata": {
        "colab": {
          "base_uri": "https://localhost:8080/",
          "height": 574
        },
        "id": "8oj4vh6x8PeW",
        "outputId": "3d6353a1-884f-4e9f-9d42-d82a835be4b4"
      },
      "execution_count": null,
      "outputs": [
        {
          "output_type": "execute_result",
          "data": {
            "text/plain": [
              "                            nGene  nUMI orig.ident sample ab subject  rep  \\\n",
              "N7.EpiA.AAACCGTGCATCAG        257   663         N7   EpiA  A      N7    1   \n",
              "N7.EpiA.AAACGCACAATCGC        300   639         N7   EpiA  A      N7    1   \n",
              "N7.EpiA.AAAGATCTAACCGT        250   649         N7   EpiA  A      N7    1   \n",
              "N7.EpiA.AAAGATCTAGGCGA        284   769         N7   EpiA  A      N7    1   \n",
              "N7.EpiA.AAAGCCTGCTCGAA        339   951         N7   EpiA  A      N7    1   \n",
              "...                           ...   ...        ...    ... ..     ...  ...   \n",
              "U1110.LPB.TTTGGTTAGGATGGTC    635  1366      U1110    LPB  B   U1110    1   \n",
              "U1110.LPB.TTTGGTTCACCTCGTT    610  2730      U1110    LPB  B   U1110    1   \n",
              "U1110.LPB.TTTGGTTTCGGAAACG    859  1979      U1110    LPB  B   U1110    1   \n",
              "U1110.LPB.TTTGTCAGTTGACGTT    965  2696      U1110    LPB  B   U1110    1   \n",
              "U1110.LPB.TTTGTCATCTGACCTC    559  1156      U1110    LPB  B   U1110    1   \n",
              "\n",
              "                           health           hui location  ...  \\\n",
              "N7.EpiA.AAACCGTGCATCAG         UC  Non-inflamed      Epi  ...   \n",
              "N7.EpiA.AAACGCACAATCGC         UC  Non-inflamed      Epi  ...   \n",
              "N7.EpiA.AAAGATCTAACCGT         UC  Non-inflamed      Epi  ...   \n",
              "N7.EpiA.AAAGATCTAGGCGA         UC  Non-inflamed      Epi  ...   \n",
              "N7.EpiA.AAAGCCTGCTCGAA         UC  Non-inflamed      Epi  ...   \n",
              "...                           ...           ...      ...  ...   \n",
              "U1110.LPB.TTTGGTTAGGATGGTC     UC      Inflamed       LP  ...   \n",
              "U1110.LPB.TTTGGTTCACCTCGTT     UC      Inflamed       LP  ...   \n",
              "U1110.LPB.TTTGGTTTCGGAAACG     UC      Inflamed       LP  ...   \n",
              "U1110.LPB.TTTGTCAGTTGACGTT     UC      Inflamed       LP  ...   \n",
              "U1110.LPB.TTTGTCATCTGACCTC     UC      Inflamed       LP  ...   \n",
              "\n",
              "                                       cell_subset  sample_id  percent_mito  \\\n",
              "N7.EpiA.AAACCGTGCATCAG                        TA 1    N7.EpiA      0.096531   \n",
              "N7.EpiA.AAACGCACAATCGC                        TA 2    N7.EpiA      0.012520   \n",
              "N7.EpiA.AAAGATCTAACCGT      Enterocyte Progenitors    N7.EpiA      0.020031   \n",
              "N7.EpiA.AAAGATCTAGGCGA      Enterocyte Progenitors    N7.EpiA      0.019506   \n",
              "N7.EpiA.AAAGCCTGCTCGAA      Enterocyte Progenitors    N7.EpiA      0.003155   \n",
              "...                                            ...        ...           ...   \n",
              "U1110.LPB.TTTGGTTAGGATGGTC             Macrophages  U1110.LPB      0.062225   \n",
              "U1110.LPB.TTTGGTTCACCTCGTT                  Plasma  U1110.LPB      0.052015   \n",
              "U1110.LPB.TTTGGTTTCGGAAACG             Macrophages  U1110.LPB      0.010106   \n",
              "U1110.LPB.TTTGTCAGTTGACGTT             Macrophages  U1110.LPB      0.059718   \n",
              "U1110.LPB.TTTGTCATCTGACCTC              CD69+ Mast  U1110.LPB      0.021626   \n",
              "\n",
              "                           percent_ribo n_counts  leiden  annot_level_1  \\\n",
              "N7.EpiA.AAACCGTGCATCAG         0.203620    663.0       3     Epithelial   \n",
              "N7.EpiA.AAACGCACAATCGC         0.198748    639.0       3     Epithelial   \n",
              "N7.EpiA.AAAGATCTAACCGT         0.123267    649.0       3     Epithelial   \n",
              "N7.EpiA.AAAGATCTAGGCGA         0.061118    769.0       3     Epithelial   \n",
              "N7.EpiA.AAAGCCTGCTCGAA         0.052576    951.0       3     Epithelial   \n",
              "...                                 ...      ...     ...            ...   \n",
              "U1110.LPB.TTTGGTTAGGATGGTC     0.148609   1366.0      11         Immune   \n",
              "U1110.LPB.TTTGGTTCACCTCGTT     0.171062   2730.0       2         Immune   \n",
              "U1110.LPB.TTTGGTTTCGGAAACG     0.206670   1979.0      22         Immune   \n",
              "U1110.LPB.TTTGTCAGTTGACGTT     0.202151   2696.0      11         Immune   \n",
              "U1110.LPB.TTTGTCATCTGACCTC     0.190311   1156.0      29         Immune   \n",
              "\n",
              "                            annot_level_2           annot_level_3  \\\n",
              "N7.EpiA.AAACCGTGCATCAG                 TA                      TA   \n",
              "N7.EpiA.AAACGCACAATCGC                 TA                      TA   \n",
              "N7.EpiA.AAAGATCTAACCGT        Enterocytes  Enterocyte_Progenitors   \n",
              "N7.EpiA.AAAGATCTAGGCGA        Enterocytes  Enterocyte_Progenitors   \n",
              "N7.EpiA.AAAGCCTGCTCGAA        Enterocytes  Enterocyte_Progenitors   \n",
              "...                                   ...                     ...   \n",
              "U1110.LPB.TTTGGTTAGGATGGTC    Macrophages             Macrophages   \n",
              "U1110.LPB.TTTGGTTCACCTCGTT  B_Lymphocytes                  Plasma   \n",
              "U1110.LPB.TTTGGTTTCGGAAACG    Macrophages             Macrophages   \n",
              "U1110.LPB.TTTGTCAGTTGACGTT    Macrophages             Macrophages   \n",
              "U1110.LPB.TTTGTCATCTGACCTC           Mast                    Mast   \n",
              "\n",
              "                                     annot_level_4  \n",
              "N7.EpiA.AAACCGTGCATCAG                        TA_1  \n",
              "N7.EpiA.AAACGCACAATCGC                        TA_2  \n",
              "N7.EpiA.AAAGATCTAACCGT      Enterocyte_Progenitors  \n",
              "N7.EpiA.AAAGATCTAGGCGA      Enterocyte_Progenitors  \n",
              "N7.EpiA.AAAGCCTGCTCGAA      Enterocyte_Progenitors  \n",
              "...                                            ...  \n",
              "U1110.LPB.TTTGGTTAGGATGGTC             Macrophages  \n",
              "U1110.LPB.TTTGGTTCACCTCGTT                  Plasma  \n",
              "U1110.LPB.TTTGGTTTCGGAAACG             Macrophages  \n",
              "U1110.LPB.TTTGTCAGTTGACGTT             Macrophages  \n",
              "U1110.LPB.TTTGTCATCTGACCTC            CD69pos_Mast  \n",
              "\n",
              "[366650 rows x 23 columns]"
            ],
            "text/html": [
              "\n",
              "  <div id=\"df-a79ace74-1537-45b7-9634-cd491ef02be9\">\n",
              "    <div class=\"colab-df-container\">\n",
              "      <div>\n",
              "<style scoped>\n",
              "    .dataframe tbody tr th:only-of-type {\n",
              "        vertical-align: middle;\n",
              "    }\n",
              "\n",
              "    .dataframe tbody tr th {\n",
              "        vertical-align: top;\n",
              "    }\n",
              "\n",
              "    .dataframe thead th {\n",
              "        text-align: right;\n",
              "    }\n",
              "</style>\n",
              "<table border=\"1\" class=\"dataframe\">\n",
              "  <thead>\n",
              "    <tr style=\"text-align: right;\">\n",
              "      <th></th>\n",
              "      <th>nGene</th>\n",
              "      <th>nUMI</th>\n",
              "      <th>orig.ident</th>\n",
              "      <th>sample</th>\n",
              "      <th>ab</th>\n",
              "      <th>subject</th>\n",
              "      <th>rep</th>\n",
              "      <th>health</th>\n",
              "      <th>hui</th>\n",
              "      <th>location</th>\n",
              "      <th>...</th>\n",
              "      <th>cell_subset</th>\n",
              "      <th>sample_id</th>\n",
              "      <th>percent_mito</th>\n",
              "      <th>percent_ribo</th>\n",
              "      <th>n_counts</th>\n",
              "      <th>leiden</th>\n",
              "      <th>annot_level_1</th>\n",
              "      <th>annot_level_2</th>\n",
              "      <th>annot_level_3</th>\n",
              "      <th>annot_level_4</th>\n",
              "    </tr>\n",
              "  </thead>\n",
              "  <tbody>\n",
              "    <tr>\n",
              "      <th>N7.EpiA.AAACCGTGCATCAG</th>\n",
              "      <td>257</td>\n",
              "      <td>663</td>\n",
              "      <td>N7</td>\n",
              "      <td>EpiA</td>\n",
              "      <td>A</td>\n",
              "      <td>N7</td>\n",
              "      <td>1</td>\n",
              "      <td>UC</td>\n",
              "      <td>Non-inflamed</td>\n",
              "      <td>Epi</td>\n",
              "      <td>...</td>\n",
              "      <td>TA 1</td>\n",
              "      <td>N7.EpiA</td>\n",
              "      <td>0.096531</td>\n",
              "      <td>0.203620</td>\n",
              "      <td>663.0</td>\n",
              "      <td>3</td>\n",
              "      <td>Epithelial</td>\n",
              "      <td>TA</td>\n",
              "      <td>TA</td>\n",
              "      <td>TA_1</td>\n",
              "    </tr>\n",
              "    <tr>\n",
              "      <th>N7.EpiA.AAACGCACAATCGC</th>\n",
              "      <td>300</td>\n",
              "      <td>639</td>\n",
              "      <td>N7</td>\n",
              "      <td>EpiA</td>\n",
              "      <td>A</td>\n",
              "      <td>N7</td>\n",
              "      <td>1</td>\n",
              "      <td>UC</td>\n",
              "      <td>Non-inflamed</td>\n",
              "      <td>Epi</td>\n",
              "      <td>...</td>\n",
              "      <td>TA 2</td>\n",
              "      <td>N7.EpiA</td>\n",
              "      <td>0.012520</td>\n",
              "      <td>0.198748</td>\n",
              "      <td>639.0</td>\n",
              "      <td>3</td>\n",
              "      <td>Epithelial</td>\n",
              "      <td>TA</td>\n",
              "      <td>TA</td>\n",
              "      <td>TA_2</td>\n",
              "    </tr>\n",
              "    <tr>\n",
              "      <th>N7.EpiA.AAAGATCTAACCGT</th>\n",
              "      <td>250</td>\n",
              "      <td>649</td>\n",
              "      <td>N7</td>\n",
              "      <td>EpiA</td>\n",
              "      <td>A</td>\n",
              "      <td>N7</td>\n",
              "      <td>1</td>\n",
              "      <td>UC</td>\n",
              "      <td>Non-inflamed</td>\n",
              "      <td>Epi</td>\n",
              "      <td>...</td>\n",
              "      <td>Enterocyte Progenitors</td>\n",
              "      <td>N7.EpiA</td>\n",
              "      <td>0.020031</td>\n",
              "      <td>0.123267</td>\n",
              "      <td>649.0</td>\n",
              "      <td>3</td>\n",
              "      <td>Epithelial</td>\n",
              "      <td>Enterocytes</td>\n",
              "      <td>Enterocyte_Progenitors</td>\n",
              "      <td>Enterocyte_Progenitors</td>\n",
              "    </tr>\n",
              "    <tr>\n",
              "      <th>N7.EpiA.AAAGATCTAGGCGA</th>\n",
              "      <td>284</td>\n",
              "      <td>769</td>\n",
              "      <td>N7</td>\n",
              "      <td>EpiA</td>\n",
              "      <td>A</td>\n",
              "      <td>N7</td>\n",
              "      <td>1</td>\n",
              "      <td>UC</td>\n",
              "      <td>Non-inflamed</td>\n",
              "      <td>Epi</td>\n",
              "      <td>...</td>\n",
              "      <td>Enterocyte Progenitors</td>\n",
              "      <td>N7.EpiA</td>\n",
              "      <td>0.019506</td>\n",
              "      <td>0.061118</td>\n",
              "      <td>769.0</td>\n",
              "      <td>3</td>\n",
              "      <td>Epithelial</td>\n",
              "      <td>Enterocytes</td>\n",
              "      <td>Enterocyte_Progenitors</td>\n",
              "      <td>Enterocyte_Progenitors</td>\n",
              "    </tr>\n",
              "    <tr>\n",
              "      <th>N7.EpiA.AAAGCCTGCTCGAA</th>\n",
              "      <td>339</td>\n",
              "      <td>951</td>\n",
              "      <td>N7</td>\n",
              "      <td>EpiA</td>\n",
              "      <td>A</td>\n",
              "      <td>N7</td>\n",
              "      <td>1</td>\n",
              "      <td>UC</td>\n",
              "      <td>Non-inflamed</td>\n",
              "      <td>Epi</td>\n",
              "      <td>...</td>\n",
              "      <td>Enterocyte Progenitors</td>\n",
              "      <td>N7.EpiA</td>\n",
              "      <td>0.003155</td>\n",
              "      <td>0.052576</td>\n",
              "      <td>951.0</td>\n",
              "      <td>3</td>\n",
              "      <td>Epithelial</td>\n",
              "      <td>Enterocytes</td>\n",
              "      <td>Enterocyte_Progenitors</td>\n",
              "      <td>Enterocyte_Progenitors</td>\n",
              "    </tr>\n",
              "    <tr>\n",
              "      <th>...</th>\n",
              "      <td>...</td>\n",
              "      <td>...</td>\n",
              "      <td>...</td>\n",
              "      <td>...</td>\n",
              "      <td>...</td>\n",
              "      <td>...</td>\n",
              "      <td>...</td>\n",
              "      <td>...</td>\n",
              "      <td>...</td>\n",
              "      <td>...</td>\n",
              "      <td>...</td>\n",
              "      <td>...</td>\n",
              "      <td>...</td>\n",
              "      <td>...</td>\n",
              "      <td>...</td>\n",
              "      <td>...</td>\n",
              "      <td>...</td>\n",
              "      <td>...</td>\n",
              "      <td>...</td>\n",
              "      <td>...</td>\n",
              "      <td>...</td>\n",
              "    </tr>\n",
              "    <tr>\n",
              "      <th>U1110.LPB.TTTGGTTAGGATGGTC</th>\n",
              "      <td>635</td>\n",
              "      <td>1366</td>\n",
              "      <td>U1110</td>\n",
              "      <td>LPB</td>\n",
              "      <td>B</td>\n",
              "      <td>U1110</td>\n",
              "      <td>1</td>\n",
              "      <td>UC</td>\n",
              "      <td>Inflamed</td>\n",
              "      <td>LP</td>\n",
              "      <td>...</td>\n",
              "      <td>Macrophages</td>\n",
              "      <td>U1110.LPB</td>\n",
              "      <td>0.062225</td>\n",
              "      <td>0.148609</td>\n",
              "      <td>1366.0</td>\n",
              "      <td>11</td>\n",
              "      <td>Immune</td>\n",
              "      <td>Macrophages</td>\n",
              "      <td>Macrophages</td>\n",
              "      <td>Macrophages</td>\n",
              "    </tr>\n",
              "    <tr>\n",
              "      <th>U1110.LPB.TTTGGTTCACCTCGTT</th>\n",
              "      <td>610</td>\n",
              "      <td>2730</td>\n",
              "      <td>U1110</td>\n",
              "      <td>LPB</td>\n",
              "      <td>B</td>\n",
              "      <td>U1110</td>\n",
              "      <td>1</td>\n",
              "      <td>UC</td>\n",
              "      <td>Inflamed</td>\n",
              "      <td>LP</td>\n",
              "      <td>...</td>\n",
              "      <td>Plasma</td>\n",
              "      <td>U1110.LPB</td>\n",
              "      <td>0.052015</td>\n",
              "      <td>0.171062</td>\n",
              "      <td>2730.0</td>\n",
              "      <td>2</td>\n",
              "      <td>Immune</td>\n",
              "      <td>B_Lymphocytes</td>\n",
              "      <td>Plasma</td>\n",
              "      <td>Plasma</td>\n",
              "    </tr>\n",
              "    <tr>\n",
              "      <th>U1110.LPB.TTTGGTTTCGGAAACG</th>\n",
              "      <td>859</td>\n",
              "      <td>1979</td>\n",
              "      <td>U1110</td>\n",
              "      <td>LPB</td>\n",
              "      <td>B</td>\n",
              "      <td>U1110</td>\n",
              "      <td>1</td>\n",
              "      <td>UC</td>\n",
              "      <td>Inflamed</td>\n",
              "      <td>LP</td>\n",
              "      <td>...</td>\n",
              "      <td>Macrophages</td>\n",
              "      <td>U1110.LPB</td>\n",
              "      <td>0.010106</td>\n",
              "      <td>0.206670</td>\n",
              "      <td>1979.0</td>\n",
              "      <td>22</td>\n",
              "      <td>Immune</td>\n",
              "      <td>Macrophages</td>\n",
              "      <td>Macrophages</td>\n",
              "      <td>Macrophages</td>\n",
              "    </tr>\n",
              "    <tr>\n",
              "      <th>U1110.LPB.TTTGTCAGTTGACGTT</th>\n",
              "      <td>965</td>\n",
              "      <td>2696</td>\n",
              "      <td>U1110</td>\n",
              "      <td>LPB</td>\n",
              "      <td>B</td>\n",
              "      <td>U1110</td>\n",
              "      <td>1</td>\n",
              "      <td>UC</td>\n",
              "      <td>Inflamed</td>\n",
              "      <td>LP</td>\n",
              "      <td>...</td>\n",
              "      <td>Macrophages</td>\n",
              "      <td>U1110.LPB</td>\n",
              "      <td>0.059718</td>\n",
              "      <td>0.202151</td>\n",
              "      <td>2696.0</td>\n",
              "      <td>11</td>\n",
              "      <td>Immune</td>\n",
              "      <td>Macrophages</td>\n",
              "      <td>Macrophages</td>\n",
              "      <td>Macrophages</td>\n",
              "    </tr>\n",
              "    <tr>\n",
              "      <th>U1110.LPB.TTTGTCATCTGACCTC</th>\n",
              "      <td>559</td>\n",
              "      <td>1156</td>\n",
              "      <td>U1110</td>\n",
              "      <td>LPB</td>\n",
              "      <td>B</td>\n",
              "      <td>U1110</td>\n",
              "      <td>1</td>\n",
              "      <td>UC</td>\n",
              "      <td>Inflamed</td>\n",
              "      <td>LP</td>\n",
              "      <td>...</td>\n",
              "      <td>CD69+ Mast</td>\n",
              "      <td>U1110.LPB</td>\n",
              "      <td>0.021626</td>\n",
              "      <td>0.190311</td>\n",
              "      <td>1156.0</td>\n",
              "      <td>29</td>\n",
              "      <td>Immune</td>\n",
              "      <td>Mast</td>\n",
              "      <td>Mast</td>\n",
              "      <td>CD69pos_Mast</td>\n",
              "    </tr>\n",
              "  </tbody>\n",
              "</table>\n",
              "<p>366650 rows × 23 columns</p>\n",
              "</div>\n",
              "      <button class=\"colab-df-convert\" onclick=\"convertToInteractive('df-a79ace74-1537-45b7-9634-cd491ef02be9')\"\n",
              "              title=\"Convert this dataframe to an interactive table.\"\n",
              "              style=\"display:none;\">\n",
              "        \n",
              "  <svg xmlns=\"http://www.w3.org/2000/svg\" height=\"24px\"viewBox=\"0 0 24 24\"\n",
              "       width=\"24px\">\n",
              "    <path d=\"M0 0h24v24H0V0z\" fill=\"none\"/>\n",
              "    <path d=\"M18.56 5.44l.94 2.06.94-2.06 2.06-.94-2.06-.94-.94-2.06-.94 2.06-2.06.94zm-11 1L8.5 8.5l.94-2.06 2.06-.94-2.06-.94L8.5 2.5l-.94 2.06-2.06.94zm10 10l.94 2.06.94-2.06 2.06-.94-2.06-.94-.94-2.06-.94 2.06-2.06.94z\"/><path d=\"M17.41 7.96l-1.37-1.37c-.4-.4-.92-.59-1.43-.59-.52 0-1.04.2-1.43.59L10.3 9.45l-7.72 7.72c-.78.78-.78 2.05 0 2.83L4 21.41c.39.39.9.59 1.41.59.51 0 1.02-.2 1.41-.59l7.78-7.78 2.81-2.81c.8-.78.8-2.07 0-2.86zM5.41 20L4 18.59l7.72-7.72 1.47 1.35L5.41 20z\"/>\n",
              "  </svg>\n",
              "      </button>\n",
              "      \n",
              "  <style>\n",
              "    .colab-df-container {\n",
              "      display:flex;\n",
              "      flex-wrap:wrap;\n",
              "      gap: 12px;\n",
              "    }\n",
              "\n",
              "    .colab-df-convert {\n",
              "      background-color: #E8F0FE;\n",
              "      border: none;\n",
              "      border-radius: 50%;\n",
              "      cursor: pointer;\n",
              "      display: none;\n",
              "      fill: #1967D2;\n",
              "      height: 32px;\n",
              "      padding: 0 0 0 0;\n",
              "      width: 32px;\n",
              "    }\n",
              "\n",
              "    .colab-df-convert:hover {\n",
              "      background-color: #E2EBFA;\n",
              "      box-shadow: 0px 1px 2px rgba(60, 64, 67, 0.3), 0px 1px 3px 1px rgba(60, 64, 67, 0.15);\n",
              "      fill: #174EA6;\n",
              "    }\n",
              "\n",
              "    [theme=dark] .colab-df-convert {\n",
              "      background-color: #3B4455;\n",
              "      fill: #D2E3FC;\n",
              "    }\n",
              "\n",
              "    [theme=dark] .colab-df-convert:hover {\n",
              "      background-color: #434B5C;\n",
              "      box-shadow: 0px 1px 3px 1px rgba(0, 0, 0, 0.15);\n",
              "      filter: drop-shadow(0px 1px 2px rgba(0, 0, 0, 0.3));\n",
              "      fill: #FFFFFF;\n",
              "    }\n",
              "  </style>\n",
              "\n",
              "      <script>\n",
              "        const buttonEl =\n",
              "          document.querySelector('#df-a79ace74-1537-45b7-9634-cd491ef02be9 button.colab-df-convert');\n",
              "        buttonEl.style.display =\n",
              "          google.colab.kernel.accessAllowed ? 'block' : 'none';\n",
              "\n",
              "        async function convertToInteractive(key) {\n",
              "          const element = document.querySelector('#df-a79ace74-1537-45b7-9634-cd491ef02be9');\n",
              "          const dataTable =\n",
              "            await google.colab.kernel.invokeFunction('convertToInteractive',\n",
              "                                                     [key], {});\n",
              "          if (!dataTable) return;\n",
              "\n",
              "          const docLinkHtml = 'Like what you see? Visit the ' +\n",
              "            '<a target=\"_blank\" href=https://colab.research.google.com/notebooks/data_table.ipynb>data table notebook</a>'\n",
              "            + ' to learn more about interactive tables.';\n",
              "          element.innerHTML = '';\n",
              "          dataTable['output_type'] = 'display_data';\n",
              "          await google.colab.output.renderOutput(dataTable, element);\n",
              "          const docLink = document.createElement('div');\n",
              "          docLink.innerHTML = docLinkHtml;\n",
              "          element.appendChild(docLink);\n",
              "        }\n",
              "      </script>\n",
              "    </div>\n",
              "  </div>\n",
              "  "
            ]
          },
          "metadata": {},
          "execution_count": 7
        }
      ]
    },
    {
      "cell_type": "code",
      "source": [
        "adata1.obs['health'].unique()"
      ],
      "metadata": {
        "id": "dTPZn5Qg8Vri",
        "colab": {
          "base_uri": "https://localhost:8080/"
        },
        "outputId": "24752422-2adb-42a4-8240-28f68c5f2298"
      },
      "execution_count": null,
      "outputs": [
        {
          "output_type": "execute_result",
          "data": {
            "text/plain": [
              "['UC', 'Healthy']\n",
              "Categories (2, object): ['Healthy', 'UC']"
            ]
          },
          "metadata": {},
          "execution_count": 11
        }
      ]
    },
    {
      "cell_type": "code",
      "source": [
        "adata_h = adata1[adata1.obs.health == 'Healthy']\n",
        "adata_d = adata1[adata1.obs.health == 'UC']"
      ],
      "metadata": {
        "id": "cZNmd3P08wjO"
      },
      "execution_count": null,
      "outputs": []
    },
    {
      "cell_type": "code",
      "source": [],
      "metadata": {
        "id": "GJYaELI2-lix"
      },
      "execution_count": null,
      "outputs": []
    }
  ]
}
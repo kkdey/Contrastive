{
  "cells": [
    {
      "cell_type": "code",
      "execution_count": null,
      "metadata": {
        "colab": {
          "base_uri": "https://localhost:8080/",
          "height": 1000
        },
        "id": "ZjUGt8qnHrCZ",
        "outputId": "f052e68f-8ea3-42fc-8829-1d0572202aab"
      },
      "outputs": [
        {
          "output_type": "stream",
          "name": "stdout",
          "text": [
            "Looking in indexes: https://pypi.org/simple, https://us-python.pkg.dev/colab-wheels/public/simple/\n",
            "Collecting scanpy\n",
            "  Downloading scanpy-1.9.1-py3-none-any.whl (2.0 MB)\n",
            "\u001b[K     |████████████████████████████████| 2.0 MB 26.5 MB/s \n",
            "\u001b[?25hRequirement already satisfied: tqdm in /usr/local/lib/python3.8/dist-packages (from scanpy) (4.64.1)\n",
            "Requirement already satisfied: scipy>=1.4 in /usr/local/lib/python3.8/dist-packages (from scanpy) (1.7.3)\n",
            "Requirement already satisfied: networkx>=2.3 in /usr/local/lib/python3.8/dist-packages (from scanpy) (2.8.8)\n",
            "Requirement already satisfied: joblib in /usr/local/lib/python3.8/dist-packages (from scanpy) (1.2.0)\n",
            "Requirement already satisfied: h5py>=3 in /usr/local/lib/python3.8/dist-packages (from scanpy) (3.1.0)\n",
            "Requirement already satisfied: natsort in /usr/local/lib/python3.8/dist-packages (from scanpy) (5.5.0)\n",
            "Requirement already satisfied: numpy>=1.17.0 in /usr/local/lib/python3.8/dist-packages (from scanpy) (1.21.6)\n",
            "Collecting matplotlib>=3.4\n",
            "  Downloading matplotlib-3.6.2-cp38-cp38-manylinux_2_12_x86_64.manylinux2010_x86_64.whl (9.4 MB)\n",
            "\u001b[K     |████████████████████████████████| 9.4 MB 46.1 MB/s \n",
            "\u001b[?25hRequirement already satisfied: pandas>=1.0 in /usr/local/lib/python3.8/dist-packages (from scanpy) (1.3.5)\n",
            "Requirement already satisfied: scikit-learn>=0.22 in /usr/local/lib/python3.8/dist-packages (from scanpy) (1.0.2)\n",
            "Requirement already satisfied: numba>=0.41.0 in /usr/local/lib/python3.8/dist-packages (from scanpy) (0.56.4)\n",
            "Collecting session-info\n",
            "  Downloading session_info-1.0.0.tar.gz (24 kB)\n",
            "Collecting umap-learn>=0.3.10\n",
            "  Downloading umap-learn-0.5.3.tar.gz (88 kB)\n",
            "\u001b[K     |████████████████████████████████| 88 kB 6.2 MB/s \n",
            "\u001b[?25hCollecting anndata>=0.7.4\n",
            "  Downloading anndata-0.8.0-py3-none-any.whl (96 kB)\n",
            "\u001b[K     |████████████████████████████████| 96 kB 5.1 MB/s \n",
            "\u001b[?25hRequirement already satisfied: statsmodels>=0.10.0rc2 in /usr/local/lib/python3.8/dist-packages (from scanpy) (0.12.2)\n",
            "Requirement already satisfied: packaging in /usr/local/lib/python3.8/dist-packages (from scanpy) (21.3)\n",
            "Requirement already satisfied: seaborn in /usr/local/lib/python3.8/dist-packages (from scanpy) (0.11.2)\n",
            "Requirement already satisfied: patsy in /usr/local/lib/python3.8/dist-packages (from scanpy) (0.5.3)\n",
            "Requirement already satisfied: pyparsing>=2.2.1 in /usr/local/lib/python3.8/dist-packages (from matplotlib>=3.4->scanpy) (3.0.9)\n",
            "Collecting fonttools>=4.22.0\n",
            "  Downloading fonttools-4.38.0-py3-none-any.whl (965 kB)\n",
            "\u001b[K     |████████████████████████████████| 965 kB 53.0 MB/s \n",
            "\u001b[?25hRequirement already satisfied: pillow>=6.2.0 in /usr/local/lib/python3.8/dist-packages (from matplotlib>=3.4->scanpy) (7.1.2)\n",
            "Requirement already satisfied: cycler>=0.10 in /usr/local/lib/python3.8/dist-packages (from matplotlib>=3.4->scanpy) (0.11.0)\n",
            "Requirement already satisfied: kiwisolver>=1.0.1 in /usr/local/lib/python3.8/dist-packages (from matplotlib>=3.4->scanpy) (1.4.4)\n",
            "Requirement already satisfied: python-dateutil>=2.7 in /usr/local/lib/python3.8/dist-packages (from matplotlib>=3.4->scanpy) (2.8.2)\n",
            "Collecting contourpy>=1.0.1\n",
            "  Downloading contourpy-1.0.6-cp38-cp38-manylinux_2_17_x86_64.manylinux2014_x86_64.whl (295 kB)\n",
            "\u001b[K     |████████████████████████████████| 295 kB 49.1 MB/s \n",
            "\u001b[?25hRequirement already satisfied: importlib-metadata in /usr/local/lib/python3.8/dist-packages (from numba>=0.41.0->scanpy) (5.1.0)\n",
            "Requirement already satisfied: llvmlite<0.40,>=0.39.0dev0 in /usr/local/lib/python3.8/dist-packages (from numba>=0.41.0->scanpy) (0.39.1)\n",
            "Requirement already satisfied: setuptools in /usr/local/lib/python3.8/dist-packages (from numba>=0.41.0->scanpy) (57.4.0)\n",
            "Requirement already satisfied: pytz>=2017.3 in /usr/local/lib/python3.8/dist-packages (from pandas>=1.0->scanpy) (2022.6)\n",
            "Requirement already satisfied: six>=1.5 in /usr/local/lib/python3.8/dist-packages (from python-dateutil>=2.7->matplotlib>=3.4->scanpy) (1.15.0)\n",
            "Requirement already satisfied: threadpoolctl>=2.0.0 in /usr/local/lib/python3.8/dist-packages (from scikit-learn>=0.22->scanpy) (3.1.0)\n",
            "Collecting pynndescent>=0.5\n",
            "  Downloading pynndescent-0.5.8.tar.gz (1.1 MB)\n",
            "\u001b[K     |████████████████████████████████| 1.1 MB 55.7 MB/s \n",
            "\u001b[?25hRequirement already satisfied: zipp>=0.5 in /usr/local/lib/python3.8/dist-packages (from importlib-metadata->numba>=0.41.0->scanpy) (3.11.0)\n",
            "Collecting stdlib_list\n",
            "  Downloading stdlib_list-0.8.0-py3-none-any.whl (63 kB)\n",
            "\u001b[K     |████████████████████████████████| 63 kB 1.9 MB/s \n",
            "\u001b[?25hBuilding wheels for collected packages: umap-learn, pynndescent, session-info\n",
            "  Building wheel for umap-learn (setup.py) ... \u001b[?25l\u001b[?25hdone\n",
            "  Created wheel for umap-learn: filename=umap_learn-0.5.3-py3-none-any.whl size=82829 sha256=c8e06e442a56c7b4af1ed177b138983ce7efd0486bfb7c0c9a4ccd98eec26a8e\n",
            "  Stored in directory: /root/.cache/pip/wheels/a9/3a/67/06a8950e053725912e6a8c42c4a3a241410f6487b8402542ea\n",
            "  Building wheel for pynndescent (setup.py) ... \u001b[?25l\u001b[?25hdone\n",
            "  Created wheel for pynndescent: filename=pynndescent-0.5.8-py3-none-any.whl size=55513 sha256=faf8439dee3e2fba2c8ddc8b70ab6ffc2fe091a7116956bb04fb98031a46d854\n",
            "  Stored in directory: /root/.cache/pip/wheels/1c/63/3a/29954bca1a27ba100ed8c27973a78cb71b43dc67aed62e80c3\n",
            "  Building wheel for session-info (setup.py) ... \u001b[?25l\u001b[?25hdone\n",
            "  Created wheel for session-info: filename=session_info-1.0.0-py3-none-any.whl size=8046 sha256=99b924bfa39acbe4732aa93b309b8545d850cec08becc67c1fc0ba4f5bb8c724\n",
            "  Stored in directory: /root/.cache/pip/wheels/5c/1b/4d/111d73980c5c6a8e5e5905a19eccc34296cb359cac54c6c5b9\n",
            "Successfully built umap-learn pynndescent session-info\n",
            "Installing collected packages: fonttools, contourpy, stdlib-list, pynndescent, matplotlib, umap-learn, session-info, anndata, scanpy\n",
            "  Attempting uninstall: matplotlib\n",
            "    Found existing installation: matplotlib 3.2.2\n",
            "    Uninstalling matplotlib-3.2.2:\n",
            "      Successfully uninstalled matplotlib-3.2.2\n",
            "Successfully installed anndata-0.8.0 contourpy-1.0.6 fonttools-4.38.0 matplotlib-3.6.2 pynndescent-0.5.8 scanpy-1.9.1 session-info-1.0.0 stdlib-list-0.8.0 umap-learn-0.5.3\n"
          ]
        },
        {
          "output_type": "display_data",
          "data": {
            "application/vnd.colab-display-data+json": {
              "pip_warning": {
                "packages": [
                  "matplotlib",
                  "mpl_toolkits"
                ]
              }
            }
          },
          "metadata": {}
        }
      ],
      "source": [
        "import time\n",
        "import matplotlib.pyplot as plt\n",
        "import seaborn as sns\n",
        "\n",
        "!pip install scanpy\n",
        "#!pip install scvelo\n",
        "#!pip install git+https://github.com/csgroen/scycle.git#egg=scycle\n",
        "#!pip install  --no-dependencies  git+https://github.com/j-bac/elpigraph-python.git\n",
        "# from elpigraph_ps_tools import *\n",
        "#import elpigraph\n",
        "import scanpy as sc\n",
        "import anndata\n",
        "\n",
        "\n",
        "\n",
        "import importlib\n",
        "from sklearn.decomposition import PCA\n",
        "\n",
        "import matplotlib as mpl\n",
        "import matplotlib.pyplot as plt\n",
        "from sklearn.neighbors import NearestNeighbors"
      ]
    },
    {
      "cell_type": "code",
      "execution_count": null,
      "metadata": {
        "colab": {
          "base_uri": "https://localhost:8080/",
          "height": 592
        },
        "id": "BdNGncBJVitT",
        "outputId": "5bb226ba-9de9-4de2-ba95-5a73a2977163"
      },
      "outputs": [
        {
          "output_type": "stream",
          "name": "stdout",
          "text": [
            "Found existing installation: matplotlib 3.6.2\n",
            "Uninstalling matplotlib-3.6.2:\n",
            "  Would remove:\n",
            "    /usr/local/lib/python3.8/dist-packages/matplotlib-3.6.2-py3.8-nspkg.pth\n",
            "    /usr/local/lib/python3.8/dist-packages/matplotlib-3.6.2.dist-info/*\n",
            "    /usr/local/lib/python3.8/dist-packages/matplotlib/*\n",
            "    /usr/local/lib/python3.8/dist-packages/mpl_toolkits/axes_grid1/*\n",
            "    /usr/local/lib/python3.8/dist-packages/mpl_toolkits/axisartist/*\n",
            "    /usr/local/lib/python3.8/dist-packages/mpl_toolkits/mplot3d/*\n",
            "    /usr/local/lib/python3.8/dist-packages/mpl_toolkits/tests/*\n",
            "    /usr/local/lib/python3.8/dist-packages/pylab.py\n",
            "Proceed (y/n)? y\n",
            "  Successfully uninstalled matplotlib-3.6.2\n",
            "Looking in indexes: https://pypi.org/simple, https://us-python.pkg.dev/colab-wheels/public/simple/\n",
            "Collecting matplotlib==3.1.3\n",
            "  Downloading matplotlib-3.1.3-cp38-cp38-manylinux1_x86_64.whl (13.1 MB)\n",
            "\u001b[K     |████████████████████████████████| 13.1 MB 34.8 MB/s \n",
            "\u001b[?25hRequirement already satisfied: python-dateutil>=2.1 in /usr/local/lib/python3.8/dist-packages (from matplotlib==3.1.3) (2.8.2)\n",
            "Requirement already satisfied: pyparsing!=2.0.4,!=2.1.2,!=2.1.6,>=2.0.1 in /usr/local/lib/python3.8/dist-packages (from matplotlib==3.1.3) (3.0.9)\n",
            "Requirement already satisfied: numpy>=1.11 in /usr/local/lib/python3.8/dist-packages (from matplotlib==3.1.3) (1.21.6)\n",
            "Requirement already satisfied: cycler>=0.10 in /usr/local/lib/python3.8/dist-packages (from matplotlib==3.1.3) (0.11.0)\n",
            "Requirement already satisfied: kiwisolver>=1.0.1 in /usr/local/lib/python3.8/dist-packages (from matplotlib==3.1.3) (1.4.4)\n",
            "Requirement already satisfied: six>=1.5 in /usr/local/lib/python3.8/dist-packages (from python-dateutil>=2.1->matplotlib==3.1.3) (1.15.0)\n",
            "Installing collected packages: matplotlib\n",
            "\u001b[31mERROR: pip's dependency resolver does not currently take into account all the packages that are installed. This behaviour is the source of the following dependency conflicts.\n",
            "scanpy 1.9.1 requires matplotlib>=3.4, but you have matplotlib 3.1.3 which is incompatible.\u001b[0m\n",
            "Successfully installed matplotlib-3.1.3\n"
          ]
        },
        {
          "output_type": "display_data",
          "data": {
            "application/vnd.colab-display-data+json": {
              "pip_warning": {
                "packages": [
                  "matplotlib",
                  "mpl_toolkits"
                ]
              }
            }
          },
          "metadata": {}
        }
      ],
      "source": [
        "!python -m pip uninstall matplotlib\n",
        "!pip install matplotlib==3.1.3"
      ]
    },
    {
      "cell_type": "code",
      "execution_count": null,
      "metadata": {
        "id": "XKSjVfSBVvew",
        "colab": {
          "base_uri": "https://localhost:8080/",
          "height": 183
        },
        "outputId": "74567cfe-c225-4aad-a5a8-a68c49b00cf8"
      },
      "outputs": [
        {
          "output_type": "error",
          "ename": "NameError",
          "evalue": "ignored",
          "traceback": [
            "\u001b[0;31m---------------------------------------------------------------------------\u001b[0m",
            "\u001b[0;31mNameError\u001b[0m                                 Traceback (most recent call last)",
            "\u001b[0;32m<ipython-input-2-a58ee3459304>\u001b[0m in \u001b[0;36m<module>\u001b[0;34m\u001b[0m\n\u001b[1;32m      1\u001b[0m \u001b[0mpath\u001b[0m \u001b[0;34m=\u001b[0m \u001b[0;34m'/content/drive/MyDrive/msdata.h5ad'\u001b[0m\u001b[0;34m\u001b[0m\u001b[0;34m\u001b[0m\u001b[0m\n\u001b[0;32m----> 2\u001b[0;31m \u001b[0madata\u001b[0m \u001b[0;34m=\u001b[0m \u001b[0msc\u001b[0m\u001b[0;34m.\u001b[0m\u001b[0mread\u001b[0m\u001b[0;34m(\u001b[0m\u001b[0mpath\u001b[0m\u001b[0;34m)\u001b[0m\u001b[0;34m\u001b[0m\u001b[0;34m\u001b[0m\u001b[0m\n\u001b[0m",
            "\u001b[0;31mNameError\u001b[0m: name 'sc' is not defined"
          ]
        }
      ],
      "source": [
        "path = '/content/drive/MyDrive/msdata.h5ad'\n",
        "adata = sc.read(path)"
      ]
    },
    {
      "cell_type": "code",
      "execution_count": null,
      "metadata": {
        "id": "wMd6hQ3tWNx6"
      },
      "outputs": [],
      "source": [
        "from scipy.sparse import hstack"
      ]
    },
    {
      "cell_type": "code",
      "execution_count": null,
      "metadata": {
        "colab": {
          "base_uri": "https://localhost:8080/",
          "height": 661
        },
        "id": "7jLw-WjbWkF_",
        "outputId": "d82110e1-9b4e-42a8-aa1e-88307cdb94c6"
      },
      "outputs": [
        {
          "output_type": "execute_result",
          "data": {
            "text/plain": [
              "                                   tsne1      tsne2 cluster_original  \\\n",
              "AAACCTGGTCCATGAT-1_5981_BA9    19.121044 -20.540960                3   \n",
              "AAACGGGAGTAGCCGA-1_5981_BA9     5.136135 -13.751351                4   \n",
              "AAACGGGCATCGGTTA-1_5981_BA9   -28.210752 -20.764837               6A   \n",
              "AAACGGGTCCATGAAC-1_5981_BA9    29.946121 -15.725056                2   \n",
              "AAAGATGCACGACTCG-1_5981_BA9    25.065271 -19.422704                3   \n",
              "...                                  ...        ...              ...   \n",
              "TTTGTCAGTGTTAAGA-1_MS200_A303  -5.428651  17.107557                5   \n",
              "TTTGTCAGTTCGCGAC-1_MS200_A303  34.011235 -18.509118                2   \n",
              "TTTGTCAGTTCTGGTA-1_MS200_A303 -16.622547  20.910561                8   \n",
              "TTTGTCATCCAAATGC-1_MS200_A303  -5.947137 -35.594686               16   \n",
              "TTTGTCATCTAACGGT-1_MS200_A303 -15.906688  23.322071                8   \n",
              "\n",
              "                                   sample diagnosis             stage  age  \\\n",
              "AAACCTGGTCCATGAT-1_5981_BA9      5981_BA9   Control           Control   44   \n",
              "AAACGGGAGTAGCCGA-1_5981_BA9      5981_BA9   Control           Control   44   \n",
              "AAACGGGCATCGGTTA-1_5981_BA9      5981_BA9   Control           Control   44   \n",
              "AAACGGGTCCATGAAC-1_5981_BA9      5981_BA9   Control           Control   44   \n",
              "AAAGATGCACGACTCG-1_5981_BA9      5981_BA9   Control           Control   44   \n",
              "...                                   ...       ...               ...  ...   \n",
              "TTTGTCAGTGTTAAGA-1_MS200_A303  MS200_A303        MS  Chronic inactive   44   \n",
              "TTTGTCAGTTCGCGAC-1_MS200_A303  MS200_A303        MS  Chronic inactive   44   \n",
              "TTTGTCAGTTCTGGTA-1_MS200_A303  MS200_A303        MS  Chronic inactive   44   \n",
              "TTTGTCATCCAAATGC-1_MS200_A303  MS200_A303        MS  Chronic inactive   44   \n",
              "TTTGTCATCTAACGGT-1_MS200_A303  MS200_A303        MS  Chronic inactive   44   \n",
              "\n",
              "                                  sex      region Capbatch  ... DMGM_UL  \\\n",
              "AAACCTGGTCCATGAT-1_5981_BA9    female  prefrontal     CAP7  ...     NaN   \n",
              "AAACGGGAGTAGCCGA-1_5981_BA9    female  prefrontal     CAP7  ...     NaN   \n",
              "AAACGGGCATCGGTTA-1_5981_BA9    female  prefrontal     CAP7  ...     NaN   \n",
              "AAACGGGTCCATGAAC-1_5981_BA9    female  prefrontal     CAP7  ...     NaN   \n",
              "AAAGATGCACGACTCG-1_5981_BA9    female  prefrontal     CAP7  ...     NaN   \n",
              "...                               ...         ...      ...  ...     ...   \n",
              "TTTGTCAGTGTTAAGA-1_MS200_A303  female  prefrontal     CAP6  ...    41.0   \n",
              "TTTGTCAGTTCGCGAC-1_MS200_A303  female  prefrontal     CAP6  ...    41.0   \n",
              "TTTGTCAGTTCTGGTA-1_MS200_A303  female  prefrontal     CAP6  ...    41.0   \n",
              "TTTGTCATCCAAATGC-1_MS200_A303  female  prefrontal     CAP6  ...    41.0   \n",
              "TTTGTCATCTAACGGT-1_MS200_A303  female  prefrontal     CAP6  ...    41.0   \n",
              "\n",
              "                               DMGM_DL  DMWM  n_genes  percent_mito  \\\n",
              "AAACCTGGTCCATGAT-1_5981_BA9        NaN   NaN     3795      0.005292   \n",
              "AAACGGGAGTAGCCGA-1_5981_BA9        NaN   NaN     2510      0.005038   \n",
              "AAACGGGCATCGGTTA-1_5981_BA9        NaN   NaN     3779      0.018633   \n",
              "AAACGGGTCCATGAAC-1_5981_BA9        NaN   NaN     3376      0.016441   \n",
              "AAAGATGCACGACTCG-1_5981_BA9        NaN   NaN     4337      0.007789   \n",
              "...                                ...   ...      ...           ...   \n",
              "TTTGTCAGTGTTAAGA-1_MS200_A303      6.0   6.0      857      0.003260   \n",
              "TTTGTCAGTTCGCGAC-1_MS200_A303      6.0   6.0     5463      0.010610   \n",
              "TTTGTCAGTTCTGGTA-1_MS200_A303      6.0   6.0     1560      0.018838   \n",
              "TTTGTCATCCAAATGC-1_MS200_A303      6.0   6.0      814      0.051595   \n",
              "TTTGTCATCTAACGGT-1_MS200_A303      6.0   6.0     1497      0.002778   \n",
              "\n",
              "                               percent_ribo  n_counts  leiden  \\\n",
              "AAACCTGGTCCATGAT-1_5981_BA9        0.002951    9827.0      14   \n",
              "AAACGGGAGTAGCCGA-1_5981_BA9        0.004457    5161.0       2   \n",
              "AAACGGGCATCGGTTA-1_5981_BA9        0.007034    8104.0      10   \n",
              "AAACGGGTCCATGAAC-1_5981_BA9        0.007046    7238.0      12   \n",
              "AAAGATGCACGACTCG-1_5981_BA9        0.002841   10913.0      21   \n",
              "...                                     ...       ...     ...   \n",
              "TTTGTCAGTGTTAAGA-1_MS200_A303      0.011410    1227.0       0   \n",
              "TTTGTCAGTTCGCGAC-1_MS200_A303      0.018160   14703.0       9   \n",
              "TTTGTCAGTTCTGGTA-1_MS200_A303      0.003925    2548.0       1   \n",
              "TTTGTCATCCAAATGC-1_MS200_A303      0.019700    1066.0       8   \n",
              "TTTGTCATCTAACGGT-1_MS200_A303      0.010714    2520.0       1   \n",
              "\n",
              "                                 annot_level_2    annot_level_3  \n",
              "AAACCTGGTCCATGAT-1_5981_BA9      Glutamatergic             L5_6  \n",
              "AAACGGGAGTAGCCGA-1_5981_BA9      Glutamatergic             L2_3  \n",
              "AAACGGGCATCGGTTA-1_5981_BA9          GABAergic               PV  \n",
              "AAACGGGTCCATGAAC-1_5981_BA9      Glutamatergic               L4  \n",
              "AAAGATGCACGACTCG-1_5981_BA9      Glutamatergic             L5_6  \n",
              "...                                        ...              ...  \n",
              "TTTGTCAGTGTTAAGA-1_MS200_A303  Oligodendrocyte  Oligodendrocyte  \n",
              "TTTGTCAGTTCGCGAC-1_MS200_A303    Glutamatergic               L4  \n",
              "TTTGTCAGTTCTGGTA-1_MS200_A303        Astrocyte        Astrocyte  \n",
              "TTTGTCATCCAAATGC-1_MS200_A303    Glutamatergic              PYR  \n",
              "TTTGTCATCTAACGGT-1_MS200_A303        Astrocyte        Astrocyte  \n",
              "\n",
              "[48918 rows x 30 columns]"
            ],
            "text/html": [
              "\n",
              "  <div id=\"df-5746631d-5242-4822-b883-fbd6d62b0b68\">\n",
              "    <div class=\"colab-df-container\">\n",
              "      <div>\n",
              "<style scoped>\n",
              "    .dataframe tbody tr th:only-of-type {\n",
              "        vertical-align: middle;\n",
              "    }\n",
              "\n",
              "    .dataframe tbody tr th {\n",
              "        vertical-align: top;\n",
              "    }\n",
              "\n",
              "    .dataframe thead th {\n",
              "        text-align: right;\n",
              "    }\n",
              "</style>\n",
              "<table border=\"1\" class=\"dataframe\">\n",
              "  <thead>\n",
              "    <tr style=\"text-align: right;\">\n",
              "      <th></th>\n",
              "      <th>tsne1</th>\n",
              "      <th>tsne2</th>\n",
              "      <th>cluster_original</th>\n",
              "      <th>sample</th>\n",
              "      <th>diagnosis</th>\n",
              "      <th>stage</th>\n",
              "      <th>age</th>\n",
              "      <th>sex</th>\n",
              "      <th>region</th>\n",
              "      <th>Capbatch</th>\n",
              "      <th>...</th>\n",
              "      <th>DMGM_UL</th>\n",
              "      <th>DMGM_DL</th>\n",
              "      <th>DMWM</th>\n",
              "      <th>n_genes</th>\n",
              "      <th>percent_mito</th>\n",
              "      <th>percent_ribo</th>\n",
              "      <th>n_counts</th>\n",
              "      <th>leiden</th>\n",
              "      <th>annot_level_2</th>\n",
              "      <th>annot_level_3</th>\n",
              "    </tr>\n",
              "  </thead>\n",
              "  <tbody>\n",
              "    <tr>\n",
              "      <th>AAACCTGGTCCATGAT-1_5981_BA9</th>\n",
              "      <td>19.121044</td>\n",
              "      <td>-20.540960</td>\n",
              "      <td>3</td>\n",
              "      <td>5981_BA9</td>\n",
              "      <td>Control</td>\n",
              "      <td>Control</td>\n",
              "      <td>44</td>\n",
              "      <td>female</td>\n",
              "      <td>prefrontal</td>\n",
              "      <td>CAP7</td>\n",
              "      <td>...</td>\n",
              "      <td>NaN</td>\n",
              "      <td>NaN</td>\n",
              "      <td>NaN</td>\n",
              "      <td>3795</td>\n",
              "      <td>0.005292</td>\n",
              "      <td>0.002951</td>\n",
              "      <td>9827.0</td>\n",
              "      <td>14</td>\n",
              "      <td>Glutamatergic</td>\n",
              "      <td>L5_6</td>\n",
              "    </tr>\n",
              "    <tr>\n",
              "      <th>AAACGGGAGTAGCCGA-1_5981_BA9</th>\n",
              "      <td>5.136135</td>\n",
              "      <td>-13.751351</td>\n",
              "      <td>4</td>\n",
              "      <td>5981_BA9</td>\n",
              "      <td>Control</td>\n",
              "      <td>Control</td>\n",
              "      <td>44</td>\n",
              "      <td>female</td>\n",
              "      <td>prefrontal</td>\n",
              "      <td>CAP7</td>\n",
              "      <td>...</td>\n",
              "      <td>NaN</td>\n",
              "      <td>NaN</td>\n",
              "      <td>NaN</td>\n",
              "      <td>2510</td>\n",
              "      <td>0.005038</td>\n",
              "      <td>0.004457</td>\n",
              "      <td>5161.0</td>\n",
              "      <td>2</td>\n",
              "      <td>Glutamatergic</td>\n",
              "      <td>L2_3</td>\n",
              "    </tr>\n",
              "    <tr>\n",
              "      <th>AAACGGGCATCGGTTA-1_5981_BA9</th>\n",
              "      <td>-28.210752</td>\n",
              "      <td>-20.764837</td>\n",
              "      <td>6A</td>\n",
              "      <td>5981_BA9</td>\n",
              "      <td>Control</td>\n",
              "      <td>Control</td>\n",
              "      <td>44</td>\n",
              "      <td>female</td>\n",
              "      <td>prefrontal</td>\n",
              "      <td>CAP7</td>\n",
              "      <td>...</td>\n",
              "      <td>NaN</td>\n",
              "      <td>NaN</td>\n",
              "      <td>NaN</td>\n",
              "      <td>3779</td>\n",
              "      <td>0.018633</td>\n",
              "      <td>0.007034</td>\n",
              "      <td>8104.0</td>\n",
              "      <td>10</td>\n",
              "      <td>GABAergic</td>\n",
              "      <td>PV</td>\n",
              "    </tr>\n",
              "    <tr>\n",
              "      <th>AAACGGGTCCATGAAC-1_5981_BA9</th>\n",
              "      <td>29.946121</td>\n",
              "      <td>-15.725056</td>\n",
              "      <td>2</td>\n",
              "      <td>5981_BA9</td>\n",
              "      <td>Control</td>\n",
              "      <td>Control</td>\n",
              "      <td>44</td>\n",
              "      <td>female</td>\n",
              "      <td>prefrontal</td>\n",
              "      <td>CAP7</td>\n",
              "      <td>...</td>\n",
              "      <td>NaN</td>\n",
              "      <td>NaN</td>\n",
              "      <td>NaN</td>\n",
              "      <td>3376</td>\n",
              "      <td>0.016441</td>\n",
              "      <td>0.007046</td>\n",
              "      <td>7238.0</td>\n",
              "      <td>12</td>\n",
              "      <td>Glutamatergic</td>\n",
              "      <td>L4</td>\n",
              "    </tr>\n",
              "    <tr>\n",
              "      <th>AAAGATGCACGACTCG-1_5981_BA9</th>\n",
              "      <td>25.065271</td>\n",
              "      <td>-19.422704</td>\n",
              "      <td>3</td>\n",
              "      <td>5981_BA9</td>\n",
              "      <td>Control</td>\n",
              "      <td>Control</td>\n",
              "      <td>44</td>\n",
              "      <td>female</td>\n",
              "      <td>prefrontal</td>\n",
              "      <td>CAP7</td>\n",
              "      <td>...</td>\n",
              "      <td>NaN</td>\n",
              "      <td>NaN</td>\n",
              "      <td>NaN</td>\n",
              "      <td>4337</td>\n",
              "      <td>0.007789</td>\n",
              "      <td>0.002841</td>\n",
              "      <td>10913.0</td>\n",
              "      <td>21</td>\n",
              "      <td>Glutamatergic</td>\n",
              "      <td>L5_6</td>\n",
              "    </tr>\n",
              "    <tr>\n",
              "      <th>...</th>\n",
              "      <td>...</td>\n",
              "      <td>...</td>\n",
              "      <td>...</td>\n",
              "      <td>...</td>\n",
              "      <td>...</td>\n",
              "      <td>...</td>\n",
              "      <td>...</td>\n",
              "      <td>...</td>\n",
              "      <td>...</td>\n",
              "      <td>...</td>\n",
              "      <td>...</td>\n",
              "      <td>...</td>\n",
              "      <td>...</td>\n",
              "      <td>...</td>\n",
              "      <td>...</td>\n",
              "      <td>...</td>\n",
              "      <td>...</td>\n",
              "      <td>...</td>\n",
              "      <td>...</td>\n",
              "      <td>...</td>\n",
              "      <td>...</td>\n",
              "    </tr>\n",
              "    <tr>\n",
              "      <th>TTTGTCAGTGTTAAGA-1_MS200_A303</th>\n",
              "      <td>-5.428651</td>\n",
              "      <td>17.107557</td>\n",
              "      <td>5</td>\n",
              "      <td>MS200_A303</td>\n",
              "      <td>MS</td>\n",
              "      <td>Chronic inactive</td>\n",
              "      <td>44</td>\n",
              "      <td>female</td>\n",
              "      <td>prefrontal</td>\n",
              "      <td>CAP6</td>\n",
              "      <td>...</td>\n",
              "      <td>41.0</td>\n",
              "      <td>6.0</td>\n",
              "      <td>6.0</td>\n",
              "      <td>857</td>\n",
              "      <td>0.003260</td>\n",
              "      <td>0.011410</td>\n",
              "      <td>1227.0</td>\n",
              "      <td>0</td>\n",
              "      <td>Oligodendrocyte</td>\n",
              "      <td>Oligodendrocyte</td>\n",
              "    </tr>\n",
              "    <tr>\n",
              "      <th>TTTGTCAGTTCGCGAC-1_MS200_A303</th>\n",
              "      <td>34.011235</td>\n",
              "      <td>-18.509118</td>\n",
              "      <td>2</td>\n",
              "      <td>MS200_A303</td>\n",
              "      <td>MS</td>\n",
              "      <td>Chronic inactive</td>\n",
              "      <td>44</td>\n",
              "      <td>female</td>\n",
              "      <td>prefrontal</td>\n",
              "      <td>CAP6</td>\n",
              "      <td>...</td>\n",
              "      <td>41.0</td>\n",
              "      <td>6.0</td>\n",
              "      <td>6.0</td>\n",
              "      <td>5463</td>\n",
              "      <td>0.010610</td>\n",
              "      <td>0.018160</td>\n",
              "      <td>14703.0</td>\n",
              "      <td>9</td>\n",
              "      <td>Glutamatergic</td>\n",
              "      <td>L4</td>\n",
              "    </tr>\n",
              "    <tr>\n",
              "      <th>TTTGTCAGTTCTGGTA-1_MS200_A303</th>\n",
              "      <td>-16.622547</td>\n",
              "      <td>20.910561</td>\n",
              "      <td>8</td>\n",
              "      <td>MS200_A303</td>\n",
              "      <td>MS</td>\n",
              "      <td>Chronic inactive</td>\n",
              "      <td>44</td>\n",
              "      <td>female</td>\n",
              "      <td>prefrontal</td>\n",
              "      <td>CAP6</td>\n",
              "      <td>...</td>\n",
              "      <td>41.0</td>\n",
              "      <td>6.0</td>\n",
              "      <td>6.0</td>\n",
              "      <td>1560</td>\n",
              "      <td>0.018838</td>\n",
              "      <td>0.003925</td>\n",
              "      <td>2548.0</td>\n",
              "      <td>1</td>\n",
              "      <td>Astrocyte</td>\n",
              "      <td>Astrocyte</td>\n",
              "    </tr>\n",
              "    <tr>\n",
              "      <th>TTTGTCATCCAAATGC-1_MS200_A303</th>\n",
              "      <td>-5.947137</td>\n",
              "      <td>-35.594686</td>\n",
              "      <td>16</td>\n",
              "      <td>MS200_A303</td>\n",
              "      <td>MS</td>\n",
              "      <td>Chronic inactive</td>\n",
              "      <td>44</td>\n",
              "      <td>female</td>\n",
              "      <td>prefrontal</td>\n",
              "      <td>CAP6</td>\n",
              "      <td>...</td>\n",
              "      <td>41.0</td>\n",
              "      <td>6.0</td>\n",
              "      <td>6.0</td>\n",
              "      <td>814</td>\n",
              "      <td>0.051595</td>\n",
              "      <td>0.019700</td>\n",
              "      <td>1066.0</td>\n",
              "      <td>8</td>\n",
              "      <td>Glutamatergic</td>\n",
              "      <td>PYR</td>\n",
              "    </tr>\n",
              "    <tr>\n",
              "      <th>TTTGTCATCTAACGGT-1_MS200_A303</th>\n",
              "      <td>-15.906688</td>\n",
              "      <td>23.322071</td>\n",
              "      <td>8</td>\n",
              "      <td>MS200_A303</td>\n",
              "      <td>MS</td>\n",
              "      <td>Chronic inactive</td>\n",
              "      <td>44</td>\n",
              "      <td>female</td>\n",
              "      <td>prefrontal</td>\n",
              "      <td>CAP6</td>\n",
              "      <td>...</td>\n",
              "      <td>41.0</td>\n",
              "      <td>6.0</td>\n",
              "      <td>6.0</td>\n",
              "      <td>1497</td>\n",
              "      <td>0.002778</td>\n",
              "      <td>0.010714</td>\n",
              "      <td>2520.0</td>\n",
              "      <td>1</td>\n",
              "      <td>Astrocyte</td>\n",
              "      <td>Astrocyte</td>\n",
              "    </tr>\n",
              "  </tbody>\n",
              "</table>\n",
              "<p>48918 rows × 30 columns</p>\n",
              "</div>\n",
              "      <button class=\"colab-df-convert\" onclick=\"convertToInteractive('df-5746631d-5242-4822-b883-fbd6d62b0b68')\"\n",
              "              title=\"Convert this dataframe to an interactive table.\"\n",
              "              style=\"display:none;\">\n",
              "        \n",
              "  <svg xmlns=\"http://www.w3.org/2000/svg\" height=\"24px\"viewBox=\"0 0 24 24\"\n",
              "       width=\"24px\">\n",
              "    <path d=\"M0 0h24v24H0V0z\" fill=\"none\"/>\n",
              "    <path d=\"M18.56 5.44l.94 2.06.94-2.06 2.06-.94-2.06-.94-.94-2.06-.94 2.06-2.06.94zm-11 1L8.5 8.5l.94-2.06 2.06-.94-2.06-.94L8.5 2.5l-.94 2.06-2.06.94zm10 10l.94 2.06.94-2.06 2.06-.94-2.06-.94-.94-2.06-.94 2.06-2.06.94z\"/><path d=\"M17.41 7.96l-1.37-1.37c-.4-.4-.92-.59-1.43-.59-.52 0-1.04.2-1.43.59L10.3 9.45l-7.72 7.72c-.78.78-.78 2.05 0 2.83L4 21.41c.39.39.9.59 1.41.59.51 0 1.02-.2 1.41-.59l7.78-7.78 2.81-2.81c.8-.78.8-2.07 0-2.86zM5.41 20L4 18.59l7.72-7.72 1.47 1.35L5.41 20z\"/>\n",
              "  </svg>\n",
              "      </button>\n",
              "      \n",
              "  <style>\n",
              "    .colab-df-container {\n",
              "      display:flex;\n",
              "      flex-wrap:wrap;\n",
              "      gap: 12px;\n",
              "    }\n",
              "\n",
              "    .colab-df-convert {\n",
              "      background-color: #E8F0FE;\n",
              "      border: none;\n",
              "      border-radius: 50%;\n",
              "      cursor: pointer;\n",
              "      display: none;\n",
              "      fill: #1967D2;\n",
              "      height: 32px;\n",
              "      padding: 0 0 0 0;\n",
              "      width: 32px;\n",
              "    }\n",
              "\n",
              "    .colab-df-convert:hover {\n",
              "      background-color: #E2EBFA;\n",
              "      box-shadow: 0px 1px 2px rgba(60, 64, 67, 0.3), 0px 1px 3px 1px rgba(60, 64, 67, 0.15);\n",
              "      fill: #174EA6;\n",
              "    }\n",
              "\n",
              "    [theme=dark] .colab-df-convert {\n",
              "      background-color: #3B4455;\n",
              "      fill: #D2E3FC;\n",
              "    }\n",
              "\n",
              "    [theme=dark] .colab-df-convert:hover {\n",
              "      background-color: #434B5C;\n",
              "      box-shadow: 0px 1px 3px 1px rgba(0, 0, 0, 0.15);\n",
              "      filter: drop-shadow(0px 1px 2px rgba(0, 0, 0, 0.3));\n",
              "      fill: #FFFFFF;\n",
              "    }\n",
              "  </style>\n",
              "\n",
              "      <script>\n",
              "        const buttonEl =\n",
              "          document.querySelector('#df-5746631d-5242-4822-b883-fbd6d62b0b68 button.colab-df-convert');\n",
              "        buttonEl.style.display =\n",
              "          google.colab.kernel.accessAllowed ? 'block' : 'none';\n",
              "\n",
              "        async function convertToInteractive(key) {\n",
              "          const element = document.querySelector('#df-5746631d-5242-4822-b883-fbd6d62b0b68');\n",
              "          const dataTable =\n",
              "            await google.colab.kernel.invokeFunction('convertToInteractive',\n",
              "                                                     [key], {});\n",
              "          if (!dataTable) return;\n",
              "\n",
              "          const docLinkHtml = 'Like what you see? Visit the ' +\n",
              "            '<a target=\"_blank\" href=https://colab.research.google.com/notebooks/data_table.ipynb>data table notebook</a>'\n",
              "            + ' to learn more about interactive tables.';\n",
              "          element.innerHTML = '';\n",
              "          dataTable['output_type'] = 'display_data';\n",
              "          await google.colab.output.renderOutput(dataTable, element);\n",
              "          const docLink = document.createElement('div');\n",
              "          docLink.innerHTML = docLinkHtml;\n",
              "          element.appendChild(docLink);\n",
              "        }\n",
              "      </script>\n",
              "    </div>\n",
              "  </div>\n",
              "  "
            ]
          },
          "metadata": {},
          "execution_count": 5
        }
      ],
      "source": [
        "adata.obs"
      ]
    },
    {
      "cell_type": "code",
      "execution_count": null,
      "metadata": {
        "id": "6fUEwaTIWtxU"
      },
      "outputs": [],
      "source": [
        "name_list = adata.var_names[adata.var.highly_variable]"
      ]
    },
    {
      "cell_type": "code",
      "execution_count": null,
      "metadata": {
        "id": "AGUGuLXhXCzX"
      },
      "outputs": [],
      "source": [
        "hv_list = []\n",
        "for i in range(35278):\n",
        "  if adata.var.highly_variable[i]==True :\n",
        "    hv_list.append(i)"
      ]
    },
    {
      "cell_type": "code",
      "execution_count": null,
      "metadata": {
        "id": "ktFUT3E4XEZw"
      },
      "outputs": [],
      "source": [
        "adata_h = adata[adata.obs.diagnosis == 'Control']\n",
        "adata_d = adata[adata.obs.diagnosis == 'MS']"
      ]
    },
    {
      "cell_type": "code",
      "execution_count": null,
      "metadata": {
        "id": "3N1oqDsYXOX0"
      },
      "outputs": [],
      "source": [
        "adata_h_hv = adata_h.X[:,hv_list[0]]\n",
        "adata_d_hv = adata_d.X[:,hv_list[0]]"
      ]
    },
    {
      "cell_type": "code",
      "execution_count": null,
      "metadata": {
        "id": "lG54aFSGXV1Z"
      },
      "outputs": [],
      "source": [
        "for i in range(1,2000):\n",
        "  adata_h_hv = hstack((adata_h_hv, adata_h.X[:,hv_list[i]]))\n",
        "  print(adata_h_hv.shape)"
      ]
    },
    {
      "cell_type": "code",
      "execution_count": null,
      "metadata": {
        "id": "Mbsitp-0X2G9"
      },
      "outputs": [],
      "source": [
        "for i in range(1,2000):\n",
        "  adata_d_hv = hstack((adata_d_hv, adata_d.X[:,hv_list[i]]))\n",
        "  print(adata_d_hv.shape)"
      ]
    },
    {
      "cell_type": "code",
      "execution_count": null,
      "metadata": {
        "id": "EL3XkVIhX7dg"
      },
      "outputs": [],
      "source": [
        "import numpy as np\n",
        "d1 = adata_d_hv.toarray()"
      ]
    },
    {
      "cell_type": "code",
      "execution_count": null,
      "metadata": {
        "id": "NFEYar1BZfRA"
      },
      "outputs": [],
      "source": [
        "d2 = adata_h_hv.toarray()"
      ]
    },
    {
      "cell_type": "code",
      "execution_count": null,
      "metadata": {
        "id": "CaKkVylBZof4"
      },
      "outputs": [],
      "source": [
        "!pip install contrastive"
      ]
    },
    {
      "cell_type": "code",
      "source": [
        "target = d1 # diseased\n",
        "backg = d2  # healthy"
      ],
      "metadata": {
        "id": "UBZH17pxeyfd"
      },
      "execution_count": null,
      "outputs": []
    },
    {
      "cell_type": "code",
      "source": [
        "target1 = d2 # HEALTHY\n",
        "backg1 = d1  # DISEASED"
      ],
      "metadata": {
        "id": "6F9nztxyfG4d"
      },
      "execution_count": null,
      "outputs": []
    },
    {
      "cell_type": "code",
      "source": [
        "d2.shape"
      ],
      "metadata": {
        "colab": {
          "base_uri": "https://localhost:8080/"
        },
        "id": "UOQ1_hukqC4u",
        "outputId": "366eb8ea-98ce-4c06-e980-d22f662a1065"
      },
      "execution_count": null,
      "outputs": [
        {
          "output_type": "execute_result",
          "data": {
            "text/plain": [
              "(17402, 2000)"
            ]
          },
          "metadata": {},
          "execution_count": 20
        }
      ]
    },
    {
      "cell_type": "code",
      "source": [
        "labels = d1.shape[0]*[0] + d2.shape[0]*[1]"
      ],
      "metadata": {
        "id": "Zo6nQ1UgsQPJ"
      },
      "execution_count": null,
      "outputs": []
    },
    {
      "cell_type": "code",
      "source": [
        "from cpca import CPCA\n",
        "mdl = CPCA()\n",
        "projected_data, alphas = mdl.fit_transform(target,backg,plot = True, active_labels = labels , return_alphas=True)"
      ],
      "metadata": {
        "colab": {
          "base_uri": "https://localhost:8080/",
          "height": 262
        },
        "id": "6Ti6TLfLfKBI",
        "outputId": "a363f0c5-2579-4f68-f953-047435430cbd"
      },
      "execution_count": null,
      "outputs": [
        {
          "metadata": {
            "tags": null
          },
          "name": "stderr",
          "output_type": "stream",
          "text": [
            "/content/cpca.py:40: RuntimeWarning: invalid value encountered in true_divide\n",
            "  standardized_array =  (array-np.mean(array,axis=0)) / np.std(array,axis=0)\n"
          ]
        },
        {
          "output_type": "display_data",
          "data": {
            "text/plain": [
              "<Figure size 1008x216 with 4 Axes>"
            ],
            "image/png": "[encoded data removed]"
          },
          "metadata": {
            "needs_background": "light"
          }
        }
      ]
    },
    {
      "cell_type": "code",
      "source": [
        "projected_data[1]"
      ],
      "metadata": {
        "colab": {
          "base_uri": "https://localhost:8080/"
        },
        "id": "16cVr4omwPxg",
        "outputId": "32c5943f-6c6a-4934-9941-f87caf01157a"
      },
      "execution_count": null,
      "outputs": [
        {
          "output_type": "execute_result",
          "data": {
            "text/plain": [
              "array([[  1.2875584 ,   3.9016142 ],\n",
              "       [  6.930484  , -10.166639  ],\n",
              "       [  8.377389  , -13.665174  ],\n",
              "       ...,\n",
              "       [ -0.61334854,  13.378937  ],\n",
              "       [  0.3708563 ,   0.94610435],\n",
              "       [ -3.4639585 ,  14.679944  ]], dtype=float32)"
            ]
          },
          "metadata": {},
          "execution_count": 25
        }
      ]
    },
    {
      "cell_type": "code",
      "source": [
        "np.save('v_top_dh.npy',v_top[1])"
      ],
      "metadata": {
        "id": "WDGQgQ4TtI-_"
      },
      "execution_count": null,
      "outputs": []
    },
    {
      "cell_type": "code",
      "source": [
        "from cpca_d import CPCA\n",
        "\n",
        "\n",
        "mdl = CPCA()\n",
        "projected_data1, alphas1 , v_top1 = mdl.fit_transform(target1,backg1,return_alphas=True)"
      ],
      "metadata": {
        "colab": {
          "base_uri": "https://localhost:8080/"
        },
        "id": "j8PP4oyufRGn",
        "outputId": "50c70fed-8899-43c6-b49c-0c408f58784d"
      },
      "execution_count": null,
      "outputs": [
        {
          "metadata": {
            "tags": null
          },
          "name": "stderr",
          "output_type": "stream",
          "text": [
            "/content/cpca_d.py:40: RuntimeWarning: invalid value encountered in true_divide\n",
            "  standardized_array =  (array-np.mean(array,axis=0)) / np.std(array,axis=0)\n"
          ]
        },
        {
          "metadata": {
            "tags": null
          },
          "name": "stdout",
          "output_type": "stream",
          "text": [
            "(17402, 2000)\n",
            "(31516, 2000)\n",
            "lelo\n",
            "(2000, 2)\n",
            "lelo\n",
            "(2000, 2)\n",
            "lelo\n",
            "(2000, 2)\n",
            "lelo\n",
            "(2000, 2)\n"
          ]
        }
      ]
    },
    {
      "cell_type": "code",
      "source": [
        "np.save('v_top_hd.npy',v_top1[1])"
      ],
      "metadata": {
        "id": "de0KgYJntjs9"
      },
      "execution_count": null,
      "outputs": []
    },
    {
      "cell_type": "code",
      "source": [
        "x = np.array([[8,9],[1,10],[6,8]])\n"
      ],
      "metadata": {
        "id": "Ih-uc2q1gGjP"
      },
      "execution_count": null,
      "outputs": []
    },
    {
      "cell_type": "code",
      "source": [
        "x[:,0].argsort()"
      ],
      "metadata": {
        "colab": {
          "base_uri": "https://localhost:8080/"
        },
        "id": "hKQKHVN7v-qk",
        "outputId": "d882cd59-7f3b-4405-fe51-ea2b0416fccd"
      },
      "execution_count": null,
      "outputs": [
        {
          "output_type": "execute_result",
          "data": {
            "text/plain": [
              "array([1, 2, 0])"
            ]
          },
          "metadata": {},
          "execution_count": 25
        }
      ]
    },
    {
      "cell_type": "code",
      "source": [
        "x[:,1].argsort()"
      ],
      "metadata": {
        "colab": {
          "base_uri": "https://localhost:8080/"
        },
        "id": "mT43P5dOwEbi",
        "outputId": "dc041614-e5f4-47f9-ee7b-263822673165"
      },
      "execution_count": null,
      "outputs": [
        {
          "output_type": "execute_result",
          "data": {
            "text/plain": [
              "array([2, 0, 1])"
            ]
          },
          "metadata": {},
          "execution_count": 26
        }
      ]
    },
    {
      "cell_type": "code",
      "source": [
        "v_top = np.load('/content/v_top_dh.npy')"
      ],
      "metadata": {
        "id": "gwT5lWTByVV3"
      },
      "execution_count": null,
      "outputs": []
    },
    {
      "cell_type": "code",
      "source": [
        "v_top.shape"
      ],
      "metadata": {
        "colab": {
          "base_uri": "https://localhost:8080/"
        },
        "id": "crXLRzPbyjJd",
        "outputId": "65f4f09d-f3df-4612-a46c-225d251695c1"
      },
      "execution_count": null,
      "outputs": [
        {
          "output_type": "execute_result",
          "data": {
            "text/plain": [
              "(2000, 2)"
            ]
          },
          "metadata": {},
          "execution_count": 36
        }
      ]
    },
    {
      "cell_type": "code",
      "source": [
        "v_top = v_top1[1]"
      ],
      "metadata": {
        "id": "pDjCj78B2XGZ"
      },
      "execution_count": null,
      "outputs": []
    },
    {
      "cell_type": "code",
      "source": [
        "v_top"
      ],
      "metadata": {
        "colab": {
          "base_uri": "https://localhost:8080/"
        },
        "id": "RBihvgUP2eTi",
        "outputId": "f3457370-a563-4e81-e1f4-4f78c12e8606"
      },
      "execution_count": null,
      "outputs": [
        {
          "output_type": "execute_result",
          "data": {
            "text/plain": [
              "array([[ 0.04525417,  0.00406726],\n",
              "       [-0.00409058,  0.00059412],\n",
              "       [ 0.02141474,  0.02589045],\n",
              "       ...,\n",
              "       [ 0.03304933, -0.02584853],\n",
              "       [ 0.03433793, -0.03169567],\n",
              "       [ 0.01855955, -0.008418  ]], dtype=float32)"
            ]
          },
          "metadata": {},
          "execution_count": 61
        }
      ]
    },
    {
      "cell_type": "code",
      "source": [
        "v_top = np.abs(v_top)\n",
        "v_pc1 = v_top[:,0].argsort()\n",
        "v_pc2 = v_top[:,1].argsort()"
      ],
      "metadata": {
        "id": "iECF6p-9wX9V"
      },
      "execution_count": null,
      "outputs": []
    },
    {
      "cell_type": "code",
      "source": [
        "v_pc1 = np.flip(v_pc1)\n",
        "v_pc2 = np.flip(v_pc2)"
      ],
      "metadata": {
        "id": "FZiesifTxoM8"
      },
      "execution_count": null,
      "outputs": []
    },
    {
      "cell_type": "code",
      "source": [
        "v_top_hd2_100 = name_list[v_pc2[:100]]\n",
        "v_top_hd2_250 = name_list[v_pc2[:250]]\n",
        "v_top_hd2_500 = name_list[v_pc2[:500]]"
      ],
      "metadata": {
        "id": "3gGOAkpNxLad"
      },
      "execution_count": null,
      "outputs": []
    },
    {
      "cell_type": "code",
      "source": [
        "textfile = open(\"/content/v_top_hd2_100.txt\", \"w\")\n",
        "for element in v_top_hd2_100:\n",
        "    textfile.write(element + \"\\n\")\n",
        "textfile.close()"
      ],
      "metadata": {
        "id": "0JjFykaoxM-u"
      },
      "execution_count": null,
      "outputs": []
    },
    {
      "cell_type": "code",
      "source": [
        "v_top_dh = np.load('/content/v_top_dh.npy')\n",
        "v_top_hd = np.load('/content/v_top_hd.npy')"
      ],
      "metadata": {
        "id": "wPd1TRse0_t8"
      },
      "execution_count": null,
      "outputs": []
    },
    {
      "cell_type": "code",
      "source": [
        "v_top_diff = v_top_dh - v_top_hd"
      ],
      "metadata": {
        "id": "xE9QmUsmzIi9"
      },
      "execution_count": null,
      "outputs": []
    },
    {
      "cell_type": "code",
      "source": [
        "np.save( 'v_top_diff.npy' , v_top_diff)"
      ],
      "metadata": {
        "id": "Sz0U0EXA4r5u"
      },
      "execution_count": null,
      "outputs": []
    },
    {
      "cell_type": "code",
      "source": [
        "cell_type = adata.obs.annot_level_2.unique()"
      ],
      "metadata": {
        "id": "fSoGk--X5tlm"
      },
      "execution_count": null,
      "outputs": []
    },
    {
      "cell_type": "code",
      "source": [
        "adata"
      ],
      "metadata": {
        "colab": {
          "base_uri": "https://localhost:8080/"
        },
        "id": "lD_FaMftdTLp",
        "outputId": "9f35d19f-0e8f-4370-8c3c-fa1c98dbe50c"
      },
      "execution_count": null,
      "outputs": [
        {
          "output_type": "execute_result",
          "data": {
            "text/plain": [
              "AnnData object with n_obs × n_vars = 48918 × 35278\n",
              "    obs: 'tsne1', 'tsne2', 'cluster_original', 'sample', 'diagnosis', 'stage', 'age', 'sex', 'region', 'Capbatch', 'Seqbatch', 'RIN', 'PMI', 'genes', 'UMIs', 'mito_perc', 'ribo_perc', 'lesion_stage', 'cluster', 'cell_type', 'DMGM_UL', 'DMGM_DL', 'DMWM', 'n_genes', 'percent_mito', 'percent_ribo', 'n_counts', 'leiden', 'annot_level_2', 'annot_level_3'\n",
              "    var: 'n_cells', 'highly_variable', 'means', 'dispersions', 'dispersions_norm', 'highly_variable_nbatches', 'highly_variable_intersection'\n",
              "    uns: 'annot_level_2_colors', 'annot_level_3_colors', 'cell_type_colors', 'cluster_colors', 'leiden', 'leiden_colors', 'neighbors', 'pca', 'region_colors', 'sample_colors', 'sex_colors', 'umap'\n",
              "    obsm: 'X_pca', 'X_umap'\n",
              "    varm: 'PCs'\n",
              "    layers: 'counts'\n",
              "    obsp: 'connectivities', 'distances'"
            ]
          },
          "metadata": {},
          "execution_count": 62
        }
      ]
    },
    {
      "cell_type": "code",
      "source": [
        "list(cell_type)"
      ],
      "metadata": {
        "colab": {
          "base_uri": "https://localhost:8080/"
        },
        "id": "4hSKZq1I6XPH",
        "outputId": "57cc3051-00b5-4307-c85b-3cfcce7e554a"
      },
      "execution_count": null,
      "outputs": [
        {
          "output_type": "execute_result",
          "data": {
            "text/plain": [
              "['Glutamatergic',\n",
              " 'GABAergic',\n",
              " 'Endothelial',\n",
              " 'Oligodendrocyte_Progenitor',\n",
              " 'Oligodendrocyte',\n",
              " 'Astrocyte',\n",
              " 'Stromal',\n",
              " 'Glia_MIX',\n",
              " 'Microglia',\n",
              " 'Phagocyte',\n",
              " 'T_Lymphocytes',\n",
              " 'B_Lymphocytes']"
            ]
          },
          "metadata": {},
          "execution_count": 64
        }
      ]
    },
    {
      "cell_type": "code",
      "source": [
        "import numpy as np"
      ],
      "metadata": {
        "id": "kF-Z75nkGWyt"
      },
      "execution_count": null,
      "outputs": []
    },
    {
      "cell_type": "code",
      "source": [
        "v_top_diff = np.load('/content/v_top_diff.npy')"
      ],
      "metadata": {
        "id": "CHh4T7rV61RH"
      },
      "execution_count": null,
      "outputs": []
    },
    {
      "cell_type": "code",
      "source": [
        "v_top_diff"
      ],
      "metadata": {
        "colab": {
          "base_uri": "https://localhost:8080/"
        },
        "id": "fYygGGXkGMPZ",
        "outputId": "74ebc763-98be-4f06-d08d-f33458724750"
      },
      "execution_count": null,
      "outputs": [
        {
          "output_type": "execute_result",
          "data": {
            "text/plain": [
              "array([[-0.03847814, -0.00622059],\n",
              "       [ 0.00093707, -0.00874805],\n",
              "       [-0.01214727,  0.00894204],\n",
              "       ...,\n",
              "       [-0.03336425,  0.01625623],\n",
              "       [-0.03592454,  0.00992747],\n",
              "       [-0.0170298 ,  0.00519518]], dtype=float32)"
            ]
          },
          "metadata": {},
          "execution_count": 10
        }
      ]
    },
    {
      "cell_type": "code",
      "source": [
        "v_top = v_top_diff\n",
        "v_top_abs = abs(v_top)"
      ],
      "metadata": {
        "id": "LLORTu0lGu8t"
      },
      "execution_count": null,
      "outputs": []
    },
    {
      "cell_type": "code",
      "source": [
        "v_pc1 = v_top[:,0].argsort()\n",
        "v_pc2 = v_top[:,1].argsort()"
      ],
      "metadata": {
        "id": "ZdVW2hWLHgxN"
      },
      "execution_count": null,
      "outputs": []
    },
    {
      "cell_type": "code",
      "source": [
        "v_pc1_abs = v_top_abs[:,0].argsort()\n",
        "v_pc2_abs = v_top_abs[:,1].argsort()"
      ],
      "metadata": {
        "id": "HgCzW85LIXwO"
      },
      "execution_count": null,
      "outputs": []
    },
    {
      "cell_type": "code",
      "source": [
        "v_top_abs2_100 = name_list[v_pc2[-100:]]\n",
        "v_top_abs2_250 = name_list[v_pc2[-250:]]\n",
        "v_top_abs2_500 = name_list[v_pc2[-500:]]"
      ],
      "metadata": {
        "id": "UYDmKxHHJFnO"
      },
      "execution_count": null,
      "outputs": []
    },
    {
      "cell_type": "code",
      "source": [
        "textfile = open(\"/content/v_top_abs2_100.txt\", \"w\")\n",
        "for element in v_top_abs2_100:\n",
        "    textfile.write(element + \"\\n\")\n",
        "textfile.close()"
      ],
      "metadata": {
        "id": "yPjx44rFJ9r_"
      },
      "execution_count": null,
      "outputs": []
    },
    {
      "cell_type": "code",
      "source": [
        "list(adata.obs.cell_type.unique())"
      ],
      "metadata": {
        "colab": {
          "base_uri": "https://localhost:8080/"
        },
        "id": "6T8lV_HSAfrT",
        "outputId": "930933c1-7107-448c-fd14-9409e123aba9"
      },
      "execution_count": null,
      "outputs": [
        {
          "output_type": "execute_result",
          "data": {
            "text/plain": [
              "['EN-L5-6',\n",
              " 'EN-L2-3-MS',\n",
              " 'IN-PV',\n",
              " 'EN-L4',\n",
              " 'EN-MIX',\n",
              " 'IN-SST',\n",
              " 'IN-VIP',\n",
              " 'Endo cells',\n",
              " 'OPC',\n",
              " 'EN-L2-3-Cntl',\n",
              " 'IN-SV2C',\n",
              " 'EN-PYR',\n",
              " 'OL-Cntl',\n",
              " 'Astrocytes',\n",
              " 'OL-MS-2',\n",
              " 'Stromal cells',\n",
              " 'OL-MS-1',\n",
              " 'Glia-MIX',\n",
              " 'Microglia',\n",
              " 'Phagocytes',\n",
              " 'T cells',\n",
              " 'B cells']"
            ]
          },
          "metadata": {},
          "execution_count": 13
        }
      ]
    },
    {
      "cell_type": "code",
      "source": [
        "list(adata.obs.annot_level_2.unique())"
      ],
      "metadata": {
        "colab": {
          "base_uri": "https://localhost:8080/"
        },
        "id": "O85wo_BQ_kwI",
        "outputId": "337b7f08-49fc-4ce7-c0a1-65e8acd9504c"
      },
      "execution_count": null,
      "outputs": [
        {
          "output_type": "execute_result",
          "data": {
            "text/plain": [
              "['Glutamatergic',\n",
              " 'GABAergic',\n",
              " 'Endothelial',\n",
              " 'Oligodendrocyte_Progenitor',\n",
              " 'Oligodendrocyte',\n",
              " 'Astrocyte',\n",
              " 'Stromal',\n",
              " 'Glia_MIX',\n",
              " 'Microglia',\n",
              " 'Phagocyte',\n",
              " 'T_Lymphocytes',\n",
              " 'B_Lymphocytes']"
            ]
          },
          "metadata": {},
          "execution_count": 10
        }
      ]
    },
    {
      "cell_type": "code",
      "source": [
        "subset = adata[adata.obs.cell_type=='Microglia']\n",
        "name_list1 = sc.pp.highly_variable_genes(subset, n_top_genes=2000)"
      ],
      "metadata": {
        "colab": {
          "base_uri": "https://localhost:8080/"
        },
        "id": "iVoj12tu45aG",
        "outputId": "ddc090bb-734e-45ab-ad5d-ed833d417398"
      },
      "execution_count": null,
      "outputs": [
        {
          "output_type": "stream",
          "name": "stderr",
          "text": [
            "/usr/local/lib/python3.8/dist-packages/anndata/compat/_overloaded_dict.py:106: ImplicitModificationWarning: Trying to modify attribute `._uns` of view, initializing view as actual.\n",
            "  self.data[key] = value\n"
          ]
        }
      ]
    },
    {
      "cell_type": "code",
      "source": [],
      "metadata": {
        "id": "MkG8M9vp_YI1"
      },
      "execution_count": null,
      "outputs": []
    },
    {
      "cell_type": "code",
      "source": [
        "subset.var.highly_variable"
      ],
      "metadata": {
        "colab": {
          "base_uri": "https://localhost:8080/"
        },
        "id": "Zu8R289_xTiQ",
        "outputId": "02245538-d849-4b53-c65e-1b28e2acff7c"
      },
      "execution_count": null,
      "outputs": [
        {
          "output_type": "execute_result",
          "data": {
            "text/plain": [
              "WASH7P           False\n",
              "RP11-34P13.3     False\n",
              "RP11-34P13.7     False\n",
              "CICP27           False\n",
              "RP11-34P13.15    False\n",
              "                 ...  \n",
              "MT-TL2           False\n",
              "MT-ND5            True\n",
              "MT-ND6           False\n",
              "MT-CYB           False\n",
              "MT-TP            False\n",
              "Name: highly_variable, Length: 35278, dtype: bool"
            ]
          },
          "metadata": {},
          "execution_count": 6
        }
      ]
    },
    {
      "cell_type": "code",
      "source": [
        "hv_list = []\n",
        "for i in range(35278):\n",
        "  if adata.var.highly_variable[i]==True :\n",
        "    hv_list.append(i)"
      ],
      "metadata": {
        "id": "RFgbVargxC6c"
      },
      "execution_count": null,
      "outputs": []
    },
    {
      "cell_type": "code",
      "source": [
        "len(hv_list)"
      ],
      "metadata": {
        "colab": {
          "base_uri": "https://localhost:8080/"
        },
        "id": "lMMp5pHgxg_N",
        "outputId": "41f000c2-3f87-4d09-b0c6-2ad9f9cb2354"
      },
      "execution_count": null,
      "outputs": [
        {
          "output_type": "execute_result",
          "data": {
            "text/plain": [
              "2000"
            ]
          },
          "metadata": {},
          "execution_count": 32
        }
      ]
    },
    {
      "cell_type": "code",
      "source": [
        "adata_h = subset[subset.obs.diagnosis == 'Control']\n",
        "adata_d = subset[subset.obs.diagnosis == 'MS']"
      ],
      "metadata": {
        "id": "0suaOjkhxjOj"
      },
      "execution_count": null,
      "outputs": []
    },
    {
      "cell_type": "code",
      "source": [
        "adata_h_hv = adata_h.X[:,hv_list[0]]\n",
        "adata_d_hv = adata_d.X[:,hv_list[0]]"
      ],
      "metadata": {
        "id": "6IFkk3TUx8J4"
      },
      "execution_count": null,
      "outputs": []
    },
    {
      "cell_type": "code",
      "source": [
        "adata_d"
      ],
      "metadata": {
        "colab": {
          "base_uri": "https://localhost:8080/"
        },
        "id": "pDzCdp6cy29M",
        "outputId": "8e578117-5621-43bf-d81b-7326ee5cc5ef"
      },
      "execution_count": null,
      "outputs": [
        {
          "output_type": "execute_result",
          "data": {
            "text/plain": [
              "View of AnnData object with n_obs × n_vars = 103 × 35278\n",
              "    obs: 'tsne1', 'tsne2', 'cluster_original', 'sample', 'diagnosis', 'stage', 'age', 'sex', 'region', 'Capbatch', 'Seqbatch', 'RIN', 'PMI', 'genes', 'UMIs', 'mito_perc', 'ribo_perc', 'lesion_stage', 'cluster', 'cell_type', 'DMGM_UL', 'DMGM_DL', 'DMWM', 'n_genes', 'percent_mito', 'percent_ribo', 'n_counts', 'leiden', 'annot_level_2', 'annot_level_3'\n",
              "    var: 'n_cells', 'highly_variable', 'means', 'dispersions', 'dispersions_norm', 'highly_variable_nbatches', 'highly_variable_intersection'\n",
              "    uns: 'annot_level_2_colors', 'annot_level_3_colors', 'cell_type_colors', 'cluster_colors', 'leiden', 'leiden_colors', 'neighbors', 'pca', 'region_colors', 'sample_colors', 'sex_colors', 'umap', 'hvg'\n",
              "    obsm: 'X_pca', 'X_umap'\n",
              "    varm: 'PCs'\n",
              "    layers: 'counts'\n",
              "    obsp: 'connectivities', 'distances'"
            ]
          },
          "metadata": {},
          "execution_count": 45
        }
      ]
    },
    {
      "cell_type": "code",
      "source": [
        "for i in range(1,2000):\n",
        "  adata_h_hv = hstack((adata_h_hv, adata_h.X[:,hv_list[i]]))\n",
        "  print(adata_h_hv.shape)"
      ],
      "metadata": {
        "id": "lSRwBEKTyTd5"
      },
      "execution_count": null,
      "outputs": []
    },
    {
      "cell_type": "code",
      "source": [
        "for i in range(1,2000):\n",
        "  adata_d_hv = hstack((adata_d_hv, adata_d.X[:,hv_list[i]]))\n",
        "  print(adata_d_hv.shape)"
      ],
      "metadata": {
        "id": "ELyNteFDywWr"
      },
      "execution_count": null,
      "outputs": []
    },
    {
      "cell_type": "code",
      "source": [
        "import numpy as np\n",
        "d1 = adata_d_hv.toarray()\n",
        "d2 = adata_h_hv.toarray()"
      ],
      "metadata": {
        "id": "ZQoTnxLwzTph"
      },
      "execution_count": null,
      "outputs": []
    },
    {
      "cell_type": "code",
      "source": [
        "target = d1 # diseased\n",
        "backg = d2  # healthy"
      ],
      "metadata": {
        "id": "qfKx_vtbzjvv"
      },
      "execution_count": null,
      "outputs": []
    },
    {
      "cell_type": "code",
      "source": [
        "d2.shape"
      ],
      "metadata": {
        "colab": {
          "base_uri": "https://localhost:8080/"
        },
        "id": "SgAtzpXr04UF",
        "outputId": "80c8d06f-eac3-4710-e0a6-e44e68b880ff"
      },
      "execution_count": null,
      "outputs": [
        {
          "output_type": "execute_result",
          "data": {
            "text/plain": [
              "(2, 2000)"
            ]
          },
          "metadata": {},
          "execution_count": 44
        }
      ]
    },
    {
      "cell_type": "code",
      "source": [
        "!pip install contrastive"
      ],
      "metadata": {
        "colab": {
          "base_uri": "https://localhost:8080/"
        },
        "id": "XIGtF3U9ztlF",
        "outputId": "8e841a96-df29-49ab-f3a2-d5680a635e8c"
      },
      "execution_count": null,
      "outputs": [
        {
          "output_type": "stream",
          "name": "stdout",
          "text": [
            "Looking in indexes: https://pypi.org/simple, https://us-python.pkg.dev/colab-wheels/public/simple/\n",
            "Collecting contrastive\n",
            "  Downloading contrastive-1.1.0.tar.gz (8.9 kB)\n",
            "Requirement already satisfied: numpy in /usr/local/lib/python3.8/dist-packages (from contrastive) (1.21.6)\n",
            "Collecting sklearn\n",
            "  Downloading sklearn-0.0.post1.tar.gz (3.6 kB)\n",
            "Requirement already satisfied: matplotlib in /usr/local/lib/python3.8/dist-packages (from contrastive) (3.1.3)\n",
            "Requirement already satisfied: pyparsing!=2.0.4,!=2.1.2,!=2.1.6,>=2.0.1 in /usr/local/lib/python3.8/dist-packages (from matplotlib->contrastive) (3.0.9)\n",
            "Requirement already satisfied: python-dateutil>=2.1 in /usr/local/lib/python3.8/dist-packages (from matplotlib->contrastive) (2.8.2)\n",
            "Requirement already satisfied: cycler>=0.10 in /usr/local/lib/python3.8/dist-packages (from matplotlib->contrastive) (0.11.0)\n",
            "Requirement already satisfied: kiwisolver>=1.0.1 in /usr/local/lib/python3.8/dist-packages (from matplotlib->contrastive) (1.4.4)\n",
            "Requirement already satisfied: six>=1.5 in /usr/local/lib/python3.8/dist-packages (from python-dateutil>=2.1->matplotlib->contrastive) (1.15.0)\n",
            "Building wheels for collected packages: contrastive, sklearn\n",
            "  Building wheel for contrastive (setup.py) ... \u001b[?25l\u001b[?25hdone\n",
            "  Created wheel for contrastive: filename=contrastive-1.1.0-py3-none-any.whl size=6946 sha256=8e75580e436c2f0e7bde05ee0e6e642952ee08995330f0f56066ef54bd6793cc\n",
            "  Stored in directory: /root/.cache/pip/wheels/c0/2f/8d/f0ee2e231586de792afdbedc07bd9e39f8ed2b7a4ac8f9508a\n",
            "  Building wheel for sklearn (setup.py) ... \u001b[?25l\u001b[?25hdone\n",
            "  Created wheel for sklearn: filename=sklearn-0.0.post1-py3-none-any.whl size=2344 sha256=d4c1bbb306b8acffb817b192d2c347d56b764ccf653252ba2dafa202fd23defc\n",
            "  Stored in directory: /root/.cache/pip/wheels/14/25/f7/1cc0956978ae479e75140219088deb7a36f60459df242b1a72\n",
            "Successfully built contrastive sklearn\n",
            "Installing collected packages: sklearn, contrastive\n",
            "Successfully installed contrastive-1.1.0 sklearn-0.0.post1\n"
          ]
        }
      ]
    },
    {
      "cell_type": "code",
      "source": [
        "from cpca_d import CPCA\n",
        "\n",
        "\n",
        "mdl = CPCA()\n",
        "projected_data, alphas , v_top = mdl.fit_transform(target,backg,return_alphas=True)"
      ],
      "metadata": {
        "colab": {
          "base_uri": "https://localhost:8080/"
        },
        "id": "f_bTG54_zwSs",
        "outputId": "e8e7bfe0-a1b5-4595-ce79-196c5b50b12b"
      },
      "execution_count": null,
      "outputs": [
        {
          "output_type": "stream",
          "name": "stderr",
          "text": [
            "/content/cpca_d.py:40: RuntimeWarning: invalid value encountered in true_divide\n",
            "  standardized_array =  (array-np.mean(array,axis=0)) / np.std(array,axis=0)\n"
          ]
        },
        {
          "output_type": "stream",
          "name": "stdout",
          "text": [
            "(103, 2000)\n",
            "(2, 2000)\n",
            "lelo\n",
            "(2000, 2)\n",
            "lelo\n",
            "(2000, 2)\n",
            "lelo\n",
            "(2000, 2)\n",
            "lelo\n",
            "(2000, 2)\n"
          ]
        }
      ]
    },
    {
      "cell_type": "code",
      "source": [
        "v_top = np.abs(v_top[1])\n",
        "v_pc1 = v_top[:,0].argsort()\n",
        "v_pc2 = v_top[:,1].argsort()"
      ],
      "metadata": {
        "id": "Fv8jdBf00lvK"
      },
      "execution_count": null,
      "outputs": []
    },
    {
      "cell_type": "code",
      "source": [
        "v_pc1 = np.flip(v_pc1)\n",
        "v_pc2 = np.flip(v_pc2)"
      ],
      "metadata": {
        "id": "aBO8hSvN300t"
      },
      "execution_count": null,
      "outputs": []
    },
    {
      "cell_type": "code",
      "source": [
        "v_top_dh_100 = name_list[v_pc2[:100]]\n",
        "v_top_dh_250 = name_list[v_pc2[:250]]\n",
        "v_top_dh_500 = name_list[v_pc2[:500]]"
      ],
      "metadata": {
        "id": "MAPe4o9l6W1D"
      },
      "execution_count": null,
      "outputs": []
    },
    {
      "cell_type": "code",
      "source": [
        "textfile = open(\"/content/v_top_dh2_100.txt\", \"w\")\n",
        "for element in v_top_dh_100:\n",
        "    textfile.write(element + \"\\n\")\n",
        "textfile.close()"
      ],
      "metadata": {
        "id": "lW8CxvcH6erT"
      },
      "execution_count": null,
      "outputs": []
    },
    {
      "cell_type": "code",
      "source": [
        "v2_pc1.shape"
      ],
      "metadata": {
        "colab": {
          "base_uri": "https://localhost:8080/"
        },
        "id": "MCJwsAsyEiUL",
        "outputId": "359fb6c6-c19e-460e-d00e-6169ed8a74a0"
      },
      "execution_count": null,
      "outputs": [
        {
          "output_type": "execute_result",
          "data": {
            "text/plain": [
              "(2000,)"
            ]
          },
          "metadata": {},
          "execution_count": 18
        }
      ]
    },
    {
      "cell_type": "code",
      "source": [],
      "metadata": {
        "id": "_p7dDdHdHGqK"
      },
      "execution_count": null,
      "outputs": []
    },
    {
      "cell_type": "code",
      "source": [
        "name_list.shape"
      ],
      "metadata": {
        "colab": {
          "base_uri": "https://localhost:8080/",
          "height": 165
        },
        "id": "QHShfuPLG9-B",
        "outputId": "8a0942c7-a364-4d87-dcbf-99636642ebeb"
      },
      "execution_count": null,
      "outputs": [
        {
          "output_type": "error",
          "ename": "AttributeError",
          "evalue": "ignored",
          "traceback": [
            "\u001b[0;31m---------------------------------------------------------------------------\u001b[0m",
            "\u001b[0;31mAttributeError\u001b[0m                            Traceback (most recent call last)",
            "\u001b[0;32m<ipython-input-20-1d9630650d9c>\u001b[0m in \u001b[0;36m<module>\u001b[0;34m\u001b[0m\n\u001b[0;32m----> 1\u001b[0;31m \u001b[0mname_list\u001b[0m\u001b[0;34m.\u001b[0m\u001b[0mshape\u001b[0m\u001b[0;34m\u001b[0m\u001b[0;34m\u001b[0m\u001b[0m\n\u001b[0m",
            "\u001b[0;31mAttributeError\u001b[0m: 'NoneType' object has no attribute 'shape'"
          ]
        }
      ]
    },
    {
      "cell_type": "code",
      "source": [
        "path = '/content/drive/MyDrive/msdata.h5ad'\n",
        "adata = sc.read(path)"
      ],
      "metadata": {
        "id": "BrxrAF_5P_N8"
      },
      "execution_count": null,
      "outputs": []
    },
    {
      "cell_type": "code",
      "source": [
        "list(adata.obs.annot_level_2.unique())"
      ],
      "metadata": {
        "colab": {
          "base_uri": "https://localhost:8080/"
        },
        "id": "7rby6F59Pqy3",
        "outputId": "2b80ebda-30a4-4f3b-c52d-c910600aa07d"
      },
      "execution_count": null,
      "outputs": [
        {
          "output_type": "execute_result",
          "data": {
            "text/plain": [
              "['Glutamatergic',\n",
              " 'GABAergic',\n",
              " 'Endothelial',\n",
              " 'Oligodendrocyte_Progenitor',\n",
              " 'Oligodendrocyte',\n",
              " 'Astrocyte',\n",
              " 'Stromal',\n",
              " 'Glia_MIX',\n",
              " 'Microglia',\n",
              " 'Phagocyte',\n",
              " 'T_Lymphocytes',\n",
              " 'B_Lymphocytes']"
            ]
          },
          "metadata": {},
          "execution_count": 6
        }
      ]
    },
    {
      "cell_type": "code",
      "source": [
        "import time\n",
        "import matplotlib.pyplot as plt\n",
        "import seaborn as sns\n",
        "import os\n",
        "\n",
        "#!pip install scvelo\n",
        "#!pip install git+https://github.com/csgroen/scycle.git#egg=scycle\n",
        "#!pip install  --no-dependencies  git+https://github.com/j-bac/elpigraph-python.git\n",
        "# from elpigraph_ps_tools import *\n",
        "#import elpigraph\n",
        "import scanpy as sc\n",
        "import anndata\n",
        "import numpy as np\n",
        "from cpca_d import CPCA\n",
        "\n",
        "import importlib\n",
        "from sklearn.decomposition import PCA\n",
        "\n",
        "import matplotlib as mpl\n",
        "import matplotlib.pyplot as plt\n",
        "from sklearn.neighbors import NearestNeighbors\n",
        "\n",
        "from scipy.sparse import hstack\n",
        "\n",
        "path = '/content/drive/MyDrive/msdata.h5ad'\n",
        "adata = sc.read(path)\n",
        "\n",
        "cell_type = adata.obs.annot_level_2.unique()\n",
        "cell_type = ['B_Lymphocytes']\n",
        "\n",
        "for cell in cell_type:\n",
        "    print(cell)\n",
        "    subset = adata[adata.obs.annot_level_2==cell]\n",
        "    p = sc.pp.highly_variable_genes(subset, n_top_genes=2000)\n",
        "    name_list = subset.var_names[subset.var.highly_variable]\n",
        "    hv_list = []\n",
        "    k = len(subset.var.highly_variable)\n",
        "    for i in range(35278):\n",
        "        if subset.var.highly_variable[i]==True :\n",
        "            hv_list.append(i)\n",
        "\n",
        "    adata_h = subset[subset.obs.diagnosis == 'Control']\n",
        "    adata_d = subset[subset.obs.diagnosis == 'MS']\n",
        "\n",
        "    adata_h_hv = adata_h.X[:,hv_list[0]]\n",
        "    adata_d_hv = adata_d.X[:,hv_list[0]]\n",
        "\n",
        "    for i in range(1,2000):\n",
        "        adata_h_hv = hstack((adata_h_hv, adata_h.X[:,hv_list[i]]))\n",
        "        if i%100==0 :\n",
        "          print(adata_h_hv.shape)\n",
        "\n",
        "    for i in range(1,2000):\n",
        "        adata_d_hv = hstack((adata_d_hv, adata_d.X[:,hv_list[i]]))\n",
        "        if i%100==0 :\n",
        "          print(adata_d_hv.shape)\n",
        "\n",
        "    d1 = adata_d_hv.toarray()\n",
        "    d2 = adata_h_hv.toarray()\n",
        "\n",
        "    target = d1 # diseased\n",
        "    backg = d2  # healthy\n",
        "\n",
        "    target1 = d2 #healthy\n",
        "    backg1 = d1 #diseased\n",
        "\n",
        "    mdl = CPCA()\n",
        "    projected_data, alphas , v_top = mdl.fit_transform(target,backg,return_alphas=True)\n",
        "\n",
        "    mdl = CPCA()\n",
        "    projected_data1, alphas1 , v_top_1 = mdl.fit_transform(target1,backg1,return_alphas=True)\n",
        "\n",
        "    v_diff = v_top[1] - v_top_1[1]\n",
        "    v_diff_abs = np.abs(v_diff)\n",
        "\n",
        "    v_pc1 = v_diff[:,0].argsort()\n",
        "    v_pc2 = v_diff[:,1].argsort()\n",
        "\n",
        "    v_pc1_abs = v_diff_abs[:,0].argsort()\n",
        "    v_pc2_abs = v_diff_abs[:,1].argsort()\n",
        "\n",
        "    v_pc1_abs = np.flip(v_pc1_abs)\n",
        "    v_pc2_abs = np.flip(v_pc2_abs)\n",
        "\n",
        "    v_top1 = np.abs(v_top[1])\n",
        "    v1_pc1 = v_top1[:,0].argsort()\n",
        "    v1_pc2 = v_top1[:,1].argsort()\n",
        "\n",
        "    v1_pc1 = np.flip(v1_pc1)\n",
        "    v1_pc2 = np.flip(v1_pc2)\n",
        "\n",
        "    v_top2 = np.abs(v_top_1[1])\n",
        "    v2_pc1 = v_top2[:,0].argsort()\n",
        "    v2_pc2 = v_top2[:,1].argsort()\n",
        "\n",
        "    v2_pc1 = np.flip(v2_pc1)\n",
        "    v2_pc2 = np.flip(v2_pc2)\n",
        "\n",
        "    file_name = []\n",
        "\n",
        "\n",
        "    v_top_dh1_100 = name_list[v1_pc1[:100]]\n",
        "    v_top_dh1_250 = name_list[v1_pc1[:250]]\n",
        "    v_top_dh1_500 = name_list[v1_pc1[:500]]\n",
        "\n",
        "    file_name.append([\"v_top_dh1_100\",v_top_dh1_100])\n",
        "    file_name.append([\"v_top_dh1_250\",v_top_dh1_250])\n",
        "    file_name.append([\"v_top_dh1_500\",v_top_dh1_500])\n",
        "\n",
        "    v_top_dh2_100 = name_list[v1_pc2[:100]]\n",
        "    v_top_dh2_250 = name_list[v1_pc2[:250]]\n",
        "    v_top_dh2_500 = name_list[v1_pc2[:500]]\n",
        "\n",
        "    file_name.append([\"v_top_dh2_100\" , v_top_dh2_100])\n",
        "    file_name.append([\"v_top_dh2_250\" ,v_top_dh2_250])\n",
        "    file_name.append([\"v_top_dh2_500\" ,v_top_dh2_500])\n",
        "\n",
        "    v_top_hd1_100 = name_list[v2_pc1[:100]]\n",
        "    v_top_hd1_250 = name_list[v2_pc1[:250]]\n",
        "    v_top_hd1_500 = name_list[v2_pc1[:500]]\n",
        "\n",
        "    file_name.append(['v_top_hd1_100' , v_top_hd1_100])\n",
        "    file_name.append([\"v_top_hd1_250\" , v_top_hd1_250])\n",
        "    file_name.append([\"v_top_hd1_500\" , v_top_hd1_500])\n",
        "\n",
        "    v_top_hd2_100 = name_list[v2_pc2[:100]]\n",
        "    v_top_hd2_250 = name_list[v2_pc2[:250]]\n",
        "    v_top_hd2_500 = name_list[v2_pc2[:500]]\n",
        "\n",
        "    file_name.append(['v_top_hd2_100' , v_top_hd2_100])\n",
        "    file_name.append([\"v_top_hd2_250\" , v_top_hd2_250])\n",
        "    file_name.append([\"v_top_hd2_500\" , v_top_hd2_500])\n",
        "\n",
        "    v_diff_pos1_100 = name_list[v_pc1[-100:]]\n",
        "    v_diff_pos1_250 = name_list[v_pc1[-250:]]\n",
        "    v_diff_pos1_500 = name_list[v_pc1[-500:]]\n",
        "\n",
        "    file_name.append([\"v_diff_pos1_100\" , v_diff_pos1_100])\n",
        "    file_name.append([\"v_diff_pos1_250\" , v_diff_pos1_250])\n",
        "    file_name.append([\"v_diff_pos1_500\" , v_diff_pos1_500])\n",
        "\n",
        "    v_diff_neg1_100 = name_list[v_pc1[:100]]\n",
        "    v_diff_neg1_250 = name_list[v_pc1[:250]]\n",
        "    v_diff_neg1_500 = name_list[v_pc1[:500]]\n",
        "\n",
        "    file_name.append([\"v_diff_neg1_100\" , v_diff_neg1_100])\n",
        "    file_name.append([\"v_diff_neg1_250\" , v_diff_neg1_250])\n",
        "    file_name.append([\"v_diff_neg1_500\" , v_diff_neg1_500])\n",
        "\n",
        "    v_diff_pos2_100 = name_list[v_pc2[-100:]]\n",
        "    v_diff_pos2_250 = name_list[v_pc2[-250:]]\n",
        "    v_diff_pos2_500 = name_list[v_pc2[-500:]]\n",
        "\n",
        "    file_name.append([\"v_diff_pos2_100\" , v_diff_pos2_100])\n",
        "    file_name.append([\"v_diff_pos2_250\" , v_diff_pos2_250])\n",
        "    file_name.append([\"v_diff_pos2_500\" , v_diff_pos2_500])\n",
        "\n",
        "    v_diff_neg2_100 = name_list[v_pc2[:100]]\n",
        "    v_diff_neg2_250 = name_list[v_pc2[:250]]\n",
        "    v_diff_neg2_500 = name_list[v_pc2[:500]]\n",
        "\n",
        "    file_name.append([\"v_diff_neg2_100\" , v_diff_neg2_100])\n",
        "    file_name.append([\"v_diff_neg2_250\" , v_diff_neg2_250])\n",
        "    file_name.append([\"v_diff_neg2_500\" , v_diff_neg2_500])\n",
        "\n",
        "    v_diff_abs1_100 = name_list[v_pc1_abs[:100]]\n",
        "    v_diff_abs1_250 = name_list[v_pc1_abs[:250]]\n",
        "    v_diff_abs1_500 = name_list[v_pc1_abs[:500]]\n",
        "\n",
        "    file_name.append([\"v_diff_abs1_100\" , v_diff_abs1_100])\n",
        "    file_name.append([\"v_diff_abs1_250\" , v_diff_abs1_250])\n",
        "    file_name.append([\"v_diff_abs1_500\" , v_diff_abs1_500])\n",
        "\n",
        "    v_diff_abs2_100 = name_list[v_pc2_abs[:100]]\n",
        "    v_diff_abs2_250 = name_list[v_pc2_abs[:250]]\n",
        "    v_diff_abs2_500 = name_list[v_pc2_abs[:500]]\n",
        "\n",
        "    file_name.append([\"v_diff_abs2_100\" , v_diff_abs2_100])\n",
        "    file_name.append([\"v_diff_abs2_250\" , v_diff_abs2_250])\n",
        "    file_name.append([\"v_diff_abs2_500\" , v_diff_abs2_500])\n",
        "\n",
        "    os.makedirs('/content/drive/MyDrive/' + cell)\n",
        "    for file in file_name:\n",
        "        textfile = open(\"/content/drive/MyDrive/\" + cell + \"/\" + str(file[0]) + \".txt\", \"w\")\n",
        "        for element in file[1]:\n",
        "            textfile.write(element + \"\\n\")\n",
        "        textfile.close()"
      ],
      "metadata": {
        "id": "XeLpEsSAxRgh",
        "colab": {
          "base_uri": "https://localhost:8080/",
          "height": 1000
        },
        "outputId": "aaaa1965-4502-4d6c-8337-a71d02042073"
      },
      "execution_count": null,
      "outputs": [
        {
          "output_type": "stream",
          "name": "stdout",
          "text": [
            "B_Lymphocytes\n"
          ]
        },
        {
          "output_type": "stream",
          "name": "stderr",
          "text": [
            "/usr/local/lib/python3.8/dist-packages/anndata/compat/_overloaded_dict.py:106: ImplicitModificationWarning: Trying to modify attribute `._uns` of view, initializing view as actual.\n",
            "  self.data[key] = value\n"
          ]
        },
        {
          "output_type": "stream",
          "name": "stdout",
          "text": [
            "(0, 101)\n",
            "(0, 201)\n",
            "(0, 301)\n",
            "(0, 401)\n",
            "(0, 501)\n",
            "(0, 601)\n",
            "(0, 701)\n",
            "(0, 801)\n",
            "(0, 901)\n",
            "(0, 1001)\n",
            "(0, 1101)\n",
            "(0, 1201)\n",
            "(0, 1301)\n",
            "(0, 1401)\n",
            "(0, 1501)\n",
            "(0, 1601)\n",
            "(0, 1701)\n",
            "(0, 1801)\n",
            "(0, 1901)\n",
            "(53, 101)\n",
            "(53, 201)\n",
            "(53, 301)\n",
            "(53, 401)\n",
            "(53, 501)\n",
            "(53, 601)\n",
            "(53, 701)\n",
            "(53, 801)\n",
            "(53, 901)\n",
            "(53, 1001)\n",
            "(53, 1101)\n",
            "(53, 1201)\n",
            "(53, 1301)\n",
            "(53, 1401)\n",
            "(53, 1501)\n",
            "(53, 1601)\n",
            "(53, 1701)\n",
            "(53, 1801)\n",
            "(53, 1901)\n"
          ]
        },
        {
          "output_type": "stream",
          "name": "stderr",
          "text": [
            "/usr/local/lib/python3.8/dist-packages/numpy/core/fromnumeric.py:3440: RuntimeWarning: Mean of empty slice.\n",
            "  return _methods._mean(a, axis=axis, dtype=dtype,\n",
            "/usr/local/lib/python3.8/dist-packages/numpy/core/_methods.py:181: RuntimeWarning: invalid value encountered in true_divide\n",
            "  ret = um.true_divide(\n",
            "/usr/local/lib/python3.8/dist-packages/numpy/core/_methods.py:262: RuntimeWarning: Degrees of freedom <= 0 for slice\n",
            "  ret = _var(a, axis=axis, dtype=dtype, out=out, ddof=ddof,\n",
            "/usr/local/lib/python3.8/dist-packages/numpy/core/_methods.py:222: RuntimeWarning: invalid value encountered in true_divide\n",
            "  arrmean = um.true_divide(arrmean, div, out=arrmean, casting='unsafe',\n",
            "/usr/local/lib/python3.8/dist-packages/numpy/core/_methods.py:251: RuntimeWarning: invalid value encountered in true_divide\n",
            "  ret = um.true_divide(\n"
          ]
        },
        {
          "output_type": "stream",
          "name": "stdout",
          "text": [
            "(53, 2000)\n",
            "(0, 2000)\n",
            "lelo\n",
            "(2000, 2)\n",
            "lelo\n",
            "(2000, 2)\n",
            "lelo\n",
            "(2000, 2)\n",
            "lelo\n",
            "(2000, 2)\n",
            "(0, 2000)\n",
            "(53, 2000)\n"
          ]
        },
        {
          "output_type": "stream",
          "name": "stderr",
          "text": [
            "/usr/local/lib/python3.8/dist-packages/numpy/core/fromnumeric.py:3440: RuntimeWarning: Mean of empty slice.\n",
            "  return _methods._mean(a, axis=axis, dtype=dtype,\n",
            "/usr/local/lib/python3.8/dist-packages/numpy/core/_methods.py:181: RuntimeWarning: invalid value encountered in true_divide\n",
            "  ret = um.true_divide(\n",
            "/usr/local/lib/python3.8/dist-packages/numpy/core/_methods.py:262: RuntimeWarning: Degrees of freedom <= 0 for slice\n",
            "  ret = _var(a, axis=axis, dtype=dtype, out=out, ddof=ddof,\n",
            "/usr/local/lib/python3.8/dist-packages/numpy/core/_methods.py:222: RuntimeWarning: invalid value encountered in true_divide\n",
            "  arrmean = um.true_divide(arrmean, div, out=arrmean, casting='unsafe',\n",
            "/usr/local/lib/python3.8/dist-packages/numpy/core/_methods.py:251: RuntimeWarning: invalid value encountered in true_divide\n",
            "  ret = um.true_divide(\n"
          ]
        },
        {
          "output_type": "error",
          "ename": "IndexError",
          "evalue": "ignored",
          "traceback": [
            "\u001b[0;31m---------------------------------------------------------------------------\u001b[0m",
            "\u001b[0;31mIndexError\u001b[0m                                Traceback (most recent call last)",
            "\u001b[0;32m<ipython-input-8-eb0859920e77>\u001b[0m in \u001b[0;36m<module>\u001b[0;34m\u001b[0m\n\u001b[1;32m     69\u001b[0m \u001b[0;34m\u001b[0m\u001b[0m\n\u001b[1;32m     70\u001b[0m     \u001b[0mmdl\u001b[0m \u001b[0;34m=\u001b[0m \u001b[0mCPCA\u001b[0m\u001b[0;34m(\u001b[0m\u001b[0;34m)\u001b[0m\u001b[0;34m\u001b[0m\u001b[0;34m\u001b[0m\u001b[0m\n\u001b[0;32m---> 71\u001b[0;31m     \u001b[0mprojected_data1\u001b[0m\u001b[0;34m,\u001b[0m \u001b[0malphas1\u001b[0m \u001b[0;34m,\u001b[0m \u001b[0mv_top_1\u001b[0m \u001b[0;34m=\u001b[0m \u001b[0mmdl\u001b[0m\u001b[0;34m.\u001b[0m\u001b[0mfit_transform\u001b[0m\u001b[0;34m(\u001b[0m\u001b[0mtarget1\u001b[0m\u001b[0;34m,\u001b[0m\u001b[0mbackg1\u001b[0m\u001b[0;34m,\u001b[0m\u001b[0mreturn_alphas\u001b[0m\u001b[0;34m=\u001b[0m\u001b[0;32mTrue\u001b[0m\u001b[0;34m)\u001b[0m\u001b[0;34m\u001b[0m\u001b[0;34m\u001b[0m\u001b[0m\n\u001b[0m\u001b[1;32m     72\u001b[0m \u001b[0;34m\u001b[0m\u001b[0m\n\u001b[1;32m     73\u001b[0m     \u001b[0mv_diff\u001b[0m \u001b[0;34m=\u001b[0m \u001b[0mv_top\u001b[0m\u001b[0;34m[\u001b[0m\u001b[0;36m1\u001b[0m\u001b[0;34m]\u001b[0m \u001b[0;34m-\u001b[0m \u001b[0mv_top_1\u001b[0m\u001b[0;34m[\u001b[0m\u001b[0;36m1\u001b[0m\u001b[0;34m]\u001b[0m\u001b[0;34m\u001b[0m\u001b[0;34m\u001b[0m\u001b[0m\n",
            "\u001b[0;32m/content/cpca_d.py\u001b[0m in \u001b[0;36mfit_transform\u001b[0;34m(self, foreground, background, plot, gui, alpha_selection, n_alphas, max_log_alpha, n_alphas_to_return, active_labels, colors, legend, alpha_value, return_alphas)\u001b[0m\n\u001b[1;32m     56\u001b[0m     \u001b[0;32mdef\u001b[0m \u001b[0mfit_transform\u001b[0m\u001b[0;34m(\u001b[0m\u001b[0mself\u001b[0m\u001b[0;34m,\u001b[0m \u001b[0mforeground\u001b[0m\u001b[0;34m,\u001b[0m \u001b[0mbackground\u001b[0m\u001b[0;34m,\u001b[0m \u001b[0mplot\u001b[0m\u001b[0;34m=\u001b[0m\u001b[0;32mFalse\u001b[0m\u001b[0;34m,\u001b[0m \u001b[0mgui\u001b[0m\u001b[0;34m=\u001b[0m\u001b[0;32mFalse\u001b[0m\u001b[0;34m,\u001b[0m \u001b[0malpha_selection\u001b[0m\u001b[0;34m=\u001b[0m\u001b[0;34m'auto'\u001b[0m\u001b[0;34m,\u001b[0m \u001b[0mn_alphas\u001b[0m\u001b[0;34m=\u001b[0m\u001b[0;36m40\u001b[0m\u001b[0;34m,\u001b[0m  \u001b[0mmax_log_alpha\u001b[0m\u001b[0;34m=\u001b[0m\u001b[0;36m3\u001b[0m\u001b[0;34m,\u001b[0m \u001b[0mn_alphas_to_return\u001b[0m\u001b[0;34m=\u001b[0m\u001b[0;36m4\u001b[0m\u001b[0;34m,\u001b[0m \u001b[0mactive_labels\u001b[0m \u001b[0;34m=\u001b[0m \u001b[0;32mNone\u001b[0m\u001b[0;34m,\u001b[0m \u001b[0mcolors\u001b[0m\u001b[0;34m=\u001b[0m\u001b[0;32mNone\u001b[0m\u001b[0;34m,\u001b[0m \u001b[0mlegend\u001b[0m\u001b[0;34m=\u001b[0m\u001b[0;32mNone\u001b[0m\u001b[0;34m,\u001b[0m \u001b[0malpha_value\u001b[0m\u001b[0;34m=\u001b[0m\u001b[0;32mNone\u001b[0m\u001b[0;34m,\u001b[0m \u001b[0mreturn_alphas\u001b[0m\u001b[0;34m=\u001b[0m\u001b[0;32mFalse\u001b[0m\u001b[0;34m)\u001b[0m\u001b[0;34m:\u001b[0m\u001b[0;34m\u001b[0m\u001b[0;34m\u001b[0m\u001b[0m\n\u001b[1;32m     57\u001b[0m         \u001b[0mself\u001b[0m\u001b[0;34m.\u001b[0m\u001b[0mfit\u001b[0m\u001b[0;34m(\u001b[0m\u001b[0mforeground\u001b[0m\u001b[0;34m,\u001b[0m \u001b[0mbackground\u001b[0m\u001b[0;34m)\u001b[0m\u001b[0;34m\u001b[0m\u001b[0;34m\u001b[0m\u001b[0m\n\u001b[0;32m---> 58\u001b[0;31m         \u001b[0;32mreturn\u001b[0m \u001b[0mself\u001b[0m\u001b[0;34m.\u001b[0m\u001b[0mtransform\u001b[0m\u001b[0;34m(\u001b[0m\u001b[0mdataset\u001b[0m\u001b[0;34m=\u001b[0m\u001b[0mself\u001b[0m\u001b[0;34m.\u001b[0m\u001b[0mfg\u001b[0m\u001b[0;34m,\u001b[0m \u001b[0malpha_selection\u001b[0m\u001b[0;34m=\u001b[0m\u001b[0malpha_selection\u001b[0m\u001b[0;34m,\u001b[0m  \u001b[0mn_alphas\u001b[0m\u001b[0;34m=\u001b[0m\u001b[0mn_alphas\u001b[0m\u001b[0;34m,\u001b[0m \u001b[0mmax_log_alpha\u001b[0m\u001b[0;34m=\u001b[0m\u001b[0mmax_log_alpha\u001b[0m\u001b[0;34m,\u001b[0m \u001b[0mn_alphas_to_return\u001b[0m\u001b[0;34m=\u001b[0m\u001b[0mn_alphas_to_return\u001b[0m\u001b[0;34m,\u001b[0m \u001b[0mplot\u001b[0m\u001b[0;34m=\u001b[0m\u001b[0mplot\u001b[0m\u001b[0;34m,\u001b[0m \u001b[0mgui\u001b[0m\u001b[0;34m=\u001b[0m\u001b[0mgui\u001b[0m\u001b[0;34m,\u001b[0m \u001b[0mactive_labels\u001b[0m\u001b[0;34m=\u001b[0m\u001b[0mactive_labels\u001b[0m\u001b[0;34m,\u001b[0m \u001b[0mcolors\u001b[0m\u001b[0;34m=\u001b[0m\u001b[0mcolors\u001b[0m\u001b[0;34m,\u001b[0m \u001b[0mlegend\u001b[0m\u001b[0;34m=\u001b[0m\u001b[0mlegend\u001b[0m\u001b[0;34m,\u001b[0m \u001b[0malpha_value\u001b[0m\u001b[0;34m=\u001b[0m\u001b[0malpha_value\u001b[0m\u001b[0;34m,\u001b[0m \u001b[0mreturn_alphas\u001b[0m\u001b[0;34m=\u001b[0m\u001b[0mreturn_alphas\u001b[0m\u001b[0;34m)\u001b[0m\u001b[0;34m\u001b[0m\u001b[0;34m\u001b[0m\u001b[0m\n\u001b[0m\u001b[1;32m     59\u001b[0m \u001b[0;34m\u001b[0m\u001b[0m\n\u001b[1;32m     60\u001b[0m         \"\"\"\n",
            "\u001b[0;32m/content/cpca_d.py\u001b[0m in \u001b[0;36mtransform\u001b[0;34m(self, dataset, alpha_selection, n_alphas, max_log_alpha, n_alphas_to_return, plot, gui, active_labels, colors, legend, alpha_value, return_alphas)\u001b[0m\n\u001b[1;32m    231\u001b[0m         \u001b[0;32melse\u001b[0m\u001b[0;34m:\u001b[0m\u001b[0;34m\u001b[0m\u001b[0;34m\u001b[0m\u001b[0m\n\u001b[1;32m    232\u001b[0m             \u001b[0;32mif\u001b[0m \u001b[0;34m(\u001b[0m\u001b[0malpha_selection\u001b[0m\u001b[0;34m==\u001b[0m\u001b[0;34m'auto'\u001b[0m\u001b[0;34m)\u001b[0m\u001b[0;34m:\u001b[0m\u001b[0;34m\u001b[0m\u001b[0;34m\u001b[0m\u001b[0m\n\u001b[0;32m--> 233\u001b[0;31m                 \u001b[0mtransformed_data\u001b[0m\u001b[0;34m,\u001b[0m \u001b[0mbest_alphas\u001b[0m \u001b[0;34m,\u001b[0m \u001b[0mv_top\u001b[0m \u001b[0;34m=\u001b[0m \u001b[0mself\u001b[0m\u001b[0;34m.\u001b[0m\u001b[0mautomated_cpca\u001b[0m\u001b[0;34m(\u001b[0m\u001b[0mdataset\u001b[0m\u001b[0;34m,\u001b[0m \u001b[0mn_alphas_to_return\u001b[0m\u001b[0;34m,\u001b[0m \u001b[0mn_alphas\u001b[0m\u001b[0;34m,\u001b[0m \u001b[0mmax_log_alpha\u001b[0m\u001b[0;34m)\u001b[0m\u001b[0;34m\u001b[0m\u001b[0;34m\u001b[0m\u001b[0m\n\u001b[0m\u001b[1;32m    234\u001b[0m                 \u001b[0malpha_values\u001b[0m \u001b[0;34m=\u001b[0m \u001b[0mbest_alphas\u001b[0m\u001b[0;34m\u001b[0m\u001b[0;34m\u001b[0m\u001b[0m\n\u001b[1;32m    235\u001b[0m             \u001b[0;32melif\u001b[0m \u001b[0;34m(\u001b[0m\u001b[0malpha_selection\u001b[0m\u001b[0;34m==\u001b[0m\u001b[0;34m'all'\u001b[0m\u001b[0;34m)\u001b[0m\u001b[0;34m:\u001b[0m\u001b[0;34m\u001b[0m\u001b[0;34m\u001b[0m\u001b[0m\n",
            "\u001b[0;32m/content/cpca_d.py\u001b[0m in \u001b[0;36mautomated_cpca\u001b[0;34m(self, dataset, n_alphas_to_return, n_alphas, max_log_alpha)\u001b[0m\n\u001b[1;32m    254\u001b[0m     \"\"\"\n\u001b[1;32m    255\u001b[0m     \u001b[0;32mdef\u001b[0m \u001b[0mautomated_cpca\u001b[0m\u001b[0;34m(\u001b[0m\u001b[0mself\u001b[0m\u001b[0;34m,\u001b[0m \u001b[0mdataset\u001b[0m\u001b[0;34m,\u001b[0m \u001b[0mn_alphas_to_return\u001b[0m\u001b[0;34m,\u001b[0m \u001b[0mn_alphas\u001b[0m\u001b[0;34m,\u001b[0m \u001b[0mmax_log_alpha\u001b[0m\u001b[0;34m)\u001b[0m\u001b[0;34m:\u001b[0m\u001b[0;34m\u001b[0m\u001b[0;34m\u001b[0m\u001b[0m\n\u001b[0;32m--> 256\u001b[0;31m         \u001b[0mbest_alphas\u001b[0m\u001b[0;34m,\u001b[0m \u001b[0mall_alphas\u001b[0m\u001b[0;34m,\u001b[0m \u001b[0m_\u001b[0m\u001b[0;34m,\u001b[0m \u001b[0m_\u001b[0m \u001b[0;34m=\u001b[0m \u001b[0mself\u001b[0m\u001b[0;34m.\u001b[0m\u001b[0mfind_spectral_alphas\u001b[0m\u001b[0;34m(\u001b[0m\u001b[0mn_alphas\u001b[0m\u001b[0;34m,\u001b[0m \u001b[0mmax_log_alpha\u001b[0m\u001b[0;34m,\u001b[0m \u001b[0mn_alphas_to_return\u001b[0m\u001b[0;34m)\u001b[0m\u001b[0;34m\u001b[0m\u001b[0;34m\u001b[0m\u001b[0m\n\u001b[0m\u001b[1;32m    257\u001b[0m         \u001b[0mbest_alphas\u001b[0m \u001b[0;34m=\u001b[0m \u001b[0mnp\u001b[0m\u001b[0;34m.\u001b[0m\u001b[0mconcatenate\u001b[0m\u001b[0;34m(\u001b[0m\u001b[0;34m(\u001b[0m\u001b[0;34m[\u001b[0m\u001b[0;36m0\u001b[0m\u001b[0;34m]\u001b[0m\u001b[0;34m,\u001b[0m \u001b[0mbest_alphas\u001b[0m\u001b[0;34m)\u001b[0m\u001b[0;34m)\u001b[0m \u001b[0;31m#one of the alphas is always alpha=0\u001b[0m\u001b[0;34m\u001b[0m\u001b[0;34m\u001b[0m\u001b[0m\n\u001b[1;32m    258\u001b[0m         \u001b[0mdata_to_plot\u001b[0m \u001b[0;34m=\u001b[0m \u001b[0;34m[\u001b[0m\u001b[0;34m]\u001b[0m\u001b[0;34m\u001b[0m\u001b[0;34m\u001b[0m\u001b[0m\n",
            "\u001b[0;32m/content/cpca_d.py\u001b[0m in \u001b[0;36mfind_spectral_alphas\u001b[0;34m(self, n_alphas, max_log_alpha, n_alphas_to_return)\u001b[0m\n\u001b[1;32m    302\u001b[0m     \"\"\"\n\u001b[1;32m    303\u001b[0m     \u001b[0;32mdef\u001b[0m \u001b[0mfind_spectral_alphas\u001b[0m\u001b[0;34m(\u001b[0m\u001b[0mself\u001b[0m\u001b[0;34m,\u001b[0m \u001b[0mn_alphas\u001b[0m\u001b[0;34m,\u001b[0m \u001b[0mmax_log_alpha\u001b[0m\u001b[0;34m,\u001b[0m \u001b[0mn_alphas_to_return\u001b[0m\u001b[0;34m)\u001b[0m\u001b[0;34m:\u001b[0m\u001b[0;34m\u001b[0m\u001b[0;34m\u001b[0m\u001b[0m\n\u001b[0;32m--> 304\u001b[0;31m         \u001b[0mself\u001b[0m\u001b[0;34m.\u001b[0m\u001b[0mcreate_affinity_matrix\u001b[0m\u001b[0;34m(\u001b[0m\u001b[0mmax_log_alpha\u001b[0m\u001b[0;34m,\u001b[0m \u001b[0mn_alphas\u001b[0m\u001b[0;34m)\u001b[0m\u001b[0;34m\u001b[0m\u001b[0;34m\u001b[0m\u001b[0m\n\u001b[0m\u001b[1;32m    305\u001b[0m         \u001b[0maffinity\u001b[0m \u001b[0;34m=\u001b[0m \u001b[0mself\u001b[0m\u001b[0;34m.\u001b[0m\u001b[0maffinity_matrix\u001b[0m\u001b[0;34m\u001b[0m\u001b[0;34m\u001b[0m\u001b[0m\n\u001b[1;32m    306\u001b[0m         \u001b[0mspectral\u001b[0m \u001b[0;34m=\u001b[0m \u001b[0mcluster\u001b[0m\u001b[0;34m.\u001b[0m\u001b[0mSpectralClustering\u001b[0m\u001b[0;34m(\u001b[0m\u001b[0mn_clusters\u001b[0m\u001b[0;34m=\u001b[0m\u001b[0mn_alphas_to_return\u001b[0m\u001b[0;34m,\u001b[0m \u001b[0maffinity\u001b[0m\u001b[0;34m=\u001b[0m\u001b[0;34m'precomputed'\u001b[0m\u001b[0;34m)\u001b[0m\u001b[0;34m\u001b[0m\u001b[0;34m\u001b[0m\u001b[0m\n",
            "\u001b[0;32m/content/cpca_d.py\u001b[0m in \u001b[0;36mcreate_affinity_matrix\u001b[0;34m(self, max_log_alpha, n_alphas)\u001b[0m\n\u001b[1;32m    328\u001b[0m         \u001b[0maffinity\u001b[0m \u001b[0;34m=\u001b[0m \u001b[0;36m0.5\u001b[0m\u001b[0;34m*\u001b[0m\u001b[0mnp\u001b[0m\u001b[0;34m.\u001b[0m\u001b[0midentity\u001b[0m\u001b[0;34m(\u001b[0m\u001b[0mk\u001b[0m\u001b[0;34m)\u001b[0m \u001b[0;31m#it gets doubled\u001b[0m\u001b[0;34m\u001b[0m\u001b[0;34m\u001b[0m\u001b[0m\n\u001b[1;32m    329\u001b[0m         \u001b[0;32mfor\u001b[0m \u001b[0malpha\u001b[0m \u001b[0;32min\u001b[0m \u001b[0malphas\u001b[0m\u001b[0;34m:\u001b[0m\u001b[0;34m\u001b[0m\u001b[0;34m\u001b[0m\u001b[0m\n\u001b[0;32m--> 330\u001b[0;31m             \u001b[0mspace\u001b[0m \u001b[0;34m,\u001b[0m \u001b[0mv_top\u001b[0m \u001b[0;34m=\u001b[0m \u001b[0mself\u001b[0m\u001b[0;34m.\u001b[0m\u001b[0mcpca_alpha\u001b[0m\u001b[0;34m(\u001b[0m\u001b[0mdataset\u001b[0m\u001b[0;34m=\u001b[0m\u001b[0mself\u001b[0m\u001b[0;34m.\u001b[0m\u001b[0mfg\u001b[0m\u001b[0;34m,\u001b[0m \u001b[0malpha\u001b[0m\u001b[0;34m=\u001b[0m\u001b[0malpha\u001b[0m\u001b[0;34m)\u001b[0m\u001b[0;34m\u001b[0m\u001b[0;34m\u001b[0m\u001b[0m\n\u001b[0m\u001b[1;32m    331\u001b[0m             \u001b[0mq\u001b[0m\u001b[0;34m,\u001b[0m \u001b[0mr\u001b[0m \u001b[0;34m=\u001b[0m \u001b[0mnp\u001b[0m\u001b[0;34m.\u001b[0m\u001b[0mlinalg\u001b[0m\u001b[0;34m.\u001b[0m\u001b[0mqr\u001b[0m\u001b[0;34m(\u001b[0m\u001b[0mspace\u001b[0m\u001b[0;34m)\u001b[0m\u001b[0;34m\u001b[0m\u001b[0;34m\u001b[0m\u001b[0m\n\u001b[1;32m    332\u001b[0m             \u001b[0msubspaces\u001b[0m\u001b[0;34m.\u001b[0m\u001b[0mappend\u001b[0m\u001b[0;34m(\u001b[0m\u001b[0mq\u001b[0m\u001b[0;34m)\u001b[0m\u001b[0;34m\u001b[0m\u001b[0;34m\u001b[0m\u001b[0m\n",
            "\u001b[0;32m/content/cpca_d.py\u001b[0m in \u001b[0;36mcpca_alpha\u001b[0;34m(self, dataset, alpha)\u001b[0m\n\u001b[1;32m    293\u001b[0m         \u001b[0mv_top\u001b[0m \u001b[0;34m=\u001b[0m \u001b[0mv\u001b[0m\u001b[0;34m[\u001b[0m\u001b[0;34m:\u001b[0m\u001b[0;34m,\u001b[0m\u001b[0meig_idx\u001b[0m\u001b[0;34m]\u001b[0m\u001b[0;34m\u001b[0m\u001b[0;34m\u001b[0m\u001b[0m\n\u001b[1;32m    294\u001b[0m         \u001b[0mreduced_dataset\u001b[0m \u001b[0;34m=\u001b[0m \u001b[0mdataset\u001b[0m\u001b[0;34m.\u001b[0m\u001b[0mdot\u001b[0m\u001b[0;34m(\u001b[0m\u001b[0mv_top\u001b[0m\u001b[0;34m)\u001b[0m\u001b[0;34m\u001b[0m\u001b[0;34m\u001b[0m\u001b[0m\n\u001b[0;32m--> 295\u001b[0;31m         \u001b[0mreduced_dataset\u001b[0m\u001b[0;34m[\u001b[0m\u001b[0;34m:\u001b[0m\u001b[0;34m,\u001b[0m\u001b[0;36m0\u001b[0m\u001b[0;34m]\u001b[0m \u001b[0;34m=\u001b[0m \u001b[0mreduced_dataset\u001b[0m\u001b[0;34m[\u001b[0m\u001b[0;34m:\u001b[0m\u001b[0;34m,\u001b[0m\u001b[0;36m0\u001b[0m\u001b[0;34m]\u001b[0m\u001b[0;34m*\u001b[0m\u001b[0mnp\u001b[0m\u001b[0;34m.\u001b[0m\u001b[0msign\u001b[0m\u001b[0;34m(\u001b[0m\u001b[0mreduced_dataset\u001b[0m\u001b[0;34m[\u001b[0m\u001b[0;36m0\u001b[0m\u001b[0;34m,\u001b[0m\u001b[0;36m0\u001b[0m\u001b[0;34m]\u001b[0m\u001b[0;34m)\u001b[0m\u001b[0;34m\u001b[0m\u001b[0;34m\u001b[0m\u001b[0m\n\u001b[0m\u001b[1;32m    296\u001b[0m         \u001b[0mreduced_dataset\u001b[0m\u001b[0;34m[\u001b[0m\u001b[0;34m:\u001b[0m\u001b[0;34m,\u001b[0m\u001b[0;36m1\u001b[0m\u001b[0;34m]\u001b[0m \u001b[0;34m=\u001b[0m \u001b[0mreduced_dataset\u001b[0m\u001b[0;34m[\u001b[0m\u001b[0;34m:\u001b[0m\u001b[0;34m,\u001b[0m\u001b[0;36m1\u001b[0m\u001b[0;34m]\u001b[0m\u001b[0;34m*\u001b[0m\u001b[0mnp\u001b[0m\u001b[0;34m.\u001b[0m\u001b[0msign\u001b[0m\u001b[0;34m(\u001b[0m\u001b[0mreduced_dataset\u001b[0m\u001b[0;34m[\u001b[0m\u001b[0;36m0\u001b[0m\u001b[0;34m,\u001b[0m\u001b[0;36m1\u001b[0m\u001b[0;34m]\u001b[0m\u001b[0;34m)\u001b[0m\u001b[0;34m\u001b[0m\u001b[0;34m\u001b[0m\u001b[0m\n\u001b[1;32m    297\u001b[0m         \u001b[0;32mreturn\u001b[0m \u001b[0mreduced_dataset\u001b[0m \u001b[0;34m,\u001b[0m \u001b[0mv_top\u001b[0m\u001b[0;34m\u001b[0m\u001b[0;34m\u001b[0m\u001b[0m\n",
            "\u001b[0;31mIndexError\u001b[0m: index 0 is out of bounds for axis 0 with size 0"
          ]
        }
      ]
    },
    {
      "cell_type": "code",
      "source": [
        "import os\n",
        "cell = 'Glutamatergic'\n",
        "os.makedirs('/content/drive/MyDrive/' + cell)"
      ],
      "metadata": {
        "id": "8aRm7zMU-XmM"
      },
      "execution_count": null,
      "outputs": []
    },
    {
      "cell_type": "code",
      "source": [],
      "metadata": {
        "id": "Wiblerz3Fdhs"
      },
      "execution_count": null,
      "outputs": []
    }
  ],
  "metadata": {
    "colab": {
      "provenance": []
    },
    "kernelspec": {
      "display_name": "Python 3",
      "name": "python3"
    },
    "language_info": {
      "name": "python"
    }
  },
  "nbformat": 4,
  "nbformat_minor": 0
}
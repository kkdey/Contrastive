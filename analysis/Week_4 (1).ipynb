{
  "nbformat": 4,
  "nbformat_minor": 0,
  "metadata": {
    "colab": {
      "provenance": []
    },
    "kernelspec": {
      "name": "python3",
      "display_name": "Python 3"
    },
    "language_info": {
      "name": "python"
    }
  },
  "cells": [
    {
      "cell_type": "code",
      "execution_count": null,
      "metadata": {
        "colab": {
          "base_uri": "https://localhost:8080/",
          "height": 1000
        },
        "id": "VxE61DD5zmAE",
        "outputId": "aa703b63-4474-4931-e964-85a689a9c8fe"
      },
      "outputs": [
        {
          "output_type": "stream",
          "name": "stdout",
          "text": [
            "Looking in indexes: https://pypi.org/simple, https://us-python.pkg.dev/colab-wheels/public/simple/\n",
            "Collecting scanpy\n",
            "  Downloading scanpy-1.9.1-py3-none-any.whl (2.0 MB)\n",
            "\u001b[K     |████████████████████████████████| 2.0 MB 4.8 MB/s \n",
            "\u001b[?25hRequirement already satisfied: tqdm in /usr/local/lib/python3.8/dist-packages (from scanpy) (4.64.1)\n",
            "Requirement already satisfied: statsmodels>=0.10.0rc2 in /usr/local/lib/python3.8/dist-packages (from scanpy) (0.12.2)\n",
            "Collecting matplotlib>=3.4\n",
            "  Downloading matplotlib-3.6.2-cp38-cp38-manylinux_2_12_x86_64.manylinux2010_x86_64.whl (9.4 MB)\n",
            "\u001b[K     |████████████████████████████████| 9.4 MB 42.4 MB/s \n",
            "\u001b[?25hRequirement already satisfied: scikit-learn>=0.22 in /usr/local/lib/python3.8/dist-packages (from scanpy) (1.0.2)\n",
            "Requirement already satisfied: scipy>=1.4 in /usr/local/lib/python3.8/dist-packages (from scanpy) (1.7.3)\n",
            "Requirement already satisfied: seaborn in /usr/local/lib/python3.8/dist-packages (from scanpy) (0.11.2)\n",
            "Collecting anndata>=0.7.4\n",
            "  Downloading anndata-0.8.0-py3-none-any.whl (96 kB)\n",
            "\u001b[K     |████████████████████████████████| 96 kB 4.1 MB/s \n",
            "\u001b[?25hRequirement already satisfied: h5py>=3 in /usr/local/lib/python3.8/dist-packages (from scanpy) (3.1.0)\n",
            "Requirement already satisfied: networkx>=2.3 in /usr/local/lib/python3.8/dist-packages (from scanpy) (2.6.3)\n",
            "Collecting umap-learn>=0.3.10\n",
            "  Downloading umap-learn-0.5.3.tar.gz (88 kB)\n",
            "\u001b[K     |████████████████████████████████| 88 kB 5.4 MB/s \n",
            "\u001b[?25hRequirement already satisfied: pandas>=1.0 in /usr/local/lib/python3.8/dist-packages (from scanpy) (1.3.5)\n",
            "Requirement already satisfied: numpy>=1.17.0 in /usr/local/lib/python3.8/dist-packages (from scanpy) (1.21.6)\n",
            "Collecting session-info\n",
            "  Downloading session_info-1.0.0.tar.gz (24 kB)\n",
            "Requirement already satisfied: packaging in /usr/local/lib/python3.8/dist-packages (from scanpy) (21.3)\n",
            "Requirement already satisfied: natsort in /usr/local/lib/python3.8/dist-packages (from scanpy) (5.5.0)\n",
            "Requirement already satisfied: patsy in /usr/local/lib/python3.8/dist-packages (from scanpy) (0.5.3)\n",
            "Requirement already satisfied: numba>=0.41.0 in /usr/local/lib/python3.8/dist-packages (from scanpy) (0.56.4)\n",
            "Requirement already satisfied: joblib in /usr/local/lib/python3.8/dist-packages (from scanpy) (1.2.0)\n",
            "Requirement already satisfied: pyparsing>=2.2.1 in /usr/local/lib/python3.8/dist-packages (from matplotlib>=3.4->scanpy) (3.0.9)\n",
            "Requirement already satisfied: python-dateutil>=2.7 in /usr/local/lib/python3.8/dist-packages (from matplotlib>=3.4->scanpy) (2.8.2)\n",
            "Requirement already satisfied: kiwisolver>=1.0.1 in /usr/local/lib/python3.8/dist-packages (from matplotlib>=3.4->scanpy) (1.4.4)\n",
            "Requirement already satisfied: cycler>=0.10 in /usr/local/lib/python3.8/dist-packages (from matplotlib>=3.4->scanpy) (0.11.0)\n",
            "Requirement already satisfied: pillow>=6.2.0 in /usr/local/lib/python3.8/dist-packages (from matplotlib>=3.4->scanpy) (7.1.2)\n",
            "Collecting contourpy>=1.0.1\n",
            "  Downloading contourpy-1.0.6-cp38-cp38-manylinux_2_17_x86_64.manylinux2014_x86_64.whl (295 kB)\n",
            "\u001b[K     |████████████████████████████████| 295 kB 52.8 MB/s \n",
            "\u001b[?25hCollecting fonttools>=4.22.0\n",
            "  Downloading fonttools-4.38.0-py3-none-any.whl (965 kB)\n",
            "\u001b[K     |████████████████████████████████| 965 kB 56.9 MB/s \n",
            "\u001b[?25hRequirement already satisfied: llvmlite<0.40,>=0.39.0dev0 in /usr/local/lib/python3.8/dist-packages (from numba>=0.41.0->scanpy) (0.39.1)\n",
            "Requirement already satisfied: importlib-metadata in /usr/local/lib/python3.8/dist-packages (from numba>=0.41.0->scanpy) (4.13.0)\n",
            "Requirement already satisfied: setuptools in /usr/local/lib/python3.8/dist-packages (from numba>=0.41.0->scanpy) (57.4.0)\n",
            "Requirement already satisfied: pytz>=2017.3 in /usr/local/lib/python3.8/dist-packages (from pandas>=1.0->scanpy) (2022.6)\n",
            "Requirement already satisfied: six>=1.5 in /usr/local/lib/python3.8/dist-packages (from python-dateutil>=2.7->matplotlib>=3.4->scanpy) (1.15.0)\n",
            "Requirement already satisfied: threadpoolctl>=2.0.0 in /usr/local/lib/python3.8/dist-packages (from scikit-learn>=0.22->scanpy) (3.1.0)\n",
            "Collecting pynndescent>=0.5\n",
            "  Downloading pynndescent-0.5.8.tar.gz (1.1 MB)\n",
            "\u001b[K     |████████████████████████████████| 1.1 MB 58.4 MB/s \n",
            "\u001b[?25hRequirement already satisfied: zipp>=0.5 in /usr/local/lib/python3.8/dist-packages (from importlib-metadata->numba>=0.41.0->scanpy) (3.10.0)\n",
            "Collecting stdlib_list\n",
            "  Downloading stdlib_list-0.8.0-py3-none-any.whl (63 kB)\n",
            "\u001b[K     |████████████████████████████████| 63 kB 1.7 MB/s \n",
            "\u001b[?25hBuilding wheels for collected packages: umap-learn, pynndescent, session-info\n",
            "  Building wheel for umap-learn (setup.py) ... \u001b[?25l\u001b[?25hdone\n",
            "  Created wheel for umap-learn: filename=umap_learn-0.5.3-py3-none-any.whl size=82829 sha256=7ec9affb6fa44d4e177a8b8403eeb25dfcd03d143023c6001dced459b853e2f9\n",
            "  Stored in directory: /root/.cache/pip/wheels/a9/3a/67/06a8950e053725912e6a8c42c4a3a241410f6487b8402542ea\n",
            "  Building wheel for pynndescent (setup.py) ... \u001b[?25l\u001b[?25hdone\n",
            "  Created wheel for pynndescent: filename=pynndescent-0.5.8-py3-none-any.whl size=55513 sha256=59513fe1655dd70b8093d09857a60745de6ebf5a5841e0a7197bb8cd2fab8a70\n",
            "  Stored in directory: /root/.cache/pip/wheels/1c/63/3a/29954bca1a27ba100ed8c27973a78cb71b43dc67aed62e80c3\n",
            "  Building wheel for session-info (setup.py) ... \u001b[?25l\u001b[?25hdone\n",
            "  Created wheel for session-info: filename=session_info-1.0.0-py3-none-any.whl size=8046 sha256=0ff82e955d193fd6d6c196d81977f4bd558fe53e67dfe4dcba67fd8bcc9a5598\n",
            "  Stored in directory: /root/.cache/pip/wheels/5c/1b/4d/111d73980c5c6a8e5e5905a19eccc34296cb359cac54c6c5b9\n",
            "Successfully built umap-learn pynndescent session-info\n",
            "Installing collected packages: fonttools, contourpy, stdlib-list, pynndescent, matplotlib, umap-learn, session-info, anndata, scanpy\n",
            "  Attempting uninstall: matplotlib\n",
            "    Found existing installation: matplotlib 3.2.2\n",
            "    Uninstalling matplotlib-3.2.2:\n",
            "      Successfully uninstalled matplotlib-3.2.2\n",
            "Successfully installed anndata-0.8.0 contourpy-1.0.6 fonttools-4.38.0 matplotlib-3.6.2 pynndescent-0.5.8 scanpy-1.9.1 session-info-1.0.0 stdlib-list-0.8.0 umap-learn-0.5.3\n"
          ]
        },
        {
          "output_type": "display_data",
          "data": {
            "application/vnd.colab-display-data+json": {
              "pip_warning": {
                "packages": [
                  "matplotlib",
                  "mpl_toolkits"
                ]
              }
            }
          },
          "metadata": {}
        }
      ],
      "source": [
        "import time\n",
        "import matplotlib.pyplot as plt\n",
        "import seaborn as sns\n",
        "\n",
        "!pip install scanpy\n",
        "#!pip install scvelo\n",
        "#!pip install git+https://github.com/csgroen/scycle.git#egg=scycle\n",
        "#!pip install  --no-dependencies  git+https://github.com/j-bac/elpigraph-python.git\n",
        "# from elpigraph_ps_tools import *\n",
        "#import elpigraph\n",
        "import scanpy as sc\n",
        "import anndata\n",
        "\n",
        "\n",
        "\n",
        "import importlib\n",
        "from sklearn.decomposition import PCA\n",
        "\n",
        "import matplotlib as mpl\n",
        "import matplotlib.pyplot as plt\n",
        "from sklearn.neighbors import NearestNeighbors"
      ]
    },
    {
      "cell_type": "code",
      "source": [
        "!python -m pip uninstall matplotlib\n",
        "!pip install matplotlib==3.1.3"
      ],
      "metadata": {
        "colab": {
          "base_uri": "https://localhost:8080/",
          "height": 592
        },
        "id": "O_uZKEXGz7kn",
        "outputId": "81c1045b-a098-4255-c681-82667cc6f65c"
      },
      "execution_count": null,
      "outputs": [
        {
          "output_type": "stream",
          "name": "stdout",
          "text": [
            "Found existing installation: matplotlib 3.6.2\n",
            "Uninstalling matplotlib-3.6.2:\n",
            "  Would remove:\n",
            "    /usr/local/lib/python3.8/dist-packages/matplotlib-3.6.2-py3.8-nspkg.pth\n",
            "    /usr/local/lib/python3.8/dist-packages/matplotlib-3.6.2.dist-info/*\n",
            "    /usr/local/lib/python3.8/dist-packages/matplotlib/*\n",
            "    /usr/local/lib/python3.8/dist-packages/mpl_toolkits/axes_grid1/*\n",
            "    /usr/local/lib/python3.8/dist-packages/mpl_toolkits/axisartist/*\n",
            "    /usr/local/lib/python3.8/dist-packages/mpl_toolkits/mplot3d/*\n",
            "    /usr/local/lib/python3.8/dist-packages/mpl_toolkits/tests/*\n",
            "    /usr/local/lib/python3.8/dist-packages/pylab.py\n",
            "Proceed (y/n)? y\n",
            "  Successfully uninstalled matplotlib-3.6.2\n",
            "Looking in indexes: https://pypi.org/simple, https://us-python.pkg.dev/colab-wheels/public/simple/\n",
            "Collecting matplotlib==3.1.3\n",
            "  Downloading matplotlib-3.1.3-cp38-cp38-manylinux1_x86_64.whl (13.1 MB)\n",
            "\u001b[K     |████████████████████████████████| 13.1 MB 4.9 MB/s \n",
            "\u001b[?25hRequirement already satisfied: numpy>=1.11 in /usr/local/lib/python3.8/dist-packages (from matplotlib==3.1.3) (1.21.6)\n",
            "Requirement already satisfied: python-dateutil>=2.1 in /usr/local/lib/python3.8/dist-packages (from matplotlib==3.1.3) (2.8.2)\n",
            "Requirement already satisfied: pyparsing!=2.0.4,!=2.1.2,!=2.1.6,>=2.0.1 in /usr/local/lib/python3.8/dist-packages (from matplotlib==3.1.3) (3.0.9)\n",
            "Requirement already satisfied: kiwisolver>=1.0.1 in /usr/local/lib/python3.8/dist-packages (from matplotlib==3.1.3) (1.4.4)\n",
            "Requirement already satisfied: cycler>=0.10 in /usr/local/lib/python3.8/dist-packages (from matplotlib==3.1.3) (0.11.0)\n",
            "Requirement already satisfied: six>=1.5 in /usr/local/lib/python3.8/dist-packages (from python-dateutil>=2.1->matplotlib==3.1.3) (1.15.0)\n",
            "Installing collected packages: matplotlib\n",
            "\u001b[31mERROR: pip's dependency resolver does not currently take into account all the packages that are installed. This behaviour is the source of the following dependency conflicts.\n",
            "scanpy 1.9.1 requires matplotlib>=3.4, but you have matplotlib 3.1.3 which is incompatible.\u001b[0m\n",
            "Successfully installed matplotlib-3.1.3\n"
          ]
        },
        {
          "output_type": "display_data",
          "data": {
            "application/vnd.colab-display-data+json": {
              "pip_warning": {
                "packages": [
                  "matplotlib",
                  "mpl_toolkits"
                ]
              }
            }
          },
          "metadata": {}
        }
      ]
    },
    {
      "cell_type": "code",
      "source": [
        "path = '/content/drive/MyDrive/msdata.h5ad'\n",
        "adata = sc.read(path)"
      ],
      "metadata": {
        "id": "Gpo3yAEh0ASm"
      },
      "execution_count": null,
      "outputs": []
    },
    {
      "cell_type": "code",
      "source": [
        "from scipy.sparse import hstack"
      ],
      "metadata": {
        "id": "Y0OkQSQR0y_h"
      },
      "execution_count": null,
      "outputs": []
    },
    {
      "cell_type": "code",
      "source": [
        "adata.obs"
      ],
      "metadata": {
        "colab": {
          "base_uri": "https://localhost:8080/",
          "height": 661
        },
        "id": "rnxQxzYr018G",
        "outputId": "c7166523-d5fe-4239-d253-a4519a3239d3"
      },
      "execution_count": null,
      "outputs": [
        {
          "output_type": "execute_result",
          "data": {
            "text/plain": [
              "                                   tsne1      tsne2 cluster_original  \\\n",
              "AAACCTGGTCCATGAT-1_5981_BA9    19.121044 -20.540960                3   \n",
              "AAACGGGAGTAGCCGA-1_5981_BA9     5.136135 -13.751351                4   \n",
              "AAACGGGCATCGGTTA-1_5981_BA9   -28.210752 -20.764837               6A   \n",
              "AAACGGGTCCATGAAC-1_5981_BA9    29.946121 -15.725056                2   \n",
              "AAAGATGCACGACTCG-1_5981_BA9    25.065271 -19.422704                3   \n",
              "...                                  ...        ...              ...   \n",
              "TTTGTCAGTGTTAAGA-1_MS200_A303  -5.428651  17.107557                5   \n",
              "TTTGTCAGTTCGCGAC-1_MS200_A303  34.011235 -18.509118                2   \n",
              "TTTGTCAGTTCTGGTA-1_MS200_A303 -16.622547  20.910561                8   \n",
              "TTTGTCATCCAAATGC-1_MS200_A303  -5.947137 -35.594686               16   \n",
              "TTTGTCATCTAACGGT-1_MS200_A303 -15.906688  23.322071                8   \n",
              "\n",
              "                                   sample diagnosis             stage  age  \\\n",
              "AAACCTGGTCCATGAT-1_5981_BA9      5981_BA9   Control           Control   44   \n",
              "AAACGGGAGTAGCCGA-1_5981_BA9      5981_BA9   Control           Control   44   \n",
              "AAACGGGCATCGGTTA-1_5981_BA9      5981_BA9   Control           Control   44   \n",
              "AAACGGGTCCATGAAC-1_5981_BA9      5981_BA9   Control           Control   44   \n",
              "AAAGATGCACGACTCG-1_5981_BA9      5981_BA9   Control           Control   44   \n",
              "...                                   ...       ...               ...  ...   \n",
              "TTTGTCAGTGTTAAGA-1_MS200_A303  MS200_A303        MS  Chronic inactive   44   \n",
              "TTTGTCAGTTCGCGAC-1_MS200_A303  MS200_A303        MS  Chronic inactive   44   \n",
              "TTTGTCAGTTCTGGTA-1_MS200_A303  MS200_A303        MS  Chronic inactive   44   \n",
              "TTTGTCATCCAAATGC-1_MS200_A303  MS200_A303        MS  Chronic inactive   44   \n",
              "TTTGTCATCTAACGGT-1_MS200_A303  MS200_A303        MS  Chronic inactive   44   \n",
              "\n",
              "                                  sex      region Capbatch  ... DMGM_UL  \\\n",
              "AAACCTGGTCCATGAT-1_5981_BA9    female  prefrontal     CAP7  ...     NaN   \n",
              "AAACGGGAGTAGCCGA-1_5981_BA9    female  prefrontal     CAP7  ...     NaN   \n",
              "AAACGGGCATCGGTTA-1_5981_BA9    female  prefrontal     CAP7  ...     NaN   \n",
              "AAACGGGTCCATGAAC-1_5981_BA9    female  prefrontal     CAP7  ...     NaN   \n",
              "AAAGATGCACGACTCG-1_5981_BA9    female  prefrontal     CAP7  ...     NaN   \n",
              "...                               ...         ...      ...  ...     ...   \n",
              "TTTGTCAGTGTTAAGA-1_MS200_A303  female  prefrontal     CAP6  ...    41.0   \n",
              "TTTGTCAGTTCGCGAC-1_MS200_A303  female  prefrontal     CAP6  ...    41.0   \n",
              "TTTGTCAGTTCTGGTA-1_MS200_A303  female  prefrontal     CAP6  ...    41.0   \n",
              "TTTGTCATCCAAATGC-1_MS200_A303  female  prefrontal     CAP6  ...    41.0   \n",
              "TTTGTCATCTAACGGT-1_MS200_A303  female  prefrontal     CAP6  ...    41.0   \n",
              "\n",
              "                               DMGM_DL  DMWM  n_genes  percent_mito  \\\n",
              "AAACCTGGTCCATGAT-1_5981_BA9        NaN   NaN     3795      0.005292   \n",
              "AAACGGGAGTAGCCGA-1_5981_BA9        NaN   NaN     2510      0.005038   \n",
              "AAACGGGCATCGGTTA-1_5981_BA9        NaN   NaN     3779      0.018633   \n",
              "AAACGGGTCCATGAAC-1_5981_BA9        NaN   NaN     3376      0.016441   \n",
              "AAAGATGCACGACTCG-1_5981_BA9        NaN   NaN     4337      0.007789   \n",
              "...                                ...   ...      ...           ...   \n",
              "TTTGTCAGTGTTAAGA-1_MS200_A303      6.0   6.0      857      0.003260   \n",
              "TTTGTCAGTTCGCGAC-1_MS200_A303      6.0   6.0     5463      0.010610   \n",
              "TTTGTCAGTTCTGGTA-1_MS200_A303      6.0   6.0     1560      0.018838   \n",
              "TTTGTCATCCAAATGC-1_MS200_A303      6.0   6.0      814      0.051595   \n",
              "TTTGTCATCTAACGGT-1_MS200_A303      6.0   6.0     1497      0.002778   \n",
              "\n",
              "                               percent_ribo  n_counts  leiden  \\\n",
              "AAACCTGGTCCATGAT-1_5981_BA9        0.002951    9827.0      14   \n",
              "AAACGGGAGTAGCCGA-1_5981_BA9        0.004457    5161.0       2   \n",
              "AAACGGGCATCGGTTA-1_5981_BA9        0.007034    8104.0      10   \n",
              "AAACGGGTCCATGAAC-1_5981_BA9        0.007046    7238.0      12   \n",
              "AAAGATGCACGACTCG-1_5981_BA9        0.002841   10913.0      21   \n",
              "...                                     ...       ...     ...   \n",
              "TTTGTCAGTGTTAAGA-1_MS200_A303      0.011410    1227.0       0   \n",
              "TTTGTCAGTTCGCGAC-1_MS200_A303      0.018160   14703.0       9   \n",
              "TTTGTCAGTTCTGGTA-1_MS200_A303      0.003925    2548.0       1   \n",
              "TTTGTCATCCAAATGC-1_MS200_A303      0.019700    1066.0       8   \n",
              "TTTGTCATCTAACGGT-1_MS200_A303      0.010714    2520.0       1   \n",
              "\n",
              "                                 annot_level_2    annot_level_3  \n",
              "AAACCTGGTCCATGAT-1_5981_BA9      Glutamatergic             L5_6  \n",
              "AAACGGGAGTAGCCGA-1_5981_BA9      Glutamatergic             L2_3  \n",
              "AAACGGGCATCGGTTA-1_5981_BA9          GABAergic               PV  \n",
              "AAACGGGTCCATGAAC-1_5981_BA9      Glutamatergic               L4  \n",
              "AAAGATGCACGACTCG-1_5981_BA9      Glutamatergic             L5_6  \n",
              "...                                        ...              ...  \n",
              "TTTGTCAGTGTTAAGA-1_MS200_A303  Oligodendrocyte  Oligodendrocyte  \n",
              "TTTGTCAGTTCGCGAC-1_MS200_A303    Glutamatergic               L4  \n",
              "TTTGTCAGTTCTGGTA-1_MS200_A303        Astrocyte        Astrocyte  \n",
              "TTTGTCATCCAAATGC-1_MS200_A303    Glutamatergic              PYR  \n",
              "TTTGTCATCTAACGGT-1_MS200_A303        Astrocyte        Astrocyte  \n",
              "\n",
              "[48918 rows x 30 columns]"
            ],
            "text/html": [
              "\n",
              "  <div id=\"df-3c19b0b0-6a2d-4cd5-8ef4-011ce038af80\">\n",
              "    <div class=\"colab-df-container\">\n",
              "      <div>\n",
              "<style scoped>\n",
              "    .dataframe tbody tr th:only-of-type {\n",
              "        vertical-align: middle;\n",
              "    }\n",
              "\n",
              "    .dataframe tbody tr th {\n",
              "        vertical-align: top;\n",
              "    }\n",
              "\n",
              "    .dataframe thead th {\n",
              "        text-align: right;\n",
              "    }\n",
              "</style>\n",
              "<table border=\"1\" class=\"dataframe\">\n",
              "  <thead>\n",
              "    <tr style=\"text-align: right;\">\n",
              "      <th></th>\n",
              "      <th>tsne1</th>\n",
              "      <th>tsne2</th>\n",
              "      <th>cluster_original</th>\n",
              "      <th>sample</th>\n",
              "      <th>diagnosis</th>\n",
              "      <th>stage</th>\n",
              "      <th>age</th>\n",
              "      <th>sex</th>\n",
              "      <th>region</th>\n",
              "      <th>Capbatch</th>\n",
              "      <th>...</th>\n",
              "      <th>DMGM_UL</th>\n",
              "      <th>DMGM_DL</th>\n",
              "      <th>DMWM</th>\n",
              "      <th>n_genes</th>\n",
              "      <th>percent_mito</th>\n",
              "      <th>percent_ribo</th>\n",
              "      <th>n_counts</th>\n",
              "      <th>leiden</th>\n",
              "      <th>annot_level_2</th>\n",
              "      <th>annot_level_3</th>\n",
              "    </tr>\n",
              "  </thead>\n",
              "  <tbody>\n",
              "    <tr>\n",
              "      <th>AAACCTGGTCCATGAT-1_5981_BA9</th>\n",
              "      <td>19.121044</td>\n",
              "      <td>-20.540960</td>\n",
              "      <td>3</td>\n",
              "      <td>5981_BA9</td>\n",
              "      <td>Control</td>\n",
              "      <td>Control</td>\n",
              "      <td>44</td>\n",
              "      <td>female</td>\n",
              "      <td>prefrontal</td>\n",
              "      <td>CAP7</td>\n",
              "      <td>...</td>\n",
              "      <td>NaN</td>\n",
              "      <td>NaN</td>\n",
              "      <td>NaN</td>\n",
              "      <td>3795</td>\n",
              "      <td>0.005292</td>\n",
              "      <td>0.002951</td>\n",
              "      <td>9827.0</td>\n",
              "      <td>14</td>\n",
              "      <td>Glutamatergic</td>\n",
              "      <td>L5_6</td>\n",
              "    </tr>\n",
              "    <tr>\n",
              "      <th>AAACGGGAGTAGCCGA-1_5981_BA9</th>\n",
              "      <td>5.136135</td>\n",
              "      <td>-13.751351</td>\n",
              "      <td>4</td>\n",
              "      <td>5981_BA9</td>\n",
              "      <td>Control</td>\n",
              "      <td>Control</td>\n",
              "      <td>44</td>\n",
              "      <td>female</td>\n",
              "      <td>prefrontal</td>\n",
              "      <td>CAP7</td>\n",
              "      <td>...</td>\n",
              "      <td>NaN</td>\n",
              "      <td>NaN</td>\n",
              "      <td>NaN</td>\n",
              "      <td>2510</td>\n",
              "      <td>0.005038</td>\n",
              "      <td>0.004457</td>\n",
              "      <td>5161.0</td>\n",
              "      <td>2</td>\n",
              "      <td>Glutamatergic</td>\n",
              "      <td>L2_3</td>\n",
              "    </tr>\n",
              "    <tr>\n",
              "      <th>AAACGGGCATCGGTTA-1_5981_BA9</th>\n",
              "      <td>-28.210752</td>\n",
              "      <td>-20.764837</td>\n",
              "      <td>6A</td>\n",
              "      <td>5981_BA9</td>\n",
              "      <td>Control</td>\n",
              "      <td>Control</td>\n",
              "      <td>44</td>\n",
              "      <td>female</td>\n",
              "      <td>prefrontal</td>\n",
              "      <td>CAP7</td>\n",
              "      <td>...</td>\n",
              "      <td>NaN</td>\n",
              "      <td>NaN</td>\n",
              "      <td>NaN</td>\n",
              "      <td>3779</td>\n",
              "      <td>0.018633</td>\n",
              "      <td>0.007034</td>\n",
              "      <td>8104.0</td>\n",
              "      <td>10</td>\n",
              "      <td>GABAergic</td>\n",
              "      <td>PV</td>\n",
              "    </tr>\n",
              "    <tr>\n",
              "      <th>AAACGGGTCCATGAAC-1_5981_BA9</th>\n",
              "      <td>29.946121</td>\n",
              "      <td>-15.725056</td>\n",
              "      <td>2</td>\n",
              "      <td>5981_BA9</td>\n",
              "      <td>Control</td>\n",
              "      <td>Control</td>\n",
              "      <td>44</td>\n",
              "      <td>female</td>\n",
              "      <td>prefrontal</td>\n",
              "      <td>CAP7</td>\n",
              "      <td>...</td>\n",
              "      <td>NaN</td>\n",
              "      <td>NaN</td>\n",
              "      <td>NaN</td>\n",
              "      <td>3376</td>\n",
              "      <td>0.016441</td>\n",
              "      <td>0.007046</td>\n",
              "      <td>7238.0</td>\n",
              "      <td>12</td>\n",
              "      <td>Glutamatergic</td>\n",
              "      <td>L4</td>\n",
              "    </tr>\n",
              "    <tr>\n",
              "      <th>AAAGATGCACGACTCG-1_5981_BA9</th>\n",
              "      <td>25.065271</td>\n",
              "      <td>-19.422704</td>\n",
              "      <td>3</td>\n",
              "      <td>5981_BA9</td>\n",
              "      <td>Control</td>\n",
              "      <td>Control</td>\n",
              "      <td>44</td>\n",
              "      <td>female</td>\n",
              "      <td>prefrontal</td>\n",
              "      <td>CAP7</td>\n",
              "      <td>...</td>\n",
              "      <td>NaN</td>\n",
              "      <td>NaN</td>\n",
              "      <td>NaN</td>\n",
              "      <td>4337</td>\n",
              "      <td>0.007789</td>\n",
              "      <td>0.002841</td>\n",
              "      <td>10913.0</td>\n",
              "      <td>21</td>\n",
              "      <td>Glutamatergic</td>\n",
              "      <td>L5_6</td>\n",
              "    </tr>\n",
              "    <tr>\n",
              "      <th>...</th>\n",
              "      <td>...</td>\n",
              "      <td>...</td>\n",
              "      <td>...</td>\n",
              "      <td>...</td>\n",
              "      <td>...</td>\n",
              "      <td>...</td>\n",
              "      <td>...</td>\n",
              "      <td>...</td>\n",
              "      <td>...</td>\n",
              "      <td>...</td>\n",
              "      <td>...</td>\n",
              "      <td>...</td>\n",
              "      <td>...</td>\n",
              "      <td>...</td>\n",
              "      <td>...</td>\n",
              "      <td>...</td>\n",
              "      <td>...</td>\n",
              "      <td>...</td>\n",
              "      <td>...</td>\n",
              "      <td>...</td>\n",
              "      <td>...</td>\n",
              "    </tr>\n",
              "    <tr>\n",
              "      <th>TTTGTCAGTGTTAAGA-1_MS200_A303</th>\n",
              "      <td>-5.428651</td>\n",
              "      <td>17.107557</td>\n",
              "      <td>5</td>\n",
              "      <td>MS200_A303</td>\n",
              "      <td>MS</td>\n",
              "      <td>Chronic inactive</td>\n",
              "      <td>44</td>\n",
              "      <td>female</td>\n",
              "      <td>prefrontal</td>\n",
              "      <td>CAP6</td>\n",
              "      <td>...</td>\n",
              "      <td>41.0</td>\n",
              "      <td>6.0</td>\n",
              "      <td>6.0</td>\n",
              "      <td>857</td>\n",
              "      <td>0.003260</td>\n",
              "      <td>0.011410</td>\n",
              "      <td>1227.0</td>\n",
              "      <td>0</td>\n",
              "      <td>Oligodendrocyte</td>\n",
              "      <td>Oligodendrocyte</td>\n",
              "    </tr>\n",
              "    <tr>\n",
              "      <th>TTTGTCAGTTCGCGAC-1_MS200_A303</th>\n",
              "      <td>34.011235</td>\n",
              "      <td>-18.509118</td>\n",
              "      <td>2</td>\n",
              "      <td>MS200_A303</td>\n",
              "      <td>MS</td>\n",
              "      <td>Chronic inactive</td>\n",
              "      <td>44</td>\n",
              "      <td>female</td>\n",
              "      <td>prefrontal</td>\n",
              "      <td>CAP6</td>\n",
              "      <td>...</td>\n",
              "      <td>41.0</td>\n",
              "      <td>6.0</td>\n",
              "      <td>6.0</td>\n",
              "      <td>5463</td>\n",
              "      <td>0.010610</td>\n",
              "      <td>0.018160</td>\n",
              "      <td>14703.0</td>\n",
              "      <td>9</td>\n",
              "      <td>Glutamatergic</td>\n",
              "      <td>L4</td>\n",
              "    </tr>\n",
              "    <tr>\n",
              "      <th>TTTGTCAGTTCTGGTA-1_MS200_A303</th>\n",
              "      <td>-16.622547</td>\n",
              "      <td>20.910561</td>\n",
              "      <td>8</td>\n",
              "      <td>MS200_A303</td>\n",
              "      <td>MS</td>\n",
              "      <td>Chronic inactive</td>\n",
              "      <td>44</td>\n",
              "      <td>female</td>\n",
              "      <td>prefrontal</td>\n",
              "      <td>CAP6</td>\n",
              "      <td>...</td>\n",
              "      <td>41.0</td>\n",
              "      <td>6.0</td>\n",
              "      <td>6.0</td>\n",
              "      <td>1560</td>\n",
              "      <td>0.018838</td>\n",
              "      <td>0.003925</td>\n",
              "      <td>2548.0</td>\n",
              "      <td>1</td>\n",
              "      <td>Astrocyte</td>\n",
              "      <td>Astrocyte</td>\n",
              "    </tr>\n",
              "    <tr>\n",
              "      <th>TTTGTCATCCAAATGC-1_MS200_A303</th>\n",
              "      <td>-5.947137</td>\n",
              "      <td>-35.594686</td>\n",
              "      <td>16</td>\n",
              "      <td>MS200_A303</td>\n",
              "      <td>MS</td>\n",
              "      <td>Chronic inactive</td>\n",
              "      <td>44</td>\n",
              "      <td>female</td>\n",
              "      <td>prefrontal</td>\n",
              "      <td>CAP6</td>\n",
              "      <td>...</td>\n",
              "      <td>41.0</td>\n",
              "      <td>6.0</td>\n",
              "      <td>6.0</td>\n",
              "      <td>814</td>\n",
              "      <td>0.051595</td>\n",
              "      <td>0.019700</td>\n",
              "      <td>1066.0</td>\n",
              "      <td>8</td>\n",
              "      <td>Glutamatergic</td>\n",
              "      <td>PYR</td>\n",
              "    </tr>\n",
              "    <tr>\n",
              "      <th>TTTGTCATCTAACGGT-1_MS200_A303</th>\n",
              "      <td>-15.906688</td>\n",
              "      <td>23.322071</td>\n",
              "      <td>8</td>\n",
              "      <td>MS200_A303</td>\n",
              "      <td>MS</td>\n",
              "      <td>Chronic inactive</td>\n",
              "      <td>44</td>\n",
              "      <td>female</td>\n",
              "      <td>prefrontal</td>\n",
              "      <td>CAP6</td>\n",
              "      <td>...</td>\n",
              "      <td>41.0</td>\n",
              "      <td>6.0</td>\n",
              "      <td>6.0</td>\n",
              "      <td>1497</td>\n",
              "      <td>0.002778</td>\n",
              "      <td>0.010714</td>\n",
              "      <td>2520.0</td>\n",
              "      <td>1</td>\n",
              "      <td>Astrocyte</td>\n",
              "      <td>Astrocyte</td>\n",
              "    </tr>\n",
              "  </tbody>\n",
              "</table>\n",
              "<p>48918 rows × 30 columns</p>\n",
              "</div>\n",
              "      <button class=\"colab-df-convert\" onclick=\"convertToInteractive('df-3c19b0b0-6a2d-4cd5-8ef4-011ce038af80')\"\n",
              "              title=\"Convert this dataframe to an interactive table.\"\n",
              "              style=\"display:none;\">\n",
              "        \n",
              "  <svg xmlns=\"http://www.w3.org/2000/svg\" height=\"24px\"viewBox=\"0 0 24 24\"\n",
              "       width=\"24px\">\n",
              "    <path d=\"M0 0h24v24H0V0z\" fill=\"none\"/>\n",
              "    <path d=\"M18.56 5.44l.94 2.06.94-2.06 2.06-.94-2.06-.94-.94-2.06-.94 2.06-2.06.94zm-11 1L8.5 8.5l.94-2.06 2.06-.94-2.06-.94L8.5 2.5l-.94 2.06-2.06.94zm10 10l.94 2.06.94-2.06 2.06-.94-2.06-.94-.94-2.06-.94 2.06-2.06.94z\"/><path d=\"M17.41 7.96l-1.37-1.37c-.4-.4-.92-.59-1.43-.59-.52 0-1.04.2-1.43.59L10.3 9.45l-7.72 7.72c-.78.78-.78 2.05 0 2.83L4 21.41c.39.39.9.59 1.41.59.51 0 1.02-.2 1.41-.59l7.78-7.78 2.81-2.81c.8-.78.8-2.07 0-2.86zM5.41 20L4 18.59l7.72-7.72 1.47 1.35L5.41 20z\"/>\n",
              "  </svg>\n",
              "      </button>\n",
              "      \n",
              "  <style>\n",
              "    .colab-df-container {\n",
              "      display:flex;\n",
              "      flex-wrap:wrap;\n",
              "      gap: 12px;\n",
              "    }\n",
              "\n",
              "    .colab-df-convert {\n",
              "      background-color: #E8F0FE;\n",
              "      border: none;\n",
              "      border-radius: 50%;\n",
              "      cursor: pointer;\n",
              "      display: none;\n",
              "      fill: #1967D2;\n",
              "      height: 32px;\n",
              "      padding: 0 0 0 0;\n",
              "      width: 32px;\n",
              "    }\n",
              "\n",
              "    .colab-df-convert:hover {\n",
              "      background-color: #E2EBFA;\n",
              "      box-shadow: 0px 1px 2px rgba(60, 64, 67, 0.3), 0px 1px 3px 1px rgba(60, 64, 67, 0.15);\n",
              "      fill: #174EA6;\n",
              "    }\n",
              "\n",
              "    [theme=dark] .colab-df-convert {\n",
              "      background-color: #3B4455;\n",
              "      fill: #D2E3FC;\n",
              "    }\n",
              "\n",
              "    [theme=dark] .colab-df-convert:hover {\n",
              "      background-color: #434B5C;\n",
              "      box-shadow: 0px 1px 3px 1px rgba(0, 0, 0, 0.15);\n",
              "      filter: drop-shadow(0px 1px 2px rgba(0, 0, 0, 0.3));\n",
              "      fill: #FFFFFF;\n",
              "    }\n",
              "  </style>\n",
              "\n",
              "      <script>\n",
              "        const buttonEl =\n",
              "          document.querySelector('#df-3c19b0b0-6a2d-4cd5-8ef4-011ce038af80 button.colab-df-convert');\n",
              "        buttonEl.style.display =\n",
              "          google.colab.kernel.accessAllowed ? 'block' : 'none';\n",
              "\n",
              "        async function convertToInteractive(key) {\n",
              "          const element = document.querySelector('#df-3c19b0b0-6a2d-4cd5-8ef4-011ce038af80');\n",
              "          const dataTable =\n",
              "            await google.colab.kernel.invokeFunction('convertToInteractive',\n",
              "                                                     [key], {});\n",
              "          if (!dataTable) return;\n",
              "\n",
              "          const docLinkHtml = 'Like what you see? Visit the ' +\n",
              "            '<a target=\"_blank\" href=https://colab.research.google.com/notebooks/data_table.ipynb>data table notebook</a>'\n",
              "            + ' to learn more about interactive tables.';\n",
              "          element.innerHTML = '';\n",
              "          dataTable['output_type'] = 'display_data';\n",
              "          await google.colab.output.renderOutput(dataTable, element);\n",
              "          const docLink = document.createElement('div');\n",
              "          docLink.innerHTML = docLinkHtml;\n",
              "          element.appendChild(docLink);\n",
              "        }\n",
              "      </script>\n",
              "    </div>\n",
              "  </div>\n",
              "  "
            ]
          },
          "metadata": {},
          "execution_count": 5
        }
      ]
    },
    {
      "cell_type": "code",
      "source": [
        "adata.var_names[adata.var.highly_variable]"
      ],
      "metadata": {
        "colab": {
          "base_uri": "https://localhost:8080/"
        },
        "id": "gU9EHisby9ly",
        "outputId": "987592bb-94d8-429c-e42c-edfe82801101"
      },
      "execution_count": null,
      "outputs": [
        {
          "output_type": "execute_result",
          "data": {
            "text/plain": [
              "Index(['AL645608.8', 'HES4', 'ISG15', 'AL645608.2', 'TTLL10', 'TNFRSF18',\n",
              "       'TNFRSF4', 'CFAP74', 'AL139246.5', 'MEGF6',\n",
              "       ...\n",
              "       'TFF1', 'UBASH3A', 'RSPH1', 'CSTB', 'LINC01694', 'COL6A1', 'C21orf58',\n",
              "       'S100B', 'MT-ND3', 'AC233755.2'],\n",
              "      dtype='object', length=2000)"
            ]
          },
          "metadata": {},
          "execution_count": 118
        }
      ]
    },
    {
      "cell_type": "code",
      "source": [
        "hv_list = []\n",
        "for i in range(35278):\n",
        "  if adata.var.highly_variable[i]==True :\n",
        "    hv_list.append(i)"
      ],
      "metadata": {
        "id": "MhMQjrwK09pm"
      },
      "execution_count": null,
      "outputs": []
    },
    {
      "cell_type": "code",
      "source": [
        "adata_h = adata[adata.obs.diagnosis == 'Control']\n",
        "adata_d = adata[adata.obs.diagnosis == 'MS']"
      ],
      "metadata": {
        "id": "bHFnNbU11Cht"
      },
      "execution_count": null,
      "outputs": []
    },
    {
      "cell_type": "code",
      "source": [
        "adata_h_hv = adata_h.X[:,hv_list[0]]\n",
        "adata_d_hv = adata_d.X[:,hv_list[0]]"
      ],
      "metadata": {
        "id": "uEb-AeA21P81"
      },
      "execution_count": null,
      "outputs": []
    },
    {
      "cell_type": "code",
      "source": [
        "for i in range(1,2000):\n",
        "  adata_h_hv = hstack((adata_h_hv, adata_h.X[:,hv_list[i]]))\n",
        "  print(adata_h_hv.shape)"
      ],
      "metadata": {
        "id": "0NDeZHwk1v0e"
      },
      "execution_count": null,
      "outputs": []
    },
    {
      "cell_type": "code",
      "source": [
        "for i in range(1,2000):\n",
        "  adata_d_hv = hstack((adata_d_hv, adata_d.X[:,hv_list[i]]))\n",
        "  print(adata_d_hv.shape)"
      ],
      "metadata": {
        "id": "MjJWpfOZ2H2q"
      },
      "execution_count": null,
      "outputs": []
    },
    {
      "cell_type": "code",
      "source": [
        "import numpy as np\n",
        "d1 = adata_d_hv.toarray()"
      ],
      "metadata": {
        "id": "y35jlZfg5DEI"
      },
      "execution_count": null,
      "outputs": []
    },
    {
      "cell_type": "code",
      "source": [
        "d2 = adata_h_hv.toarray()"
      ],
      "metadata": {
        "id": "MWn2R9IJ-fsA"
      },
      "execution_count": null,
      "outputs": []
    },
    {
      "cell_type": "code",
      "source": [
        "!pip install contrastive"
      ],
      "metadata": {
        "colab": {
          "base_uri": "https://localhost:8080/"
        },
        "id": "oL4-rYIqCLRz",
        "outputId": "aa1f3062-2e42-46e2-f8a9-0d1f277a9ad9"
      },
      "execution_count": null,
      "outputs": [
        {
          "output_type": "stream",
          "name": "stdout",
          "text": [
            "Looking in indexes: https://pypi.org/simple, https://us-python.pkg.dev/colab-wheels/public/simple/\n",
            "Collecting contrastive\n",
            "  Downloading contrastive-1.1.0.tar.gz (8.9 kB)\n",
            "Requirement already satisfied: numpy in /usr/local/lib/python3.8/dist-packages (from contrastive) (1.21.6)\n",
            "Collecting sklearn\n",
            "  Downloading sklearn-0.0.post1.tar.gz (3.6 kB)\n",
            "Requirement already satisfied: matplotlib in /usr/local/lib/python3.8/dist-packages (from contrastive) (3.1.3)\n",
            "Requirement already satisfied: cycler>=0.10 in /usr/local/lib/python3.8/dist-packages (from matplotlib->contrastive) (0.11.0)\n",
            "Requirement already satisfied: pyparsing!=2.0.4,!=2.1.2,!=2.1.6,>=2.0.1 in /usr/local/lib/python3.8/dist-packages (from matplotlib->contrastive) (3.0.9)\n",
            "Requirement already satisfied: kiwisolver>=1.0.1 in /usr/local/lib/python3.8/dist-packages (from matplotlib->contrastive) (1.4.4)\n",
            "Requirement already satisfied: python-dateutil>=2.1 in /usr/local/lib/python3.8/dist-packages (from matplotlib->contrastive) (2.8.2)\n",
            "Requirement already satisfied: six>=1.5 in /usr/local/lib/python3.8/dist-packages (from python-dateutil>=2.1->matplotlib->contrastive) (1.15.0)\n",
            "Building wheels for collected packages: contrastive, sklearn\n",
            "  Building wheel for contrastive (setup.py) ... \u001b[?25l\u001b[?25hdone\n",
            "  Created wheel for contrastive: filename=contrastive-1.1.0-py3-none-any.whl size=6946 sha256=a3974b2dc1a1b254817d0cf147b89c0c6173bc8460f9c7a5ea8381322d1e9d19\n",
            "  Stored in directory: /root/.cache/pip/wheels/c0/2f/8d/f0ee2e231586de792afdbedc07bd9e39f8ed2b7a4ac8f9508a\n",
            "  Building wheel for sklearn (setup.py) ... \u001b[?25l\u001b[?25hdone\n",
            "  Created wheel for sklearn: filename=sklearn-0.0.post1-py3-none-any.whl size=2344 sha256=25df4cefd300702ea1a7019ea1d4428ec86a17aa34038db9b41c72ed8f67d22e\n",
            "  Stored in directory: /root/.cache/pip/wheels/14/25/f7/1cc0956978ae479e75140219088deb7a36f60459df242b1a72\n",
            "Successfully built contrastive sklearn\n",
            "Installing collected packages: sklearn, contrastive\n",
            "Successfully installed contrastive-1.1.0 sklearn-0.0.post1\n"
          ]
        }
      ]
    },
    {
      "cell_type": "code",
      "source": [
        "target = d1 # diseased\n",
        "backg = d2  # healthy"
      ],
      "metadata": {
        "id": "kOjiSK3QEVAw"
      },
      "execution_count": null,
      "outputs": []
    },
    {
      "cell_type": "code",
      "source": [
        "from contrastive import CPCA\n",
        "\n",
        "mdl = CPCA()\n",
        "projected_data = mdl.fit_transform(target,backg,plot = True)"
      ],
      "metadata": {
        "colab": {
          "base_uri": "https://localhost:8080/",
          "height": 262
        },
        "id": "E2OXVT7bEP3r",
        "outputId": "607a968e-d1d5-4e20-c7ef-e3785c139c40"
      },
      "execution_count": null,
      "outputs": [
        {
          "output_type": "stream",
          "name": "stderr",
          "text": [
            "/usr/local/lib/python3.8/dist-packages/contrastive/__init__.py:40: RuntimeWarning: invalid value encountered in true_divide\n",
            "  standardized_array =  (array-np.mean(array,axis=0)) / np.std(array,axis=0)\n"
          ]
        },
        {
          "output_type": "display_data",
          "data": {
            "text/plain": [
              "<Figure size 1008x216 with 4 Axes>"
            ],
            "image/png": "[encoded data removed]"
          },
          "metadata": {
            "needs_background": "light"
          }
        }
      ]
    },
    {
      "cell_type": "code",
      "source": [
        "target1 = d2 # HEALTHY\n",
        "backg1 = d1  # DISEASED"
      ],
      "metadata": {
        "id": "YVWGg_QtFNx-"
      },
      "execution_count": null,
      "outputs": []
    },
    {
      "cell_type": "code",
      "source": [
        "from contrastive import CPCA\n",
        "\n",
        "mdl = CPCA()\n",
        "projected_data1 = mdl.fit_transform(target1,backg1,plot = True)"
      ],
      "metadata": {
        "colab": {
          "base_uri": "https://localhost:8080/",
          "height": 262
        },
        "id": "m4v8a83tErM6",
        "outputId": "bc6e004b-44d4-4468-fff5-1caeb3ffa3d9"
      },
      "execution_count": null,
      "outputs": [
        {
          "output_type": "stream",
          "name": "stderr",
          "text": [
            "/usr/local/lib/python3.8/dist-packages/contrastive/__init__.py:40: RuntimeWarning: invalid value encountered in true_divide\n",
            "  standardized_array =  (array-np.mean(array,axis=0)) / np.std(array,axis=0)\n"
          ]
        },
        {
          "output_type": "display_data",
          "data": {
            "text/plain": [
              "<Figure size 1008x216 with 4 Axes>"
            ],
            "image/png": "[encoded data removed]"
          },
          "metadata": {
            "needs_background": "light"
          }
        }
      ]
    },
    {
      "cell_type": "code",
      "source": [
        "from cpca_p import CPCA\n",
        "\n",
        "\n",
        "mdl = CPCA()\n",
        "projected_data, alphas , v_top = mdl.fit_transform(target,backg,return_alphas=True)\n",
        "\n"
      ],
      "metadata": {
        "colab": {
          "base_uri": "https://localhost:8080/"
        },
        "id": "FCSH_qDtxbnn",
        "outputId": "0ec7d9ad-ada7-4ff7-c199-4824ba93c1d9"
      },
      "execution_count": null,
      "outputs": [
        {
          "output_type": "stream",
          "name": "stderr",
          "text": [
            "/content/cpca_p.py:40: RuntimeWarning: invalid value encountered in true_divide\n",
            "  standardized_array =  (array-np.mean(array,axis=0)) / np.std(array,axis=0)\n"
          ]
        },
        {
          "output_type": "stream",
          "name": "stdout",
          "text": [
            "(31516, 2000)\n",
            "(17402, 2000)\n",
            "lelo\n",
            "(2000, 2)\n",
            "lelo\n",
            "(2000, 2)\n",
            "lelo\n",
            "(2000, 2)\n",
            "lelo\n",
            "(2000, 2)\n"
          ]
        }
      ]
    },
    {
      "cell_type": "code",
      "source": [
        "from cpca_p import CPCA\n",
        "\n",
        "\n",
        "mdl = CPCA()\n",
        "projected_data1, alphas1 , v_top1 = mdl.fit_transform(target1,backg1,return_alphas=True)\n"
      ],
      "metadata": {
        "colab": {
          "base_uri": "https://localhost:8080/"
        },
        "id": "AlUkIoFtSYR5",
        "outputId": "e1b659a3-2763-49c1-fcde-ebcdc63ba21b"
      },
      "execution_count": null,
      "outputs": [
        {
          "output_type": "stream",
          "name": "stderr",
          "text": [
            "/content/cpca_p.py:40: RuntimeWarning: invalid value encountered in true_divide\n",
            "  standardized_array =  (array-np.mean(array,axis=0)) / np.std(array,axis=0)\n"
          ]
        },
        {
          "output_type": "stream",
          "name": "stdout",
          "text": [
            "(17402, 2000)\n",
            "(31516, 2000)\n",
            "lelo\n",
            "(2000, 2)\n",
            "lelo\n",
            "(2000, 2)\n",
            "lelo\n",
            "(2000, 2)\n",
            "lelo\n",
            "(2000, 2)\n"
          ]
        }
      ]
    },
    {
      "cell_type": "code",
      "source": [
        "v_top1[1].shape"
      ],
      "metadata": {
        "colab": {
          "base_uri": "https://localhost:8080/"
        },
        "id": "rgTl_0ADAaSU",
        "outputId": "bf0d6d75-db5a-45a1-e9dc-ba3750cb599e"
      },
      "execution_count": null,
      "outputs": [
        {
          "output_type": "execute_result",
          "data": {
            "text/plain": [
              "(2000, 2)"
            ]
          },
          "metadata": {},
          "execution_count": 104
        }
      ]
    },
    {
      "cell_type": "code",
      "source": [
        "ko = abs(v_top[1])\n",
        "np.histogram(v_top[1])"
      ],
      "metadata": {
        "colab": {
          "base_uri": "https://localhost:8080/"
        },
        "id": "QtozoLZavewH",
        "outputId": "961e8206-2ee8-4558-8b9d-e0fe28f6fd85"
      },
      "execution_count": null,
      "outputs": [
        {
          "output_type": "execute_result",
          "data": {
            "text/plain": [
              "(array([   6,   33,  147,  469, 1910, 1127,  219,   57,   30,    2]),\n",
              " array([-0.11006847, -0.08814493, -0.06622138, -0.04429784, -0.02237429,\n",
              "        -0.00045075,  0.0214728 ,  0.04339635,  0.06531989,  0.08724344,\n",
              "         0.10916698], dtype=float32))"
            ]
          },
          "metadata": {},
          "execution_count": 112
        }
      ]
    },
    {
      "cell_type": "code",
      "source": [
        "import matplotlib.pyplot as plt\n",
        "rng = np.random.RandomState(10)  # deterministic random data\n",
        "a = np.hstack((rng.normal(size=1000),\n",
        "               rng.normal(loc=5, scale=2, size=1000)))\n",
        "_ = plt.hist(ko[:,0], bins='auto')  # arguments are passed to np.histogram\n",
        "plt.title(\"Histogram with 'auto' bins\")\n",
        "Text(0.5, 1.0, \"Histogram with 'auto' bins\")\n",
        "plt.show()"
      ],
      "metadata": {
        "colab": {
          "base_uri": "https://localhost:8080/",
          "height": 481
        },
        "id": "CA5_B0Ebx9RO",
        "outputId": "cb93efc4-e1d6-4f3d-b3a1-a689bd4a6765"
      },
      "execution_count": null,
      "outputs": [
        {
          "output_type": "error",
          "ename": "NameError",
          "evalue": "ignored",
          "traceback": [
            "\u001b[0;31m---------------------------------------------------------------------------\u001b[0m",
            "\u001b[0;31mNameError\u001b[0m                                 Traceback (most recent call last)",
            "\u001b[0;32m<ipython-input-114-142794627798>\u001b[0m in \u001b[0;36m<module>\u001b[0;34m\u001b[0m\n\u001b[1;32m      5\u001b[0m \u001b[0m_\u001b[0m \u001b[0;34m=\u001b[0m \u001b[0mplt\u001b[0m\u001b[0;34m.\u001b[0m\u001b[0mhist\u001b[0m\u001b[0;34m(\u001b[0m\u001b[0mko\u001b[0m\u001b[0;34m[\u001b[0m\u001b[0;34m:\u001b[0m\u001b[0;34m,\u001b[0m\u001b[0;36m0\u001b[0m\u001b[0;34m]\u001b[0m\u001b[0;34m,\u001b[0m \u001b[0mbins\u001b[0m\u001b[0;34m=\u001b[0m\u001b[0;34m'auto'\u001b[0m\u001b[0;34m)\u001b[0m  \u001b[0;31m# arguments are passed to np.histogram\u001b[0m\u001b[0;34m\u001b[0m\u001b[0;34m\u001b[0m\u001b[0m\n\u001b[1;32m      6\u001b[0m \u001b[0mplt\u001b[0m\u001b[0;34m.\u001b[0m\u001b[0mtitle\u001b[0m\u001b[0;34m(\u001b[0m\u001b[0;34m\"Histogram with 'auto' bins\"\u001b[0m\u001b[0;34m)\u001b[0m\u001b[0;34m\u001b[0m\u001b[0;34m\u001b[0m\u001b[0m\n\u001b[0;32m----> 7\u001b[0;31m \u001b[0mText\u001b[0m\u001b[0;34m(\u001b[0m\u001b[0;36m0.5\u001b[0m\u001b[0;34m,\u001b[0m \u001b[0;36m1.0\u001b[0m\u001b[0;34m,\u001b[0m \u001b[0;34m\"Histogram with 'auto' bins\"\u001b[0m\u001b[0;34m)\u001b[0m\u001b[0;34m\u001b[0m\u001b[0;34m\u001b[0m\u001b[0m\n\u001b[0m\u001b[1;32m      8\u001b[0m \u001b[0mplt\u001b[0m\u001b[0;34m.\u001b[0m\u001b[0mshow\u001b[0m\u001b[0;34m(\u001b[0m\u001b[0;34m)\u001b[0m\u001b[0;34m\u001b[0m\u001b[0;34m\u001b[0m\u001b[0m\n",
            "\u001b[0;31mNameError\u001b[0m: name 'Text' is not defined"
          ]
        },
        {
          "output_type": "display_data",
          "data": {
            "text/plain": [
              "<Figure size 432x288 with 1 Axes>"
            ],
            "image/png": "[encoded data removed]"
          },
          "metadata": {
            "needs_background": "light"
          }
        }
      ]
    },
    {
      "cell_type": "code",
      "source": [
        "import matplotlib.pyplot as plt\n",
        "rng = np.random.RandomState(10)  # deterministic random data\n",
        "a = np.hstack((rng.normal(size=1000),\n",
        "               rng.normal(loc=5, scale=2, size=1000)))\n",
        "_ = plt.hist(ko[:,1], bins='auto')  # arguments are passed to np.histogram\n",
        "plt.title(\"Histogram with 'auto' bins\")\n",
        "Text(0.5, 1.0, \"Histogram with 'auto' bins\")\n",
        "plt.show()"
      ],
      "metadata": {
        "colab": {
          "base_uri": "https://localhost:8080/",
          "height": 481
        },
        "id": "6n9evFRSyVG5",
        "outputId": "895df150-a8f1-4493-ae71-84a8ffc29b1b"
      },
      "execution_count": null,
      "outputs": [
        {
          "output_type": "error",
          "ename": "NameError",
          "evalue": "ignored",
          "traceback": [
            "\u001b[0;31m---------------------------------------------------------------------------\u001b[0m",
            "\u001b[0;31mNameError\u001b[0m                                 Traceback (most recent call last)",
            "\u001b[0;32m<ipython-input-115-0d1a1667934a>\u001b[0m in \u001b[0;36m<module>\u001b[0;34m\u001b[0m\n\u001b[1;32m      5\u001b[0m \u001b[0m_\u001b[0m \u001b[0;34m=\u001b[0m \u001b[0mplt\u001b[0m\u001b[0;34m.\u001b[0m\u001b[0mhist\u001b[0m\u001b[0;34m(\u001b[0m\u001b[0mko\u001b[0m\u001b[0;34m[\u001b[0m\u001b[0;34m:\u001b[0m\u001b[0;34m,\u001b[0m\u001b[0;36m1\u001b[0m\u001b[0;34m]\u001b[0m\u001b[0;34m,\u001b[0m \u001b[0mbins\u001b[0m\u001b[0;34m=\u001b[0m\u001b[0;34m'auto'\u001b[0m\u001b[0;34m)\u001b[0m  \u001b[0;31m# arguments are passed to np.histogram\u001b[0m\u001b[0;34m\u001b[0m\u001b[0;34m\u001b[0m\u001b[0m\n\u001b[1;32m      6\u001b[0m \u001b[0mplt\u001b[0m\u001b[0;34m.\u001b[0m\u001b[0mtitle\u001b[0m\u001b[0;34m(\u001b[0m\u001b[0;34m\"Histogram with 'auto' bins\"\u001b[0m\u001b[0;34m)\u001b[0m\u001b[0;34m\u001b[0m\u001b[0;34m\u001b[0m\u001b[0m\n\u001b[0;32m----> 7\u001b[0;31m \u001b[0mText\u001b[0m\u001b[0;34m(\u001b[0m\u001b[0;36m0.5\u001b[0m\u001b[0;34m,\u001b[0m \u001b[0;36m1.0\u001b[0m\u001b[0;34m,\u001b[0m \u001b[0;34m\"Histogram with 'auto' bins\"\u001b[0m\u001b[0;34m)\u001b[0m\u001b[0;34m\u001b[0m\u001b[0;34m\u001b[0m\u001b[0m\n\u001b[0m\u001b[1;32m      8\u001b[0m \u001b[0mplt\u001b[0m\u001b[0;34m.\u001b[0m\u001b[0mshow\u001b[0m\u001b[0;34m(\u001b[0m\u001b[0;34m)\u001b[0m\u001b[0;34m\u001b[0m\u001b[0;34m\u001b[0m\u001b[0m\n",
            "\u001b[0;31mNameError\u001b[0m: name 'Text' is not defined"
          ]
        },
        {
          "output_type": "display_data",
          "data": {
            "text/plain": [
              "<Figure size 432x288 with 1 Axes>"
            ],
            "image/png": "[encoded data removed]"
          },
          "metadata": {
            "needs_background": "light"
          }
        }
      ]
    },
    {
      "cell_type": "code",
      "source": [
        "v_top[1]"
      ],
      "metadata": {
        "colab": {
          "base_uri": "https://localhost:8080/"
        },
        "id": "_H6o2I6I0Ari",
        "outputId": "58591dce-8d2b-4299-8ec0-ee1b3699d6b7"
      },
      "execution_count": null,
      "outputs": [
        {
          "output_type": "execute_result",
          "data": {
            "text/plain": [
              "array([[-0.02200322,  0.01766195],\n",
              "       [-0.00771876, -0.00236409],\n",
              "       [-0.02786909,  0.00896208],\n",
              "       ...,\n",
              "       [-0.01234573, -0.00581474],\n",
              "       [-0.00839101,  0.00343406],\n",
              "       [-0.00236316,  0.00475495]], dtype=float32)"
            ]
          },
          "metadata": {},
          "execution_count": 119
        }
      ]
    },
    {
      "cell_type": "code",
      "source": [
        "v_top1[1]"
      ],
      "metadata": {
        "colab": {
          "base_uri": "https://localhost:8080/"
        },
        "id": "SN7o41w20D6R",
        "outputId": "21cbadaa-6aab-49d4-d0cb-c3b53db5024b"
      },
      "execution_count": null,
      "outputs": [
        {
          "output_type": "execute_result",
          "data": {
            "text/plain": [
              "array([[-0.00877285, -0.02242507],\n",
              "       [ 0.01757837, -0.00535961],\n",
              "       [ 0.01304983,  0.00951172],\n",
              "       ...,\n",
              "       [ 0.0030134 , -0.00914587],\n",
              "       [ 0.01578364, -0.00755243],\n",
              "       [ 0.00583867, -0.00807571]], dtype=float32)"
            ]
          },
          "metadata": {},
          "execution_count": 120
        }
      ]
    },
    {
      "cell_type": "code",
      "source": [
        "ko = v"
      ],
      "metadata": {
        "id": "slXRnkk60VVs"
      },
      "execution_count": null,
      "outputs": []
    },
    {
      "cell_type": "code",
      "source": [
        "import matplotlib.pyplot as plt\n",
        "rng = np.random.RandomState(10)  # deterministic random data\n",
        "a = np.hstack((rng.normal(size=1000),\n",
        "               rng.normal(loc=5, scale=2, size=1000)))\n",
        "_ = plt.hist(v_top[1] - v_top1[1], bins='auto')  # arguments are passed to np.histogram\n",
        "plt.title(\"Histogram with 'auto' bins\")\n",
        "# Text(0.5, 1.0, \"Histogram with 'auto' bins\")\n",
        "plt.show()"
      ],
      "metadata": {
        "colab": {
          "base_uri": "https://localhost:8080/",
          "height": 281
        },
        "id": "T0mu6vVi066y",
        "outputId": "85a3b196-6734-4b83-df33-fcf78ade8633"
      },
      "execution_count": null,
      "outputs": [
        {
          "output_type": "display_data",
          "data": {
            "text/plain": [
              "<Figure size 432x288 with 1 Axes>"
            ],
            "image/png": "[encoded data removed]"
          },
          "metadata": {
            "needs_background": "light"
          }
        }
      ]
    },
    {
      "cell_type": "code",
      "source": [
        "import matplotlib.pyplot as plt\n",
        "rng = np.random.RandomState(10)  # deterministic random data\n",
        "a = np.hstack((rng.normal(size=1000),\n",
        "               rng.normal(loc=5, scale=2, size=1000)))\n",
        "_ = plt.hist(v_top[1][:,0] - v_top1[1][:,0], bins='auto')  # arguments are passed to np.histogram\n",
        "plt.title(\"Histogram with 'auto' bins\")\n",
        "# Text(0.5, 1.0, \"Histogram with 'auto' bins\")\n",
        "plt.show()"
      ],
      "metadata": {
        "colab": {
          "base_uri": "https://localhost:8080/",
          "height": 281
        },
        "id": "ZMobumbQ0JBV",
        "outputId": "e0112326-906e-4a79-c2a9-8e29430cd70d"
      },
      "execution_count": null,
      "outputs": [
        {
          "output_type": "display_data",
          "data": {
            "text/plain": [
              "<Figure size 432x288 with 1 Axes>"
            ],
            "image/png": "[encoded data removed]"
          },
          "metadata": {
            "needs_background": "light"
          }
        }
      ]
    },
    {
      "cell_type": "code",
      "source": [
        "import matplotlib.pyplot as plt\n",
        "rng = np.random.RandomState(10)  # deterministic random data\n",
        "a = np.hstack((rng.normal(size=1000),\n",
        "               rng.normal(loc=5, scale=2, size=1000)))\n",
        "_ = plt.hist(v_top[1][:,1] - v_top1[1][:,1], bins='auto')  # arguments are passed to np.histogram\n",
        "plt.title(\"Histogram with 'auto' bins\")\n",
        "# Text(0.5, 1.0, \"Histogram with 'auto' bins\")\n",
        "plt.show()"
      ],
      "metadata": {
        "colab": {
          "base_uri": "https://localhost:8080/",
          "height": 281
        },
        "id": "Zzgx_RCo0k51",
        "outputId": "d1f66cdd-4a04-42b0-ac1d-0daaa665fb17"
      },
      "execution_count": null,
      "outputs": [
        {
          "output_type": "display_data",
          "data": {
            "text/plain": [
              "<Figure size 432x288 with 1 Axes>"
            ],
            "image/png": "[encoded data removed]"
          },
          "metadata": {
            "needs_background": "light"
          }
        }
      ]
    },
    {
      "cell_type": "markdown",
      "source": [
        "# Asthma"
      ],
      "metadata": {
        "id": "vcL1BHFFFxn-"
      }
    },
    {
      "cell_type": "code",
      "source": [
        "path = '/content/drive/MyDrive/asthma.h5ad'\n",
        "adata = sc.read(path)"
      ],
      "metadata": {
        "id": "bAuGfj7kFO-f"
      },
      "execution_count": null,
      "outputs": []
    },
    {
      "cell_type": "code",
      "source": [
        "adata.obs"
      ],
      "metadata": {
        "colab": {
          "base_uri": "https://localhost:8080/",
          "height": 574
        },
        "id": "1HwX6-nsGUFA",
        "outputId": "672fe34c-3d09-4df8-ccb1-0f839082b7b8"
      },
      "execution_count": null,
      "outputs": [
        {
          "output_type": "execute_result",
          "data": {
            "text/plain": [
              "                                                   batch                 clus  \\\n",
              "4951STDY7487591GACGTGCGTAGTGAAT-0                      0           Ciliated 1   \n",
              "4951STDY7487591TAAACCGGTAGCGCAA-0                      0           Ciliated 1   \n",
              "CTTV027_RNAseq6949177_TATCAGGGTAAGGGAA-0               0           Ciliated 1   \n",
              "4951STDY7487591TACTTACAGAGGTTGC-0                      0                 Club   \n",
              "4951STDY7472266TGCACCTGTGTATGGG-0                      0           Ciliated 2   \n",
              "...                                                  ...                  ...   \n",
              "CTTV027_RNAseq7333558_CTTV027_RNAseq7333558CCTT...     4  Luminal macrophages   \n",
              "CTTV027_RNAseq7333558_CTTV027_RNAseq7333558CGAT...     4  Luminal macrophages   \n",
              "CTTV027_RNAseq7333558_CTTV027_RNAseq7333558GCGC...     4  Luminal macrophages   \n",
              "CTTV027_RNAseq7333559AAGCCGCGTCGCTTCT-4                4  Luminal macrophages   \n",
              "CTTV027_RNAseq7333559GAAACTCAGTGTACGG-4                4  Luminal macrophages   \n",
              "\n",
              "                                                         dataset     loc  \\\n",
              "4951STDY7487591GACGTGCGTAGTGAAT-0                       Lung_epi  Airway   \n",
              "4951STDY7487591TAAACCGGTAGCGCAA-0                       Lung_epi  Airway   \n",
              "CTTV027_RNAseq6949177_TATCAGGGTAAGGGAA-0                Lung_epi  Airway   \n",
              "4951STDY7487591TACTTACAGAGGTTGC-0                       Lung_epi  Airway   \n",
              "4951STDY7472266TGCACCTGTGTATGGG-0                       Lung_epi  Airway   \n",
              "...                                                          ...     ...   \n",
              "CTTV027_RNAseq7333558_CTTV027_RNAseq7333558CCTT...  Asthma_other  Asthma   \n",
              "CTTV027_RNAseq7333558_CTTV027_RNAseq7333558CGAT...  Asthma_other  Asthma   \n",
              "CTTV027_RNAseq7333558_CTTV027_RNAseq7333558GCGC...  Asthma_other  Asthma   \n",
              "CTTV027_RNAseq7333559AAGCCGCGTCGCTTCT-4             Asthma_other  Asthma   \n",
              "CTTV027_RNAseq7333559GAAACTCAGTGTACGG-4             Asthma_other  Asthma   \n",
              "\n",
              "                                                       tSNE_1     tSNE_2  \\\n",
              "4951STDY7487591GACGTGCGTAGTGAAT-0                   33.155996   4.419804   \n",
              "4951STDY7487591TAAACCGGTAGCGCAA-0                   25.261054   9.093731   \n",
              "CTTV027_RNAseq6949177_TATCAGGGTAAGGGAA-0            22.476076  29.587953   \n",
              "4951STDY7487591TACTTACAGAGGTTGC-0                    7.733250  22.486911   \n",
              "4951STDY7472266TGCACCTGTGTATGGG-0                   26.471470 -17.436907   \n",
              "...                                                       ...        ...   \n",
              "CTTV027_RNAseq7333558_CTTV027_RNAseq7333558CCTT...  -7.530124 -27.903879   \n",
              "CTTV027_RNAseq7333558_CTTV027_RNAseq7333558CGAT...  -8.607374 -29.359056   \n",
              "CTTV027_RNAseq7333558_CTTV027_RNAseq7333558GCGC...  -8.424184 -29.989269   \n",
              "CTTV027_RNAseq7333559AAGCCGCGTCGCTTCT-4             -9.439834 -29.938902   \n",
              "CTTV027_RNAseq7333559GAAACTCAGTGTACGG-4             -7.489807 -27.694101   \n",
              "\n",
              "                                                                                       sampleid  \\\n",
              "4951STDY7487591GACGTGCGTAGTGAAT-0                                               4951STDY7487591   \n",
              "4951STDY7487591TAAACCGGTAGCGCAA-0                                               4951STDY7487591   \n",
              "CTTV027_RNAseq6949177_TATCAGGGTAAGGGAA-0                                 CTTV027_RNAseq6949177_   \n",
              "4951STDY7487591TACTTACAGAGGTTGC-0                                               4951STDY7487591   \n",
              "4951STDY7472266TGCACCTGTGTATGGG-0                                               4951STDY7472266   \n",
              "...                                                                                         ...   \n",
              "CTTV027_RNAseq7333558_CTTV027_RNAseq7333558CCTT...  CTTV027_RNAseq7333558_CTTV027_RNAseq7333558   \n",
              "CTTV027_RNAseq7333558_CTTV027_RNAseq7333558CGAT...  CTTV027_RNAseq7333558_CTTV027_RNAseq7333558   \n",
              "CTTV027_RNAseq7333558_CTTV027_RNAseq7333558GCGC...  CTTV027_RNAseq7333558_CTTV027_RNAseq7333558   \n",
              "CTTV027_RNAseq7333559AAGCCGCGTCGCTTCT-4                                   CTTV027_RNAseq7333559   \n",
              "CTTV027_RNAseq7333559GAAACTCAGTGTACGG-4                                   CTTV027_RNAseq7333559   \n",
              "\n",
              "                                                    percent_mito  \\\n",
              "4951STDY7487591GACGTGCGTAGTGAAT-0                       0.009312   \n",
              "4951STDY7487591TAAACCGGTAGCGCAA-0                       0.008385   \n",
              "CTTV027_RNAseq6949177_TATCAGGGTAAGGGAA-0                0.006208   \n",
              "4951STDY7487591TACTTACAGAGGTTGC-0                       0.006467   \n",
              "4951STDY7472266TGCACCTGTGTATGGG-0                       0.005334   \n",
              "...                                                          ...   \n",
              "CTTV027_RNAseq7333558_CTTV027_RNAseq7333558CCTT...      0.007247   \n",
              "CTTV027_RNAseq7333558_CTTV027_RNAseq7333558CGAT...      0.008482   \n",
              "CTTV027_RNAseq7333558_CTTV027_RNAseq7333558GCGC...      0.011526   \n",
              "CTTV027_RNAseq7333559AAGCCGCGTCGCTTCT-4                 0.008784   \n",
              "CTTV027_RNAseq7333559GAAACTCAGTGTACGG-4                 0.009437   \n",
              "\n",
              "                                                            cell_subset  \\\n",
              "4951STDY7487591GACGTGCGTAGTGAAT-0                            Ciliated 1   \n",
              "4951STDY7487591TAAACCGGTAGCGCAA-0                            Ciliated 1   \n",
              "CTTV027_RNAseq6949177_TATCAGGGTAAGGGAA-0                     Ciliated 1   \n",
              "4951STDY7487591TACTTACAGAGGTTGC-0                                  Club   \n",
              "4951STDY7472266TGCACCTGTGTATGGG-0                            Ciliated 2   \n",
              "...                                                                 ...   \n",
              "CTTV027_RNAseq7333558_CTTV027_RNAseq7333558CCTT...  Luminal macrophages   \n",
              "CTTV027_RNAseq7333558_CTTV027_RNAseq7333558CGAT...  Luminal macrophages   \n",
              "CTTV027_RNAseq7333558_CTTV027_RNAseq7333558GCGC...  Luminal macrophages   \n",
              "CTTV027_RNAseq7333559AAGCCGCGTCGCTTCT-4             Luminal macrophages   \n",
              "CTTV027_RNAseq7333559GAAACTCAGTGTACGG-4             Luminal macrophages   \n",
              "\n",
              "                                                   leiden  disease  \\\n",
              "4951STDY7487591GACGTGCGTAGTGAAT-0                       2  Healthy   \n",
              "4951STDY7487591TAAACCGGTAGCGCAA-0                       2  Healthy   \n",
              "CTTV027_RNAseq6949177_TATCAGGGTAAGGGAA-0                8  Healthy   \n",
              "4951STDY7487591TACTTACAGAGGTTGC-0                       8  Healthy   \n",
              "4951STDY7472266TGCACCTGTGTATGGG-0                       2  Healthy   \n",
              "...                                                   ...      ...   \n",
              "CTTV027_RNAseq7333558_CTTV027_RNAseq7333558CCTT...     22   Asthma   \n",
              "CTTV027_RNAseq7333558_CTTV027_RNAseq7333558CGAT...     22   Asthma   \n",
              "CTTV027_RNAseq7333558_CTTV027_RNAseq7333558GCGC...     22   Asthma   \n",
              "CTTV027_RNAseq7333559AAGCCGCGTCGCTTCT-4                22   Asthma   \n",
              "CTTV027_RNAseq7333559GAAACTCAGTGTACGG-4                22   Asthma   \n",
              "\n",
              "                                                   annot_level_2  \\\n",
              "4951STDY7487591GACGTGCGTAGTGAAT-0                       Ciliated   \n",
              "4951STDY7487591TAAACCGGTAGCGCAA-0                       Ciliated   \n",
              "CTTV027_RNAseq6949177_TATCAGGGTAAGGGAA-0                Ciliated   \n",
              "4951STDY7487591TACTTACAGAGGTTGC-0                           Club   \n",
              "4951STDY7472266TGCACCTGTGTATGGG-0                       Ciliated   \n",
              "...                                                          ...   \n",
              "CTTV027_RNAseq7333558_CTTV027_RNAseq7333558CCTT...    Macrophage   \n",
              "CTTV027_RNAseq7333558_CTTV027_RNAseq7333558CGAT...    Macrophage   \n",
              "CTTV027_RNAseq7333558_CTTV027_RNAseq7333558GCGC...    Macrophage   \n",
              "CTTV027_RNAseq7333559AAGCCGCGTCGCTTCT-4               Macrophage   \n",
              "CTTV027_RNAseq7333559GAAACTCAGTGTACGG-4               Macrophage   \n",
              "\n",
              "                                                         annot_level_3  \n",
              "4951STDY7487591GACGTGCGTAGTGAAT-0                           Ciliated_1  \n",
              "4951STDY7487591TAAACCGGTAGCGCAA-0                           Ciliated_1  \n",
              "CTTV027_RNAseq6949177_TATCAGGGTAAGGGAA-0                    Ciliated_1  \n",
              "4951STDY7487591TACTTACAGAGGTTGC-0                                 Club  \n",
              "4951STDY7472266TGCACCTGTGTATGGG-0                           Ciliated_2  \n",
              "...                                                                ...  \n",
              "CTTV027_RNAseq7333558_CTTV027_RNAseq7333558CCTT...  Macrophage_luminal  \n",
              "CTTV027_RNAseq7333558_CTTV027_RNAseq7333558CGAT...  Macrophage_luminal  \n",
              "CTTV027_RNAseq7333558_CTTV027_RNAseq7333558GCGC...  Macrophage_luminal  \n",
              "CTTV027_RNAseq7333559AAGCCGCGTCGCTTCT-4             Macrophage_luminal  \n",
              "CTTV027_RNAseq7333559GAAACTCAGTGTACGG-4             Macrophage_luminal  \n",
              "\n",
              "[67078 rows x 13 columns]"
            ],
            "text/html": [
              "\n",
              "  <div id=\"df-2dd82413-55f5-4c3b-a253-4fd2e9b2e97b\">\n",
              "    <div class=\"colab-df-container\">\n",
              "      <div>\n",
              "<style scoped>\n",
              "    .dataframe tbody tr th:only-of-type {\n",
              "        vertical-align: middle;\n",
              "    }\n",
              "\n",
              "    .dataframe tbody tr th {\n",
              "        vertical-align: top;\n",
              "    }\n",
              "\n",
              "    .dataframe thead th {\n",
              "        text-align: right;\n",
              "    }\n",
              "</style>\n",
              "<table border=\"1\" class=\"dataframe\">\n",
              "  <thead>\n",
              "    <tr style=\"text-align: right;\">\n",
              "      <th></th>\n",
              "      <th>batch</th>\n",
              "      <th>clus</th>\n",
              "      <th>dataset</th>\n",
              "      <th>loc</th>\n",
              "      <th>tSNE_1</th>\n",
              "      <th>tSNE_2</th>\n",
              "      <th>sampleid</th>\n",
              "      <th>percent_mito</th>\n",
              "      <th>cell_subset</th>\n",
              "      <th>leiden</th>\n",
              "      <th>disease</th>\n",
              "      <th>annot_level_2</th>\n",
              "      <th>annot_level_3</th>\n",
              "    </tr>\n",
              "  </thead>\n",
              "  <tbody>\n",
              "    <tr>\n",
              "      <th>4951STDY7487591GACGTGCGTAGTGAAT-0</th>\n",
              "      <td>0</td>\n",
              "      <td>Ciliated 1</td>\n",
              "      <td>Lung_epi</td>\n",
              "      <td>Airway</td>\n",
              "      <td>33.155996</td>\n",
              "      <td>4.419804</td>\n",
              "      <td>4951STDY7487591</td>\n",
              "      <td>0.009312</td>\n",
              "      <td>Ciliated 1</td>\n",
              "      <td>2</td>\n",
              "      <td>Healthy</td>\n",
              "      <td>Ciliated</td>\n",
              "      <td>Ciliated_1</td>\n",
              "    </tr>\n",
              "    <tr>\n",
              "      <th>4951STDY7487591TAAACCGGTAGCGCAA-0</th>\n",
              "      <td>0</td>\n",
              "      <td>Ciliated 1</td>\n",
              "      <td>Lung_epi</td>\n",
              "      <td>Airway</td>\n",
              "      <td>25.261054</td>\n",
              "      <td>9.093731</td>\n",
              "      <td>4951STDY7487591</td>\n",
              "      <td>0.008385</td>\n",
              "      <td>Ciliated 1</td>\n",
              "      <td>2</td>\n",
              "      <td>Healthy</td>\n",
              "      <td>Ciliated</td>\n",
              "      <td>Ciliated_1</td>\n",
              "    </tr>\n",
              "    <tr>\n",
              "      <th>CTTV027_RNAseq6949177_TATCAGGGTAAGGGAA-0</th>\n",
              "      <td>0</td>\n",
              "      <td>Ciliated 1</td>\n",
              "      <td>Lung_epi</td>\n",
              "      <td>Airway</td>\n",
              "      <td>22.476076</td>\n",
              "      <td>29.587953</td>\n",
              "      <td>CTTV027_RNAseq6949177_</td>\n",
              "      <td>0.006208</td>\n",
              "      <td>Ciliated 1</td>\n",
              "      <td>8</td>\n",
              "      <td>Healthy</td>\n",
              "      <td>Ciliated</td>\n",
              "      <td>Ciliated_1</td>\n",
              "    </tr>\n",
              "    <tr>\n",
              "      <th>4951STDY7487591TACTTACAGAGGTTGC-0</th>\n",
              "      <td>0</td>\n",
              "      <td>Club</td>\n",
              "      <td>Lung_epi</td>\n",
              "      <td>Airway</td>\n",
              "      <td>7.733250</td>\n",
              "      <td>22.486911</td>\n",
              "      <td>4951STDY7487591</td>\n",
              "      <td>0.006467</td>\n",
              "      <td>Club</td>\n",
              "      <td>8</td>\n",
              "      <td>Healthy</td>\n",
              "      <td>Club</td>\n",
              "      <td>Club</td>\n",
              "    </tr>\n",
              "    <tr>\n",
              "      <th>4951STDY7472266TGCACCTGTGTATGGG-0</th>\n",
              "      <td>0</td>\n",
              "      <td>Ciliated 2</td>\n",
              "      <td>Lung_epi</td>\n",
              "      <td>Airway</td>\n",
              "      <td>26.471470</td>\n",
              "      <td>-17.436907</td>\n",
              "      <td>4951STDY7472266</td>\n",
              "      <td>0.005334</td>\n",
              "      <td>Ciliated 2</td>\n",
              "      <td>2</td>\n",
              "      <td>Healthy</td>\n",
              "      <td>Ciliated</td>\n",
              "      <td>Ciliated_2</td>\n",
              "    </tr>\n",
              "    <tr>\n",
              "      <th>...</th>\n",
              "      <td>...</td>\n",
              "      <td>...</td>\n",
              "      <td>...</td>\n",
              "      <td>...</td>\n",
              "      <td>...</td>\n",
              "      <td>...</td>\n",
              "      <td>...</td>\n",
              "      <td>...</td>\n",
              "      <td>...</td>\n",
              "      <td>...</td>\n",
              "      <td>...</td>\n",
              "      <td>...</td>\n",
              "      <td>...</td>\n",
              "    </tr>\n",
              "    <tr>\n",
              "      <th>CTTV027_RNAseq7333558_CTTV027_RNAseq7333558CCTTCGACAAATTGCC-4</th>\n",
              "      <td>4</td>\n",
              "      <td>Luminal macrophages</td>\n",
              "      <td>Asthma_other</td>\n",
              "      <td>Asthma</td>\n",
              "      <td>-7.530124</td>\n",
              "      <td>-27.903879</td>\n",
              "      <td>CTTV027_RNAseq7333558_CTTV027_RNAseq7333558</td>\n",
              "      <td>0.007247</td>\n",
              "      <td>Luminal macrophages</td>\n",
              "      <td>22</td>\n",
              "      <td>Asthma</td>\n",
              "      <td>Macrophage</td>\n",
              "      <td>Macrophage_luminal</td>\n",
              "    </tr>\n",
              "    <tr>\n",
              "      <th>CTTV027_RNAseq7333558_CTTV027_RNAseq7333558CGATCGGTCGCCAAAT-4</th>\n",
              "      <td>4</td>\n",
              "      <td>Luminal macrophages</td>\n",
              "      <td>Asthma_other</td>\n",
              "      <td>Asthma</td>\n",
              "      <td>-8.607374</td>\n",
              "      <td>-29.359056</td>\n",
              "      <td>CTTV027_RNAseq7333558_CTTV027_RNAseq7333558</td>\n",
              "      <td>0.008482</td>\n",
              "      <td>Luminal macrophages</td>\n",
              "      <td>22</td>\n",
              "      <td>Asthma</td>\n",
              "      <td>Macrophage</td>\n",
              "      <td>Macrophage_luminal</td>\n",
              "    </tr>\n",
              "    <tr>\n",
              "      <th>CTTV027_RNAseq7333558_CTTV027_RNAseq7333558GCGCCAATCTGCTGCT-4</th>\n",
              "      <td>4</td>\n",
              "      <td>Luminal macrophages</td>\n",
              "      <td>Asthma_other</td>\n",
              "      <td>Asthma</td>\n",
              "      <td>-8.424184</td>\n",
              "      <td>-29.989269</td>\n",
              "      <td>CTTV027_RNAseq7333558_CTTV027_RNAseq7333558</td>\n",
              "      <td>0.011526</td>\n",
              "      <td>Luminal macrophages</td>\n",
              "      <td>22</td>\n",
              "      <td>Asthma</td>\n",
              "      <td>Macrophage</td>\n",
              "      <td>Macrophage_luminal</td>\n",
              "    </tr>\n",
              "    <tr>\n",
              "      <th>CTTV027_RNAseq7333559AAGCCGCGTCGCTTCT-4</th>\n",
              "      <td>4</td>\n",
              "      <td>Luminal macrophages</td>\n",
              "      <td>Asthma_other</td>\n",
              "      <td>Asthma</td>\n",
              "      <td>-9.439834</td>\n",
              "      <td>-29.938902</td>\n",
              "      <td>CTTV027_RNAseq7333559</td>\n",
              "      <td>0.008784</td>\n",
              "      <td>Luminal macrophages</td>\n",
              "      <td>22</td>\n",
              "      <td>Asthma</td>\n",
              "      <td>Macrophage</td>\n",
              "      <td>Macrophage_luminal</td>\n",
              "    </tr>\n",
              "    <tr>\n",
              "      <th>CTTV027_RNAseq7333559GAAACTCAGTGTACGG-4</th>\n",
              "      <td>4</td>\n",
              "      <td>Luminal macrophages</td>\n",
              "      <td>Asthma_other</td>\n",
              "      <td>Asthma</td>\n",
              "      <td>-7.489807</td>\n",
              "      <td>-27.694101</td>\n",
              "      <td>CTTV027_RNAseq7333559</td>\n",
              "      <td>0.009437</td>\n",
              "      <td>Luminal macrophages</td>\n",
              "      <td>22</td>\n",
              "      <td>Asthma</td>\n",
              "      <td>Macrophage</td>\n",
              "      <td>Macrophage_luminal</td>\n",
              "    </tr>\n",
              "  </tbody>\n",
              "</table>\n",
              "<p>67078 rows × 13 columns</p>\n",
              "</div>\n",
              "      <button class=\"colab-df-convert\" onclick=\"convertToInteractive('df-2dd82413-55f5-4c3b-a253-4fd2e9b2e97b')\"\n",
              "              title=\"Convert this dataframe to an interactive table.\"\n",
              "              style=\"display:none;\">\n",
              "        \n",
              "  <svg xmlns=\"http://www.w3.org/2000/svg\" height=\"24px\"viewBox=\"0 0 24 24\"\n",
              "       width=\"24px\">\n",
              "    <path d=\"M0 0h24v24H0V0z\" fill=\"none\"/>\n",
              "    <path d=\"M18.56 5.44l.94 2.06.94-2.06 2.06-.94-2.06-.94-.94-2.06-.94 2.06-2.06.94zm-11 1L8.5 8.5l.94-2.06 2.06-.94-2.06-.94L8.5 2.5l-.94 2.06-2.06.94zm10 10l.94 2.06.94-2.06 2.06-.94-2.06-.94-.94-2.06-.94 2.06-2.06.94z\"/><path d=\"M17.41 7.96l-1.37-1.37c-.4-.4-.92-.59-1.43-.59-.52 0-1.04.2-1.43.59L10.3 9.45l-7.72 7.72c-.78.78-.78 2.05 0 2.83L4 21.41c.39.39.9.59 1.41.59.51 0 1.02-.2 1.41-.59l7.78-7.78 2.81-2.81c.8-.78.8-2.07 0-2.86zM5.41 20L4 18.59l7.72-7.72 1.47 1.35L5.41 20z\"/>\n",
              "  </svg>\n",
              "      </button>\n",
              "      \n",
              "  <style>\n",
              "    .colab-df-container {\n",
              "      display:flex;\n",
              "      flex-wrap:wrap;\n",
              "      gap: 12px;\n",
              "    }\n",
              "\n",
              "    .colab-df-convert {\n",
              "      background-color: #E8F0FE;\n",
              "      border: none;\n",
              "      border-radius: 50%;\n",
              "      cursor: pointer;\n",
              "      display: none;\n",
              "      fill: #1967D2;\n",
              "      height: 32px;\n",
              "      padding: 0 0 0 0;\n",
              "      width: 32px;\n",
              "    }\n",
              "\n",
              "    .colab-df-convert:hover {\n",
              "      background-color: #E2EBFA;\n",
              "      box-shadow: 0px 1px 2px rgba(60, 64, 67, 0.3), 0px 1px 3px 1px rgba(60, 64, 67, 0.15);\n",
              "      fill: #174EA6;\n",
              "    }\n",
              "\n",
              "    [theme=dark] .colab-df-convert {\n",
              "      background-color: #3B4455;\n",
              "      fill: #D2E3FC;\n",
              "    }\n",
              "\n",
              "    [theme=dark] .colab-df-convert:hover {\n",
              "      background-color: #434B5C;\n",
              "      box-shadow: 0px 1px 3px 1px rgba(0, 0, 0, 0.15);\n",
              "      filter: drop-shadow(0px 1px 2px rgba(0, 0, 0, 0.3));\n",
              "      fill: #FFFFFF;\n",
              "    }\n",
              "  </style>\n",
              "\n",
              "      <script>\n",
              "        const buttonEl =\n",
              "          document.querySelector('#df-2dd82413-55f5-4c3b-a253-4fd2e9b2e97b button.colab-df-convert');\n",
              "        buttonEl.style.display =\n",
              "          google.colab.kernel.accessAllowed ? 'block' : 'none';\n",
              "\n",
              "        async function convertToInteractive(key) {\n",
              "          const element = document.querySelector('#df-2dd82413-55f5-4c3b-a253-4fd2e9b2e97b');\n",
              "          const dataTable =\n",
              "            await google.colab.kernel.invokeFunction('convertToInteractive',\n",
              "                                                     [key], {});\n",
              "          if (!dataTable) return;\n",
              "\n",
              "          const docLinkHtml = 'Like what you see? Visit the ' +\n",
              "            '<a target=\"_blank\" href=https://colab.research.google.com/notebooks/data_table.ipynb>data table notebook</a>'\n",
              "            + ' to learn more about interactive tables.';\n",
              "          element.innerHTML = '';\n",
              "          dataTable['output_type'] = 'display_data';\n",
              "          await google.colab.output.renderOutput(dataTable, element);\n",
              "          const docLink = document.createElement('div');\n",
              "          docLink.innerHTML = docLinkHtml;\n",
              "          element.appendChild(docLink);\n",
              "        }\n",
              "      </script>\n",
              "    </div>\n",
              "  </div>\n",
              "  "
            ]
          },
          "metadata": {},
          "execution_count": 68
        }
      ]
    },
    {
      "cell_type": "code",
      "source": [
        "adata.obs['disease'].unique()"
      ],
      "metadata": {
        "colab": {
          "base_uri": "https://localhost:8080/"
        },
        "id": "6bVfPNebGeRA",
        "outputId": "584e81b4-04c3-46ad-a08b-71e791a23be4"
      },
      "execution_count": null,
      "outputs": [
        {
          "output_type": "execute_result",
          "data": {
            "text/plain": [
              "['Healthy', 'Asthma']\n",
              "Categories (2, object): ['Asthma', 'Healthy']"
            ]
          },
          "metadata": {},
          "execution_count": 71
        }
      ]
    },
    {
      "cell_type": "code",
      "source": [
        "adata"
      ],
      "metadata": {
        "colab": {
          "base_uri": "https://localhost:8080/"
        },
        "id": "Do2PtZzaG72g",
        "outputId": "230fbb32-7d9a-4b03-ccbd-256e6216347d"
      },
      "execution_count": null,
      "outputs": [
        {
          "output_type": "execute_result",
          "data": {
            "text/plain": [
              "AnnData object with n_obs × n_vars = 67078 × 22645\n",
              "    obs: 'batch', 'clus', 'dataset', 'loc', 'tSNE_1', 'tSNE_2', 'sampleid', 'percent_mito', 'cell_subset', 'leiden', 'disease', 'annot_level_2', 'annot_level_3'\n",
              "    var: 'highly_variable', 'means', 'dispersions', 'dispersions_norm', 'highly_variable_nbatches', 'highly_variable_intersection'\n",
              "    uns: 'annot_level_2_colors', 'annot_level_3_colors', 'batch_colors', 'cell_subset_colors', 'dataset_colors', 'disease_colors', 'leiden', 'leiden_colors', 'loc_colors', 'neighbors', 'pca', 'umap'\n",
              "    obsm: 'X_harmony', 'X_pca', 'X_umap'\n",
              "    varm: 'PCs'\n",
              "    layers: 'counts'\n",
              "    obsp: 'connectivities', 'distances'"
            ]
          },
          "metadata": {},
          "execution_count": 72
        }
      ]
    },
    {
      "cell_type": "code",
      "source": [
        "len(adata.var.highly_variable)"
      ],
      "metadata": {
        "colab": {
          "base_uri": "https://localhost:8080/"
        },
        "id": "DY1z_cV9L_Ww",
        "outputId": "cb242fe4-ae85-426a-b21d-f5d318e8e757"
      },
      "execution_count": null,
      "outputs": [
        {
          "output_type": "execute_result",
          "data": {
            "text/plain": [
              "22645"
            ]
          },
          "metadata": {},
          "execution_count": 74
        }
      ]
    },
    {
      "cell_type": "code",
      "source": [
        "hv_list = []\n",
        "for i in range(22645):\n",
        "  if adata.var.highly_variable[i]==True :\n",
        "    hv_list.append(i)"
      ],
      "metadata": {
        "id": "mdHNpuTlLsk-"
      },
      "execution_count": null,
      "outputs": []
    },
    {
      "cell_type": "code",
      "source": [
        "adata_d = adata[adata.obs.disease == 'Asthma']\n",
        "adata_h = adata[adata.obs.disease == 'Healthy']"
      ],
      "metadata": {
        "id": "nUPS2RXZM6N9"
      },
      "execution_count": null,
      "outputs": []
    },
    {
      "cell_type": "code",
      "source": [
        "adata_h_hv = adata_h.X[:,hv_list[0]]\n",
        "adata_d_hv = adata_d.X[:,hv_list[0]]"
      ],
      "metadata": {
        "id": "b4tNvxPQNIBq"
      },
      "execution_count": null,
      "outputs": []
    },
    {
      "cell_type": "code",
      "source": [
        "for i in range(1,2000):\n",
        "  adata_h_hv = hstack((adata_h_hv, adata_h.X[:,hv_list[i]]))\n",
        "  print(adata_h_hv.shape)"
      ],
      "metadata": {
        "id": "5Z1mncTxO29l"
      },
      "execution_count": null,
      "outputs": []
    },
    {
      "cell_type": "code",
      "source": [
        "for i in range(1,2000):\n",
        "  adata_d_hv = hstack((adata_d_hv, adata_d.X[:,hv_list[i]]))\n",
        "  print(adata_d_hv.shape)"
      ],
      "metadata": {
        "id": "eiaaIZG0QA21"
      },
      "execution_count": null,
      "outputs": []
    },
    {
      "cell_type": "code",
      "source": [
        "import numpy as np\n",
        "d1 = adata_d_hv.toarray()"
      ],
      "metadata": {
        "id": "l6Fogkt0QIQ9"
      },
      "execution_count": null,
      "outputs": []
    },
    {
      "cell_type": "code",
      "source": [
        "d2 = adata_h_hv.toarray()"
      ],
      "metadata": {
        "id": "3zyFuPSNRaub"
      },
      "execution_count": null,
      "outputs": []
    },
    {
      "cell_type": "code",
      "source": [
        "target = d1 # diseased\n",
        "backg = d2  # healthy"
      ],
      "metadata": {
        "id": "t-0vILZ0THQu"
      },
      "execution_count": null,
      "outputs": []
    },
    {
      "cell_type": "code",
      "source": [
        "from contrastive import CPCA\n",
        "\n",
        "mdl = CPCA()\n",
        "projected_data = mdl.fit_transform(target,backg,plot = True)"
      ],
      "metadata": {
        "colab": {
          "base_uri": "https://localhost:8080/",
          "height": 262
        },
        "id": "JTiRpea4TU9U",
        "outputId": "9af62d22-50e8-4ff8-ddf9-5832de9feb54"
      },
      "execution_count": null,
      "outputs": [
        {
          "output_type": "stream",
          "name": "stderr",
          "text": [
            "/usr/local/lib/python3.8/dist-packages/contrastive/__init__.py:40: RuntimeWarning: invalid value encountered in true_divide\n",
            "  standardized_array =  (array-np.mean(array,axis=0)) / np.std(array,axis=0)\n"
          ]
        },
        {
          "output_type": "display_data",
          "data": {
            "text/plain": [
              "<Figure size 1008x216 with 4 Axes>"
            ],
            "image/png": "[encoded data removed]"
          },
          "metadata": {
            "needs_background": "light"
          }
        }
      ]
    },
    {
      "cell_type": "code",
      "source": [
        "target1 = d2 # diseased\n",
        "backg1 = d1  # healthy"
      ],
      "metadata": {
        "id": "OdM3i3P9UcVj"
      },
      "execution_count": null,
      "outputs": []
    },
    {
      "cell_type": "code",
      "source": [
        "from contrastive import CPCA\n",
        "\n",
        "mdl = CPCA()\n",
        "projected_data1 = mdl.fit_transform(target1,backg1,plot = True)"
      ],
      "metadata": {
        "colab": {
          "base_uri": "https://localhost:8080/",
          "height": 262
        },
        "id": "J0ilWmRTUgun",
        "outputId": "bd732622-797a-4b30-9c7e-575fd42ae478"
      },
      "execution_count": null,
      "outputs": [
        {
          "output_type": "stream",
          "name": "stderr",
          "text": [
            "/usr/local/lib/python3.8/dist-packages/contrastive/__init__.py:40: RuntimeWarning: invalid value encountered in true_divide\n",
            "  standardized_array =  (array-np.mean(array,axis=0)) / np.std(array,axis=0)\n"
          ]
        },
        {
          "output_type": "display_data",
          "data": {
            "text/plain": [
              "<Figure size 1008x216 with 4 Axes>"
            ],
            "image/png": "[encoded data removed]"
          },
          "metadata": {
            "needs_background": "light"
          }
        }
      ]
    },
    {
      "cell_type": "code",
      "source": [
        "from cpca_p import CPCA\n",
        "mdl = CPCA()\n",
        "projected_data, alphas , v_top = mdl.fit_transform(target,backg,return_alphas=True)"
      ],
      "metadata": {
        "colab": {
          "base_uri": "https://localhost:8080/"
        },
        "id": "0uwPNwjlVpu8",
        "outputId": "569f9ae2-6d9a-4821-8f2e-8177f4722031"
      },
      "execution_count": null,
      "outputs": [
        {
          "output_type": "stream",
          "name": "stderr",
          "text": [
            "/content/cpca_p.py:40: RuntimeWarning: invalid value encountered in true_divide\n",
            "  standardized_array =  (array-np.mean(array,axis=0)) / np.std(array,axis=0)\n"
          ]
        },
        {
          "output_type": "stream",
          "name": "stdout",
          "text": [
            "(27213, 2000)\n",
            "(39865, 2000)\n",
            "lelo\n",
            "(2000, 2)\n",
            "lelo\n",
            "(2000, 2)\n",
            "lelo\n",
            "(2000, 2)\n",
            "lelo\n",
            "(2000, 2)\n"
          ]
        }
      ]
    },
    {
      "cell_type": "code",
      "source": [
        "from cpca_p import CPCA\n",
        "mdl = CPCA()\n",
        "projected_data1, alphas1 , v_top1 = mdl.fit_transform(target1,backg1,return_alphas=True)\n"
      ],
      "metadata": {
        "colab": {
          "base_uri": "https://localhost:8080/"
        },
        "id": "OKdJ5jO_bBlc",
        "outputId": "a4b6bbfe-6623-4bdc-ea33-99cf5ffa8e65"
      },
      "execution_count": null,
      "outputs": [
        {
          "output_type": "stream",
          "name": "stderr",
          "text": [
            "/content/cpca_p.py:40: RuntimeWarning: invalid value encountered in true_divide\n",
            "  standardized_array =  (array-np.mean(array,axis=0)) / np.std(array,axis=0)\n"
          ]
        },
        {
          "output_type": "stream",
          "name": "stdout",
          "text": [
            "(39865, 2000)\n",
            "(27213, 2000)\n",
            "lelo\n",
            "(2000, 2)\n",
            "lelo\n",
            "(2000, 2)\n",
            "lelo\n",
            "(2000, 2)\n",
            "lelo\n",
            "(2000, 2)\n"
          ]
        }
      ]
    },
    {
      "cell_type": "markdown",
      "source": [
        "# Covid-19"
      ],
      "metadata": {
        "id": "OlDYi7pDerCK"
      }
    },
    {
      "cell_type": "code",
      "source": [
        "path = '/content/drive/MyDrive/covid.h5ad'\n",
        "adata = sc.read(path)"
      ],
      "metadata": {
        "colab": {
          "base_uri": "https://localhost:8080/"
        },
        "id": "OE_3owelbpeK",
        "outputId": "445826cb-9095-4864-bc4e-6f23f763a601"
      },
      "execution_count": null,
      "outputs": [
        {
          "output_type": "stream",
          "name": "stderr",
          "text": [
            "/usr/local/lib/python3.8/dist-packages/anndata/compat/__init__.py:232: FutureWarning: Moving element from .uns['neighbors']['distances'] to .obsp['distances'].\n",
            "\n",
            "This is where adjacency matrices should go now.\n",
            "  warn(\n",
            "/usr/local/lib/python3.8/dist-packages/anndata/compat/__init__.py:232: FutureWarning: Moving element from .uns['neighbors']['connectivities'] to .obsp['connectivities'].\n",
            "\n",
            "This is where adjacency matrices should go now.\n",
            "  warn(\n"
          ]
        }
      ]
    },
    {
      "cell_type": "code",
      "source": [
        "adata.obs"
      ],
      "metadata": {
        "colab": {
          "base_uri": "https://localhost:8080/",
          "height": 661
        },
        "id": "fXDc9GDqfd6q",
        "outputId": "2fac0cb2-68a5-47c5-f2b5-93b372b3aa02"
      },
      "execution_count": null,
      "outputs": [
        {
          "output_type": "execute_result",
          "data": {
            "text/plain": [
              "                     batch sample leiden sample_new group disease hasnCoV  \\\n",
              "AAACCTGAGATATACG-C52     0    C52      0        HC2    HC       N       N   \n",
              "AAACCTGAGCGTGAAC-C52     0    C52      3        HC2    HC       N       N   \n",
              "AAACCTGAGCTACCTA-C52     0    C52      6        HC2    HC       N       N   \n",
              "AAACCTGAGGCTAGCA-C52     0    C52      3        HC2    HC       N       N   \n",
              "AAACCTGAGGGCTCTC-C52     0    C52      3        HC2    HC       N       N   \n",
              "...                    ...    ...    ...        ...   ...     ...     ...   \n",
              "TTTGTCACATCCGTGG-C51    11    C51      0        HC1    HC       N       N   \n",
              "TTTGTCAGTTAAAGTG-C51    11    C51      3        HC1    HC       N       N   \n",
              "TTTGTCAGTTCCACGG-C51    11    C51      3        HC1    HC       N       N   \n",
              "TTTGTCATCGCTGATA-C51    11    C51      0        HC1    HC       N       N   \n",
              "TTTGTCATCGGAAACG-C51    11    C51      4        HC1    HC       N       N   \n",
              "\n",
              "                      cluster     celltype severity annot_level_2  \\\n",
              "AAACCTGAGATATACG-C52      3.0  Macrophages  Unknown   Macrophages   \n",
              "AAACCTGAGCGTGAAC-C52      2.0  Macrophages  Unknown   Macrophages   \n",
              "AAACCTGAGCTACCTA-C52      3.0  Macrophages  Unknown   Macrophages   \n",
              "AAACCTGAGGCTAGCA-C52     11.0  Macrophages  Unknown   Macrophages   \n",
              "AAACCTGAGGGCTCTC-C52     11.0  Macrophages  Unknown   Macrophages   \n",
              "...                       ...          ...      ...           ...   \n",
              "TTTGTCACATCCGTGG-C51      5.0  Macrophages  Unknown   Macrophages   \n",
              "TTTGTCAGTTAAAGTG-C51      4.0  Macrophages  Unknown   Macrophages   \n",
              "TTTGTCAGTTCCACGG-C51      5.0  Macrophages  Unknown   Macrophages   \n",
              "TTTGTCATCGCTGATA-C51      5.0  Macrophages  Unknown   Macrophages   \n",
              "TTTGTCATCGGAAACG-C51      8.0  Macrophages  Unknown   Macrophages   \n",
              "\n",
              "                     annot_level_3  \n",
              "AAACCTGAGATATACG-C52   Macrophages  \n",
              "AAACCTGAGCGTGAAC-C52   Macrophages  \n",
              "AAACCTGAGCTACCTA-C52   Macrophages  \n",
              "AAACCTGAGGCTAGCA-C52   Macrophages  \n",
              "AAACCTGAGGGCTCTC-C52   Macrophages  \n",
              "...                            ...  \n",
              "TTTGTCACATCCGTGG-C51   Macrophages  \n",
              "TTTGTCAGTTAAAGTG-C51   Macrophages  \n",
              "TTTGTCAGTTCCACGG-C51   Macrophages  \n",
              "TTTGTCATCGCTGATA-C51   Macrophages  \n",
              "TTTGTCATCGGAAACG-C51   Macrophages  \n",
              "\n",
              "[63103 rows x 12 columns]"
            ],
            "text/html": [
              "\n",
              "  <div id=\"df-654432b1-b907-40de-9bff-b71123fe703f\">\n",
              "    <div class=\"colab-df-container\">\n",
              "      <div>\n",
              "<style scoped>\n",
              "    .dataframe tbody tr th:only-of-type {\n",
              "        vertical-align: middle;\n",
              "    }\n",
              "\n",
              "    .dataframe tbody tr th {\n",
              "        vertical-align: top;\n",
              "    }\n",
              "\n",
              "    .dataframe thead th {\n",
              "        text-align: right;\n",
              "    }\n",
              "</style>\n",
              "<table border=\"1\" class=\"dataframe\">\n",
              "  <thead>\n",
              "    <tr style=\"text-align: right;\">\n",
              "      <th></th>\n",
              "      <th>batch</th>\n",
              "      <th>sample</th>\n",
              "      <th>leiden</th>\n",
              "      <th>sample_new</th>\n",
              "      <th>group</th>\n",
              "      <th>disease</th>\n",
              "      <th>hasnCoV</th>\n",
              "      <th>cluster</th>\n",
              "      <th>celltype</th>\n",
              "      <th>severity</th>\n",
              "      <th>annot_level_2</th>\n",
              "      <th>annot_level_3</th>\n",
              "    </tr>\n",
              "  </thead>\n",
              "  <tbody>\n",
              "    <tr>\n",
              "      <th>AAACCTGAGATATACG-C52</th>\n",
              "      <td>0</td>\n",
              "      <td>C52</td>\n",
              "      <td>0</td>\n",
              "      <td>HC2</td>\n",
              "      <td>HC</td>\n",
              "      <td>N</td>\n",
              "      <td>N</td>\n",
              "      <td>3.0</td>\n",
              "      <td>Macrophages</td>\n",
              "      <td>Unknown</td>\n",
              "      <td>Macrophages</td>\n",
              "      <td>Macrophages</td>\n",
              "    </tr>\n",
              "    <tr>\n",
              "      <th>AAACCTGAGCGTGAAC-C52</th>\n",
              "      <td>0</td>\n",
              "      <td>C52</td>\n",
              "      <td>3</td>\n",
              "      <td>HC2</td>\n",
              "      <td>HC</td>\n",
              "      <td>N</td>\n",
              "      <td>N</td>\n",
              "      <td>2.0</td>\n",
              "      <td>Macrophages</td>\n",
              "      <td>Unknown</td>\n",
              "      <td>Macrophages</td>\n",
              "      <td>Macrophages</td>\n",
              "    </tr>\n",
              "    <tr>\n",
              "      <th>AAACCTGAGCTACCTA-C52</th>\n",
              "      <td>0</td>\n",
              "      <td>C52</td>\n",
              "      <td>6</td>\n",
              "      <td>HC2</td>\n",
              "      <td>HC</td>\n",
              "      <td>N</td>\n",
              "      <td>N</td>\n",
              "      <td>3.0</td>\n",
              "      <td>Macrophages</td>\n",
              "      <td>Unknown</td>\n",
              "      <td>Macrophages</td>\n",
              "      <td>Macrophages</td>\n",
              "    </tr>\n",
              "    <tr>\n",
              "      <th>AAACCTGAGGCTAGCA-C52</th>\n",
              "      <td>0</td>\n",
              "      <td>C52</td>\n",
              "      <td>3</td>\n",
              "      <td>HC2</td>\n",
              "      <td>HC</td>\n",
              "      <td>N</td>\n",
              "      <td>N</td>\n",
              "      <td>11.0</td>\n",
              "      <td>Macrophages</td>\n",
              "      <td>Unknown</td>\n",
              "      <td>Macrophages</td>\n",
              "      <td>Macrophages</td>\n",
              "    </tr>\n",
              "    <tr>\n",
              "      <th>AAACCTGAGGGCTCTC-C52</th>\n",
              "      <td>0</td>\n",
              "      <td>C52</td>\n",
              "      <td>3</td>\n",
              "      <td>HC2</td>\n",
              "      <td>HC</td>\n",
              "      <td>N</td>\n",
              "      <td>N</td>\n",
              "      <td>11.0</td>\n",
              "      <td>Macrophages</td>\n",
              "      <td>Unknown</td>\n",
              "      <td>Macrophages</td>\n",
              "      <td>Macrophages</td>\n",
              "    </tr>\n",
              "    <tr>\n",
              "      <th>...</th>\n",
              "      <td>...</td>\n",
              "      <td>...</td>\n",
              "      <td>...</td>\n",
              "      <td>...</td>\n",
              "      <td>...</td>\n",
              "      <td>...</td>\n",
              "      <td>...</td>\n",
              "      <td>...</td>\n",
              "      <td>...</td>\n",
              "      <td>...</td>\n",
              "      <td>...</td>\n",
              "      <td>...</td>\n",
              "    </tr>\n",
              "    <tr>\n",
              "      <th>TTTGTCACATCCGTGG-C51</th>\n",
              "      <td>11</td>\n",
              "      <td>C51</td>\n",
              "      <td>0</td>\n",
              "      <td>HC1</td>\n",
              "      <td>HC</td>\n",
              "      <td>N</td>\n",
              "      <td>N</td>\n",
              "      <td>5.0</td>\n",
              "      <td>Macrophages</td>\n",
              "      <td>Unknown</td>\n",
              "      <td>Macrophages</td>\n",
              "      <td>Macrophages</td>\n",
              "    </tr>\n",
              "    <tr>\n",
              "      <th>TTTGTCAGTTAAAGTG-C51</th>\n",
              "      <td>11</td>\n",
              "      <td>C51</td>\n",
              "      <td>3</td>\n",
              "      <td>HC1</td>\n",
              "      <td>HC</td>\n",
              "      <td>N</td>\n",
              "      <td>N</td>\n",
              "      <td>4.0</td>\n",
              "      <td>Macrophages</td>\n",
              "      <td>Unknown</td>\n",
              "      <td>Macrophages</td>\n",
              "      <td>Macrophages</td>\n",
              "    </tr>\n",
              "    <tr>\n",
              "      <th>TTTGTCAGTTCCACGG-C51</th>\n",
              "      <td>11</td>\n",
              "      <td>C51</td>\n",
              "      <td>3</td>\n",
              "      <td>HC1</td>\n",
              "      <td>HC</td>\n",
              "      <td>N</td>\n",
              "      <td>N</td>\n",
              "      <td>5.0</td>\n",
              "      <td>Macrophages</td>\n",
              "      <td>Unknown</td>\n",
              "      <td>Macrophages</td>\n",
              "      <td>Macrophages</td>\n",
              "    </tr>\n",
              "    <tr>\n",
              "      <th>TTTGTCATCGCTGATA-C51</th>\n",
              "      <td>11</td>\n",
              "      <td>C51</td>\n",
              "      <td>0</td>\n",
              "      <td>HC1</td>\n",
              "      <td>HC</td>\n",
              "      <td>N</td>\n",
              "      <td>N</td>\n",
              "      <td>5.0</td>\n",
              "      <td>Macrophages</td>\n",
              "      <td>Unknown</td>\n",
              "      <td>Macrophages</td>\n",
              "      <td>Macrophages</td>\n",
              "    </tr>\n",
              "    <tr>\n",
              "      <th>TTTGTCATCGGAAACG-C51</th>\n",
              "      <td>11</td>\n",
              "      <td>C51</td>\n",
              "      <td>4</td>\n",
              "      <td>HC1</td>\n",
              "      <td>HC</td>\n",
              "      <td>N</td>\n",
              "      <td>N</td>\n",
              "      <td>8.0</td>\n",
              "      <td>Macrophages</td>\n",
              "      <td>Unknown</td>\n",
              "      <td>Macrophages</td>\n",
              "      <td>Macrophages</td>\n",
              "    </tr>\n",
              "  </tbody>\n",
              "</table>\n",
              "<p>63103 rows × 12 columns</p>\n",
              "</div>\n",
              "      <button class=\"colab-df-convert\" onclick=\"convertToInteractive('df-654432b1-b907-40de-9bff-b71123fe703f')\"\n",
              "              title=\"Convert this dataframe to an interactive table.\"\n",
              "              style=\"display:none;\">\n",
              "        \n",
              "  <svg xmlns=\"http://www.w3.org/2000/svg\" height=\"24px\"viewBox=\"0 0 24 24\"\n",
              "       width=\"24px\">\n",
              "    <path d=\"M0 0h24v24H0V0z\" fill=\"none\"/>\n",
              "    <path d=\"M18.56 5.44l.94 2.06.94-2.06 2.06-.94-2.06-.94-.94-2.06-.94 2.06-2.06.94zm-11 1L8.5 8.5l.94-2.06 2.06-.94-2.06-.94L8.5 2.5l-.94 2.06-2.06.94zm10 10l.94 2.06.94-2.06 2.06-.94-2.06-.94-.94-2.06-.94 2.06-2.06.94z\"/><path d=\"M17.41 7.96l-1.37-1.37c-.4-.4-.92-.59-1.43-.59-.52 0-1.04.2-1.43.59L10.3 9.45l-7.72 7.72c-.78.78-.78 2.05 0 2.83L4 21.41c.39.39.9.59 1.41.59.51 0 1.02-.2 1.41-.59l7.78-7.78 2.81-2.81c.8-.78.8-2.07 0-2.86zM5.41 20L4 18.59l7.72-7.72 1.47 1.35L5.41 20z\"/>\n",
              "  </svg>\n",
              "      </button>\n",
              "      \n",
              "  <style>\n",
              "    .colab-df-container {\n",
              "      display:flex;\n",
              "      flex-wrap:wrap;\n",
              "      gap: 12px;\n",
              "    }\n",
              "\n",
              "    .colab-df-convert {\n",
              "      background-color: #E8F0FE;\n",
              "      border: none;\n",
              "      border-radius: 50%;\n",
              "      cursor: pointer;\n",
              "      display: none;\n",
              "      fill: #1967D2;\n",
              "      height: 32px;\n",
              "      padding: 0 0 0 0;\n",
              "      width: 32px;\n",
              "    }\n",
              "\n",
              "    .colab-df-convert:hover {\n",
              "      background-color: #E2EBFA;\n",
              "      box-shadow: 0px 1px 2px rgba(60, 64, 67, 0.3), 0px 1px 3px 1px rgba(60, 64, 67, 0.15);\n",
              "      fill: #174EA6;\n",
              "    }\n",
              "\n",
              "    [theme=dark] .colab-df-convert {\n",
              "      background-color: #3B4455;\n",
              "      fill: #D2E3FC;\n",
              "    }\n",
              "\n",
              "    [theme=dark] .colab-df-convert:hover {\n",
              "      background-color: #434B5C;\n",
              "      box-shadow: 0px 1px 3px 1px rgba(0, 0, 0, 0.15);\n",
              "      filter: drop-shadow(0px 1px 2px rgba(0, 0, 0, 0.3));\n",
              "      fill: #FFFFFF;\n",
              "    }\n",
              "  </style>\n",
              "\n",
              "      <script>\n",
              "        const buttonEl =\n",
              "          document.querySelector('#df-654432b1-b907-40de-9bff-b71123fe703f button.colab-df-convert');\n",
              "        buttonEl.style.display =\n",
              "          google.colab.kernel.accessAllowed ? 'block' : 'none';\n",
              "\n",
              "        async function convertToInteractive(key) {\n",
              "          const element = document.querySelector('#df-654432b1-b907-40de-9bff-b71123fe703f');\n",
              "          const dataTable =\n",
              "            await google.colab.kernel.invokeFunction('convertToInteractive',\n",
              "                                                     [key], {});\n",
              "          if (!dataTable) return;\n",
              "\n",
              "          const docLinkHtml = 'Like what you see? Visit the ' +\n",
              "            '<a target=\"_blank\" href=https://colab.research.google.com/notebooks/data_table.ipynb>data table notebook</a>'\n",
              "            + ' to learn more about interactive tables.';\n",
              "          element.innerHTML = '';\n",
              "          dataTable['output_type'] = 'display_data';\n",
              "          await google.colab.output.renderOutput(dataTable, element);\n",
              "          const docLink = document.createElement('div');\n",
              "          docLink.innerHTML = docLinkHtml;\n",
              "          element.appendChild(docLink);\n",
              "        }\n",
              "      </script>\n",
              "    </div>\n",
              "  </div>\n",
              "  "
            ]
          },
          "metadata": {},
          "execution_count": 103
        }
      ]
    },
    {
      "cell_type": "code",
      "source": [],
      "metadata": {
        "id": "3cYpgDCifpkz"
      },
      "execution_count": null,
      "outputs": []
    }
  ]
}